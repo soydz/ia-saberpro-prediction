{
  "nbformat": 4,
  "nbformat_minor": 0,
  "metadata": {
    "colab": {
      "provenance": [],
      "collapsed_sections": [
        "dBmEXTE5ZpMf",
        "jxXhr30GkR77",
        "mmHzMQvSbD6d",
        "B5XLJ681IfOG",
        "LZLh1PGCdeuP",
        "vbb69_iXK82q",
        "qnsawWKzkgZs",
        "PbL1H3iQGBQv",
        "Ze-nhXJosFSA",
        "_1qHxzdSwSEo"
      ]
    },
    "kernelspec": {
      "name": "python3",
      "display_name": "Python 3"
    },
    "language_info": {
      "name": "python"
    }
  },
  "cells": [
    {
      "cell_type": "code",
      "execution_count": null,
      "metadata": {
        "colab": {
          "base_uri": "https://localhost:8080/"
        },
        "id": "KUuU_QbbY-13",
        "outputId": "c190bc18-419d-4242-a4b2-001a17fb008c"
      },
      "outputs": [
        {
          "output_type": "stream",
          "name": "stdout",
          "text": [
            "--2025-10-29 20:14:03--  https://raw.githubusercontent.com/soydz/ia-saberpro-prediction/main/data/train.zip\n",
            "Resolving raw.githubusercontent.com (raw.githubusercontent.com)... 185.199.108.133, 185.199.109.133, 185.199.110.133, ...\n",
            "Connecting to raw.githubusercontent.com (raw.githubusercontent.com)|185.199.108.133|:443... connected.\n",
            "HTTP request sent, awaiting response... 200 OK\n",
            "Length: 19229940 (18M) [application/zip]\n",
            "Saving to: ‘train.zip’\n",
            "\n",
            "train.zip           100%[===================>]  18.34M   108MB/s    in 0.2s    \n",
            "\n",
            "2025-10-29 20:14:04 (108 MB/s) - ‘train.zip’ saved [19229940/19229940]\n",
            "\n",
            "Archive:  train.zip\n",
            "  inflating: train.csv               \n"
          ]
        }
      ],
      "source": [
        "!wget https://raw.githubusercontent.com/soydz/ia-saberpro-prediction/main/data/train.zip\n",
        "!unzip train.zip"
      ]
    },
    {
      "cell_type": "code",
      "source": [
        "import pandas as pd\n",
        "import numpy as np\n",
        "from sklearn.impute import SimpleImputer\n",
        "import unicodedata\n",
        "\n",
        "train = pd.read_csv('train.csv')\n",
        "train.head(1)"
      ],
      "metadata": {
        "colab": {
          "base_uri": "https://localhost:8080/",
          "height": 165
        },
        "id": "BU_zMYdfZTZz",
        "outputId": "3941858a-c464-401a-d531-055a8d98154e"
      },
      "execution_count": null,
      "outputs": [
        {
          "output_type": "execute_result",
          "data": {
            "text/plain": [
              "       ID  PERIODO_ACADEMICO E_PRGM_ACADEMICO E_PRGM_DEPARTAMENTO  \\\n",
              "0  904256              20212       ENFERMERIA              BOGOTÁ   \n",
              "\n",
              "                E_VALORMATRICULAUNIVERSIDAD E_HORASSEMANATRABAJA  \\\n",
              "0  Entre 5.5 millones y menos de 7 millones    Menos de 10 horas   \n",
              "\n",
              "  F_ESTRATOVIVIENDA F_TIENEINTERNET                  F_EDUCACIONPADRE  \\\n",
              "0         Estrato 3              Si  Técnica o tecnológica incompleta   \n",
              "\n",
              "  F_TIENELAVADORA  ... E_PRIVADO_LIBERTAD E_PAGOMATRICULAPROPIO  \\\n",
              "0              Si  ...                  N                    No   \n",
              "\n",
              "  F_TIENECOMPUTADOR F_TIENEINTERNET.1 F_EDUCACIONMADRE RENDIMIENTO_GLOBAL  \\\n",
              "0                Si                Si        Postgrado         medio-alto   \n",
              "\n",
              "  INDICADOR_1  INDICADOR_2  INDICADOR_3  INDICADOR_4  \n",
              "0       0.322        0.208         0.31        0.267  \n",
              "\n",
              "[1 rows x 21 columns]"
            ],
            "text/html": [
              "\n",
              "  <div id=\"df-c62674a2-75fd-4148-878d-890953ff43e1\" class=\"colab-df-container\">\n",
              "    <div>\n",
              "<style scoped>\n",
              "    .dataframe tbody tr th:only-of-type {\n",
              "        vertical-align: middle;\n",
              "    }\n",
              "\n",
              "    .dataframe tbody tr th {\n",
              "        vertical-align: top;\n",
              "    }\n",
              "\n",
              "    .dataframe thead th {\n",
              "        text-align: right;\n",
              "    }\n",
              "</style>\n",
              "<table border=\"1\" class=\"dataframe\">\n",
              "  <thead>\n",
              "    <tr style=\"text-align: right;\">\n",
              "      <th></th>\n",
              "      <th>ID</th>\n",
              "      <th>PERIODO_ACADEMICO</th>\n",
              "      <th>E_PRGM_ACADEMICO</th>\n",
              "      <th>E_PRGM_DEPARTAMENTO</th>\n",
              "      <th>E_VALORMATRICULAUNIVERSIDAD</th>\n",
              "      <th>E_HORASSEMANATRABAJA</th>\n",
              "      <th>F_ESTRATOVIVIENDA</th>\n",
              "      <th>F_TIENEINTERNET</th>\n",
              "      <th>F_EDUCACIONPADRE</th>\n",
              "      <th>F_TIENELAVADORA</th>\n",
              "      <th>...</th>\n",
              "      <th>E_PRIVADO_LIBERTAD</th>\n",
              "      <th>E_PAGOMATRICULAPROPIO</th>\n",
              "      <th>F_TIENECOMPUTADOR</th>\n",
              "      <th>F_TIENEINTERNET.1</th>\n",
              "      <th>F_EDUCACIONMADRE</th>\n",
              "      <th>RENDIMIENTO_GLOBAL</th>\n",
              "      <th>INDICADOR_1</th>\n",
              "      <th>INDICADOR_2</th>\n",
              "      <th>INDICADOR_3</th>\n",
              "      <th>INDICADOR_4</th>\n",
              "    </tr>\n",
              "  </thead>\n",
              "  <tbody>\n",
              "    <tr>\n",
              "      <th>0</th>\n",
              "      <td>904256</td>\n",
              "      <td>20212</td>\n",
              "      <td>ENFERMERIA</td>\n",
              "      <td>BOGOTÁ</td>\n",
              "      <td>Entre 5.5 millones y menos de 7 millones</td>\n",
              "      <td>Menos de 10 horas</td>\n",
              "      <td>Estrato 3</td>\n",
              "      <td>Si</td>\n",
              "      <td>Técnica o tecnológica incompleta</td>\n",
              "      <td>Si</td>\n",
              "      <td>...</td>\n",
              "      <td>N</td>\n",
              "      <td>No</td>\n",
              "      <td>Si</td>\n",
              "      <td>Si</td>\n",
              "      <td>Postgrado</td>\n",
              "      <td>medio-alto</td>\n",
              "      <td>0.322</td>\n",
              "      <td>0.208</td>\n",
              "      <td>0.31</td>\n",
              "      <td>0.267</td>\n",
              "    </tr>\n",
              "  </tbody>\n",
              "</table>\n",
              "<p>1 rows × 21 columns</p>\n",
              "</div>\n",
              "    <div class=\"colab-df-buttons\">\n",
              "\n",
              "  <div class=\"colab-df-container\">\n",
              "    <button class=\"colab-df-convert\" onclick=\"convertToInteractive('df-c62674a2-75fd-4148-878d-890953ff43e1')\"\n",
              "            title=\"Convert this dataframe to an interactive table.\"\n",
              "            style=\"display:none;\">\n",
              "\n",
              "  <svg xmlns=\"http://www.w3.org/2000/svg\" height=\"24px\" viewBox=\"0 -960 960 960\">\n",
              "    <path d=\"M120-120v-720h720v720H120Zm60-500h600v-160H180v160Zm220 220h160v-160H400v160Zm0 220h160v-160H400v160ZM180-400h160v-160H180v160Zm440 0h160v-160H620v160ZM180-180h160v-160H180v160Zm440 0h160v-160H620v160Z\"/>\n",
              "  </svg>\n",
              "    </button>\n",
              "\n",
              "  <style>\n",
              "    .colab-df-container {\n",
              "      display:flex;\n",
              "      gap: 12px;\n",
              "    }\n",
              "\n",
              "    .colab-df-convert {\n",
              "      background-color: #E8F0FE;\n",
              "      border: none;\n",
              "      border-radius: 50%;\n",
              "      cursor: pointer;\n",
              "      display: none;\n",
              "      fill: #1967D2;\n",
              "      height: 32px;\n",
              "      padding: 0 0 0 0;\n",
              "      width: 32px;\n",
              "    }\n",
              "\n",
              "    .colab-df-convert:hover {\n",
              "      background-color: #E2EBFA;\n",
              "      box-shadow: 0px 1px 2px rgba(60, 64, 67, 0.3), 0px 1px 3px 1px rgba(60, 64, 67, 0.15);\n",
              "      fill: #174EA6;\n",
              "    }\n",
              "\n",
              "    .colab-df-buttons div {\n",
              "      margin-bottom: 4px;\n",
              "    }\n",
              "\n",
              "    [theme=dark] .colab-df-convert {\n",
              "      background-color: #3B4455;\n",
              "      fill: #D2E3FC;\n",
              "    }\n",
              "\n",
              "    [theme=dark] .colab-df-convert:hover {\n",
              "      background-color: #434B5C;\n",
              "      box-shadow: 0px 1px 3px 1px rgba(0, 0, 0, 0.15);\n",
              "      filter: drop-shadow(0px 1px 2px rgba(0, 0, 0, 0.3));\n",
              "      fill: #FFFFFF;\n",
              "    }\n",
              "  </style>\n",
              "\n",
              "    <script>\n",
              "      const buttonEl =\n",
              "        document.querySelector('#df-c62674a2-75fd-4148-878d-890953ff43e1 button.colab-df-convert');\n",
              "      buttonEl.style.display =\n",
              "        google.colab.kernel.accessAllowed ? 'block' : 'none';\n",
              "\n",
              "      async function convertToInteractive(key) {\n",
              "        const element = document.querySelector('#df-c62674a2-75fd-4148-878d-890953ff43e1');\n",
              "        const dataTable =\n",
              "          await google.colab.kernel.invokeFunction('convertToInteractive',\n",
              "                                                    [key], {});\n",
              "        if (!dataTable) return;\n",
              "\n",
              "        const docLinkHtml = 'Like what you see? Visit the ' +\n",
              "          '<a target=\"_blank\" href=https://colab.research.google.com/notebooks/data_table.ipynb>data table notebook</a>'\n",
              "          + ' to learn more about interactive tables.';\n",
              "        element.innerHTML = '';\n",
              "        dataTable['output_type'] = 'display_data';\n",
              "        await google.colab.output.renderOutput(dataTable, element);\n",
              "        const docLink = document.createElement('div');\n",
              "        docLink.innerHTML = docLinkHtml;\n",
              "        element.appendChild(docLink);\n",
              "      }\n",
              "    </script>\n",
              "  </div>\n",
              "\n",
              "\n",
              "    </div>\n",
              "  </div>\n"
            ],
            "application/vnd.google.colaboratory.intrinsic+json": {
              "type": "dataframe",
              "variable_name": "train"
            }
          },
          "metadata": {},
          "execution_count": 2
        }
      ]
    },
    {
      "cell_type": "markdown",
      "source": [
        "### Realiza una pequeña exploración de los datos\n",
        "- Cantidad de datos\n",
        "- Columnas y de que tipo\n",
        "- Porcentaje de valores nulos por columnas"
      ],
      "metadata": {
        "id": "dBmEXTE5ZpMf"
      }
    },
    {
      "cell_type": "code",
      "source": [
        "train.shape"
      ],
      "metadata": {
        "colab": {
          "base_uri": "https://localhost:8080/"
        },
        "id": "pd6dX-b5Zjcu",
        "outputId": "9e2fcb6b-c0b3-4b03-d036-61df42b8b8e4"
      },
      "execution_count": null,
      "outputs": [
        {
          "output_type": "execute_result",
          "data": {
            "text/plain": [
              "(692500, 21)"
            ]
          },
          "metadata": {},
          "execution_count": 2
        }
      ]
    },
    {
      "cell_type": "code",
      "source": [
        "train.info()"
      ],
      "metadata": {
        "colab": {
          "base_uri": "https://localhost:8080/"
        },
        "id": "9EFC5eAuZ2Ru",
        "outputId": "04f91b63-42b6-44ba-a86f-7dbec8d50486"
      },
      "execution_count": null,
      "outputs": [
        {
          "output_type": "stream",
          "name": "stdout",
          "text": [
            "<class 'pandas.core.frame.DataFrame'>\n",
            "RangeIndex: 692500 entries, 0 to 692499\n",
            "Data columns (total 21 columns):\n",
            " #   Column                       Non-Null Count   Dtype  \n",
            "---  ------                       --------------   -----  \n",
            " 0   ID                           692500 non-null  int64  \n",
            " 1   PERIODO_ACADEMICO            692500 non-null  int64  \n",
            " 2   E_PRGM_ACADEMICO             692500 non-null  object \n",
            " 3   E_PRGM_DEPARTAMENTO          692500 non-null  object \n",
            " 4   E_VALORMATRICULAUNIVERSIDAD  686213 non-null  object \n",
            " 5   E_HORASSEMANATRABAJA         661643 non-null  object \n",
            " 6   F_ESTRATOVIVIENDA            660363 non-null  object \n",
            " 7   F_TIENEINTERNET              665871 non-null  object \n",
            " 8   F_EDUCACIONPADRE             669322 non-null  object \n",
            " 9   F_TIENELAVADORA              652727 non-null  object \n",
            " 10  F_TIENEAUTOMOVIL             648877 non-null  object \n",
            " 11  E_PRIVADO_LIBERTAD           692500 non-null  object \n",
            " 12  E_PAGOMATRICULAPROPIO        686002 non-null  object \n",
            " 13  F_TIENECOMPUTADOR            654397 non-null  object \n",
            " 14  F_TIENEINTERNET.1            665871 non-null  object \n",
            " 15  F_EDUCACIONMADRE             668836 non-null  object \n",
            " 16  RENDIMIENTO_GLOBAL           692500 non-null  object \n",
            " 17  INDICADOR_1                  692500 non-null  float64\n",
            " 18  INDICADOR_2                  692500 non-null  float64\n",
            " 19  INDICADOR_3                  692500 non-null  float64\n",
            " 20  INDICADOR_4                  692500 non-null  float64\n",
            "dtypes: float64(4), int64(2), object(15)\n",
            "memory usage: 111.0+ MB\n"
          ]
        }
      ]
    },
    {
      "cell_type": "code",
      "source": [
        "train.isnull().mean() * 100"
      ],
      "metadata": {
        "colab": {
          "base_uri": "https://localhost:8080/",
          "height": 780
        },
        "id": "Knf06nW9aB6B",
        "outputId": "d29224c2-15e2-4f72-dc26-a7cf0648a1f0"
      },
      "execution_count": null,
      "outputs": [
        {
          "output_type": "execute_result",
          "data": {
            "text/plain": [
              "ID                             0.000000\n",
              "PERIODO_ACADEMICO              0.000000\n",
              "E_PRGM_ACADEMICO               0.000000\n",
              "E_PRGM_DEPARTAMENTO            0.000000\n",
              "E_VALORMATRICULAUNIVERSIDAD    0.907870\n",
              "E_HORASSEMANATRABAJA           4.455884\n",
              "F_ESTRATOVIVIENDA              4.640722\n",
              "F_TIENEINTERNET                3.845343\n",
              "F_EDUCACIONPADRE               3.347004\n",
              "F_TIENELAVADORA                5.743394\n",
              "F_TIENEAUTOMOVIL               6.299350\n",
              "E_PRIVADO_LIBERTAD             0.000000\n",
              "E_PAGOMATRICULAPROPIO          0.938339\n",
              "F_TIENECOMPUTADOR              5.502238\n",
              "F_TIENEINTERNET.1              3.845343\n",
              "F_EDUCACIONMADRE               3.417184\n",
              "RENDIMIENTO_GLOBAL             0.000000\n",
              "INDICADOR_1                    0.000000\n",
              "INDICADOR_2                    0.000000\n",
              "INDICADOR_3                    0.000000\n",
              "INDICADOR_4                    0.000000\n",
              "dtype: float64"
            ],
            "text/html": [
              "<div>\n",
              "<style scoped>\n",
              "    .dataframe tbody tr th:only-of-type {\n",
              "        vertical-align: middle;\n",
              "    }\n",
              "\n",
              "    .dataframe tbody tr th {\n",
              "        vertical-align: top;\n",
              "    }\n",
              "\n",
              "    .dataframe thead th {\n",
              "        text-align: right;\n",
              "    }\n",
              "</style>\n",
              "<table border=\"1\" class=\"dataframe\">\n",
              "  <thead>\n",
              "    <tr style=\"text-align: right;\">\n",
              "      <th></th>\n",
              "      <th>0</th>\n",
              "    </tr>\n",
              "  </thead>\n",
              "  <tbody>\n",
              "    <tr>\n",
              "      <th>ID</th>\n",
              "      <td>0.000000</td>\n",
              "    </tr>\n",
              "    <tr>\n",
              "      <th>PERIODO_ACADEMICO</th>\n",
              "      <td>0.000000</td>\n",
              "    </tr>\n",
              "    <tr>\n",
              "      <th>E_PRGM_ACADEMICO</th>\n",
              "      <td>0.000000</td>\n",
              "    </tr>\n",
              "    <tr>\n",
              "      <th>E_PRGM_DEPARTAMENTO</th>\n",
              "      <td>0.000000</td>\n",
              "    </tr>\n",
              "    <tr>\n",
              "      <th>E_VALORMATRICULAUNIVERSIDAD</th>\n",
              "      <td>0.907870</td>\n",
              "    </tr>\n",
              "    <tr>\n",
              "      <th>E_HORASSEMANATRABAJA</th>\n",
              "      <td>4.455884</td>\n",
              "    </tr>\n",
              "    <tr>\n",
              "      <th>F_ESTRATOVIVIENDA</th>\n",
              "      <td>4.640722</td>\n",
              "    </tr>\n",
              "    <tr>\n",
              "      <th>F_TIENEINTERNET</th>\n",
              "      <td>3.845343</td>\n",
              "    </tr>\n",
              "    <tr>\n",
              "      <th>F_EDUCACIONPADRE</th>\n",
              "      <td>3.347004</td>\n",
              "    </tr>\n",
              "    <tr>\n",
              "      <th>F_TIENELAVADORA</th>\n",
              "      <td>5.743394</td>\n",
              "    </tr>\n",
              "    <tr>\n",
              "      <th>F_TIENEAUTOMOVIL</th>\n",
              "      <td>6.299350</td>\n",
              "    </tr>\n",
              "    <tr>\n",
              "      <th>E_PRIVADO_LIBERTAD</th>\n",
              "      <td>0.000000</td>\n",
              "    </tr>\n",
              "    <tr>\n",
              "      <th>E_PAGOMATRICULAPROPIO</th>\n",
              "      <td>0.938339</td>\n",
              "    </tr>\n",
              "    <tr>\n",
              "      <th>F_TIENECOMPUTADOR</th>\n",
              "      <td>5.502238</td>\n",
              "    </tr>\n",
              "    <tr>\n",
              "      <th>F_TIENEINTERNET.1</th>\n",
              "      <td>3.845343</td>\n",
              "    </tr>\n",
              "    <tr>\n",
              "      <th>F_EDUCACIONMADRE</th>\n",
              "      <td>3.417184</td>\n",
              "    </tr>\n",
              "    <tr>\n",
              "      <th>RENDIMIENTO_GLOBAL</th>\n",
              "      <td>0.000000</td>\n",
              "    </tr>\n",
              "    <tr>\n",
              "      <th>INDICADOR_1</th>\n",
              "      <td>0.000000</td>\n",
              "    </tr>\n",
              "    <tr>\n",
              "      <th>INDICADOR_2</th>\n",
              "      <td>0.000000</td>\n",
              "    </tr>\n",
              "    <tr>\n",
              "      <th>INDICADOR_3</th>\n",
              "      <td>0.000000</td>\n",
              "    </tr>\n",
              "    <tr>\n",
              "      <th>INDICADOR_4</th>\n",
              "      <td>0.000000</td>\n",
              "    </tr>\n",
              "  </tbody>\n",
              "</table>\n",
              "</div><br><label><b>dtype:</b> float64</label>"
            ]
          },
          "metadata": {},
          "execution_count": 4
        }
      ]
    },
    {
      "cell_type": "markdown",
      "source": [
        "Obtengo 5 filas aleatorias, mostrando la totalidad de columnas. Todo esto con la finalidad de obtener un panorama rapido de los datos."
      ],
      "metadata": {
        "id": "Ag8_PIOHc64W"
      }
    },
    {
      "cell_type": "code",
      "source": [
        "pd.set_option('display.max_columns', None)\n",
        "train.sample(n=5)"
      ],
      "metadata": {
        "colab": {
          "base_uri": "https://localhost:8080/",
          "height": 330
        },
        "id": "Kv4301zja4Vp",
        "outputId": "37fe6585-15d2-40f3-b393-d236571af0b5"
      },
      "execution_count": null,
      "outputs": [
        {
          "output_type": "execute_result",
          "data": {
            "text/plain": [
              "            ID  PERIODO_ACADEMICO            E_PRGM_ACADEMICO  \\\n",
              "82170   842008              20203          CONTADURIA PUBLICA   \n",
              "666528  941240              20195      LICENCIATURA EN MUSICA   \n",
              "386581  882141              20183                  PSICOLOGIA   \n",
              "557577  309589              20212  ADMINISTRACIÓN DE EMPRESAS   \n",
              "475718  981515              20212              JURISPRUDENCIA   \n",
              "\n",
              "       E_PRGM_DEPARTAMENTO               E_VALORMATRICULAUNIVERSIDAD  \\\n",
              "82170            ANTIOQUIA    Entre 1 millón y menos de 2.5 millones   \n",
              "666528              BOYACA    Entre 1 millón y menos de 2.5 millones   \n",
              "386581           SANTANDER  Entre 2.5 millones y menos de 4 millones   \n",
              "557577              BOGOTÁ    Entre 1 millón y menos de 2.5 millones   \n",
              "475718              BOGOTÁ                         Más de 7 millones   \n",
              "\n",
              "       E_HORASSEMANATRABAJA F_ESTRATOVIVIENDA F_TIENEINTERNET  \\\n",
              "82170       Más de 30 horas         Estrato 1              No   \n",
              "666528    Menos de 10 horas         Estrato 1              No   \n",
              "386581  Entre 21 y 30 horas         Estrato 3              Si   \n",
              "557577      Más de 30 horas         Estrato 3              Si   \n",
              "475718  Entre 11 y 20 horas         Estrato 3              Si   \n",
              "\n",
              "                      F_EDUCACIONPADRE F_TIENELAVADORA F_TIENEAUTOMOVIL  \\\n",
              "82170                Primaria completa              No               No   \n",
              "666528                         No sabe              No               No   \n",
              "386581             Primaria incompleta              Si               No   \n",
              "557577               Primaria completa              Si               No   \n",
              "475718  Educación profesional completa              Si               Si   \n",
              "\n",
              "       E_PRIVADO_LIBERTAD E_PAGOMATRICULAPROPIO F_TIENECOMPUTADOR  \\\n",
              "82170                   N                    No                Si   \n",
              "666528                  N                    No                No   \n",
              "386581                  N                    Si                Si   \n",
              "557577                  N                    Si                Si   \n",
              "475718                  N                    No                Si   \n",
              "\n",
              "       F_TIENEINTERNET.1                    F_EDUCACIONMADRE  \\\n",
              "82170                 No  Secundaria (Bachillerato) completa   \n",
              "666528                No                   Primaria completa   \n",
              "386581                Si                 Primaria incompleta   \n",
              "557577                Si                   Primaria completa   \n",
              "475718                Si      Educación profesional completa   \n",
              "\n",
              "       RENDIMIENTO_GLOBAL  INDICADOR_1  INDICADOR_2  INDICADOR_3  INDICADOR_4  \n",
              "82170          medio-bajo        0.160        0.419        0.235        0.305  \n",
              "666528         medio-alto        0.146        0.409        0.235        0.283  \n",
              "386581               bajo        0.328        0.212        0.288        0.275  \n",
              "557577         medio-bajo        0.307        0.210        0.275        0.267  \n",
              "475718         medio-alto        0.294        0.224        0.296        0.273  "
            ],
            "text/html": [
              "\n",
              "  <div id=\"df-10080618-bb5f-48da-8fd8-36576293702a\" class=\"colab-df-container\">\n",
              "    <div>\n",
              "<style scoped>\n",
              "    .dataframe tbody tr th:only-of-type {\n",
              "        vertical-align: middle;\n",
              "    }\n",
              "\n",
              "    .dataframe tbody tr th {\n",
              "        vertical-align: top;\n",
              "    }\n",
              "\n",
              "    .dataframe thead th {\n",
              "        text-align: right;\n",
              "    }\n",
              "</style>\n",
              "<table border=\"1\" class=\"dataframe\">\n",
              "  <thead>\n",
              "    <tr style=\"text-align: right;\">\n",
              "      <th></th>\n",
              "      <th>ID</th>\n",
              "      <th>PERIODO_ACADEMICO</th>\n",
              "      <th>E_PRGM_ACADEMICO</th>\n",
              "      <th>E_PRGM_DEPARTAMENTO</th>\n",
              "      <th>E_VALORMATRICULAUNIVERSIDAD</th>\n",
              "      <th>E_HORASSEMANATRABAJA</th>\n",
              "      <th>F_ESTRATOVIVIENDA</th>\n",
              "      <th>F_TIENEINTERNET</th>\n",
              "      <th>F_EDUCACIONPADRE</th>\n",
              "      <th>F_TIENELAVADORA</th>\n",
              "      <th>F_TIENEAUTOMOVIL</th>\n",
              "      <th>E_PRIVADO_LIBERTAD</th>\n",
              "      <th>E_PAGOMATRICULAPROPIO</th>\n",
              "      <th>F_TIENECOMPUTADOR</th>\n",
              "      <th>F_TIENEINTERNET.1</th>\n",
              "      <th>F_EDUCACIONMADRE</th>\n",
              "      <th>RENDIMIENTO_GLOBAL</th>\n",
              "      <th>INDICADOR_1</th>\n",
              "      <th>INDICADOR_2</th>\n",
              "      <th>INDICADOR_3</th>\n",
              "      <th>INDICADOR_4</th>\n",
              "    </tr>\n",
              "  </thead>\n",
              "  <tbody>\n",
              "    <tr>\n",
              "      <th>82170</th>\n",
              "      <td>842008</td>\n",
              "      <td>20203</td>\n",
              "      <td>CONTADURIA PUBLICA</td>\n",
              "      <td>ANTIOQUIA</td>\n",
              "      <td>Entre 1 millón y menos de 2.5 millones</td>\n",
              "      <td>Más de 30 horas</td>\n",
              "      <td>Estrato 1</td>\n",
              "      <td>No</td>\n",
              "      <td>Primaria completa</td>\n",
              "      <td>No</td>\n",
              "      <td>No</td>\n",
              "      <td>N</td>\n",
              "      <td>No</td>\n",
              "      <td>Si</td>\n",
              "      <td>No</td>\n",
              "      <td>Secundaria (Bachillerato) completa</td>\n",
              "      <td>medio-bajo</td>\n",
              "      <td>0.160</td>\n",
              "      <td>0.419</td>\n",
              "      <td>0.235</td>\n",
              "      <td>0.305</td>\n",
              "    </tr>\n",
              "    <tr>\n",
              "      <th>666528</th>\n",
              "      <td>941240</td>\n",
              "      <td>20195</td>\n",
              "      <td>LICENCIATURA EN MUSICA</td>\n",
              "      <td>BOYACA</td>\n",
              "      <td>Entre 1 millón y menos de 2.5 millones</td>\n",
              "      <td>Menos de 10 horas</td>\n",
              "      <td>Estrato 1</td>\n",
              "      <td>No</td>\n",
              "      <td>No sabe</td>\n",
              "      <td>No</td>\n",
              "      <td>No</td>\n",
              "      <td>N</td>\n",
              "      <td>No</td>\n",
              "      <td>No</td>\n",
              "      <td>No</td>\n",
              "      <td>Primaria completa</td>\n",
              "      <td>medio-alto</td>\n",
              "      <td>0.146</td>\n",
              "      <td>0.409</td>\n",
              "      <td>0.235</td>\n",
              "      <td>0.283</td>\n",
              "    </tr>\n",
              "    <tr>\n",
              "      <th>386581</th>\n",
              "      <td>882141</td>\n",
              "      <td>20183</td>\n",
              "      <td>PSICOLOGIA</td>\n",
              "      <td>SANTANDER</td>\n",
              "      <td>Entre 2.5 millones y menos de 4 millones</td>\n",
              "      <td>Entre 21 y 30 horas</td>\n",
              "      <td>Estrato 3</td>\n",
              "      <td>Si</td>\n",
              "      <td>Primaria incompleta</td>\n",
              "      <td>Si</td>\n",
              "      <td>No</td>\n",
              "      <td>N</td>\n",
              "      <td>Si</td>\n",
              "      <td>Si</td>\n",
              "      <td>Si</td>\n",
              "      <td>Primaria incompleta</td>\n",
              "      <td>bajo</td>\n",
              "      <td>0.328</td>\n",
              "      <td>0.212</td>\n",
              "      <td>0.288</td>\n",
              "      <td>0.275</td>\n",
              "    </tr>\n",
              "    <tr>\n",
              "      <th>557577</th>\n",
              "      <td>309589</td>\n",
              "      <td>20212</td>\n",
              "      <td>ADMINISTRACIÓN DE EMPRESAS</td>\n",
              "      <td>BOGOTÁ</td>\n",
              "      <td>Entre 1 millón y menos de 2.5 millones</td>\n",
              "      <td>Más de 30 horas</td>\n",
              "      <td>Estrato 3</td>\n",
              "      <td>Si</td>\n",
              "      <td>Primaria completa</td>\n",
              "      <td>Si</td>\n",
              "      <td>No</td>\n",
              "      <td>N</td>\n",
              "      <td>Si</td>\n",
              "      <td>Si</td>\n",
              "      <td>Si</td>\n",
              "      <td>Primaria completa</td>\n",
              "      <td>medio-bajo</td>\n",
              "      <td>0.307</td>\n",
              "      <td>0.210</td>\n",
              "      <td>0.275</td>\n",
              "      <td>0.267</td>\n",
              "    </tr>\n",
              "    <tr>\n",
              "      <th>475718</th>\n",
              "      <td>981515</td>\n",
              "      <td>20212</td>\n",
              "      <td>JURISPRUDENCIA</td>\n",
              "      <td>BOGOTÁ</td>\n",
              "      <td>Más de 7 millones</td>\n",
              "      <td>Entre 11 y 20 horas</td>\n",
              "      <td>Estrato 3</td>\n",
              "      <td>Si</td>\n",
              "      <td>Educación profesional completa</td>\n",
              "      <td>Si</td>\n",
              "      <td>Si</td>\n",
              "      <td>N</td>\n",
              "      <td>No</td>\n",
              "      <td>Si</td>\n",
              "      <td>Si</td>\n",
              "      <td>Educación profesional completa</td>\n",
              "      <td>medio-alto</td>\n",
              "      <td>0.294</td>\n",
              "      <td>0.224</td>\n",
              "      <td>0.296</td>\n",
              "      <td>0.273</td>\n",
              "    </tr>\n",
              "  </tbody>\n",
              "</table>\n",
              "</div>\n",
              "    <div class=\"colab-df-buttons\">\n",
              "\n",
              "  <div class=\"colab-df-container\">\n",
              "    <button class=\"colab-df-convert\" onclick=\"convertToInteractive('df-10080618-bb5f-48da-8fd8-36576293702a')\"\n",
              "            title=\"Convert this dataframe to an interactive table.\"\n",
              "            style=\"display:none;\">\n",
              "\n",
              "  <svg xmlns=\"http://www.w3.org/2000/svg\" height=\"24px\" viewBox=\"0 -960 960 960\">\n",
              "    <path d=\"M120-120v-720h720v720H120Zm60-500h600v-160H180v160Zm220 220h160v-160H400v160Zm0 220h160v-160H400v160ZM180-400h160v-160H180v160Zm440 0h160v-160H620v160ZM180-180h160v-160H180v160Zm440 0h160v-160H620v160Z\"/>\n",
              "  </svg>\n",
              "    </button>\n",
              "\n",
              "  <style>\n",
              "    .colab-df-container {\n",
              "      display:flex;\n",
              "      gap: 12px;\n",
              "    }\n",
              "\n",
              "    .colab-df-convert {\n",
              "      background-color: #E8F0FE;\n",
              "      border: none;\n",
              "      border-radius: 50%;\n",
              "      cursor: pointer;\n",
              "      display: none;\n",
              "      fill: #1967D2;\n",
              "      height: 32px;\n",
              "      padding: 0 0 0 0;\n",
              "      width: 32px;\n",
              "    }\n",
              "\n",
              "    .colab-df-convert:hover {\n",
              "      background-color: #E2EBFA;\n",
              "      box-shadow: 0px 1px 2px rgba(60, 64, 67, 0.3), 0px 1px 3px 1px rgba(60, 64, 67, 0.15);\n",
              "      fill: #174EA6;\n",
              "    }\n",
              "\n",
              "    .colab-df-buttons div {\n",
              "      margin-bottom: 4px;\n",
              "    }\n",
              "\n",
              "    [theme=dark] .colab-df-convert {\n",
              "      background-color: #3B4455;\n",
              "      fill: #D2E3FC;\n",
              "    }\n",
              "\n",
              "    [theme=dark] .colab-df-convert:hover {\n",
              "      background-color: #434B5C;\n",
              "      box-shadow: 0px 1px 3px 1px rgba(0, 0, 0, 0.15);\n",
              "      filter: drop-shadow(0px 1px 2px rgba(0, 0, 0, 0.3));\n",
              "      fill: #FFFFFF;\n",
              "    }\n",
              "  </style>\n",
              "\n",
              "    <script>\n",
              "      const buttonEl =\n",
              "        document.querySelector('#df-10080618-bb5f-48da-8fd8-36576293702a button.colab-df-convert');\n",
              "      buttonEl.style.display =\n",
              "        google.colab.kernel.accessAllowed ? 'block' : 'none';\n",
              "\n",
              "      async function convertToInteractive(key) {\n",
              "        const element = document.querySelector('#df-10080618-bb5f-48da-8fd8-36576293702a');\n",
              "        const dataTable =\n",
              "          await google.colab.kernel.invokeFunction('convertToInteractive',\n",
              "                                                    [key], {});\n",
              "        if (!dataTable) return;\n",
              "\n",
              "        const docLinkHtml = 'Like what you see? Visit the ' +\n",
              "          '<a target=\"_blank\" href=https://colab.research.google.com/notebooks/data_table.ipynb>data table notebook</a>'\n",
              "          + ' to learn more about interactive tables.';\n",
              "        element.innerHTML = '';\n",
              "        dataTable['output_type'] = 'display_data';\n",
              "        await google.colab.output.renderOutput(dataTable, element);\n",
              "        const docLink = document.createElement('div');\n",
              "        docLink.innerHTML = docLinkHtml;\n",
              "        element.appendChild(docLink);\n",
              "      }\n",
              "    </script>\n",
              "  </div>\n",
              "\n",
              "\n",
              "    <div id=\"df-b0cc39e3-77fd-4729-bed4-96a273aada9c\">\n",
              "      <button class=\"colab-df-quickchart\" onclick=\"quickchart('df-b0cc39e3-77fd-4729-bed4-96a273aada9c')\"\n",
              "                title=\"Suggest charts\"\n",
              "                style=\"display:none;\">\n",
              "\n",
              "<svg xmlns=\"http://www.w3.org/2000/svg\" height=\"24px\"viewBox=\"0 0 24 24\"\n",
              "     width=\"24px\">\n",
              "    <g>\n",
              "        <path d=\"M19 3H5c-1.1 0-2 .9-2 2v14c0 1.1.9 2 2 2h14c1.1 0 2-.9 2-2V5c0-1.1-.9-2-2-2zM9 17H7v-7h2v7zm4 0h-2V7h2v10zm4 0h-2v-4h2v4z\"/>\n",
              "    </g>\n",
              "</svg>\n",
              "      </button>\n",
              "\n",
              "<style>\n",
              "  .colab-df-quickchart {\n",
              "      --bg-color: #E8F0FE;\n",
              "      --fill-color: #1967D2;\n",
              "      --hover-bg-color: #E2EBFA;\n",
              "      --hover-fill-color: #174EA6;\n",
              "      --disabled-fill-color: #AAA;\n",
              "      --disabled-bg-color: #DDD;\n",
              "  }\n",
              "\n",
              "  [theme=dark] .colab-df-quickchart {\n",
              "      --bg-color: #3B4455;\n",
              "      --fill-color: #D2E3FC;\n",
              "      --hover-bg-color: #434B5C;\n",
              "      --hover-fill-color: #FFFFFF;\n",
              "      --disabled-bg-color: #3B4455;\n",
              "      --disabled-fill-color: #666;\n",
              "  }\n",
              "\n",
              "  .colab-df-quickchart {\n",
              "    background-color: var(--bg-color);\n",
              "    border: none;\n",
              "    border-radius: 50%;\n",
              "    cursor: pointer;\n",
              "    display: none;\n",
              "    fill: var(--fill-color);\n",
              "    height: 32px;\n",
              "    padding: 0;\n",
              "    width: 32px;\n",
              "  }\n",
              "\n",
              "  .colab-df-quickchart:hover {\n",
              "    background-color: var(--hover-bg-color);\n",
              "    box-shadow: 0 1px 2px rgba(60, 64, 67, 0.3), 0 1px 3px 1px rgba(60, 64, 67, 0.15);\n",
              "    fill: var(--button-hover-fill-color);\n",
              "  }\n",
              "\n",
              "  .colab-df-quickchart-complete:disabled,\n",
              "  .colab-df-quickchart-complete:disabled:hover {\n",
              "    background-color: var(--disabled-bg-color);\n",
              "    fill: var(--disabled-fill-color);\n",
              "    box-shadow: none;\n",
              "  }\n",
              "\n",
              "  .colab-df-spinner {\n",
              "    border: 2px solid var(--fill-color);\n",
              "    border-color: transparent;\n",
              "    border-bottom-color: var(--fill-color);\n",
              "    animation:\n",
              "      spin 1s steps(1) infinite;\n",
              "  }\n",
              "\n",
              "  @keyframes spin {\n",
              "    0% {\n",
              "      border-color: transparent;\n",
              "      border-bottom-color: var(--fill-color);\n",
              "      border-left-color: var(--fill-color);\n",
              "    }\n",
              "    20% {\n",
              "      border-color: transparent;\n",
              "      border-left-color: var(--fill-color);\n",
              "      border-top-color: var(--fill-color);\n",
              "    }\n",
              "    30% {\n",
              "      border-color: transparent;\n",
              "      border-left-color: var(--fill-color);\n",
              "      border-top-color: var(--fill-color);\n",
              "      border-right-color: var(--fill-color);\n",
              "    }\n",
              "    40% {\n",
              "      border-color: transparent;\n",
              "      border-right-color: var(--fill-color);\n",
              "      border-top-color: var(--fill-color);\n",
              "    }\n",
              "    60% {\n",
              "      border-color: transparent;\n",
              "      border-right-color: var(--fill-color);\n",
              "    }\n",
              "    80% {\n",
              "      border-color: transparent;\n",
              "      border-right-color: var(--fill-color);\n",
              "      border-bottom-color: var(--fill-color);\n",
              "    }\n",
              "    90% {\n",
              "      border-color: transparent;\n",
              "      border-bottom-color: var(--fill-color);\n",
              "    }\n",
              "  }\n",
              "</style>\n",
              "\n",
              "      <script>\n",
              "        async function quickchart(key) {\n",
              "          const quickchartButtonEl =\n",
              "            document.querySelector('#' + key + ' button');\n",
              "          quickchartButtonEl.disabled = true;  // To prevent multiple clicks.\n",
              "          quickchartButtonEl.classList.add('colab-df-spinner');\n",
              "          try {\n",
              "            const charts = await google.colab.kernel.invokeFunction(\n",
              "                'suggestCharts', [key], {});\n",
              "          } catch (error) {\n",
              "            console.error('Error during call to suggestCharts:', error);\n",
              "          }\n",
              "          quickchartButtonEl.classList.remove('colab-df-spinner');\n",
              "          quickchartButtonEl.classList.add('colab-df-quickchart-complete');\n",
              "        }\n",
              "        (() => {\n",
              "          let quickchartButtonEl =\n",
              "            document.querySelector('#df-b0cc39e3-77fd-4729-bed4-96a273aada9c button');\n",
              "          quickchartButtonEl.style.display =\n",
              "            google.colab.kernel.accessAllowed ? 'block' : 'none';\n",
              "        })();\n",
              "      </script>\n",
              "    </div>\n",
              "\n",
              "    </div>\n",
              "  </div>\n"
            ],
            "application/vnd.google.colaboratory.intrinsic+json": {
              "type": "dataframe"
            }
          },
          "metadata": {},
          "execution_count": 5
        }
      ]
    },
    {
      "cell_type": "markdown",
      "source": [
        "Se hace que colab, muestre la totalidad de columnas, de forma informativa. En la siguiente celda, se procede a eliminar la anterior configuracion, dejando la cantidad de columnas a mostrar, de forma estandar."
      ],
      "metadata": {
        "id": "OBOvtV7jYHue"
      }
    },
    {
      "cell_type": "code",
      "source": [
        "pd.reset_option('display.max_columns')"
      ],
      "metadata": {
        "id": "I03fQhZmcBQa"
      },
      "execution_count": null,
      "outputs": []
    },
    {
      "cell_type": "markdown",
      "source": [
        "## Limpieza y Preprocesado"
      ],
      "metadata": {
        "id": "3OatE2WaiT_K"
      }
    },
    {
      "cell_type": "markdown",
      "source": [
        "### Columnas duplicada"
      ],
      "metadata": {
        "id": "jxXhr30GkR77"
      }
    },
    {
      "cell_type": "markdown",
      "source": [
        "Dos columnas con aparentemente los mismos datos.\n",
        "\n",
        "Comprueba si `F_TIENEINTERNET` es igual a `F_TIENEINTERNET.1`"
      ],
      "metadata": {
        "id": "UkXUesxaaxdD"
      }
    },
    {
      "cell_type": "code",
      "source": [
        "train[(train['F_TIENEINTERNET'] != train['F_TIENEINTERNET.1']) & (train['F_TIENEINTERNET'].notna()) & (train['F_TIENEINTERNET.1'].notna())]"
      ],
      "metadata": {
        "colab": {
          "base_uri": "https://localhost:8080/",
          "height": 99
        },
        "id": "KqJzgUFsZKcN",
        "outputId": "a60fe1b6-7e36-4942-f54a-9e7c22d2f5a5"
      },
      "execution_count": null,
      "outputs": [
        {
          "output_type": "execute_result",
          "data": {
            "text/plain": [
              "Empty DataFrame\n",
              "Columns: [ID, PERIODO_ACADEMICO, E_PRGM_ACADEMICO, E_PRGM_DEPARTAMENTO, E_VALORMATRICULAUNIVERSIDAD, E_HORASSEMANATRABAJA, F_ESTRATOVIVIENDA, F_TIENEINTERNET, F_EDUCACIONPADRE, F_TIENELAVADORA, F_TIENEAUTOMOVIL, E_PRIVADO_LIBERTAD, E_PAGOMATRICULAPROPIO, F_TIENECOMPUTADOR, F_TIENEINTERNET.1, F_EDUCACIONMADRE, RENDIMIENTO_GLOBAL, INDICADOR_1, INDICADOR_2, INDICADOR_3, INDICADOR_4]\n",
              "Index: []\n",
              "\n",
              "[0 rows x 21 columns]"
            ],
            "text/html": [
              "\n",
              "  <div id=\"df-d3f86bbc-59cb-4bc0-9260-ef7bf5f4e8ba\" class=\"colab-df-container\">\n",
              "    <div>\n",
              "<style scoped>\n",
              "    .dataframe tbody tr th:only-of-type {\n",
              "        vertical-align: middle;\n",
              "    }\n",
              "\n",
              "    .dataframe tbody tr th {\n",
              "        vertical-align: top;\n",
              "    }\n",
              "\n",
              "    .dataframe thead th {\n",
              "        text-align: right;\n",
              "    }\n",
              "</style>\n",
              "<table border=\"1\" class=\"dataframe\">\n",
              "  <thead>\n",
              "    <tr style=\"text-align: right;\">\n",
              "      <th></th>\n",
              "      <th>ID</th>\n",
              "      <th>PERIODO_ACADEMICO</th>\n",
              "      <th>E_PRGM_ACADEMICO</th>\n",
              "      <th>E_PRGM_DEPARTAMENTO</th>\n",
              "      <th>E_VALORMATRICULAUNIVERSIDAD</th>\n",
              "      <th>E_HORASSEMANATRABAJA</th>\n",
              "      <th>F_ESTRATOVIVIENDA</th>\n",
              "      <th>F_TIENEINTERNET</th>\n",
              "      <th>F_EDUCACIONPADRE</th>\n",
              "      <th>F_TIENELAVADORA</th>\n",
              "      <th>...</th>\n",
              "      <th>E_PRIVADO_LIBERTAD</th>\n",
              "      <th>E_PAGOMATRICULAPROPIO</th>\n",
              "      <th>F_TIENECOMPUTADOR</th>\n",
              "      <th>F_TIENEINTERNET.1</th>\n",
              "      <th>F_EDUCACIONMADRE</th>\n",
              "      <th>RENDIMIENTO_GLOBAL</th>\n",
              "      <th>INDICADOR_1</th>\n",
              "      <th>INDICADOR_2</th>\n",
              "      <th>INDICADOR_3</th>\n",
              "      <th>INDICADOR_4</th>\n",
              "    </tr>\n",
              "  </thead>\n",
              "  <tbody>\n",
              "  </tbody>\n",
              "</table>\n",
              "<p>0 rows × 21 columns</p>\n",
              "</div>\n",
              "    <div class=\"colab-df-buttons\">\n",
              "\n",
              "  <div class=\"colab-df-container\">\n",
              "    <button class=\"colab-df-convert\" onclick=\"convertToInteractive('df-d3f86bbc-59cb-4bc0-9260-ef7bf5f4e8ba')\"\n",
              "            title=\"Convert this dataframe to an interactive table.\"\n",
              "            style=\"display:none;\">\n",
              "\n",
              "  <svg xmlns=\"http://www.w3.org/2000/svg\" height=\"24px\" viewBox=\"0 -960 960 960\">\n",
              "    <path d=\"M120-120v-720h720v720H120Zm60-500h600v-160H180v160Zm220 220h160v-160H400v160Zm0 220h160v-160H400v160ZM180-400h160v-160H180v160Zm440 0h160v-160H620v160ZM180-180h160v-160H180v160Zm440 0h160v-160H620v160Z\"/>\n",
              "  </svg>\n",
              "    </button>\n",
              "\n",
              "  <style>\n",
              "    .colab-df-container {\n",
              "      display:flex;\n",
              "      gap: 12px;\n",
              "    }\n",
              "\n",
              "    .colab-df-convert {\n",
              "      background-color: #E8F0FE;\n",
              "      border: none;\n",
              "      border-radius: 50%;\n",
              "      cursor: pointer;\n",
              "      display: none;\n",
              "      fill: #1967D2;\n",
              "      height: 32px;\n",
              "      padding: 0 0 0 0;\n",
              "      width: 32px;\n",
              "    }\n",
              "\n",
              "    .colab-df-convert:hover {\n",
              "      background-color: #E2EBFA;\n",
              "      box-shadow: 0px 1px 2px rgba(60, 64, 67, 0.3), 0px 1px 3px 1px rgba(60, 64, 67, 0.15);\n",
              "      fill: #174EA6;\n",
              "    }\n",
              "\n",
              "    .colab-df-buttons div {\n",
              "      margin-bottom: 4px;\n",
              "    }\n",
              "\n",
              "    [theme=dark] .colab-df-convert {\n",
              "      background-color: #3B4455;\n",
              "      fill: #D2E3FC;\n",
              "    }\n",
              "\n",
              "    [theme=dark] .colab-df-convert:hover {\n",
              "      background-color: #434B5C;\n",
              "      box-shadow: 0px 1px 3px 1px rgba(0, 0, 0, 0.15);\n",
              "      filter: drop-shadow(0px 1px 2px rgba(0, 0, 0, 0.3));\n",
              "      fill: #FFFFFF;\n",
              "    }\n",
              "  </style>\n",
              "\n",
              "    <script>\n",
              "      const buttonEl =\n",
              "        document.querySelector('#df-d3f86bbc-59cb-4bc0-9260-ef7bf5f4e8ba button.colab-df-convert');\n",
              "      buttonEl.style.display =\n",
              "        google.colab.kernel.accessAllowed ? 'block' : 'none';\n",
              "\n",
              "      async function convertToInteractive(key) {\n",
              "        const element = document.querySelector('#df-d3f86bbc-59cb-4bc0-9260-ef7bf5f4e8ba');\n",
              "        const dataTable =\n",
              "          await google.colab.kernel.invokeFunction('convertToInteractive',\n",
              "                                                    [key], {});\n",
              "        if (!dataTable) return;\n",
              "\n",
              "        const docLinkHtml = 'Like what you see? Visit the ' +\n",
              "          '<a target=\"_blank\" href=https://colab.research.google.com/notebooks/data_table.ipynb>data table notebook</a>'\n",
              "          + ' to learn more about interactive tables.';\n",
              "        element.innerHTML = '';\n",
              "        dataTable['output_type'] = 'display_data';\n",
              "        await google.colab.output.renderOutput(dataTable, element);\n",
              "        const docLink = document.createElement('div');\n",
              "        docLink.innerHTML = docLinkHtml;\n",
              "        element.appendChild(docLink);\n",
              "      }\n",
              "    </script>\n",
              "  </div>\n",
              "\n",
              "\n",
              "    </div>\n",
              "  </div>\n"
            ],
            "application/vnd.google.colaboratory.intrinsic+json": {
              "type": "dataframe"
            }
          },
          "metadata": {},
          "execution_count": 7
        }
      ]
    },
    {
      "cell_type": "markdown",
      "source": [
        "Comprueba que son iguales, por lo tanto, lo mejor es eliminar una de ellas"
      ],
      "metadata": {
        "id": "xhDXNUHfbCD1"
      }
    },
    {
      "cell_type": "code",
      "source": [
        "train.drop(columns=['F_TIENEINTERNET.1'], inplace=True)"
      ],
      "metadata": {
        "id": "P106y-jbbJZY"
      },
      "execution_count": null,
      "outputs": []
    },
    {
      "cell_type": "markdown",
      "source": [
        "###Filas duplicadas"
      ],
      "metadata": {
        "id": "mmHzMQvSbD6d"
      }
    },
    {
      "cell_type": "code",
      "source": [
        "filas_ant = train.shape[0]\n",
        "train.drop_duplicates(inplace=True)\n",
        "print(f'Filas duplicadas que han sido eliminadas {filas_ant - train.shape[0]}')\n",
        "print(train.shape)"
      ],
      "metadata": {
        "colab": {
          "base_uri": "https://localhost:8080/"
        },
        "id": "Lvtqsc5NbT90",
        "outputId": "3973a1c1-e25c-4044-da5d-5a51afe85087"
      },
      "execution_count": null,
      "outputs": [
        {
          "output_type": "stream",
          "name": "stdout",
          "text": [
            "Filas duplicadas que han sido eliminadas 0\n",
            "(692500, 20)\n"
          ]
        }
      ]
    },
    {
      "cell_type": "markdown",
      "source": [
        "### Columnas irrelevantes\n",
        "\n",
        "Se parte de la supocicion de que las columnas `ID` y `PERIODO_ACADEMICO`, no afectan en el rendimiento del estudiante."
      ],
      "metadata": {
        "id": "B5XLJ681IfOG"
      }
    },
    {
      "cell_type": "code",
      "source": [
        "train['PERIODO_ACADEMICO'].value_counts()"
      ],
      "metadata": {
        "colab": {
          "base_uri": "https://localhost:8080/",
          "height": 435
        },
        "id": "qsr1LrsQIKOO",
        "outputId": "f35debfb-227b-4010-b7d2-9988b2a48091"
      },
      "execution_count": null,
      "outputs": [
        {
          "output_type": "execute_result",
          "data": {
            "text/plain": [
              "PERIODO_ACADEMICO\n",
              "20195    180873\n",
              "20203    171838\n",
              "20212    171412\n",
              "20183    164818\n",
              "20194      1472\n",
              "20213      1178\n",
              "20202       490\n",
              "20184       254\n",
              "20196       165\n",
              "Name: count, dtype: int64"
            ],
            "text/html": [
              "<div>\n",
              "<style scoped>\n",
              "    .dataframe tbody tr th:only-of-type {\n",
              "        vertical-align: middle;\n",
              "    }\n",
              "\n",
              "    .dataframe tbody tr th {\n",
              "        vertical-align: top;\n",
              "    }\n",
              "\n",
              "    .dataframe thead th {\n",
              "        text-align: right;\n",
              "    }\n",
              "</style>\n",
              "<table border=\"1\" class=\"dataframe\">\n",
              "  <thead>\n",
              "    <tr style=\"text-align: right;\">\n",
              "      <th></th>\n",
              "      <th>count</th>\n",
              "    </tr>\n",
              "    <tr>\n",
              "      <th>PERIODO_ACADEMICO</th>\n",
              "      <th></th>\n",
              "    </tr>\n",
              "  </thead>\n",
              "  <tbody>\n",
              "    <tr>\n",
              "      <th>20195</th>\n",
              "      <td>180873</td>\n",
              "    </tr>\n",
              "    <tr>\n",
              "      <th>20203</th>\n",
              "      <td>171838</td>\n",
              "    </tr>\n",
              "    <tr>\n",
              "      <th>20212</th>\n",
              "      <td>171412</td>\n",
              "    </tr>\n",
              "    <tr>\n",
              "      <th>20183</th>\n",
              "      <td>164818</td>\n",
              "    </tr>\n",
              "    <tr>\n",
              "      <th>20194</th>\n",
              "      <td>1472</td>\n",
              "    </tr>\n",
              "    <tr>\n",
              "      <th>20213</th>\n",
              "      <td>1178</td>\n",
              "    </tr>\n",
              "    <tr>\n",
              "      <th>20202</th>\n",
              "      <td>490</td>\n",
              "    </tr>\n",
              "    <tr>\n",
              "      <th>20184</th>\n",
              "      <td>254</td>\n",
              "    </tr>\n",
              "    <tr>\n",
              "      <th>20196</th>\n",
              "      <td>165</td>\n",
              "    </tr>\n",
              "  </tbody>\n",
              "</table>\n",
              "</div><br><label><b>dtype:</b> int64</label>"
            ]
          },
          "metadata": {},
          "execution_count": 10
        }
      ]
    },
    {
      "cell_type": "code",
      "source": [
        "train.drop(columns=['ID', 'PERIODO_ACADEMICO'], inplace=True)"
      ],
      "metadata": {
        "id": "pUpv0RjLIkBO"
      },
      "execution_count": null,
      "outputs": []
    },
    {
      "cell_type": "code",
      "source": [
        "train.E_PRIVADO_LIBERTAD.value_counts()"
      ],
      "metadata": {
        "colab": {
          "base_uri": "https://localhost:8080/",
          "height": 216
        },
        "id": "X4cJ5pJ2KUQL",
        "outputId": "6f9b1eb9-a711-414b-9a0e-69e9bdab2e22"
      },
      "execution_count": null,
      "outputs": [
        {
          "output_type": "execute_result",
          "data": {
            "text/plain": [
              "E_PRIVADO_LIBERTAD\n",
              "N    692466\n",
              "S        34\n",
              "Name: count, dtype: int64"
            ],
            "text/html": [
              "<div>\n",
              "<style scoped>\n",
              "    .dataframe tbody tr th:only-of-type {\n",
              "        vertical-align: middle;\n",
              "    }\n",
              "\n",
              "    .dataframe tbody tr th {\n",
              "        vertical-align: top;\n",
              "    }\n",
              "\n",
              "    .dataframe thead th {\n",
              "        text-align: right;\n",
              "    }\n",
              "</style>\n",
              "<table border=\"1\" class=\"dataframe\">\n",
              "  <thead>\n",
              "    <tr style=\"text-align: right;\">\n",
              "      <th></th>\n",
              "      <th>count</th>\n",
              "    </tr>\n",
              "    <tr>\n",
              "      <th>E_PRIVADO_LIBERTAD</th>\n",
              "      <th></th>\n",
              "    </tr>\n",
              "  </thead>\n",
              "  <tbody>\n",
              "    <tr>\n",
              "      <th>N</th>\n",
              "      <td>692466</td>\n",
              "    </tr>\n",
              "    <tr>\n",
              "      <th>S</th>\n",
              "      <td>34</td>\n",
              "    </tr>\n",
              "  </tbody>\n",
              "</table>\n",
              "</div><br><label><b>dtype:</b> int64</label>"
            ]
          },
          "metadata": {},
          "execution_count": 12
        }
      ]
    },
    {
      "cell_type": "markdown",
      "source": [
        "Una columna donde el 99.999% de los valores son idénticos (692466 'N' de un total de 692498 filas) se considera una caracteristica de varianza extremadamente baja o casi cero. Los 34 casos distintos no representan una variabilidad significativa para el entrenamiento del modelo.\n",
        "\n",
        "El modelo depende de variabilidad de las caracteristicas para encontrar patrones que explique la variable objetivo. `E_PRIVADO_LIBERTAD` presenta una variabilidad practicamente inexistente, por lo que no aporta mucho informacion relevante. De hecho, mantenerla podria ser perjudicial, ya que introduciria ruido y aumentaria innecesariamente el tiempo de computo."
      ],
      "metadata": {
        "id": "RIPIpLDVL-1E"
      }
    },
    {
      "cell_type": "code",
      "source": [
        "train.drop(columns=['E_PRIVADO_LIBERTAD'], inplace=True)"
      ],
      "metadata": {
        "id": "UdMKF3OUQQYE"
      },
      "execution_count": null,
      "outputs": []
    },
    {
      "cell_type": "code",
      "source": [
        "train.shape"
      ],
      "metadata": {
        "colab": {
          "base_uri": "https://localhost:8080/"
        },
        "id": "hGDoaohlQdaa",
        "outputId": "e73f0a8e-51e9-42c1-d4ae-ab1c6550f00d"
      },
      "execution_count": null,
      "outputs": [
        {
          "output_type": "execute_result",
          "data": {
            "text/plain": [
              "(692500, 17)"
            ]
          },
          "metadata": {},
          "execution_count": 14
        }
      ]
    },
    {
      "cell_type": "code",
      "source": [
        "train.columns"
      ],
      "metadata": {
        "colab": {
          "base_uri": "https://localhost:8080/"
        },
        "id": "IWMV_9QSQhFc",
        "outputId": "7a5c8eb6-233f-4f17-9493-96ff4e20c01c"
      },
      "execution_count": null,
      "outputs": [
        {
          "output_type": "execute_result",
          "data": {
            "text/plain": [
              "Index(['E_PRGM_ACADEMICO', 'E_PRGM_DEPARTAMENTO',\n",
              "       'E_VALORMATRICULAUNIVERSIDAD', 'E_HORASSEMANATRABAJA',\n",
              "       'F_ESTRATOVIVIENDA', 'F_TIENEINTERNET', 'F_EDUCACIONPADRE',\n",
              "       'F_TIENELAVADORA', 'F_TIENEAUTOMOVIL', 'E_PAGOMATRICULAPROPIO',\n",
              "       'F_TIENECOMPUTADOR', 'F_EDUCACIONMADRE', 'RENDIMIENTO_GLOBAL',\n",
              "       'INDICADOR_1', 'INDICADOR_2', 'INDICADOR_3', 'INDICADOR_4'],\n",
              "      dtype='object')"
            ]
          },
          "metadata": {},
          "execution_count": 15
        }
      ]
    },
    {
      "cell_type": "markdown",
      "source": [
        "### Eliminación de valores nulos"
      ],
      "metadata": {
        "id": "LZLh1PGCdeuP"
      }
    },
    {
      "cell_type": "markdown",
      "source": [
        "Filas con valores nulos"
      ],
      "metadata": {
        "id": "_jtDHhzX3u8l"
      }
    },
    {
      "cell_type": "code",
      "source": [
        "len(train[train.isnull().any(axis=1)])"
      ],
      "metadata": {
        "colab": {
          "base_uri": "https://localhost:8080/"
        },
        "id": "pBTliLA6rJjJ",
        "outputId": "09acc243-734c-480c-c417-e2adcebbe3be"
      },
      "execution_count": null,
      "outputs": [
        {
          "output_type": "execute_result",
          "data": {
            "text/plain": [
              "63604"
            ]
          },
          "metadata": {},
          "execution_count": 16
        }
      ]
    },
    {
      "cell_type": "code",
      "source": [
        "for i in range(train.shape[1] - 1, -1, -1):\n",
        "  print(f'Filas con {i} valores nulos: {(train.isnull().sum(axis=1) == i).sum()}')"
      ],
      "metadata": {
        "colab": {
          "base_uri": "https://localhost:8080/"
        },
        "id": "KzrnSS8j1vsm",
        "outputId": "a722b2ac-1d7c-428c-b252-b64d041ac6ac"
      },
      "execution_count": null,
      "outputs": [
        {
          "output_type": "stream",
          "name": "stdout",
          "text": [
            "Filas con 16 valores nulos: 0\n",
            "Filas con 15 valores nulos: 0\n",
            "Filas con 14 valores nulos: 0\n",
            "Filas con 13 valores nulos: 0\n",
            "Filas con 12 valores nulos: 0\n",
            "Filas con 11 valores nulos: 0\n",
            "Filas con 10 valores nulos: 1639\n",
            "Filas con 9 valores nulos: 18\n",
            "Filas con 8 valores nulos: 19162\n",
            "Filas con 7 valores nulos: 937\n",
            "Filas con 6 valores nulos: 2434\n",
            "Filas con 5 valores nulos: 1362\n",
            "Filas con 4 valores nulos: 2457\n",
            "Filas con 3 valores nulos: 8471\n",
            "Filas con 2 valores nulos: 10563\n",
            "Filas con 1 valores nulos: 16561\n",
            "Filas con 0 valores nulos: 628896\n"
          ]
        }
      ]
    },
    {
      "cell_type": "code",
      "source": [
        "(train.isnull().mean() * 100).sort_values(ascending=False)"
      ],
      "metadata": {
        "colab": {
          "base_uri": "https://localhost:8080/",
          "height": 655
        },
        "id": "nE43WcxfAHYX",
        "outputId": "8eb8f5ef-a175-4ffe-a1c2-16aa5319f8f4"
      },
      "execution_count": null,
      "outputs": [
        {
          "output_type": "execute_result",
          "data": {
            "text/plain": [
              "F_TIENEAUTOMOVIL               6.299350\n",
              "F_TIENELAVADORA                5.743394\n",
              "F_TIENECOMPUTADOR              5.502238\n",
              "F_ESTRATOVIVIENDA              4.640722\n",
              "E_HORASSEMANATRABAJA           4.455884\n",
              "F_TIENEINTERNET                3.845343\n",
              "F_EDUCACIONMADRE               3.417184\n",
              "F_EDUCACIONPADRE               3.347004\n",
              "E_PAGOMATRICULAPROPIO          0.938339\n",
              "E_VALORMATRICULAUNIVERSIDAD    0.907870\n",
              "E_PRGM_ACADEMICO               0.000000\n",
              "E_PRGM_DEPARTAMENTO            0.000000\n",
              "RENDIMIENTO_GLOBAL             0.000000\n",
              "INDICADOR_1                    0.000000\n",
              "INDICADOR_2                    0.000000\n",
              "INDICADOR_3                    0.000000\n",
              "INDICADOR_4                    0.000000\n",
              "dtype: float64"
            ],
            "text/html": [
              "<div>\n",
              "<style scoped>\n",
              "    .dataframe tbody tr th:only-of-type {\n",
              "        vertical-align: middle;\n",
              "    }\n",
              "\n",
              "    .dataframe tbody tr th {\n",
              "        vertical-align: top;\n",
              "    }\n",
              "\n",
              "    .dataframe thead th {\n",
              "        text-align: right;\n",
              "    }\n",
              "</style>\n",
              "<table border=\"1\" class=\"dataframe\">\n",
              "  <thead>\n",
              "    <tr style=\"text-align: right;\">\n",
              "      <th></th>\n",
              "      <th>0</th>\n",
              "    </tr>\n",
              "  </thead>\n",
              "  <tbody>\n",
              "    <tr>\n",
              "      <th>F_TIENEAUTOMOVIL</th>\n",
              "      <td>6.299350</td>\n",
              "    </tr>\n",
              "    <tr>\n",
              "      <th>F_TIENELAVADORA</th>\n",
              "      <td>5.743394</td>\n",
              "    </tr>\n",
              "    <tr>\n",
              "      <th>F_TIENECOMPUTADOR</th>\n",
              "      <td>5.502238</td>\n",
              "    </tr>\n",
              "    <tr>\n",
              "      <th>F_ESTRATOVIVIENDA</th>\n",
              "      <td>4.640722</td>\n",
              "    </tr>\n",
              "    <tr>\n",
              "      <th>E_HORASSEMANATRABAJA</th>\n",
              "      <td>4.455884</td>\n",
              "    </tr>\n",
              "    <tr>\n",
              "      <th>F_TIENEINTERNET</th>\n",
              "      <td>3.845343</td>\n",
              "    </tr>\n",
              "    <tr>\n",
              "      <th>F_EDUCACIONMADRE</th>\n",
              "      <td>3.417184</td>\n",
              "    </tr>\n",
              "    <tr>\n",
              "      <th>F_EDUCACIONPADRE</th>\n",
              "      <td>3.347004</td>\n",
              "    </tr>\n",
              "    <tr>\n",
              "      <th>E_PAGOMATRICULAPROPIO</th>\n",
              "      <td>0.938339</td>\n",
              "    </tr>\n",
              "    <tr>\n",
              "      <th>E_VALORMATRICULAUNIVERSIDAD</th>\n",
              "      <td>0.907870</td>\n",
              "    </tr>\n",
              "    <tr>\n",
              "      <th>E_PRGM_ACADEMICO</th>\n",
              "      <td>0.000000</td>\n",
              "    </tr>\n",
              "    <tr>\n",
              "      <th>E_PRGM_DEPARTAMENTO</th>\n",
              "      <td>0.000000</td>\n",
              "    </tr>\n",
              "    <tr>\n",
              "      <th>RENDIMIENTO_GLOBAL</th>\n",
              "      <td>0.000000</td>\n",
              "    </tr>\n",
              "    <tr>\n",
              "      <th>INDICADOR_1</th>\n",
              "      <td>0.000000</td>\n",
              "    </tr>\n",
              "    <tr>\n",
              "      <th>INDICADOR_2</th>\n",
              "      <td>0.000000</td>\n",
              "    </tr>\n",
              "    <tr>\n",
              "      <th>INDICADOR_3</th>\n",
              "      <td>0.000000</td>\n",
              "    </tr>\n",
              "    <tr>\n",
              "      <th>INDICADOR_4</th>\n",
              "      <td>0.000000</td>\n",
              "    </tr>\n",
              "  </tbody>\n",
              "</table>\n",
              "</div><br><label><b>dtype:</b> float64</label>"
            ]
          },
          "metadata": {},
          "execution_count": 18
        }
      ]
    },
    {
      "cell_type": "markdown",
      "source": [
        "Filas con mas del 29% de valores nulos, es decir, mas de 5 columnas no tienen datos."
      ],
      "metadata": {
        "id": "txlaaZrGVNjI"
      }
    },
    {
      "cell_type": "code",
      "source": [
        "(train.isnull().sum(axis=1) >= 5).sum()"
      ],
      "metadata": {
        "colab": {
          "base_uri": "https://localhost:8080/"
        },
        "id": "XXKA1cNh40Pv",
        "outputId": "cbf9a1ab-52bd-43c9-c07f-ea1e40b94735"
      },
      "execution_count": null,
      "outputs": [
        {
          "output_type": "execute_result",
          "data": {
            "text/plain": [
              "np.int64(25552)"
            ]
          },
          "metadata": {},
          "execution_count": 19
        }
      ]
    },
    {
      "cell_type": "code",
      "source": [
        "filas_nulas = train[(train.isnull().sum(axis=1) / (len(train.columns)) * 100) > 29]\n",
        "filas_nulas.head()"
      ],
      "metadata": {
        "colab": {
          "base_uri": "https://localhost:8080/",
          "height": 348
        },
        "id": "q6NWR7B_5qe8",
        "outputId": "6902e10f-c1b8-47b6-b2bd-5f7aa3ef8fe3"
      },
      "execution_count": null,
      "outputs": [
        {
          "output_type": "execute_result",
          "data": {
            "text/plain": [
              "                     E_PRGM_ACADEMICO E_PRGM_DEPARTAMENTO  \\\n",
              "21             INGENIERIA MECATRONICA               VALLE   \n",
              "26                            DERECHO             BOLIVAR   \n",
              "48             INGENIERIA MECATRONICA              BOGOTÁ   \n",
              "49  LICENCIATURA EN CIENCIAS SOCIALES              BOGOTÁ   \n",
              "58                     TRABAJO SOCIAL               VALLE   \n",
              "\n",
              "                 E_VALORMATRICULAUNIVERSIDAD E_HORASSEMANATRABAJA  \\\n",
              "21  Entre 5.5 millones y menos de 7 millones                  NaN   \n",
              "26  Entre 2.5 millones y menos de 4 millones                  NaN   \n",
              "48  Entre 4 millones y menos de 5.5 millones                  NaN   \n",
              "49    Entre 1 millón y menos de 2.5 millones                  NaN   \n",
              "58    Entre 1 millón y menos de 2.5 millones                  NaN   \n",
              "\n",
              "   F_ESTRATOVIVIENDA F_TIENEINTERNET                    F_EDUCACIONPADRE  \\\n",
              "21               NaN             NaN                                 NaN   \n",
              "26               NaN             NaN                                 NaN   \n",
              "48         Estrato 3             NaN  Secundaria (Bachillerato) completa   \n",
              "49               NaN             NaN                                 NaN   \n",
              "58               NaN             NaN                                 NaN   \n",
              "\n",
              "   F_TIENELAVADORA F_TIENEAUTOMOVIL E_PAGOMATRICULAPROPIO F_TIENECOMPUTADOR  \\\n",
              "21             NaN              NaN                    No               NaN   \n",
              "26             NaN              NaN                    No               NaN   \n",
              "48             NaN              NaN                    Si               NaN   \n",
              "49             NaN              NaN                    Si               NaN   \n",
              "58             NaN              NaN                    No               NaN   \n",
              "\n",
              "                  F_EDUCACIONMADRE RENDIMIENTO_GLOBAL  INDICADOR_1  \\\n",
              "21                             NaN         medio-bajo        0.029   \n",
              "26                             NaN         medio-bajo        0.017   \n",
              "48  Técnica o tecnológica completa               bajo        0.307   \n",
              "49                             NaN               bajo        0.010   \n",
              "58                             NaN               bajo        0.007   \n",
              "\n",
              "    INDICADOR_2  INDICADOR_3  INDICADOR_4  \n",
              "21        0.037        0.048        0.026  \n",
              "26        0.034        0.023        0.023  \n",
              "48        0.244        0.313        0.273  \n",
              "49        0.015        0.030        0.012  \n",
              "58        0.033        0.037        0.048  "
            ],
            "text/html": [
              "\n",
              "  <div id=\"df-e45a6da8-3cfa-43df-9ed0-4e9290cf6540\" class=\"colab-df-container\">\n",
              "    <div>\n",
              "<style scoped>\n",
              "    .dataframe tbody tr th:only-of-type {\n",
              "        vertical-align: middle;\n",
              "    }\n",
              "\n",
              "    .dataframe tbody tr th {\n",
              "        vertical-align: top;\n",
              "    }\n",
              "\n",
              "    .dataframe thead th {\n",
              "        text-align: right;\n",
              "    }\n",
              "</style>\n",
              "<table border=\"1\" class=\"dataframe\">\n",
              "  <thead>\n",
              "    <tr style=\"text-align: right;\">\n",
              "      <th></th>\n",
              "      <th>E_PRGM_ACADEMICO</th>\n",
              "      <th>E_PRGM_DEPARTAMENTO</th>\n",
              "      <th>E_VALORMATRICULAUNIVERSIDAD</th>\n",
              "      <th>E_HORASSEMANATRABAJA</th>\n",
              "      <th>F_ESTRATOVIVIENDA</th>\n",
              "      <th>F_TIENEINTERNET</th>\n",
              "      <th>F_EDUCACIONPADRE</th>\n",
              "      <th>F_TIENELAVADORA</th>\n",
              "      <th>F_TIENEAUTOMOVIL</th>\n",
              "      <th>E_PAGOMATRICULAPROPIO</th>\n",
              "      <th>F_TIENECOMPUTADOR</th>\n",
              "      <th>F_EDUCACIONMADRE</th>\n",
              "      <th>RENDIMIENTO_GLOBAL</th>\n",
              "      <th>INDICADOR_1</th>\n",
              "      <th>INDICADOR_2</th>\n",
              "      <th>INDICADOR_3</th>\n",
              "      <th>INDICADOR_4</th>\n",
              "    </tr>\n",
              "  </thead>\n",
              "  <tbody>\n",
              "    <tr>\n",
              "      <th>21</th>\n",
              "      <td>INGENIERIA MECATRONICA</td>\n",
              "      <td>VALLE</td>\n",
              "      <td>Entre 5.5 millones y menos de 7 millones</td>\n",
              "      <td>NaN</td>\n",
              "      <td>NaN</td>\n",
              "      <td>NaN</td>\n",
              "      <td>NaN</td>\n",
              "      <td>NaN</td>\n",
              "      <td>NaN</td>\n",
              "      <td>No</td>\n",
              "      <td>NaN</td>\n",
              "      <td>NaN</td>\n",
              "      <td>medio-bajo</td>\n",
              "      <td>0.029</td>\n",
              "      <td>0.037</td>\n",
              "      <td>0.048</td>\n",
              "      <td>0.026</td>\n",
              "    </tr>\n",
              "    <tr>\n",
              "      <th>26</th>\n",
              "      <td>DERECHO</td>\n",
              "      <td>BOLIVAR</td>\n",
              "      <td>Entre 2.5 millones y menos de 4 millones</td>\n",
              "      <td>NaN</td>\n",
              "      <td>NaN</td>\n",
              "      <td>NaN</td>\n",
              "      <td>NaN</td>\n",
              "      <td>NaN</td>\n",
              "      <td>NaN</td>\n",
              "      <td>No</td>\n",
              "      <td>NaN</td>\n",
              "      <td>NaN</td>\n",
              "      <td>medio-bajo</td>\n",
              "      <td>0.017</td>\n",
              "      <td>0.034</td>\n",
              "      <td>0.023</td>\n",
              "      <td>0.023</td>\n",
              "    </tr>\n",
              "    <tr>\n",
              "      <th>48</th>\n",
              "      <td>INGENIERIA MECATRONICA</td>\n",
              "      <td>BOGOTÁ</td>\n",
              "      <td>Entre 4 millones y menos de 5.5 millones</td>\n",
              "      <td>NaN</td>\n",
              "      <td>Estrato 3</td>\n",
              "      <td>NaN</td>\n",
              "      <td>Secundaria (Bachillerato) completa</td>\n",
              "      <td>NaN</td>\n",
              "      <td>NaN</td>\n",
              "      <td>Si</td>\n",
              "      <td>NaN</td>\n",
              "      <td>Técnica o tecnológica completa</td>\n",
              "      <td>bajo</td>\n",
              "      <td>0.307</td>\n",
              "      <td>0.244</td>\n",
              "      <td>0.313</td>\n",
              "      <td>0.273</td>\n",
              "    </tr>\n",
              "    <tr>\n",
              "      <th>49</th>\n",
              "      <td>LICENCIATURA EN CIENCIAS SOCIALES</td>\n",
              "      <td>BOGOTÁ</td>\n",
              "      <td>Entre 1 millón y menos de 2.5 millones</td>\n",
              "      <td>NaN</td>\n",
              "      <td>NaN</td>\n",
              "      <td>NaN</td>\n",
              "      <td>NaN</td>\n",
              "      <td>NaN</td>\n",
              "      <td>NaN</td>\n",
              "      <td>Si</td>\n",
              "      <td>NaN</td>\n",
              "      <td>NaN</td>\n",
              "      <td>bajo</td>\n",
              "      <td>0.010</td>\n",
              "      <td>0.015</td>\n",
              "      <td>0.030</td>\n",
              "      <td>0.012</td>\n",
              "    </tr>\n",
              "    <tr>\n",
              "      <th>58</th>\n",
              "      <td>TRABAJO SOCIAL</td>\n",
              "      <td>VALLE</td>\n",
              "      <td>Entre 1 millón y menos de 2.5 millones</td>\n",
              "      <td>NaN</td>\n",
              "      <td>NaN</td>\n",
              "      <td>NaN</td>\n",
              "      <td>NaN</td>\n",
              "      <td>NaN</td>\n",
              "      <td>NaN</td>\n",
              "      <td>No</td>\n",
              "      <td>NaN</td>\n",
              "      <td>NaN</td>\n",
              "      <td>bajo</td>\n",
              "      <td>0.007</td>\n",
              "      <td>0.033</td>\n",
              "      <td>0.037</td>\n",
              "      <td>0.048</td>\n",
              "    </tr>\n",
              "  </tbody>\n",
              "</table>\n",
              "</div>\n",
              "    <div class=\"colab-df-buttons\">\n",
              "\n",
              "  <div class=\"colab-df-container\">\n",
              "    <button class=\"colab-df-convert\" onclick=\"convertToInteractive('df-e45a6da8-3cfa-43df-9ed0-4e9290cf6540')\"\n",
              "            title=\"Convert this dataframe to an interactive table.\"\n",
              "            style=\"display:none;\">\n",
              "\n",
              "  <svg xmlns=\"http://www.w3.org/2000/svg\" height=\"24px\" viewBox=\"0 -960 960 960\">\n",
              "    <path d=\"M120-120v-720h720v720H120Zm60-500h600v-160H180v160Zm220 220h160v-160H400v160Zm0 220h160v-160H400v160ZM180-400h160v-160H180v160Zm440 0h160v-160H620v160ZM180-180h160v-160H180v160Zm440 0h160v-160H620v160Z\"/>\n",
              "  </svg>\n",
              "    </button>\n",
              "\n",
              "  <style>\n",
              "    .colab-df-container {\n",
              "      display:flex;\n",
              "      gap: 12px;\n",
              "    }\n",
              "\n",
              "    .colab-df-convert {\n",
              "      background-color: #E8F0FE;\n",
              "      border: none;\n",
              "      border-radius: 50%;\n",
              "      cursor: pointer;\n",
              "      display: none;\n",
              "      fill: #1967D2;\n",
              "      height: 32px;\n",
              "      padding: 0 0 0 0;\n",
              "      width: 32px;\n",
              "    }\n",
              "\n",
              "    .colab-df-convert:hover {\n",
              "      background-color: #E2EBFA;\n",
              "      box-shadow: 0px 1px 2px rgba(60, 64, 67, 0.3), 0px 1px 3px 1px rgba(60, 64, 67, 0.15);\n",
              "      fill: #174EA6;\n",
              "    }\n",
              "\n",
              "    .colab-df-buttons div {\n",
              "      margin-bottom: 4px;\n",
              "    }\n",
              "\n",
              "    [theme=dark] .colab-df-convert {\n",
              "      background-color: #3B4455;\n",
              "      fill: #D2E3FC;\n",
              "    }\n",
              "\n",
              "    [theme=dark] .colab-df-convert:hover {\n",
              "      background-color: #434B5C;\n",
              "      box-shadow: 0px 1px 3px 1px rgba(0, 0, 0, 0.15);\n",
              "      filter: drop-shadow(0px 1px 2px rgba(0, 0, 0, 0.3));\n",
              "      fill: #FFFFFF;\n",
              "    }\n",
              "  </style>\n",
              "\n",
              "    <script>\n",
              "      const buttonEl =\n",
              "        document.querySelector('#df-e45a6da8-3cfa-43df-9ed0-4e9290cf6540 button.colab-df-convert');\n",
              "      buttonEl.style.display =\n",
              "        google.colab.kernel.accessAllowed ? 'block' : 'none';\n",
              "\n",
              "      async function convertToInteractive(key) {\n",
              "        const element = document.querySelector('#df-e45a6da8-3cfa-43df-9ed0-4e9290cf6540');\n",
              "        const dataTable =\n",
              "          await google.colab.kernel.invokeFunction('convertToInteractive',\n",
              "                                                    [key], {});\n",
              "        if (!dataTable) return;\n",
              "\n",
              "        const docLinkHtml = 'Like what you see? Visit the ' +\n",
              "          '<a target=\"_blank\" href=https://colab.research.google.com/notebooks/data_table.ipynb>data table notebook</a>'\n",
              "          + ' to learn more about interactive tables.';\n",
              "        element.innerHTML = '';\n",
              "        dataTable['output_type'] = 'display_data';\n",
              "        await google.colab.output.renderOutput(dataTable, element);\n",
              "        const docLink = document.createElement('div');\n",
              "        docLink.innerHTML = docLinkHtml;\n",
              "        element.appendChild(docLink);\n",
              "      }\n",
              "    </script>\n",
              "  </div>\n",
              "\n",
              "\n",
              "    <div id=\"df-ab900eb1-561a-474e-a788-48f6619fb027\">\n",
              "      <button class=\"colab-df-quickchart\" onclick=\"quickchart('df-ab900eb1-561a-474e-a788-48f6619fb027')\"\n",
              "                title=\"Suggest charts\"\n",
              "                style=\"display:none;\">\n",
              "\n",
              "<svg xmlns=\"http://www.w3.org/2000/svg\" height=\"24px\"viewBox=\"0 0 24 24\"\n",
              "     width=\"24px\">\n",
              "    <g>\n",
              "        <path d=\"M19 3H5c-1.1 0-2 .9-2 2v14c0 1.1.9 2 2 2h14c1.1 0 2-.9 2-2V5c0-1.1-.9-2-2-2zM9 17H7v-7h2v7zm4 0h-2V7h2v10zm4 0h-2v-4h2v4z\"/>\n",
              "    </g>\n",
              "</svg>\n",
              "      </button>\n",
              "\n",
              "<style>\n",
              "  .colab-df-quickchart {\n",
              "      --bg-color: #E8F0FE;\n",
              "      --fill-color: #1967D2;\n",
              "      --hover-bg-color: #E2EBFA;\n",
              "      --hover-fill-color: #174EA6;\n",
              "      --disabled-fill-color: #AAA;\n",
              "      --disabled-bg-color: #DDD;\n",
              "  }\n",
              "\n",
              "  [theme=dark] .colab-df-quickchart {\n",
              "      --bg-color: #3B4455;\n",
              "      --fill-color: #D2E3FC;\n",
              "      --hover-bg-color: #434B5C;\n",
              "      --hover-fill-color: #FFFFFF;\n",
              "      --disabled-bg-color: #3B4455;\n",
              "      --disabled-fill-color: #666;\n",
              "  }\n",
              "\n",
              "  .colab-df-quickchart {\n",
              "    background-color: var(--bg-color);\n",
              "    border: none;\n",
              "    border-radius: 50%;\n",
              "    cursor: pointer;\n",
              "    display: none;\n",
              "    fill: var(--fill-color);\n",
              "    height: 32px;\n",
              "    padding: 0;\n",
              "    width: 32px;\n",
              "  }\n",
              "\n",
              "  .colab-df-quickchart:hover {\n",
              "    background-color: var(--hover-bg-color);\n",
              "    box-shadow: 0 1px 2px rgba(60, 64, 67, 0.3), 0 1px 3px 1px rgba(60, 64, 67, 0.15);\n",
              "    fill: var(--button-hover-fill-color);\n",
              "  }\n",
              "\n",
              "  .colab-df-quickchart-complete:disabled,\n",
              "  .colab-df-quickchart-complete:disabled:hover {\n",
              "    background-color: var(--disabled-bg-color);\n",
              "    fill: var(--disabled-fill-color);\n",
              "    box-shadow: none;\n",
              "  }\n",
              "\n",
              "  .colab-df-spinner {\n",
              "    border: 2px solid var(--fill-color);\n",
              "    border-color: transparent;\n",
              "    border-bottom-color: var(--fill-color);\n",
              "    animation:\n",
              "      spin 1s steps(1) infinite;\n",
              "  }\n",
              "\n",
              "  @keyframes spin {\n",
              "    0% {\n",
              "      border-color: transparent;\n",
              "      border-bottom-color: var(--fill-color);\n",
              "      border-left-color: var(--fill-color);\n",
              "    }\n",
              "    20% {\n",
              "      border-color: transparent;\n",
              "      border-left-color: var(--fill-color);\n",
              "      border-top-color: var(--fill-color);\n",
              "    }\n",
              "    30% {\n",
              "      border-color: transparent;\n",
              "      border-left-color: var(--fill-color);\n",
              "      border-top-color: var(--fill-color);\n",
              "      border-right-color: var(--fill-color);\n",
              "    }\n",
              "    40% {\n",
              "      border-color: transparent;\n",
              "      border-right-color: var(--fill-color);\n",
              "      border-top-color: var(--fill-color);\n",
              "    }\n",
              "    60% {\n",
              "      border-color: transparent;\n",
              "      border-right-color: var(--fill-color);\n",
              "    }\n",
              "    80% {\n",
              "      border-color: transparent;\n",
              "      border-right-color: var(--fill-color);\n",
              "      border-bottom-color: var(--fill-color);\n",
              "    }\n",
              "    90% {\n",
              "      border-color: transparent;\n",
              "      border-bottom-color: var(--fill-color);\n",
              "    }\n",
              "  }\n",
              "</style>\n",
              "\n",
              "      <script>\n",
              "        async function quickchart(key) {\n",
              "          const quickchartButtonEl =\n",
              "            document.querySelector('#' + key + ' button');\n",
              "          quickchartButtonEl.disabled = true;  // To prevent multiple clicks.\n",
              "          quickchartButtonEl.classList.add('colab-df-spinner');\n",
              "          try {\n",
              "            const charts = await google.colab.kernel.invokeFunction(\n",
              "                'suggestCharts', [key], {});\n",
              "          } catch (error) {\n",
              "            console.error('Error during call to suggestCharts:', error);\n",
              "          }\n",
              "          quickchartButtonEl.classList.remove('colab-df-spinner');\n",
              "          quickchartButtonEl.classList.add('colab-df-quickchart-complete');\n",
              "        }\n",
              "        (() => {\n",
              "          let quickchartButtonEl =\n",
              "            document.querySelector('#df-ab900eb1-561a-474e-a788-48f6619fb027 button');\n",
              "          quickchartButtonEl.style.display =\n",
              "            google.colab.kernel.accessAllowed ? 'block' : 'none';\n",
              "        })();\n",
              "      </script>\n",
              "    </div>\n",
              "\n",
              "    </div>\n",
              "  </div>\n"
            ],
            "application/vnd.google.colaboratory.intrinsic+json": {
              "type": "dataframe",
              "variable_name": "filas_nulas",
              "summary": "{\n  \"name\": \"filas_nulas\",\n  \"rows\": 25552,\n  \"fields\": [\n    {\n      \"column\": \"E_PRGM_ACADEMICO\",\n      \"properties\": {\n        \"dtype\": \"category\",\n        \"num_unique_values\": 779,\n        \"samples\": [\n          \"ADMINISTRACION EN MERCADEO Y LOGISTICA INTERNACIONALES\",\n          \"LICENCIATURA EN  CIENCIAS NATURALES Y EDUCACION AMBIENTAL\",\n          \"BIBLIOTECOLOGIA\"\n        ],\n        \"semantic_type\": \"\",\n        \"description\": \"\"\n      }\n    },\n    {\n      \"column\": \"E_PRGM_DEPARTAMENTO\",\n      \"properties\": {\n        \"dtype\": \"category\",\n        \"num_unique_values\": 27,\n        \"samples\": [\n          \"NARI\\u00d1O\",\n          \"CUNDINAMARCA\",\n          \"HUILA\"\n        ],\n        \"semantic_type\": \"\",\n        \"description\": \"\"\n      }\n    },\n    {\n      \"column\": \"E_VALORMATRICULAUNIVERSIDAD\",\n      \"properties\": {\n        \"dtype\": \"category\",\n        \"num_unique_values\": 8,\n        \"samples\": [\n          \"Entre 2.5 millones y menos de 4 millones\",\n          \"M\\u00e1s de 7 millones\",\n          \"Entre 5.5 millones y menos de 7 millones\"\n        ],\n        \"semantic_type\": \"\",\n        \"description\": \"\"\n      }\n    },\n    {\n      \"column\": \"E_HORASSEMANATRABAJA\",\n      \"properties\": {\n        \"dtype\": \"category\",\n        \"num_unique_values\": 5,\n        \"samples\": [\n          \"M\\u00e1s de 30 horas\",\n          \"Entre 21 y 30 horas\",\n          \"Menos de 10 horas\"\n        ],\n        \"semantic_type\": \"\",\n        \"description\": \"\"\n      }\n    },\n    {\n      \"column\": \"F_ESTRATOVIVIENDA\",\n      \"properties\": {\n        \"dtype\": \"category\",\n        \"num_unique_values\": 7,\n        \"samples\": [\n          \"Estrato 3\",\n          \"Estrato 1\",\n          \"Estrato 4\"\n        ],\n        \"semantic_type\": \"\",\n        \"description\": \"\"\n      }\n    },\n    {\n      \"column\": \"F_TIENEINTERNET\",\n      \"properties\": {\n        \"dtype\": \"category\",\n        \"num_unique_values\": 2,\n        \"samples\": [\n          \"No\",\n          \"Si\"\n        ],\n        \"semantic_type\": \"\",\n        \"description\": \"\"\n      }\n    },\n    {\n      \"column\": \"F_EDUCACIONPADRE\",\n      \"properties\": {\n        \"dtype\": \"category\",\n        \"num_unique_values\": 12,\n        \"samples\": [\n          \"Ninguno\",\n          \"No sabe\"\n        ],\n        \"semantic_type\": \"\",\n        \"description\": \"\"\n      }\n    },\n    {\n      \"column\": \"F_TIENELAVADORA\",\n      \"properties\": {\n        \"dtype\": \"category\",\n        \"num_unique_values\": 2,\n        \"samples\": [\n          \"No\",\n          \"Si\"\n        ],\n        \"semantic_type\": \"\",\n        \"description\": \"\"\n      }\n    },\n    {\n      \"column\": \"F_TIENEAUTOMOVIL\",\n      \"properties\": {\n        \"dtype\": \"category\",\n        \"num_unique_values\": 2,\n        \"samples\": [\n          \"Si\",\n          \"No\"\n        ],\n        \"semantic_type\": \"\",\n        \"description\": \"\"\n      }\n    },\n    {\n      \"column\": \"E_PAGOMATRICULAPROPIO\",\n      \"properties\": {\n        \"dtype\": \"category\",\n        \"num_unique_values\": 2,\n        \"samples\": [\n          \"Si\",\n          \"No\"\n        ],\n        \"semantic_type\": \"\",\n        \"description\": \"\"\n      }\n    },\n    {\n      \"column\": \"F_TIENECOMPUTADOR\",\n      \"properties\": {\n        \"dtype\": \"category\",\n        \"num_unique_values\": 2,\n        \"samples\": [\n          \"No\",\n          \"Si\"\n        ],\n        \"semantic_type\": \"\",\n        \"description\": \"\"\n      }\n    },\n    {\n      \"column\": \"F_EDUCACIONMADRE\",\n      \"properties\": {\n        \"dtype\": \"category\",\n        \"num_unique_values\": 12,\n        \"samples\": [\n          \"Ninguno\",\n          \"No Aplica\"\n        ],\n        \"semantic_type\": \"\",\n        \"description\": \"\"\n      }\n    },\n    {\n      \"column\": \"RENDIMIENTO_GLOBAL\",\n      \"properties\": {\n        \"dtype\": \"category\",\n        \"num_unique_values\": 4,\n        \"samples\": [\n          \"bajo\",\n          \"alto\"\n        ],\n        \"semantic_type\": \"\",\n        \"description\": \"\"\n      }\n    },\n    {\n      \"column\": \"INDICADOR_1\",\n      \"properties\": {\n        \"dtype\": \"number\",\n        \"std\": 0.04934281863226322,\n        \"min\": 0.0,\n        \"max\": 0.656,\n        \"num_unique_values\": 285,\n        \"samples\": [\n          0.027,\n          0.532\n        ],\n        \"semantic_type\": \"\",\n        \"description\": \"\"\n      }\n    },\n    {\n      \"column\": \"INDICADOR_2\",\n      \"properties\": {\n        \"dtype\": \"number\",\n        \"std\": 0.0439291481693549,\n        \"min\": 0.0,\n        \"max\": 0.485,\n        \"num_unique_values\": 279,\n        \"samples\": [\n          0.04,\n          0.231\n        ],\n        \"semantic_type\": \"\",\n        \"description\": \"\"\n      }\n    },\n    {\n      \"column\": \"INDICADOR_3\",\n      \"properties\": {\n        \"dtype\": \"number\",\n        \"std\": 0.04153877163518681,\n        \"min\": 0.0,\n        \"max\": 0.319,\n        \"num_unique_values\": 178,\n        \"samples\": [\n          0.024,\n          0.005\n        ],\n        \"semantic_type\": \"\",\n        \"description\": \"\"\n      }\n    },\n    {\n      \"column\": \"INDICADOR_4\",\n      \"properties\": {\n        \"dtype\": \"number\",\n        \"std\": 0.04185563372440812,\n        \"min\": 0.0,\n        \"max\": 0.331,\n        \"num_unique_values\": 211,\n        \"samples\": [\n          0.041,\n          0.193\n        ],\n        \"semantic_type\": \"\",\n        \"description\": \"\"\n      }\n    }\n  ]\n}"
            }
          },
          "metadata": {},
          "execution_count": 20
        }
      ]
    },
    {
      "cell_type": "code",
      "source": [
        "print(f'Las filas que valores nulos en mas de 5 columnas, corresponde al : {round((filas_nulas.shape[0] * 100) / len(train), 3)}%')"
      ],
      "metadata": {
        "colab": {
          "base_uri": "https://localhost:8080/"
        },
        "id": "UxfiHAAqVayY",
        "outputId": "d798f9f2-b7ec-4e84-9cc5-5987c6cf3c86"
      },
      "execution_count": null,
      "outputs": [
        {
          "output_type": "stream",
          "name": "stdout",
          "text": [
            "Las filas que valores nulos en mas de 5 columnas, corresponde al : 3.69%\n"
          ]
        }
      ]
    },
    {
      "cell_type": "markdown",
      "source": [
        "Tener un registro con tal cantidad de valores nulos, requeriria una imputacion considerable de esas caracteristicas, pero supondria introducir una alta proporcion de datos sinteticos, donde se tiene el riesgo de  introducir ruido o sesgo artificial. Estos datos representan aproximadamente un 3.7% del total de los datos. Perder estos datos es un sacrificios razoble, si en cambio, mejoramos la calidad de los datos."
      ],
      "metadata": {
        "id": "ysGLN1njWnCE"
      }
    },
    {
      "cell_type": "code",
      "source": [
        "train = train.dropna(axis=0, thresh= int(len(train.columns) * 0.6))"
      ],
      "metadata": {
        "id": "J_Bg_OS7_hUf"
      },
      "execution_count": null,
      "outputs": []
    },
    {
      "cell_type": "code",
      "source": [
        "train.shape"
      ],
      "metadata": {
        "colab": {
          "base_uri": "https://localhost:8080/"
        },
        "id": "AtESZNSkACf-",
        "outputId": "279806d4-fa34-4f68-fcc9-3ef511b03292"
      },
      "execution_count": null,
      "outputs": [
        {
          "output_type": "execute_result",
          "data": {
            "text/plain": [
              "(671681, 17)"
            ]
          },
          "metadata": {},
          "execution_count": 23
        }
      ]
    },
    {
      "cell_type": "code",
      "source": [
        "(train.isnull().mean() * 100).sort_values(ascending=False).head(11)"
      ],
      "metadata": {
        "colab": {
          "base_uri": "https://localhost:8080/",
          "height": 467
        },
        "id": "MXeC__LilGE_",
        "outputId": "722e1107-aaae-4182-ff97-ddd75cc7cf52"
      },
      "execution_count": null,
      "outputs": [
        {
          "output_type": "execute_result",
          "data": {
            "text/plain": [
              "F_TIENEAUTOMOVIL               3.395064\n",
              "F_TIENELAVADORA                2.821875\n",
              "F_TIENECOMPUTADOR              2.573245\n",
              "F_ESTRATOVIVIENDA              1.685026\n",
              "E_HORASSEMANATRABAJA           1.494906\n",
              "F_TIENEINTERNET                0.864994\n",
              "E_PAGOMATRICULAPROPIO          0.715518\n",
              "E_VALORMATRICULAUNIVERSIDAD    0.685296\n",
              "F_EDUCACIONMADRE               0.428775\n",
              "F_EDUCACIONPADRE               0.357461\n",
              "E_PRGM_ACADEMICO               0.000000\n",
              "dtype: float64"
            ],
            "text/html": [
              "<div>\n",
              "<style scoped>\n",
              "    .dataframe tbody tr th:only-of-type {\n",
              "        vertical-align: middle;\n",
              "    }\n",
              "\n",
              "    .dataframe tbody tr th {\n",
              "        vertical-align: top;\n",
              "    }\n",
              "\n",
              "    .dataframe thead th {\n",
              "        text-align: right;\n",
              "    }\n",
              "</style>\n",
              "<table border=\"1\" class=\"dataframe\">\n",
              "  <thead>\n",
              "    <tr style=\"text-align: right;\">\n",
              "      <th></th>\n",
              "      <th>0</th>\n",
              "    </tr>\n",
              "  </thead>\n",
              "  <tbody>\n",
              "    <tr>\n",
              "      <th>F_TIENEAUTOMOVIL</th>\n",
              "      <td>3.395064</td>\n",
              "    </tr>\n",
              "    <tr>\n",
              "      <th>F_TIENELAVADORA</th>\n",
              "      <td>2.821875</td>\n",
              "    </tr>\n",
              "    <tr>\n",
              "      <th>F_TIENECOMPUTADOR</th>\n",
              "      <td>2.573245</td>\n",
              "    </tr>\n",
              "    <tr>\n",
              "      <th>F_ESTRATOVIVIENDA</th>\n",
              "      <td>1.685026</td>\n",
              "    </tr>\n",
              "    <tr>\n",
              "      <th>E_HORASSEMANATRABAJA</th>\n",
              "      <td>1.494906</td>\n",
              "    </tr>\n",
              "    <tr>\n",
              "      <th>F_TIENEINTERNET</th>\n",
              "      <td>0.864994</td>\n",
              "    </tr>\n",
              "    <tr>\n",
              "      <th>E_PAGOMATRICULAPROPIO</th>\n",
              "      <td>0.715518</td>\n",
              "    </tr>\n",
              "    <tr>\n",
              "      <th>E_VALORMATRICULAUNIVERSIDAD</th>\n",
              "      <td>0.685296</td>\n",
              "    </tr>\n",
              "    <tr>\n",
              "      <th>F_EDUCACIONMADRE</th>\n",
              "      <td>0.428775</td>\n",
              "    </tr>\n",
              "    <tr>\n",
              "      <th>F_EDUCACIONPADRE</th>\n",
              "      <td>0.357461</td>\n",
              "    </tr>\n",
              "    <tr>\n",
              "      <th>E_PRGM_ACADEMICO</th>\n",
              "      <td>0.000000</td>\n",
              "    </tr>\n",
              "  </tbody>\n",
              "</table>\n",
              "</div><br><label><b>dtype:</b> float64</label>"
            ]
          },
          "metadata": {},
          "execution_count": 24
        }
      ]
    },
    {
      "cell_type": "code",
      "source": [
        "print('% de valores nulos para: E_VALORMATRICULAUNIVERSIDAD', (train['E_VALORMATRICULAUNIVERSIDAD'].isnull().mean()*100).round(3))\n",
        "print('% de valores nulos para: E_PAGOMATRICULAPROPIO', (train['E_PAGOMATRICULAPROPIO'].isnull().mean()*100).round(3))"
      ],
      "metadata": {
        "colab": {
          "base_uri": "https://localhost:8080/"
        },
        "id": "9y_M5DCNOKHt",
        "outputId": "19359034-1c8d-4ab5-c23b-a48059e320a8"
      },
      "execution_count": null,
      "outputs": [
        {
          "output_type": "stream",
          "name": "stdout",
          "text": [
            "% de valores nulos para: E_VALORMATRICULAUNIVERSIDAD 0.685\n",
            "% de valores nulos para: E_PAGOMATRICULAPROPIO 0.716\n"
          ]
        }
      ]
    },
    {
      "cell_type": "markdown",
      "source": [
        "`E_VALORMATRICULAUNIVERSIDAD` y `E_PAGOMATRICULAPROPIO` con datos faltantes, corresponde a menos del 0.7% y 0.72% de los datos respectivamente. Una buena opción es eliminar dichas filas."
      ],
      "metadata": {
        "id": "PwMQDFH9PIk7"
      }
    },
    {
      "cell_type": "code",
      "source": [
        "filas_previas = train.shape[0]\n",
        "train.dropna(subset=['E_VALORMATRICULAUNIVERSIDAD', 'E_PAGOMATRICULAPROPIO'], inplace=True)\n",
        "filas_eliminadas = filas_previas - train.shape[0]\n",
        "print(\"Filas eliminadas\", filas_eliminadas, \"correspondiente al\", round(((filas_eliminadas * 100) / filas_previas), 3), \"% del total de los datos\")"
      ],
      "metadata": {
        "colab": {
          "base_uri": "https://localhost:8080/"
        },
        "id": "So0jkpU_ZHPx",
        "outputId": "c2b72638-85c9-40e5-e2d0-24839c6f1a31"
      },
      "execution_count": null,
      "outputs": [
        {
          "output_type": "stream",
          "name": "stdout",
          "text": [
            "Filas eliminadas 4806 correspondiente al 0.716 % del total de los datos\n"
          ]
        }
      ]
    },
    {
      "cell_type": "code",
      "source": [
        "train.shape"
      ],
      "metadata": {
        "colab": {
          "base_uri": "https://localhost:8080/"
        },
        "id": "vmUJXMDuZAuN",
        "outputId": "cfb22246-f4f7-485b-c1c7-fbbbd13b64e0"
      },
      "execution_count": null,
      "outputs": [
        {
          "output_type": "execute_result",
          "data": {
            "text/plain": [
              "(666875, 17)"
            ]
          },
          "metadata": {},
          "execution_count": 27
        }
      ]
    },
    {
      "cell_type": "code",
      "source": [
        "(train.isnull().mean() * 100).sort_values(ascending=False).head(11)"
      ],
      "metadata": {
        "colab": {
          "base_uri": "https://localhost:8080/",
          "height": 467
        },
        "id": "bWfbagTrZGc1",
        "outputId": "060b56a6-3703-43fe-a6a8-a041a88f2cca"
      },
      "execution_count": null,
      "outputs": [
        {
          "output_type": "execute_result",
          "data": {
            "text/plain": [
              "F_TIENEAUTOMOVIL               3.408135\n",
              "F_TIENELAVADORA                2.832465\n",
              "F_TIENECOMPUTADOR              2.583393\n",
              "F_ESTRATOVIVIENDA              1.690122\n",
              "E_HORASSEMANATRABAJA           1.496832\n",
              "F_TIENEINTERNET                0.868978\n",
              "F_EDUCACIONMADRE               0.430216\n",
              "F_EDUCACIONPADRE               0.357638\n",
              "E_PRGM_ACADEMICO               0.000000\n",
              "E_VALORMATRICULAUNIVERSIDAD    0.000000\n",
              "E_PRGM_DEPARTAMENTO            0.000000\n",
              "dtype: float64"
            ],
            "text/html": [
              "<div>\n",
              "<style scoped>\n",
              "    .dataframe tbody tr th:only-of-type {\n",
              "        vertical-align: middle;\n",
              "    }\n",
              "\n",
              "    .dataframe tbody tr th {\n",
              "        vertical-align: top;\n",
              "    }\n",
              "\n",
              "    .dataframe thead th {\n",
              "        text-align: right;\n",
              "    }\n",
              "</style>\n",
              "<table border=\"1\" class=\"dataframe\">\n",
              "  <thead>\n",
              "    <tr style=\"text-align: right;\">\n",
              "      <th></th>\n",
              "      <th>0</th>\n",
              "    </tr>\n",
              "  </thead>\n",
              "  <tbody>\n",
              "    <tr>\n",
              "      <th>F_TIENEAUTOMOVIL</th>\n",
              "      <td>3.408135</td>\n",
              "    </tr>\n",
              "    <tr>\n",
              "      <th>F_TIENELAVADORA</th>\n",
              "      <td>2.832465</td>\n",
              "    </tr>\n",
              "    <tr>\n",
              "      <th>F_TIENECOMPUTADOR</th>\n",
              "      <td>2.583393</td>\n",
              "    </tr>\n",
              "    <tr>\n",
              "      <th>F_ESTRATOVIVIENDA</th>\n",
              "      <td>1.690122</td>\n",
              "    </tr>\n",
              "    <tr>\n",
              "      <th>E_HORASSEMANATRABAJA</th>\n",
              "      <td>1.496832</td>\n",
              "    </tr>\n",
              "    <tr>\n",
              "      <th>F_TIENEINTERNET</th>\n",
              "      <td>0.868978</td>\n",
              "    </tr>\n",
              "    <tr>\n",
              "      <th>F_EDUCACIONMADRE</th>\n",
              "      <td>0.430216</td>\n",
              "    </tr>\n",
              "    <tr>\n",
              "      <th>F_EDUCACIONPADRE</th>\n",
              "      <td>0.357638</td>\n",
              "    </tr>\n",
              "    <tr>\n",
              "      <th>E_PRGM_ACADEMICO</th>\n",
              "      <td>0.000000</td>\n",
              "    </tr>\n",
              "    <tr>\n",
              "      <th>E_VALORMATRICULAUNIVERSIDAD</th>\n",
              "      <td>0.000000</td>\n",
              "    </tr>\n",
              "    <tr>\n",
              "      <th>E_PRGM_DEPARTAMENTO</th>\n",
              "      <td>0.000000</td>\n",
              "    </tr>\n",
              "  </tbody>\n",
              "</table>\n",
              "</div><br><label><b>dtype:</b> float64</label>"
            ]
          },
          "metadata": {},
          "execution_count": 28
        }
      ]
    },
    {
      "cell_type": "markdown",
      "source": [
        "Remplazamos los Null en `F_ESTRATOVIVIENDA`, `F_TIENEINTERNET`, `F_TIENECOMPUTADOR`, `F_TIENELAVADORA`, `F_TIENEAUTOMOVIL`, por los valores mas frecuentes"
      ],
      "metadata": {
        "id": "DoUoEH-ekU4O"
      }
    },
    {
      "cell_type": "code",
      "source": [
        "imputer = SimpleImputer(strategy='most_frequent')\n",
        "train['F_ESTRATOVIVIENDA'] = imputer.fit_transform(train[['F_ESTRATOVIVIENDA']])[:, 0]\n",
        "train['F_TIENEINTERNET'] = imputer.fit_transform(train[['F_TIENEINTERNET']])[:, 0]\n",
        "train['F_TIENECOMPUTADOR'] = imputer.fit_transform(train[['F_TIENECOMPUTADOR']])[:, 0]\n",
        "train['F_TIENELAVADORA'] = imputer.fit_transform(train[['F_TIENELAVADORA']])[:, 0]\n",
        "train['F_TIENEAUTOMOVIL'] = imputer.fit_transform(train[['F_TIENEAUTOMOVIL']])[:, 0]"
      ],
      "metadata": {
        "id": "SfWkREYPYlf0"
      },
      "execution_count": null,
      "outputs": []
    },
    {
      "cell_type": "markdown",
      "source": [
        "Se parte de la suposición de que el estrato socioeconómico tiene relación con el nivel educativo de los padres.\n",
        "\n",
        "Por cada valor nulo de `F_EDUCACIONPADRE` o `F_EDUCACIONMADRE`, se agrupa por el estrato. Luego para cada grupo se calcula su valor mas frecuente, con este valor se remplaza los valores nulos, dentro de cada estrato."
      ],
      "metadata": {
        "id": "w_fIEMndpHMQ"
      }
    },
    {
      "cell_type": "code",
      "source": [
        "train['F_EDUCACIONPADRE'] = train.groupby('F_ESTRATOVIVIENDA')['F_EDUCACIONPADRE'].transform(lambda x: x.fillna(x.mode()[0]))\n",
        "train['F_EDUCACIONMADRE'] = train.groupby('F_ESTRATOVIVIENDA')['F_EDUCACIONMADRE'].transform(lambda x: x.fillna(x.mode()[0]))"
      ],
      "metadata": {
        "id": "BftnyDzkpHma"
      },
      "execution_count": null,
      "outputs": []
    },
    {
      "cell_type": "markdown",
      "source": [
        "Comprueba el numero de datos nulos y en que columnas"
      ],
      "metadata": {
        "id": "Wp7aC0f1dH68"
      }
    },
    {
      "cell_type": "code",
      "source": [
        "train.isnull().sum()"
      ],
      "metadata": {
        "colab": {
          "base_uri": "https://localhost:8080/",
          "height": 655
        },
        "id": "P3EKSWigb1Z4",
        "outputId": "102581ff-7c5b-4769-f898-f2ff2f191dd5"
      },
      "execution_count": null,
      "outputs": [
        {
          "output_type": "execute_result",
          "data": {
            "text/plain": [
              "E_PRGM_ACADEMICO                  0\n",
              "E_PRGM_DEPARTAMENTO               0\n",
              "E_VALORMATRICULAUNIVERSIDAD       0\n",
              "E_HORASSEMANATRABAJA           9982\n",
              "F_ESTRATOVIVIENDA                 0\n",
              "F_TIENEINTERNET                   0\n",
              "F_EDUCACIONPADRE                  0\n",
              "F_TIENELAVADORA                   0\n",
              "F_TIENEAUTOMOVIL                  0\n",
              "E_PAGOMATRICULAPROPIO             0\n",
              "F_TIENECOMPUTADOR                 0\n",
              "F_EDUCACIONMADRE                  0\n",
              "RENDIMIENTO_GLOBAL                0\n",
              "INDICADOR_1                       0\n",
              "INDICADOR_2                       0\n",
              "INDICADOR_3                       0\n",
              "INDICADOR_4                       0\n",
              "dtype: int64"
            ],
            "text/html": [
              "<div>\n",
              "<style scoped>\n",
              "    .dataframe tbody tr th:only-of-type {\n",
              "        vertical-align: middle;\n",
              "    }\n",
              "\n",
              "    .dataframe tbody tr th {\n",
              "        vertical-align: top;\n",
              "    }\n",
              "\n",
              "    .dataframe thead th {\n",
              "        text-align: right;\n",
              "    }\n",
              "</style>\n",
              "<table border=\"1\" class=\"dataframe\">\n",
              "  <thead>\n",
              "    <tr style=\"text-align: right;\">\n",
              "      <th></th>\n",
              "      <th>0</th>\n",
              "    </tr>\n",
              "  </thead>\n",
              "  <tbody>\n",
              "    <tr>\n",
              "      <th>E_PRGM_ACADEMICO</th>\n",
              "      <td>0</td>\n",
              "    </tr>\n",
              "    <tr>\n",
              "      <th>E_PRGM_DEPARTAMENTO</th>\n",
              "      <td>0</td>\n",
              "    </tr>\n",
              "    <tr>\n",
              "      <th>E_VALORMATRICULAUNIVERSIDAD</th>\n",
              "      <td>0</td>\n",
              "    </tr>\n",
              "    <tr>\n",
              "      <th>E_HORASSEMANATRABAJA</th>\n",
              "      <td>9982</td>\n",
              "    </tr>\n",
              "    <tr>\n",
              "      <th>F_ESTRATOVIVIENDA</th>\n",
              "      <td>0</td>\n",
              "    </tr>\n",
              "    <tr>\n",
              "      <th>F_TIENEINTERNET</th>\n",
              "      <td>0</td>\n",
              "    </tr>\n",
              "    <tr>\n",
              "      <th>F_EDUCACIONPADRE</th>\n",
              "      <td>0</td>\n",
              "    </tr>\n",
              "    <tr>\n",
              "      <th>F_TIENELAVADORA</th>\n",
              "      <td>0</td>\n",
              "    </tr>\n",
              "    <tr>\n",
              "      <th>F_TIENEAUTOMOVIL</th>\n",
              "      <td>0</td>\n",
              "    </tr>\n",
              "    <tr>\n",
              "      <th>E_PAGOMATRICULAPROPIO</th>\n",
              "      <td>0</td>\n",
              "    </tr>\n",
              "    <tr>\n",
              "      <th>F_TIENECOMPUTADOR</th>\n",
              "      <td>0</td>\n",
              "    </tr>\n",
              "    <tr>\n",
              "      <th>F_EDUCACIONMADRE</th>\n",
              "      <td>0</td>\n",
              "    </tr>\n",
              "    <tr>\n",
              "      <th>RENDIMIENTO_GLOBAL</th>\n",
              "      <td>0</td>\n",
              "    </tr>\n",
              "    <tr>\n",
              "      <th>INDICADOR_1</th>\n",
              "      <td>0</td>\n",
              "    </tr>\n",
              "    <tr>\n",
              "      <th>INDICADOR_2</th>\n",
              "      <td>0</td>\n",
              "    </tr>\n",
              "    <tr>\n",
              "      <th>INDICADOR_3</th>\n",
              "      <td>0</td>\n",
              "    </tr>\n",
              "    <tr>\n",
              "      <th>INDICADOR_4</th>\n",
              "      <td>0</td>\n",
              "    </tr>\n",
              "  </tbody>\n",
              "</table>\n",
              "</div><br><label><b>dtype:</b> int64</label>"
            ]
          },
          "metadata": {},
          "execution_count": 31
        }
      ]
    },
    {
      "cell_type": "markdown",
      "source": [
        "Aun queda una columna por eliminar los valores nulos, `E_HORASSEMANATRABAJA`\n",
        "\n",
        "En la siguiete celda, se comprueba cuantos valores hay y de que tipo"
      ],
      "metadata": {
        "id": "z898PbLkdof9"
      }
    },
    {
      "cell_type": "code",
      "source": [
        "train['E_HORASSEMANATRABAJA'].value_counts(dropna=False)"
      ],
      "metadata": {
        "colab": {
          "base_uri": "https://localhost:8080/",
          "height": 341
        },
        "id": "hL_67nDidPrK",
        "outputId": "cf62f7ad-767d-4c05-ec4b-c4358e8f58f6"
      },
      "execution_count": null,
      "outputs": [
        {
          "output_type": "execute_result",
          "data": {
            "text/plain": [
              "E_HORASSEMANATRABAJA\n",
              "Más de 30 horas        247704\n",
              "0                      115521\n",
              "Entre 11 y 20 horas    115044\n",
              "Entre 21 y 30 horas     91987\n",
              "Menos de 10 horas       86637\n",
              "NaN                      9982\n",
              "Name: count, dtype: int64"
            ],
            "text/html": [
              "<div>\n",
              "<style scoped>\n",
              "    .dataframe tbody tr th:only-of-type {\n",
              "        vertical-align: middle;\n",
              "    }\n",
              "\n",
              "    .dataframe tbody tr th {\n",
              "        vertical-align: top;\n",
              "    }\n",
              "\n",
              "    .dataframe thead th {\n",
              "        text-align: right;\n",
              "    }\n",
              "</style>\n",
              "<table border=\"1\" class=\"dataframe\">\n",
              "  <thead>\n",
              "    <tr style=\"text-align: right;\">\n",
              "      <th></th>\n",
              "      <th>count</th>\n",
              "    </tr>\n",
              "    <tr>\n",
              "      <th>E_HORASSEMANATRABAJA</th>\n",
              "      <th></th>\n",
              "    </tr>\n",
              "  </thead>\n",
              "  <tbody>\n",
              "    <tr>\n",
              "      <th>Más de 30 horas</th>\n",
              "      <td>247704</td>\n",
              "    </tr>\n",
              "    <tr>\n",
              "      <th>0</th>\n",
              "      <td>115521</td>\n",
              "    </tr>\n",
              "    <tr>\n",
              "      <th>Entre 11 y 20 horas</th>\n",
              "      <td>115044</td>\n",
              "    </tr>\n",
              "    <tr>\n",
              "      <th>Entre 21 y 30 horas</th>\n",
              "      <td>91987</td>\n",
              "    </tr>\n",
              "    <tr>\n",
              "      <th>Menos de 10 horas</th>\n",
              "      <td>86637</td>\n",
              "    </tr>\n",
              "    <tr>\n",
              "      <th>NaN</th>\n",
              "      <td>9982</td>\n",
              "    </tr>\n",
              "  </tbody>\n",
              "</table>\n",
              "</div><br><label><b>dtype:</b> int64</label>"
            ]
          },
          "metadata": {},
          "execution_count": 32
        }
      ]
    },
    {
      "cell_type": "code",
      "source": [
        "train['E_HORASSEMANATRABAJA'].value_counts(dropna=False).plot(kind='barh')"
      ],
      "metadata": {
        "colab": {
          "base_uri": "https://localhost:8080/",
          "height": 91
        },
        "id": "3FOW2Edve9Bt",
        "outputId": "b79bf52c-e0dc-4404-a9e4-83a3800cc6f4"
      },
      "execution_count": null,
      "outputs": [
        {
          "output_type": "execute_result",
          "data": {
            "text/plain": [
              "<Axes: ylabel='E_HORASSEMANATRABAJA'>"
            ]
          },
          "metadata": {},
          "execution_count": 33
        },
        {
          "output_type": "display_data",
          "data": {
            "text/plain": [
              "<Figure size 640x480 with 1 Axes>"
            ],
            "image/png": "[encoded data removed]"
          },
          "metadata": {}
        }
      ]
    },
    {
      "cell_type": "markdown",
      "source": [
        "Convierte la columna `E_HORASSEMANATRABAJA` de categorica a numerica"
      ],
      "metadata": {
        "id": "N7EfEloNg5Z5"
      }
    },
    {
      "cell_type": "code",
      "source": [
        "train['E_HORASSEMANATRABAJA'] = train['E_HORASSEMANATRABAJA'].map({'0': 0, 'Menos de 10 horas': 9, 'Entre 11 y 20 horas': 15.5, 'Entre 21 y 30 horas': 25.5, 'Más de 30 horas': 31})"
      ],
      "metadata": {
        "id": "gszjkVN8g7-G"
      },
      "execution_count": null,
      "outputs": []
    },
    {
      "cell_type": "markdown",
      "source": [
        "A los valores nulos, les asignamos la media"
      ],
      "metadata": {
        "id": "_z2LRRF7fUfB"
      }
    },
    {
      "cell_type": "code",
      "source": [
        "train['E_HORASSEMANATRABAJA'] = train['E_HORASSEMANATRABAJA'].fillna((train['E_HORASSEMANATRABAJA'].mean()).round(3))"
      ],
      "metadata": {
        "id": "pcElPiE2itDi"
      },
      "execution_count": null,
      "outputs": []
    },
    {
      "cell_type": "code",
      "source": [
        "train['E_HORASSEMANATRABAJA'].value_counts()"
      ],
      "metadata": {
        "colab": {
          "base_uri": "https://localhost:8080/",
          "height": 341
        },
        "id": "hl5-DwBcfhxJ",
        "outputId": "c23e9ccf-229b-48f5-b162-670eef2da6c4"
      },
      "execution_count": null,
      "outputs": [
        {
          "output_type": "execute_result",
          "data": {
            "text/plain": [
              "E_HORASSEMANATRABAJA\n",
              "31.000    247704\n",
              "0.000     115521\n",
              "15.500    115044\n",
              "25.500     91987\n",
              "9.000      86637\n",
              "19.162      9982\n",
              "Name: count, dtype: int64"
            ],
            "text/html": [
              "<div>\n",
              "<style scoped>\n",
              "    .dataframe tbody tr th:only-of-type {\n",
              "        vertical-align: middle;\n",
              "    }\n",
              "\n",
              "    .dataframe tbody tr th {\n",
              "        vertical-align: top;\n",
              "    }\n",
              "\n",
              "    .dataframe thead th {\n",
              "        text-align: right;\n",
              "    }\n",
              "</style>\n",
              "<table border=\"1\" class=\"dataframe\">\n",
              "  <thead>\n",
              "    <tr style=\"text-align: right;\">\n",
              "      <th></th>\n",
              "      <th>count</th>\n",
              "    </tr>\n",
              "    <tr>\n",
              "      <th>E_HORASSEMANATRABAJA</th>\n",
              "      <th></th>\n",
              "    </tr>\n",
              "  </thead>\n",
              "  <tbody>\n",
              "    <tr>\n",
              "      <th>31.000</th>\n",
              "      <td>247704</td>\n",
              "    </tr>\n",
              "    <tr>\n",
              "      <th>0.000</th>\n",
              "      <td>115521</td>\n",
              "    </tr>\n",
              "    <tr>\n",
              "      <th>15.500</th>\n",
              "      <td>115044</td>\n",
              "    </tr>\n",
              "    <tr>\n",
              "      <th>25.500</th>\n",
              "      <td>91987</td>\n",
              "    </tr>\n",
              "    <tr>\n",
              "      <th>9.000</th>\n",
              "      <td>86637</td>\n",
              "    </tr>\n",
              "    <tr>\n",
              "      <th>19.162</th>\n",
              "      <td>9982</td>\n",
              "    </tr>\n",
              "  </tbody>\n",
              "</table>\n",
              "</div><br><label><b>dtype:</b> int64</label>"
            ]
          },
          "metadata": {},
          "execution_count": 36
        }
      ]
    },
    {
      "cell_type": "code",
      "source": [
        "train['E_HORASSEMANATRABAJA'].value_counts(dropna=False).plot(kind='barh')"
      ],
      "metadata": {
        "colab": {
          "base_uri": "https://localhost:8080/",
          "height": 91
        },
        "id": "8eOJF5myiZsn",
        "outputId": "0fdb76c2-6dcb-41dc-c704-80844d9ab735"
      },
      "execution_count": null,
      "outputs": [
        {
          "output_type": "execute_result",
          "data": {
            "text/plain": [
              "<Axes: ylabel='E_HORASSEMANATRABAJA'>"
            ]
          },
          "metadata": {},
          "execution_count": 37
        },
        {
          "output_type": "display_data",
          "data": {
            "text/plain": [
              "<Figure size 640x480 with 1 Axes>"
            ],
            "image/png": "[encoded data removed]"
          },
          "metadata": {}
        }
      ]
    },
    {
      "cell_type": "markdown",
      "source": [
        "Comprueba que todas las columnas tienen igual cantidad de datos"
      ],
      "metadata": {
        "id": "Sg3L854rjQZ9"
      }
    },
    {
      "cell_type": "code",
      "source": [
        "train.info()"
      ],
      "metadata": {
        "colab": {
          "base_uri": "https://localhost:8080/"
        },
        "id": "IHaP_PSRjNRO",
        "outputId": "5dc4bf05-763c-4aa9-f334-33763e5733a5"
      },
      "execution_count": null,
      "outputs": [
        {
          "output_type": "stream",
          "name": "stdout",
          "text": [
            "<class 'pandas.core.frame.DataFrame'>\n",
            "Index: 666875 entries, 0 to 692499\n",
            "Data columns (total 17 columns):\n",
            " #   Column                       Non-Null Count   Dtype  \n",
            "---  ------                       --------------   -----  \n",
            " 0   E_PRGM_ACADEMICO             666875 non-null  object \n",
            " 1   E_PRGM_DEPARTAMENTO          666875 non-null  object \n",
            " 2   E_VALORMATRICULAUNIVERSIDAD  666875 non-null  object \n",
            " 3   E_HORASSEMANATRABAJA         666875 non-null  float64\n",
            " 4   F_ESTRATOVIVIENDA            666875 non-null  object \n",
            " 5   F_TIENEINTERNET              666875 non-null  object \n",
            " 6   F_EDUCACIONPADRE             666875 non-null  object \n",
            " 7   F_TIENELAVADORA              666875 non-null  object \n",
            " 8   F_TIENEAUTOMOVIL             666875 non-null  object \n",
            " 9   E_PAGOMATRICULAPROPIO        666875 non-null  object \n",
            " 10  F_TIENECOMPUTADOR            666875 non-null  object \n",
            " 11  F_EDUCACIONMADRE             666875 non-null  object \n",
            " 12  RENDIMIENTO_GLOBAL           666875 non-null  object \n",
            " 13  INDICADOR_1                  666875 non-null  float64\n",
            " 14  INDICADOR_2                  666875 non-null  float64\n",
            " 15  INDICADOR_3                  666875 non-null  float64\n",
            " 16  INDICADOR_4                  666875 non-null  float64\n",
            "dtypes: float64(5), object(12)\n",
            "memory usage: 91.6+ MB\n"
          ]
        }
      ]
    },
    {
      "cell_type": "markdown",
      "source": [
        "### Agrupación de valores"
      ],
      "metadata": {
        "id": "vbb69_iXK82q"
      }
    },
    {
      "cell_type": "code",
      "source": [
        "for col in train.columns:\n",
        "  print(f'Columna {col}: {train[col].nunique()} valores unicos')"
      ],
      "metadata": {
        "colab": {
          "base_uri": "https://localhost:8080/"
        },
        "id": "hbqv9zNXbxpi",
        "outputId": "2fbb8609-75b4-4d9e-8136-464ba8a2fe95"
      },
      "execution_count": null,
      "outputs": [
        {
          "output_type": "stream",
          "name": "stdout",
          "text": [
            "Columna E_PRGM_ACADEMICO: 941 valores unicos\n",
            "Columna E_PRGM_DEPARTAMENTO: 31 valores unicos\n",
            "Columna E_VALORMATRICULAUNIVERSIDAD: 8 valores unicos\n",
            "Columna E_HORASSEMANATRABAJA: 6 valores unicos\n",
            "Columna F_ESTRATOVIVIENDA: 7 valores unicos\n",
            "Columna F_TIENEINTERNET: 2 valores unicos\n",
            "Columna F_EDUCACIONPADRE: 12 valores unicos\n",
            "Columna F_TIENELAVADORA: 2 valores unicos\n",
            "Columna F_TIENEAUTOMOVIL: 2 valores unicos\n",
            "Columna E_PAGOMATRICULAPROPIO: 2 valores unicos\n",
            "Columna F_TIENECOMPUTADOR: 2 valores unicos\n",
            "Columna F_EDUCACIONMADRE: 12 valores unicos\n",
            "Columna RENDIMIENTO_GLOBAL: 4 valores unicos\n",
            "Columna INDICADOR_1: 375 valores unicos\n",
            "Columna INDICADOR_2: 342 valores unicos\n",
            "Columna INDICADOR_3: 196 valores unicos\n",
            "Columna INDICADOR_4: 276 valores unicos\n"
          ]
        }
      ]
    },
    {
      "cell_type": "code",
      "source": [
        "train['E_PRGM_DEPARTAMENTO'].unique()"
      ],
      "metadata": {
        "colab": {
          "base_uri": "https://localhost:8080/"
        },
        "id": "rdbUy5lki7gP",
        "outputId": "5a988cec-8091-4452-c629-89d6592676ea"
      },
      "execution_count": null,
      "outputs": [
        {
          "output_type": "execute_result",
          "data": {
            "text/plain": [
              "array(['BOGOTÁ', 'ATLANTICO', 'SANTANDER', 'ANTIOQUIA', 'HUILA', 'SUCRE',\n",
              "       'CAQUETA', 'CUNDINAMARCA', 'BOLIVAR', 'TOLIMA', 'VALLE', 'QUINDIO',\n",
              "       'RISARALDA', 'CORDOBA', 'META', 'LA GUAJIRA', 'BOYACA', 'NARIÑO',\n",
              "       'CAUCA', 'NORTE SANTANDER', 'CESAR', 'PUTUMAYO', 'CALDAS',\n",
              "       'MAGDALENA', 'CHOCO', 'CASANARE', 'ARAUCA', 'GUAVIARE', 'AMAZONAS',\n",
              "       'VAUPES', 'SAN ANDRES'], dtype=object)"
            ]
          },
          "metadata": {},
          "execution_count": 40
        }
      ]
    },
    {
      "cell_type": "code",
      "source": [
        "train['E_VALORMATRICULAUNIVERSIDAD'].unique()"
      ],
      "metadata": {
        "colab": {
          "base_uri": "https://localhost:8080/"
        },
        "id": "zokfHHrnkjKf",
        "outputId": "4bfe082f-14be-432d-89dd-bde387e7d121"
      },
      "execution_count": null,
      "outputs": [
        {
          "output_type": "execute_result",
          "data": {
            "text/plain": [
              "array(['Entre 5.5 millones y menos de 7 millones',\n",
              "       'Entre 2.5 millones y menos de 4 millones',\n",
              "       'Entre 4 millones y menos de 5.5 millones', 'Más de 7 millones',\n",
              "       'Entre 1 millón y menos de 2.5 millones',\n",
              "       'Entre 500 mil y menos de 1 millón', 'Menos de 500 mil',\n",
              "       'No pagó matrícula'], dtype=object)"
            ]
          },
          "metadata": {},
          "execution_count": 41
        }
      ]
    },
    {
      "cell_type": "code",
      "source": [
        "train['E_HORASSEMANATRABAJA'].unique()"
      ],
      "metadata": {
        "colab": {
          "base_uri": "https://localhost:8080/"
        },
        "id": "rM239RAjkunH",
        "outputId": "8b009dc4-8e79-4889-86b6-c8346eff712b"
      },
      "execution_count": null,
      "outputs": [
        {
          "output_type": "execute_result",
          "data": {
            "text/plain": [
              "array([ 9.   ,  0.   , 31.   , 25.5  , 15.5  , 19.162])"
            ]
          },
          "metadata": {},
          "execution_count": 42
        }
      ]
    },
    {
      "cell_type": "code",
      "source": [
        "train['F_ESTRATOVIVIENDA'].unique()"
      ],
      "metadata": {
        "colab": {
          "base_uri": "https://localhost:8080/"
        },
        "id": "v9QBNn8kk1r4",
        "outputId": "b900275f-e3d0-4d47-d70e-f94c5ede3be0"
      },
      "execution_count": null,
      "outputs": [
        {
          "output_type": "execute_result",
          "data": {
            "text/plain": [
              "array(['Estrato 3', 'Estrato 4', 'Estrato 5', 'Estrato 2', 'Estrato 1',\n",
              "       'Estrato 6', 'Sin Estrato'], dtype=object)"
            ]
          },
          "metadata": {},
          "execution_count": 43
        }
      ]
    },
    {
      "cell_type": "code",
      "source": [
        "train['F_EDUCACIONPADRE'].unique()"
      ],
      "metadata": {
        "colab": {
          "base_uri": "https://localhost:8080/"
        },
        "id": "qqc0n-d4k7lw",
        "outputId": "5b0169dc-2e7d-49ed-fd87-bc0933be05d8"
      },
      "execution_count": null,
      "outputs": [
        {
          "output_type": "execute_result",
          "data": {
            "text/plain": [
              "array(['Técnica o tecnológica incompleta',\n",
              "       'Técnica o tecnológica completa',\n",
              "       'Secundaria (Bachillerato) completa', 'No sabe',\n",
              "       'Primaria completa', 'Educación profesional completa',\n",
              "       'Educación profesional incompleta', 'Primaria incompleta',\n",
              "       'Postgrado', 'Secundaria (Bachillerato) incompleta', 'Ninguno',\n",
              "       'No Aplica'], dtype=object)"
            ]
          },
          "metadata": {},
          "execution_count": 44
        }
      ]
    },
    {
      "cell_type": "code",
      "source": [
        "train['F_EDUCACIONMADRE'].unique()"
      ],
      "metadata": {
        "colab": {
          "base_uri": "https://localhost:8080/"
        },
        "id": "1yD5N0Jok9zQ",
        "outputId": "8e6be0bb-e7d5-4c7a-b39e-e4316018f386"
      },
      "execution_count": null,
      "outputs": [
        {
          "output_type": "execute_result",
          "data": {
            "text/plain": [
              "array(['Postgrado', 'Técnica o tecnológica incompleta',\n",
              "       'Secundaria (Bachillerato) completa', 'Primaria completa',\n",
              "       'Técnica o tecnológica completa',\n",
              "       'Secundaria (Bachillerato) incompleta',\n",
              "       'Educación profesional incompleta',\n",
              "       'Educación profesional completa', 'Primaria incompleta', 'Ninguno',\n",
              "       'No Aplica', 'No sabe'], dtype=object)"
            ]
          },
          "metadata": {},
          "execution_count": 45
        }
      ]
    },
    {
      "cell_type": "markdown",
      "source": [
        "`E_PRGM_ACADEMICO` tiene una gran catidad de valores unicos.\n",
        "\n",
        "Se obtienen, unos cuantos, ordenados alfabeticamente, para detectar anomalias"
      ],
      "metadata": {
        "id": "KmseKfHV8CRV"
      }
    },
    {
      "cell_type": "code",
      "source": [
        "train['E_PRGM_ACADEMICO'].value_counts().sort_index().head(40)"
      ],
      "metadata": {
        "colab": {
          "base_uri": "https://localhost:8080/",
          "height": 1000
        },
        "id": "ILmk3DWK7F5_",
        "outputId": "9b094f28-285f-4436-d26c-d7a8d5909246"
      },
      "execution_count": null,
      "outputs": [
        {
          "output_type": "execute_result",
          "data": {
            "text/plain": [
              "E_PRGM_ACADEMICO\n",
              "3°  CICLO PROFESIONAL NEGOCIOS INTERNACIONALES               66\n",
              "ACTIVIDAD FISICA Y DEPORTE                                  158\n",
              "ACUICULTURA                                                  77\n",
              "ADMINISTRACION                                              113\n",
              "ADMINISTRACION  FINANCIERA                                   72\n",
              "ADMINISTRACION & SERVICIO                                    28\n",
              "ADMINISTRACION AERONAUTICA                                   71\n",
              "ADMINISTRACION AGROPECUARIA                                 115\n",
              "ADMINISTRACION AMBIENTAL                                    507\n",
              "ADMINISTRACION AMBIENTAL Y DE LOS RECURSOS NATURALES        237\n",
              "ADMINISTRACION BANCARIA Y FINANCIERA                        132\n",
              "ADMINISTRACION COMERCIAL                                     63\n",
              "ADMINISTRACION COMERCIAL Y DE MERCADEO                      463\n",
              "ADMINISTRACION DE COMERCIO EXTERIOR                           1\n",
              "ADMINISTRACION DE EMPRESAS                                50138\n",
              "ADMINISTRACION DE EMPRESAS  Y  GESTION AMBIENTAL            135\n",
              "ADMINISTRACION DE EMPRESAS AGROINDUSTRIALES                  16\n",
              "ADMINISTRACION DE EMPRESAS AGROPECUARIAS                    625\n",
              "ADMINISTRACION DE EMPRESAS COMERCIALES                      483\n",
              "ADMINISTRACION DE EMPRESAS EN TELECOMUNICACIONES             17\n",
              "ADMINISTRACION DE EMPRESAS TURISTICA                         33\n",
              "ADMINISTRACION DE EMPRESAS TURISTICAS                       215\n",
              "ADMINISTRACION DE EMPRESAS TURISTICAS Y HOTELERAS           414\n",
              "ADMINISTRACION DE EMPRESAS TURÍSTICAS Y HOTELERAS           161\n",
              "ADMINISTRACION DE EMPRESAS Y FINANZAS                       104\n",
              "ADMINISTRACION DE GESTISN HUMANA                             13\n",
              "ADMINISTRACION DE HOTELERIA Y TURISMO                        11\n",
              "ADMINISTRACION DE INSTITUCIONES DE SERVICIO                  56\n",
              "ADMINISTRACION DE LA CALIDAD                                  3\n",
              "ADMINISTRACION DE LA SEGURIDAD SOCIAL                       123\n",
              "ADMINISTRACION DE LA SEGURIDAD Y SALUD OCUPACIONAL          456\n",
              "ADMINISTRACION DE MERCADEO                                  664\n",
              "ADMINISTRACION DE MERCADEO Y LOGISTICA INTERNACIONALES        3\n",
              "ADMINISTRACION DE NEGOCIOS                                 1971\n",
              "ADMINISTRACION DE NEGOCIOS INTERNACIONALES                 4207\n",
              "ADMINISTRACION DE SERVICIOS DE SALUD                        949\n",
              "ADMINISTRACION DE SISTEMAS                                    8\n",
              "ADMINISTRACION DE SISTEMAS INFORMATICOS                     152\n",
              "ADMINISTRACION DE SISTEMAS INFORMÁTICOS                      37\n",
              "ADMINISTRACION DEL COMERCIO INTERNACIONAL                    42\n",
              "Name: count, dtype: int64"
            ],
            "text/html": [
              "<div>\n",
              "<style scoped>\n",
              "    .dataframe tbody tr th:only-of-type {\n",
              "        vertical-align: middle;\n",
              "    }\n",
              "\n",
              "    .dataframe tbody tr th {\n",
              "        vertical-align: top;\n",
              "    }\n",
              "\n",
              "    .dataframe thead th {\n",
              "        text-align: right;\n",
              "    }\n",
              "</style>\n",
              "<table border=\"1\" class=\"dataframe\">\n",
              "  <thead>\n",
              "    <tr style=\"text-align: right;\">\n",
              "      <th></th>\n",
              "      <th>count</th>\n",
              "    </tr>\n",
              "    <tr>\n",
              "      <th>E_PRGM_ACADEMICO</th>\n",
              "      <th></th>\n",
              "    </tr>\n",
              "  </thead>\n",
              "  <tbody>\n",
              "    <tr>\n",
              "      <th>3°  CICLO PROFESIONAL NEGOCIOS INTERNACIONALES</th>\n",
              "      <td>66</td>\n",
              "    </tr>\n",
              "    <tr>\n",
              "      <th>ACTIVIDAD FISICA Y DEPORTE</th>\n",
              "      <td>158</td>\n",
              "    </tr>\n",
              "    <tr>\n",
              "      <th>ACUICULTURA</th>\n",
              "      <td>77</td>\n",
              "    </tr>\n",
              "    <tr>\n",
              "      <th>ADMINISTRACION</th>\n",
              "      <td>113</td>\n",
              "    </tr>\n",
              "    <tr>\n",
              "      <th>ADMINISTRACION  FINANCIERA</th>\n",
              "      <td>72</td>\n",
              "    </tr>\n",
              "    <tr>\n",
              "      <th>ADMINISTRACION &amp; SERVICIO</th>\n",
              "      <td>28</td>\n",
              "    </tr>\n",
              "    <tr>\n",
              "      <th>ADMINISTRACION AERONAUTICA</th>\n",
              "      <td>71</td>\n",
              "    </tr>\n",
              "    <tr>\n",
              "      <th>ADMINISTRACION AGROPECUARIA</th>\n",
              "      <td>115</td>\n",
              "    </tr>\n",
              "    <tr>\n",
              "      <th>ADMINISTRACION AMBIENTAL</th>\n",
              "      <td>507</td>\n",
              "    </tr>\n",
              "    <tr>\n",
              "      <th>ADMINISTRACION AMBIENTAL Y DE LOS RECURSOS NATURALES</th>\n",
              "      <td>237</td>\n",
              "    </tr>\n",
              "    <tr>\n",
              "      <th>ADMINISTRACION BANCARIA Y FINANCIERA</th>\n",
              "      <td>132</td>\n",
              "    </tr>\n",
              "    <tr>\n",
              "      <th>ADMINISTRACION COMERCIAL</th>\n",
              "      <td>63</td>\n",
              "    </tr>\n",
              "    <tr>\n",
              "      <th>ADMINISTRACION COMERCIAL Y DE MERCADEO</th>\n",
              "      <td>463</td>\n",
              "    </tr>\n",
              "    <tr>\n",
              "      <th>ADMINISTRACION DE COMERCIO EXTERIOR</th>\n",
              "      <td>1</td>\n",
              "    </tr>\n",
              "    <tr>\n",
              "      <th>ADMINISTRACION DE EMPRESAS</th>\n",
              "      <td>50138</td>\n",
              "    </tr>\n",
              "    <tr>\n",
              "      <th>ADMINISTRACION DE EMPRESAS  Y  GESTION AMBIENTAL</th>\n",
              "      <td>135</td>\n",
              "    </tr>\n",
              "    <tr>\n",
              "      <th>ADMINISTRACION DE EMPRESAS AGROINDUSTRIALES</th>\n",
              "      <td>16</td>\n",
              "    </tr>\n",
              "    <tr>\n",
              "      <th>ADMINISTRACION DE EMPRESAS AGROPECUARIAS</th>\n",
              "      <td>625</td>\n",
              "    </tr>\n",
              "    <tr>\n",
              "      <th>ADMINISTRACION DE EMPRESAS COMERCIALES</th>\n",
              "      <td>483</td>\n",
              "    </tr>\n",
              "    <tr>\n",
              "      <th>ADMINISTRACION DE EMPRESAS EN TELECOMUNICACIONES</th>\n",
              "      <td>17</td>\n",
              "    </tr>\n",
              "    <tr>\n",
              "      <th>ADMINISTRACION DE EMPRESAS TURISTICA</th>\n",
              "      <td>33</td>\n",
              "    </tr>\n",
              "    <tr>\n",
              "      <th>ADMINISTRACION DE EMPRESAS TURISTICAS</th>\n",
              "      <td>215</td>\n",
              "    </tr>\n",
              "    <tr>\n",
              "      <th>ADMINISTRACION DE EMPRESAS TURISTICAS Y HOTELERAS</th>\n",
              "      <td>414</td>\n",
              "    </tr>\n",
              "    <tr>\n",
              "      <th>ADMINISTRACION DE EMPRESAS TURÍSTICAS Y HOTELERAS</th>\n",
              "      <td>161</td>\n",
              "    </tr>\n",
              "    <tr>\n",
              "      <th>ADMINISTRACION DE EMPRESAS Y FINANZAS</th>\n",
              "      <td>104</td>\n",
              "    </tr>\n",
              "    <tr>\n",
              "      <th>ADMINISTRACION DE GESTISN HUMANA</th>\n",
              "      <td>13</td>\n",
              "    </tr>\n",
              "    <tr>\n",
              "      <th>ADMINISTRACION DE HOTELERIA Y TURISMO</th>\n",
              "      <td>11</td>\n",
              "    </tr>\n",
              "    <tr>\n",
              "      <th>ADMINISTRACION DE INSTITUCIONES DE SERVICIO</th>\n",
              "      <td>56</td>\n",
              "    </tr>\n",
              "    <tr>\n",
              "      <th>ADMINISTRACION DE LA CALIDAD</th>\n",
              "      <td>3</td>\n",
              "    </tr>\n",
              "    <tr>\n",
              "      <th>ADMINISTRACION DE LA SEGURIDAD SOCIAL</th>\n",
              "      <td>123</td>\n",
              "    </tr>\n",
              "    <tr>\n",
              "      <th>ADMINISTRACION DE LA SEGURIDAD Y SALUD OCUPACIONAL</th>\n",
              "      <td>456</td>\n",
              "    </tr>\n",
              "    <tr>\n",
              "      <th>ADMINISTRACION DE MERCADEO</th>\n",
              "      <td>664</td>\n",
              "    </tr>\n",
              "    <tr>\n",
              "      <th>ADMINISTRACION DE MERCADEO Y LOGISTICA INTERNACIONALES</th>\n",
              "      <td>3</td>\n",
              "    </tr>\n",
              "    <tr>\n",
              "      <th>ADMINISTRACION DE NEGOCIOS</th>\n",
              "      <td>1971</td>\n",
              "    </tr>\n",
              "    <tr>\n",
              "      <th>ADMINISTRACION DE NEGOCIOS INTERNACIONALES</th>\n",
              "      <td>4207</td>\n",
              "    </tr>\n",
              "    <tr>\n",
              "      <th>ADMINISTRACION DE SERVICIOS DE SALUD</th>\n",
              "      <td>949</td>\n",
              "    </tr>\n",
              "    <tr>\n",
              "      <th>ADMINISTRACION DE SISTEMAS</th>\n",
              "      <td>8</td>\n",
              "    </tr>\n",
              "    <tr>\n",
              "      <th>ADMINISTRACION DE SISTEMAS INFORMATICOS</th>\n",
              "      <td>152</td>\n",
              "    </tr>\n",
              "    <tr>\n",
              "      <th>ADMINISTRACION DE SISTEMAS INFORMÁTICOS</th>\n",
              "      <td>37</td>\n",
              "    </tr>\n",
              "    <tr>\n",
              "      <th>ADMINISTRACION DEL COMERCIO INTERNACIONAL</th>\n",
              "      <td>42</td>\n",
              "    </tr>\n",
              "  </tbody>\n",
              "</table>\n",
              "</div><br><label><b>dtype:</b> int64</label>"
            ]
          },
          "metadata": {},
          "execution_count": 46
        }
      ]
    },
    {
      "cell_type": "markdown",
      "source": [
        "Se comprueba que algunos estan duplicados, su unica diferencia es una tilde.\n",
        "\n",
        "Se procede a unificarlos"
      ],
      "metadata": {
        "id": "-SNHAO2a8eb1"
      }
    },
    {
      "cell_type": "code",
      "source": [
        "train['E_PRGM_ACADEMICO'] = train['E_PRGM_ACADEMICO'].apply(lambda x: unicodedata.normalize('NFKD', str(x)).encode('ASCII', 'ignore').decode('ASCII'))"
      ],
      "metadata": {
        "id": "UdYiOVcT8p4f"
      },
      "execution_count": null,
      "outputs": []
    },
    {
      "cell_type": "markdown",
      "source": [
        "- `NFKD`: Descompone los caracteres acentuados (por ejemplo, convierte á en a + ´).\n",
        "\n",
        "- `.encode('ASCII', 'ignore')`: Convierte los caracteres a su representación ASCII, eliminando cualquier carácter no ASCII, como las tildes.\n",
        "\n",
        "- `.decode('ASCII')`: Decodifica el resultado nuevamente a una cadena de caracteres."
      ],
      "metadata": {
        "id": "F8GW31x6-pYB"
      }
    },
    {
      "cell_type": "code",
      "source": [
        "print(f'Columna E_PRGM_ACADEMICO: {train[\"E_PRGM_ACADEMICO\"].nunique()} valores unicos')"
      ],
      "metadata": {
        "colab": {
          "base_uri": "https://localhost:8080/"
        },
        "id": "FIJ1HELi-GAt",
        "outputId": "6ba00a18-022c-493f-b956-2fe4ed1f88fd"
      },
      "execution_count": null,
      "outputs": [
        {
          "output_type": "stream",
          "name": "stdout",
          "text": [
            "Columna E_PRGM_ACADEMICO: 782 valores unicos\n"
          ]
        }
      ]
    },
    {
      "cell_type": "markdown",
      "source": [
        "Se pasa de `E_PRGM_ACADEMICO`: 941 valores unicos a `E_PRGM_ACADEMICO`: 782 valores unicos"
      ],
      "metadata": {
        "id": "dviZN4OIAFDg"
      }
    },
    {
      "cell_type": "code",
      "source": [
        "train[(train['E_PRGM_ACADEMICO'].str.contains(r'ADMINISTRA')) & (train['E_PRGM_ACADEMICO'].str.contains(r'EMPRESA'))]['E_PRGM_ACADEMICO'].unique()"
      ],
      "metadata": {
        "colab": {
          "base_uri": "https://localhost:8080/"
        },
        "id": "O0_QQYuqLH8V",
        "outputId": "b71879df-4bbe-4a0f-a82d-257b4da53c27"
      },
      "execution_count": null,
      "outputs": [
        {
          "output_type": "execute_result",
          "data": {
            "text/plain": [
              "array(['ADMINISTRACION DE EMPRESAS',\n",
              "       'ADMINISTRACION Y DIRECCION DE EMPRESAS',\n",
              "       'PROFESIONAL EN ADMINISTRACION DE EMPRESAS',\n",
              "       'ADMINISTRACION DE EMPRESAS COMERCIALES',\n",
              "       'ADMINISTRACION DE EMPRESAS TURISTICAS',\n",
              "       'ADMINISTRACION DE EMPRESAS TURISTICAS Y HOTELERAS',\n",
              "       'ADMINISTRACION DE EMPRESAS  Y  GESTION AMBIENTAL',\n",
              "       'ADMINISTRACION DE EMPRESAS AGROPECUARIAS',\n",
              "       'ADMINISTRACION DE EMPRESAS - CICLO PROFESIONAL',\n",
              "       'ADMINISTRACIN DE EMPRESAS',\n",
              "       'ADMINISTRACION DE EMPRESAS Y FINANZAS',\n",
              "       'ADMINISTRACION DE EMPRESAS EN TELECOMUNICACIONES',\n",
              "       'ADMINISTRACION DE EMPRESAS AGROINDUSTRIALES',\n",
              "       'ADMINISTRACION EMPRESAS AGROINDUSTRIALES',\n",
              "       'ADMINISTRACION DE EMPRESAS TURISTICA',\n",
              "       'ADMINISTRACION DE EMPRESAS TURISTICAS POR CICLOS - CICLO PROFESIONAL'],\n",
              "      dtype=object)"
            ]
          },
          "metadata": {},
          "execution_count": 49
        }
      ]
    },
    {
      "cell_type": "code",
      "source": [
        "train[train['E_PRGM_ACADEMICO'].str.contains(r'ADMINISTRA.*EMPRESA|EMPRESA.*ADMINISTRA', regex=True)]['E_PRGM_ACADEMICO'].unique()"
      ],
      "metadata": {
        "colab": {
          "base_uri": "https://localhost:8080/"
        },
        "id": "I04gq7vILuy4",
        "outputId": "9c67f63d-9f1b-4f61-b048-e5bbf462b5fe"
      },
      "execution_count": null,
      "outputs": [
        {
          "output_type": "execute_result",
          "data": {
            "text/plain": [
              "array(['ADMINISTRACION DE EMPRESAS',\n",
              "       'ADMINISTRACION Y DIRECCION DE EMPRESAS',\n",
              "       'PROFESIONAL EN ADMINISTRACION DE EMPRESAS',\n",
              "       'ADMINISTRACION DE EMPRESAS COMERCIALES',\n",
              "       'ADMINISTRACION DE EMPRESAS TURISTICAS',\n",
              "       'ADMINISTRACION DE EMPRESAS TURISTICAS Y HOTELERAS',\n",
              "       'ADMINISTRACION DE EMPRESAS  Y  GESTION AMBIENTAL',\n",
              "       'ADMINISTRACION DE EMPRESAS AGROPECUARIAS',\n",
              "       'ADMINISTRACION DE EMPRESAS - CICLO PROFESIONAL',\n",
              "       'ADMINISTRACIN DE EMPRESAS',\n",
              "       'ADMINISTRACION DE EMPRESAS Y FINANZAS',\n",
              "       'ADMINISTRACION DE EMPRESAS EN TELECOMUNICACIONES',\n",
              "       'ADMINISTRACION DE EMPRESAS AGROINDUSTRIALES',\n",
              "       'ADMINISTRACION EMPRESAS AGROINDUSTRIALES',\n",
              "       'ADMINISTRACION DE EMPRESAS TURISTICA',\n",
              "       'ADMINISTRACION DE EMPRESAS TURISTICAS POR CICLOS - CICLO PROFESIONAL'],\n",
              "      dtype=object)"
            ]
          },
          "metadata": {},
          "execution_count": 50
        }
      ]
    },
    {
      "cell_type": "markdown",
      "source": [
        "Unificamos nombres"
      ],
      "metadata": {
        "id": "j6TUsWMjHSEq"
      }
    },
    {
      "cell_type": "code",
      "source": [
        "reemplazos = {\n",
        "    'ADMINISTRACION Y DIRECCION DE EMPRESAS':'ADMINISTRACION DE EMPRESAS',\n",
        "    'PROFESIONAL EN ADMINISTRACION DE EMPRESAS': 'ADMINISTRACION DE EMPRESAS',\n",
        "    'ADMINISTRACION DE EMPRESAS COMERCIALES':'ADMINISTRACION DE EMPRESAS',\n",
        "    'ADMINISTRACION DE EMPRESAS - CICLO PROFESIONAL':'ADMINISTRACION DE EMPRESAS',\n",
        "    'ADMINISTRACIN DE EMPRESAS':'ADMINISTRACION DE EMPRESAS'\n",
        "}\n",
        "train['E_PRGM_ACADEMICO']= train['E_PRGM_ACADEMICO'].replace(reemplazos)\n",
        "\n",
        "reemplazos = {\n",
        "    'ADMINISTRACION DE EMPRESAS TURISTICAS Y HOTELERAS':'ADMINISTRACION DE EMPRESAS TURISTICAS',\n",
        "    'ADMINISTRACION DE EMPRESAS TURISTICAS POR CICLOS - CICLO PROFESIONAL':'ADMINISTRACION DE EMPRESAS TURISTICAS',\n",
        "    'ADMINISTRACION DE EMPRESAS TURISTICA':'ADMINISTRACION DE EMPRESAS TURISTICAS'\n",
        "}\n",
        "train['E_PRGM_ACADEMICO']= train['E_PRGM_ACADEMICO'].replace(reemplazos)\n",
        "\n",
        "reemplazos = {\n",
        "    'ADMINISTRACION DE EMPRESAS AGROINDUSTRIALES':'ADMINISTRACION DE EMPRESAS AGROPECUARIAS',\n",
        "    'ADMINISTRACION EMPRESAS AGROINDUSTRIALES':'ADMINISTRACION DE EMPRESAS AGROPECUARIAS',\n",
        "}\n",
        "train['E_PRGM_ACADEMICO']= train['E_PRGM_ACADEMICO'].replace(reemplazos)"
      ],
      "metadata": {
        "id": "4sPW1dVbpkq2"
      },
      "execution_count": null,
      "outputs": []
    },
    {
      "cell_type": "code",
      "source": [
        "train[train['E_PRGM_ACADEMICO'].str.contains(r'ADMINISTRA.*EMPRESA|EMPRESA.*ADMINISTRA', regex=True)]['E_PRGM_ACADEMICO'].unique()"
      ],
      "metadata": {
        "colab": {
          "base_uri": "https://localhost:8080/"
        },
        "id": "zyGBVFTTrRFt",
        "outputId": "ca0361d2-f287-4c54-c1ee-eb7a6c070c8f"
      },
      "execution_count": null,
      "outputs": [
        {
          "output_type": "execute_result",
          "data": {
            "text/plain": [
              "array(['ADMINISTRACION DE EMPRESAS',\n",
              "       'ADMINISTRACION DE EMPRESAS TURISTICAS',\n",
              "       'ADMINISTRACION DE EMPRESAS  Y  GESTION AMBIENTAL',\n",
              "       'ADMINISTRACION DE EMPRESAS AGROPECUARIAS',\n",
              "       'ADMINISTRACION DE EMPRESAS Y FINANZAS',\n",
              "       'ADMINISTRACION DE EMPRESAS EN TELECOMUNICACIONES'], dtype=object)"
            ]
          },
          "metadata": {},
          "execution_count": 52
        }
      ]
    },
    {
      "cell_type": "code",
      "source": [
        "print(f'E_PRGM_ACADEMICO tiene {train[\"E_PRGM_ACADEMICO\"].nunique()} valores unicos')"
      ],
      "metadata": {
        "colab": {
          "base_uri": "https://localhost:8080/"
        },
        "id": "N82rdpPBrexW",
        "outputId": "b1cbbdff-0e54-4e78-f84a-7c450fec7563"
      },
      "execution_count": null,
      "outputs": [
        {
          "output_type": "stream",
          "name": "stdout",
          "text": [
            "E_PRGM_ACADEMICO tiene 772 valores unicos\n"
          ]
        }
      ]
    },
    {
      "cell_type": "code",
      "source": [
        "train[train['E_PRGM_ACADEMICO'].str.contains(r'NEGOCIOS.*INTERNACIONALES|INTERNACIONALES.*NEGOCIOS', regex=True)]['E_PRGM_ACADEMICO'].unique()"
      ],
      "metadata": {
        "colab": {
          "base_uri": "https://localhost:8080/"
        },
        "id": "nuF9pfZJhxw2",
        "outputId": "0c6be12a-2975-4481-e93f-ad98cae653fa"
      },
      "execution_count": null,
      "outputs": [
        {
          "output_type": "execute_result",
          "data": {
            "text/plain": [
              "array(['NEGOCIOS INTERNACIONALES',\n",
              "       'PROFESIONAL EN FINANZAS Y NEGOCIOS INTERNACIONALES',\n",
              "       'FINANZAS Y NEGOCIOS INTERNACIONALES',\n",
              "       'ADMINISTRACION DE NEGOCIOS INTERNACIONALES',\n",
              "       'NEGOCIOS INTERNACIONALES SEGUNDO CICLO',\n",
              "       'NEGOCIOS Y RELACIONES INTERNACIONALES',\n",
              "       'MERCADEO Y NEGOCIOS INTERNACIONALES',\n",
              "       'ECONOMIA Y NEGOCIOS INTERNACIONALES',\n",
              "       'COMERCIO Y NEGOCIOS INTERNACIONALES',\n",
              "       'NEGOCIOS Y FINANZAS INTERNACIONALES',\n",
              "       'PROFESIONAL EN MARKETING Y NEGOCIOS INTERNACIONALES',\n",
              "       'ADMINISTRACION EN FINANZAS Y NEGOCIOS INTERNACIONALES',\n",
              "       'PROFESIONAL EN NEGOCIOS INTERNACIONALES',\n",
              "       '3  CICLO PROFESIONAL NEGOCIOS INTERNACIONALES',\n",
              "       'MARKETING Y NEGOCIOS INTERNACIONALES',\n",
              "       'ADMINISTRACION Y NEGOCIOS INTERNACIONALES',\n",
              "       'ADMINISTRACION EN NEGOCIOS INTERNACIONALES'], dtype=object)"
            ]
          },
          "metadata": {},
          "execution_count": 54
        }
      ]
    },
    {
      "cell_type": "code",
      "source": [
        "reemplazos = {\n",
        "    'ADMINISTRACION DE NEGOCIOS INTERNACIONALES':'NEGOCIOS INTERNACIONALES',\n",
        "    'NEGOCIOS INTERNACIONALES SEGUNDO CICLO':'NEGOCIOS INTERNACIONALES',\n",
        "    'NEGOCIOS Y RELACIONES INTERNACIONALES':'NEGOCIOS INTERNACIONALES',\n",
        "    'COMERCIO Y NEGOCIOS INTERNACIONALES':'NEGOCIOS INTERNACIONALES',\n",
        "    'PROFESIONAL EN NEGOCIOS INTERNACIONALES':'NEGOCIOS INTERNACIONALES',\n",
        "    '3  CICLO PROFESIONAL NEGOCIOS INTERNACIONALES':'NEGOCIOS INTERNACIONALES',\n",
        "    'ADMINISTRACION Y NEGOCIOS INTERNACIONALES':'NEGOCIOS INTERNACIONALES',\n",
        "    'ADMINISTRACION EN NEGOCIOS INTERNACIONALES':'NEGOCIOS INTERNACIONALES'\n",
        "}\n",
        "train['E_PRGM_ACADEMICO']= train['E_PRGM_ACADEMICO'].replace(reemplazos)\n",
        "\n",
        "reemplazos = {\n",
        "    'PROFESIONAL EN FINANZAS Y NEGOCIOS INTERNACIONALES':'FINANZAS Y NEGOCIOS INTERNACIONALES',\n",
        "    'NEGOCIOS Y FINANZAS INTERNACIONALES':'FINANZAS Y NEGOCIOS INTERNACIONALES',\n",
        "    'ADMINISTRACION EN FINANZAS Y NEGOCIOS INTERNACIONALES':'FINANZAS Y NEGOCIOS INTERNACIONALES',\n",
        "}\n",
        "train['E_PRGM_ACADEMICO']= train['E_PRGM_ACADEMICO'].replace(reemplazos)\n",
        "\n",
        "reemplazos = {\n",
        "    'PROFESIONAL EN MARKETING Y NEGOCIOS INTERNACIONALES':'MERCADEO Y NEGOCIOS INTERNACIONALES',\n",
        "    'MARKETING Y NEGOCIOS INTERNACIONALES':'MERCADEO Y NEGOCIOS INTERNACIONALES',\n",
        "}\n",
        "train['E_PRGM_ACADEMICO']= train['E_PRGM_ACADEMICO'].replace(reemplazos)"
      ],
      "metadata": {
        "id": "6iRRpMCusKfY"
      },
      "execution_count": null,
      "outputs": []
    },
    {
      "cell_type": "code",
      "source": [
        "train[train['E_PRGM_ACADEMICO'].str.contains(r'NEGOCIOS.*INTERNACIONALES|INTERNACIONALES.*NEGOCIOS', regex=True)]['E_PRGM_ACADEMICO'].unique()"
      ],
      "metadata": {
        "colab": {
          "base_uri": "https://localhost:8080/"
        },
        "id": "nSzkqsxPs3zX",
        "outputId": "f02d41c6-0a8f-4cd0-b2f3-3f96cc29726e"
      },
      "execution_count": null,
      "outputs": [
        {
          "output_type": "execute_result",
          "data": {
            "text/plain": [
              "array(['NEGOCIOS INTERNACIONALES', 'FINANZAS Y NEGOCIOS INTERNACIONALES',\n",
              "       'MERCADEO Y NEGOCIOS INTERNACIONALES',\n",
              "       'ECONOMIA Y NEGOCIOS INTERNACIONALES'], dtype=object)"
            ]
          },
          "metadata": {},
          "execution_count": 56
        }
      ]
    },
    {
      "cell_type": "code",
      "source": [
        "print(f'E_PRGM_ACADEMICO tiene {train[\"E_PRGM_ACADEMICO\"].nunique()} valores unicos')"
      ],
      "metadata": {
        "colab": {
          "base_uri": "https://localhost:8080/"
        },
        "id": "XnihIzbEt2_-",
        "outputId": "694200d6-773d-4d9a-c8e4-fbc5ea86359b"
      },
      "execution_count": null,
      "outputs": [
        {
          "output_type": "stream",
          "name": "stdout",
          "text": [
            "E_PRGM_ACADEMICO tiene 759 valores unicos\n"
          ]
        }
      ]
    },
    {
      "cell_type": "code",
      "source": [
        "train['E_PRGM_ACADEMICO'].value_counts().sort_index().head(40)"
      ],
      "metadata": {
        "colab": {
          "base_uri": "https://localhost:8080/",
          "height": 1000
        },
        "id": "ZeJRTCPWuOll",
        "outputId": "1f53d085-96ff-4b3b-dcc9-28d636194682"
      },
      "execution_count": null,
      "outputs": [
        {
          "output_type": "execute_result",
          "data": {
            "text/plain": [
              "E_PRGM_ACADEMICO\n",
              "ACTIVIDAD FISICA Y DEPORTE                                  158\n",
              "ACUICULTURA                                                  77\n",
              "ADMINISTRACIN LOGSTICA                                       85\n",
              "ADMINISTRACIN PBLICA                                         45\n",
              "ADMINISTRACION                                              113\n",
              "ADMINISTRACION  FINANCIERA                                   72\n",
              "ADMINISTRACION & SERVICIO                                    28\n",
              "ADMINISTRACION AERONAUTICA                                   71\n",
              "ADMINISTRACION AGROINDUSTRIAL                                16\n",
              "ADMINISTRACION AGROPECUARIA                                 115\n",
              "ADMINISTRACION AMBIENTAL                                    507\n",
              "ADMINISTRACION AMBIENTAL Y DE LOS RECURSOS NATURALES        237\n",
              "ADMINISTRACION BANCARIA Y FINANCIERA                        132\n",
              "ADMINISTRACION COMERCIAL                                    208\n",
              "ADMINISTRACION COMERCIAL Y DE MERCADEO                      463\n",
              "ADMINISTRACION COMERCIAL Y FINANCIERA                       168\n",
              "ADMINISTRACION DE AGRONEGOCIOS                               25\n",
              "ADMINISTRACION DE COMERCIO EXTERIOR                         147\n",
              "ADMINISTRACION DE EMPRESAS                                76705\n",
              "ADMINISTRACION DE EMPRESAS  Y  GESTION AMBIENTAL            135\n",
              "ADMINISTRACION DE EMPRESAS AGROPECUARIAS                    715\n",
              "ADMINISTRACION DE EMPRESAS EN TELECOMUNICACIONES             17\n",
              "ADMINISTRACION DE EMPRESAS TURISTICAS                      1364\n",
              "ADMINISTRACION DE EMPRESAS Y FINANZAS                       104\n",
              "ADMINISTRACION DE GESTISN HUMANA                             13\n",
              "ADMINISTRACION DE HOTELERIA Y TURISMO                        11\n",
              "ADMINISTRACION DE INSTITUCIONES DE SERVICIO                  56\n",
              "ADMINISTRACION DE LA CALIDAD                                  3\n",
              "ADMINISTRACION DE LA SALUD OCUPACIONAL                       44\n",
              "ADMINISTRACION DE LA SEGURIDAD SOCIAL                       123\n",
              "ADMINISTRACION DE LA SEGURIDAD Y SALUD   EN EL TRABAJO      213\n",
              "ADMINISTRACION DE LA SEGURIDAD Y SALUD OCUPACIONAL          456\n",
              "ADMINISTRACION DE MERCADEO                                  664\n",
              "ADMINISTRACION DE MERCADEO Y LOGISTICA INTERNACIONALES        3\n",
              "ADMINISTRACION DE NEGOCIOS                                 1971\n",
              "ADMINISTRACION DE OBRAS DE ARQUITECTURA                      13\n",
              "ADMINISTRACION DE SERVICIOS DE SALUD                       1318\n",
              "ADMINISTRACION DE SISTEMAS                                    8\n",
              "ADMINISTRACION DE SISTEMAS INFORMATICOS                     189\n",
              "ADMINISTRACION DEL COMERCIO INTERNACIONAL                    42\n",
              "Name: count, dtype: int64"
            ],
            "text/html": [
              "<div>\n",
              "<style scoped>\n",
              "    .dataframe tbody tr th:only-of-type {\n",
              "        vertical-align: middle;\n",
              "    }\n",
              "\n",
              "    .dataframe tbody tr th {\n",
              "        vertical-align: top;\n",
              "    }\n",
              "\n",
              "    .dataframe thead th {\n",
              "        text-align: right;\n",
              "    }\n",
              "</style>\n",
              "<table border=\"1\" class=\"dataframe\">\n",
              "  <thead>\n",
              "    <tr style=\"text-align: right;\">\n",
              "      <th></th>\n",
              "      <th>count</th>\n",
              "    </tr>\n",
              "    <tr>\n",
              "      <th>E_PRGM_ACADEMICO</th>\n",
              "      <th></th>\n",
              "    </tr>\n",
              "  </thead>\n",
              "  <tbody>\n",
              "    <tr>\n",
              "      <th>ACTIVIDAD FISICA Y DEPORTE</th>\n",
              "      <td>158</td>\n",
              "    </tr>\n",
              "    <tr>\n",
              "      <th>ACUICULTURA</th>\n",
              "      <td>77</td>\n",
              "    </tr>\n",
              "    <tr>\n",
              "      <th>ADMINISTRACIN LOGSTICA</th>\n",
              "      <td>85</td>\n",
              "    </tr>\n",
              "    <tr>\n",
              "      <th>ADMINISTRACIN PBLICA</th>\n",
              "      <td>45</td>\n",
              "    </tr>\n",
              "    <tr>\n",
              "      <th>ADMINISTRACION</th>\n",
              "      <td>113</td>\n",
              "    </tr>\n",
              "    <tr>\n",
              "      <th>ADMINISTRACION  FINANCIERA</th>\n",
              "      <td>72</td>\n",
              "    </tr>\n",
              "    <tr>\n",
              "      <th>ADMINISTRACION &amp; SERVICIO</th>\n",
              "      <td>28</td>\n",
              "    </tr>\n",
              "    <tr>\n",
              "      <th>ADMINISTRACION AERONAUTICA</th>\n",
              "      <td>71</td>\n",
              "    </tr>\n",
              "    <tr>\n",
              "      <th>ADMINISTRACION AGROINDUSTRIAL</th>\n",
              "      <td>16</td>\n",
              "    </tr>\n",
              "    <tr>\n",
              "      <th>ADMINISTRACION AGROPECUARIA</th>\n",
              "      <td>115</td>\n",
              "    </tr>\n",
              "    <tr>\n",
              "      <th>ADMINISTRACION AMBIENTAL</th>\n",
              "      <td>507</td>\n",
              "    </tr>\n",
              "    <tr>\n",
              "      <th>ADMINISTRACION AMBIENTAL Y DE LOS RECURSOS NATURALES</th>\n",
              "      <td>237</td>\n",
              "    </tr>\n",
              "    <tr>\n",
              "      <th>ADMINISTRACION BANCARIA Y FINANCIERA</th>\n",
              "      <td>132</td>\n",
              "    </tr>\n",
              "    <tr>\n",
              "      <th>ADMINISTRACION COMERCIAL</th>\n",
              "      <td>208</td>\n",
              "    </tr>\n",
              "    <tr>\n",
              "      <th>ADMINISTRACION COMERCIAL Y DE MERCADEO</th>\n",
              "      <td>463</td>\n",
              "    </tr>\n",
              "    <tr>\n",
              "      <th>ADMINISTRACION COMERCIAL Y FINANCIERA</th>\n",
              "      <td>168</td>\n",
              "    </tr>\n",
              "    <tr>\n",
              "      <th>ADMINISTRACION DE AGRONEGOCIOS</th>\n",
              "      <td>25</td>\n",
              "    </tr>\n",
              "    <tr>\n",
              "      <th>ADMINISTRACION DE COMERCIO EXTERIOR</th>\n",
              "      <td>147</td>\n",
              "    </tr>\n",
              "    <tr>\n",
              "      <th>ADMINISTRACION DE EMPRESAS</th>\n",
              "      <td>76705</td>\n",
              "    </tr>\n",
              "    <tr>\n",
              "      <th>ADMINISTRACION DE EMPRESAS  Y  GESTION AMBIENTAL</th>\n",
              "      <td>135</td>\n",
              "    </tr>\n",
              "    <tr>\n",
              "      <th>ADMINISTRACION DE EMPRESAS AGROPECUARIAS</th>\n",
              "      <td>715</td>\n",
              "    </tr>\n",
              "    <tr>\n",
              "      <th>ADMINISTRACION DE EMPRESAS EN TELECOMUNICACIONES</th>\n",
              "      <td>17</td>\n",
              "    </tr>\n",
              "    <tr>\n",
              "      <th>ADMINISTRACION DE EMPRESAS TURISTICAS</th>\n",
              "      <td>1364</td>\n",
              "    </tr>\n",
              "    <tr>\n",
              "      <th>ADMINISTRACION DE EMPRESAS Y FINANZAS</th>\n",
              "      <td>104</td>\n",
              "    </tr>\n",
              "    <tr>\n",
              "      <th>ADMINISTRACION DE GESTISN HUMANA</th>\n",
              "      <td>13</td>\n",
              "    </tr>\n",
              "    <tr>\n",
              "      <th>ADMINISTRACION DE HOTELERIA Y TURISMO</th>\n",
              "      <td>11</td>\n",
              "    </tr>\n",
              "    <tr>\n",
              "      <th>ADMINISTRACION DE INSTITUCIONES DE SERVICIO</th>\n",
              "      <td>56</td>\n",
              "    </tr>\n",
              "    <tr>\n",
              "      <th>ADMINISTRACION DE LA CALIDAD</th>\n",
              "      <td>3</td>\n",
              "    </tr>\n",
              "    <tr>\n",
              "      <th>ADMINISTRACION DE LA SALUD OCUPACIONAL</th>\n",
              "      <td>44</td>\n",
              "    </tr>\n",
              "    <tr>\n",
              "      <th>ADMINISTRACION DE LA SEGURIDAD SOCIAL</th>\n",
              "      <td>123</td>\n",
              "    </tr>\n",
              "    <tr>\n",
              "      <th>ADMINISTRACION DE LA SEGURIDAD Y SALUD   EN EL TRABAJO</th>\n",
              "      <td>213</td>\n",
              "    </tr>\n",
              "    <tr>\n",
              "      <th>ADMINISTRACION DE LA SEGURIDAD Y SALUD OCUPACIONAL</th>\n",
              "      <td>456</td>\n",
              "    </tr>\n",
              "    <tr>\n",
              "      <th>ADMINISTRACION DE MERCADEO</th>\n",
              "      <td>664</td>\n",
              "    </tr>\n",
              "    <tr>\n",
              "      <th>ADMINISTRACION DE MERCADEO Y LOGISTICA INTERNACIONALES</th>\n",
              "      <td>3</td>\n",
              "    </tr>\n",
              "    <tr>\n",
              "      <th>ADMINISTRACION DE NEGOCIOS</th>\n",
              "      <td>1971</td>\n",
              "    </tr>\n",
              "    <tr>\n",
              "      <th>ADMINISTRACION DE OBRAS DE ARQUITECTURA</th>\n",
              "      <td>13</td>\n",
              "    </tr>\n",
              "    <tr>\n",
              "      <th>ADMINISTRACION DE SERVICIOS DE SALUD</th>\n",
              "      <td>1318</td>\n",
              "    </tr>\n",
              "    <tr>\n",
              "      <th>ADMINISTRACION DE SISTEMAS</th>\n",
              "      <td>8</td>\n",
              "    </tr>\n",
              "    <tr>\n",
              "      <th>ADMINISTRACION DE SISTEMAS INFORMATICOS</th>\n",
              "      <td>189</td>\n",
              "    </tr>\n",
              "    <tr>\n",
              "      <th>ADMINISTRACION DEL COMERCIO INTERNACIONAL</th>\n",
              "      <td>42</td>\n",
              "    </tr>\n",
              "  </tbody>\n",
              "</table>\n",
              "</div><br><label><b>dtype:</b> int64</label>"
            ]
          },
          "metadata": {},
          "execution_count": 58
        }
      ]
    },
    {
      "cell_type": "code",
      "source": [
        "train[train['E_PRGM_ACADEMICO'].str.contains(r'LICENCIATURA.*FISICA.*DEPORTE|DEPORTE.*FISICA', regex=True)]['E_PRGM_ACADEMICO'].unique()"
      ],
      "metadata": {
        "colab": {
          "base_uri": "https://localhost:8080/"
        },
        "id": "mE2VI4SvvTxZ",
        "outputId": "6ef394d0-209c-470d-ea67-d65102a7bcc7"
      },
      "execution_count": null,
      "outputs": [
        {
          "output_type": "execute_result",
          "data": {
            "text/plain": [
              "array(['LICENCIATURA EN EDUCACION FISICA, RECREACION Y DEPORTE',\n",
              "       'LICENCIATURA EN EDUCACION BASICA CON ENFASIS EN EDUCACION FISICA, RECREACION Y DEPORTES',\n",
              "       'CIENCIAS DEL DEPORTE Y DE LA EDUCACION FISICA',\n",
              "       'LICENCIATURA EN EDUCACION FISICA, DEPORTES Y RECREACION',\n",
              "       'LICENCIATURA EN EDUCACION FISICA Y DEPORTES',\n",
              "       'LICENCIATURA EN EDUCACION BASICA CON ENFASIS EN EDUCACION FISICA,RECREACION Y DEPORTES',\n",
              "       'LICENCIATURA EN EDUCACION BASICA ENFASIS EN EDUCACION FISICA, RECREACION Y DEPORTE',\n",
              "       'LICENCIATURA EN EDUCACION FISICA,RECREACION Y DEPORTES',\n",
              "       'LICENCIATURA EN EDUCACION FISICA RECREACION Y DEPORTE',\n",
              "       'DEPORTE Y ACTIVIDAD FISICA',\n",
              "       'LICENCIATURA EN CULTURA, FISICA, RECREACION Y DEPORTES',\n",
              "       'LICENCIATURA EN EDUCACION FISICA, RECREACION Y DEPORTES',\n",
              "       'LICENCIATURA EN EDUCACION FISICA,RECREACION Y DEPORTE',\n",
              "       'LICENCIATURA EN EDUCACION  FISICA RECREACION  Y  DEPORTE',\n",
              "       'LICENCIATURA EN CIENCIAS DEL DEPORTE Y LA EDUCACION FISICA',\n",
              "       'DEPORTE Y CULTURA FISICA',\n",
              "       'LICENCIATURA EN EDUCACION FISICA Y DEPORTE',\n",
              "       'CIENCIAS DEL DEPORTE Y LA ACTIVIDAD FISICA',\n",
              "       'LICENCIATURA EN EDUCACION  FISICA, RECREACION Y DEPORTES',\n",
              "       'LICENCIATURA EN EDUCACION FISICA DEPORTES Y RECREACION',\n",
              "       'LICENCIATURA EN EDUCACION BASICA CON ENFASIS EN EDUCACION FISICA,RECREACION Y DEPORTE',\n",
              "       'LICENCIATURA EN EDUCACION  FISICA, RECREACION Y DEPORTE',\n",
              "       'DEPORTE Y ACTIVIDADA FISICA',\n",
              "       'LICENCIATURA EN EDUCACION BASICA CON ENFASIS EN EDUCACION  FISICA, DEPORTES Y RECREACION',\n",
              "       'LICENCIATURA EN EDUCACION FISICA, DEPORTE Y RECREACION ENFASIS RURAL',\n",
              "       'LICENCIATURA EN EDUCACON FISICA, RECREACION Y DEPORTES'],\n",
              "      dtype=object)"
            ]
          },
          "metadata": {},
          "execution_count": 59
        }
      ]
    },
    {
      "cell_type": "code",
      "source": [
        "reemplazos = {\n",
        "    'LICENCIATURA EN EDUCACION FISICA, DEPORTES Y RECREACION':'LICENCIATURA EN EDUCACION FISICA, RECREACION Y DEPORTE',\n",
        "    'LICENCIATURA EN EDUCACION FISICA Y DEPORTES':'LICENCIATURA EN EDUCACION FISICA, RECREACION Y DEPORTE',\n",
        "    'LICENCIATURA EN EDUCACION  FISICA RECREACION  Y  DEPORTE':'LICENCIATURA EN EDUCACION FISICA, RECREACION Y DEPORTE',\n",
        "    'LICENCIATURA EN EDUCACION FISICA,RECREACION Y DEPORTES':'LICENCIATURA EN EDUCACION FISICA, RECREACION Y DEPORTE',\n",
        "    'LICENCIATURA EN EDUCACION FISICA RECREACION Y DEPORTE':'LICENCIATURA EN EDUCACION FISICA, RECREACION Y DEPORTE',\n",
        "    'LICENCIATURA EN EDUCACION FISICA, RECREACION Y DEPORTES':'LICENCIATURA EN EDUCACION FISICA, RECREACION Y DEPORTE',\n",
        "    'LICENCIATURA EN EDUCACON FISICA, RECREACION Y DEPORTES':'LICENCIATURA EN EDUCACION FISICA, RECREACION Y DEPORTE',\n",
        "    'LICENCIATURA EN EDUCACION FISICA, DEPORTE Y RECREACION ENFASIS RURAL':'LICENCIATURA EN EDUCACION FISICA, RECREACION Y DEPORTE',\n",
        "    'LICENCIATURA EN EDUCACION BASICA CON ENFASIS EN EDUCACION  FISICA, DEPORTES Y RECREACION':'LICENCIATURA EN EDUCACION FISICA, RECREACION Y DEPORTE',\n",
        "    'LICENCIATURA EN EDUCACION FISICA,RECREACION Y DEPORTE':'LICENCIATURA EN EDUCACION FISICA, RECREACION Y DEPORTE',\n",
        "    'LICENCIATURA EN EDUCACION FISICA Y DEPORTE':'LICENCIATURA EN EDUCACION FISICA, RECREACION Y DEPORTE',\n",
        "    'LICENCIATURA EN EDUCACION  FISICA, RECREACION Y DEPORTES':'LICENCIATURA EN EDUCACION FISICA, RECREACION Y DEPORTE',\n",
        "    'LICENCIATURA EN EDUCACION FISICA DEPORTES Y RECREACION':'LICENCIATURA EN EDUCACION FISICA, RECREACION Y DEPORTE',\n",
        "    'LICENCIATURA EN EDUCACION  FISICA, RECREACION Y DEPORTE':'LICENCIATURA EN EDUCACION FISICA, RECREACION Y DEPORTE'\n",
        "}\n",
        "train['E_PRGM_ACADEMICO']= train['E_PRGM_ACADEMICO'].replace(reemplazos)\n",
        "\n",
        "reemplazos = {\n",
        "    'LICENCIATURA EN EDUCACION BASICA CON ENFASIS EN EDUCACION FISICA,RECREACION Y DEPORTES':'LICENCIATURA EN EDUCACION BASICA CON ENFASIS EN EDUCACION FISICA, RECREACION Y DEPORTE',\n",
        "    'LICENCIATURA EN EDUCACION BASICA ENFASIS EN EDUCACION FISICA, RECREACION Y DEPORTE':'LICENCIATURA EN EDUCACION BASICA CON ENFASIS EN EDUCACION FISICA, RECREACION Y DEPORTE',\n",
        "    'LICENCIATURA EN EDUCACION BASICA CON ENFASIS EN EDUCACION FISICA,RECREACION Y DEPORTE':'LICENCIATURA EN EDUCACION BASICA CON ENFASIS EN EDUCACION FISICA, RECREACION Y DEPORTE',\n",
        "    'LICENCIATURA EN EDUCACION BASICA CON ENFASIS EN EDUCACION  FISICA, DEPORTES Y RECREACION':'LICENCIATURA EN EDUCACION BASICA CON ENFASIS EN EDUCACION FISICA, RECREACION Y DEPORTE',\n",
        "    'LICENCIATURA EN EDUCACION BASICA CON ENFASIS EN EDUCACION FISICA, RECREACION Y DEPORTE':'LICENCIATURA EN EDUCACION BASICA CON ENFASIS EN EDUCACION FISICA, RECREACION Y DEPORTE'\n",
        "}\n",
        "train['E_PRGM_ACADEMICO']= train['E_PRGM_ACADEMICO'].replace(reemplazos)\n",
        "\n",
        "reemplazos = {\n",
        "    'DEPORTE Y ACTIVIDADA FISICA':'DEPORTE Y ACTIVIDAD FISICA',\n",
        "    'DEPORTE Y CULTURA FISICA':'DEPORTE Y ACTIVIDAD FISICA'\n",
        "}\n",
        "train['E_PRGM_ACADEMICO']= train['E_PRGM_ACADEMICO'].replace(reemplazos)\n",
        "\n",
        "reemplazos = {\n",
        "    'CIENCIAS DEL DEPORTE Y LA ACTIVIDAD FISICA':'LICENCIATURA EN CIENCIAS DEL DEPORTE Y LA EDUCACION FISICA',\n",
        "    'CIENCIAS DEL DEPORTE Y DE LA EDUCACION FISICA':'LICENCIATURA EN CIENCIAS DEL DEPORTE Y LA EDUCACION FISICA'\n",
        "}\n",
        "train['E_PRGM_ACADEMICO']= train['E_PRGM_ACADEMICO'].replace(reemplazos)"
      ],
      "metadata": {
        "id": "uLVmp5RTwLvm"
      },
      "execution_count": null,
      "outputs": []
    },
    {
      "cell_type": "code",
      "source": [
        "train[train['E_PRGM_ACADEMICO'].str.contains(r'LICENCIATURA.*FISICA.*DEPORTE|DEPORTE.*FISICA', regex=True)]['E_PRGM_ACADEMICO'].unique()"
      ],
      "metadata": {
        "colab": {
          "base_uri": "https://localhost:8080/"
        },
        "id": "-de3_Ud5zDnm",
        "outputId": "17cf85db-b501-4b48-8903-996d3339d6f7"
      },
      "execution_count": null,
      "outputs": [
        {
          "output_type": "execute_result",
          "data": {
            "text/plain": [
              "array(['LICENCIATURA EN EDUCACION FISICA, RECREACION Y DEPORTE',\n",
              "       'LICENCIATURA EN EDUCACION BASICA CON ENFASIS EN EDUCACION FISICA, RECREACION Y DEPORTES',\n",
              "       'LICENCIATURA EN CIENCIAS DEL DEPORTE Y LA EDUCACION FISICA',\n",
              "       'LICENCIATURA EN EDUCACION BASICA CON ENFASIS EN EDUCACION FISICA, RECREACION Y DEPORTE',\n",
              "       'DEPORTE Y ACTIVIDAD FISICA',\n",
              "       'LICENCIATURA EN CULTURA, FISICA, RECREACION Y DEPORTES'],\n",
              "      dtype=object)"
            ]
          },
          "metadata": {},
          "execution_count": 61
        }
      ]
    },
    {
      "cell_type": "code",
      "source": [
        "print(f'E_PRGM_ACADEMICO tiene {train[\"E_PRGM_ACADEMICO\"].nunique()} valores unicos')"
      ],
      "metadata": {
        "colab": {
          "base_uri": "https://localhost:8080/"
        },
        "id": "kMQRyj0O1C5v",
        "outputId": "2cb7b0dd-8a5f-42df-838e-a03a08a09514"
      },
      "execution_count": null,
      "outputs": [
        {
          "output_type": "stream",
          "name": "stdout",
          "text": [
            "E_PRGM_ACADEMICO tiene 739 valores unicos\n"
          ]
        }
      ]
    },
    {
      "cell_type": "code",
      "source": [
        "train['E_PRGM_ACADEMICO'].value_counts().sort_index().head(40)"
      ],
      "metadata": {
        "colab": {
          "base_uri": "https://localhost:8080/",
          "height": 1000
        },
        "id": "H_vcuC2Z1L0v",
        "outputId": "746c1d6a-a004-4453-97c5-82d4bb062394"
      },
      "execution_count": null,
      "outputs": [
        {
          "output_type": "execute_result",
          "data": {
            "text/plain": [
              "E_PRGM_ACADEMICO\n",
              "ACTIVIDAD FISICA Y DEPORTE                                  158\n",
              "ACUICULTURA                                                  77\n",
              "ADMINISTRACIN LOGSTICA                                       85\n",
              "ADMINISTRACIN PBLICA                                         45\n",
              "ADMINISTRACION                                              113\n",
              "ADMINISTRACION  FINANCIERA                                   72\n",
              "ADMINISTRACION & SERVICIO                                    28\n",
              "ADMINISTRACION AERONAUTICA                                   71\n",
              "ADMINISTRACION AGROINDUSTRIAL                                16\n",
              "ADMINISTRACION AGROPECUARIA                                 115\n",
              "ADMINISTRACION AMBIENTAL                                    507\n",
              "ADMINISTRACION AMBIENTAL Y DE LOS RECURSOS NATURALES        237\n",
              "ADMINISTRACION BANCARIA Y FINANCIERA                        132\n",
              "ADMINISTRACION COMERCIAL                                    208\n",
              "ADMINISTRACION COMERCIAL Y DE MERCADEO                      463\n",
              "ADMINISTRACION COMERCIAL Y FINANCIERA                       168\n",
              "ADMINISTRACION DE AGRONEGOCIOS                               25\n",
              "ADMINISTRACION DE COMERCIO EXTERIOR                         147\n",
              "ADMINISTRACION DE EMPRESAS                                76705\n",
              "ADMINISTRACION DE EMPRESAS  Y  GESTION AMBIENTAL            135\n",
              "ADMINISTRACION DE EMPRESAS AGROPECUARIAS                    715\n",
              "ADMINISTRACION DE EMPRESAS EN TELECOMUNICACIONES             17\n",
              "ADMINISTRACION DE EMPRESAS TURISTICAS                      1364\n",
              "ADMINISTRACION DE EMPRESAS Y FINANZAS                       104\n",
              "ADMINISTRACION DE GESTISN HUMANA                             13\n",
              "ADMINISTRACION DE HOTELERIA Y TURISMO                        11\n",
              "ADMINISTRACION DE INSTITUCIONES DE SERVICIO                  56\n",
              "ADMINISTRACION DE LA CALIDAD                                  3\n",
              "ADMINISTRACION DE LA SALUD OCUPACIONAL                       44\n",
              "ADMINISTRACION DE LA SEGURIDAD SOCIAL                       123\n",
              "ADMINISTRACION DE LA SEGURIDAD Y SALUD   EN EL TRABAJO      213\n",
              "ADMINISTRACION DE LA SEGURIDAD Y SALUD OCUPACIONAL          456\n",
              "ADMINISTRACION DE MERCADEO                                  664\n",
              "ADMINISTRACION DE MERCADEO Y LOGISTICA INTERNACIONALES        3\n",
              "ADMINISTRACION DE NEGOCIOS                                 1971\n",
              "ADMINISTRACION DE OBRAS DE ARQUITECTURA                      13\n",
              "ADMINISTRACION DE SERVICIOS DE SALUD                       1318\n",
              "ADMINISTRACION DE SISTEMAS                                    8\n",
              "ADMINISTRACION DE SISTEMAS INFORMATICOS                     189\n",
              "ADMINISTRACION DEL COMERCIO INTERNACIONAL                    42\n",
              "Name: count, dtype: int64"
            ],
            "text/html": [
              "<div>\n",
              "<style scoped>\n",
              "    .dataframe tbody tr th:only-of-type {\n",
              "        vertical-align: middle;\n",
              "    }\n",
              "\n",
              "    .dataframe tbody tr th {\n",
              "        vertical-align: top;\n",
              "    }\n",
              "\n",
              "    .dataframe thead th {\n",
              "        text-align: right;\n",
              "    }\n",
              "</style>\n",
              "<table border=\"1\" class=\"dataframe\">\n",
              "  <thead>\n",
              "    <tr style=\"text-align: right;\">\n",
              "      <th></th>\n",
              "      <th>count</th>\n",
              "    </tr>\n",
              "    <tr>\n",
              "      <th>E_PRGM_ACADEMICO</th>\n",
              "      <th></th>\n",
              "    </tr>\n",
              "  </thead>\n",
              "  <tbody>\n",
              "    <tr>\n",
              "      <th>ACTIVIDAD FISICA Y DEPORTE</th>\n",
              "      <td>158</td>\n",
              "    </tr>\n",
              "    <tr>\n",
              "      <th>ACUICULTURA</th>\n",
              "      <td>77</td>\n",
              "    </tr>\n",
              "    <tr>\n",
              "      <th>ADMINISTRACIN LOGSTICA</th>\n",
              "      <td>85</td>\n",
              "    </tr>\n",
              "    <tr>\n",
              "      <th>ADMINISTRACIN PBLICA</th>\n",
              "      <td>45</td>\n",
              "    </tr>\n",
              "    <tr>\n",
              "      <th>ADMINISTRACION</th>\n",
              "      <td>113</td>\n",
              "    </tr>\n",
              "    <tr>\n",
              "      <th>ADMINISTRACION  FINANCIERA</th>\n",
              "      <td>72</td>\n",
              "    </tr>\n",
              "    <tr>\n",
              "      <th>ADMINISTRACION &amp; SERVICIO</th>\n",
              "      <td>28</td>\n",
              "    </tr>\n",
              "    <tr>\n",
              "      <th>ADMINISTRACION AERONAUTICA</th>\n",
              "      <td>71</td>\n",
              "    </tr>\n",
              "    <tr>\n",
              "      <th>ADMINISTRACION AGROINDUSTRIAL</th>\n",
              "      <td>16</td>\n",
              "    </tr>\n",
              "    <tr>\n",
              "      <th>ADMINISTRACION AGROPECUARIA</th>\n",
              "      <td>115</td>\n",
              "    </tr>\n",
              "    <tr>\n",
              "      <th>ADMINISTRACION AMBIENTAL</th>\n",
              "      <td>507</td>\n",
              "    </tr>\n",
              "    <tr>\n",
              "      <th>ADMINISTRACION AMBIENTAL Y DE LOS RECURSOS NATURALES</th>\n",
              "      <td>237</td>\n",
              "    </tr>\n",
              "    <tr>\n",
              "      <th>ADMINISTRACION BANCARIA Y FINANCIERA</th>\n",
              "      <td>132</td>\n",
              "    </tr>\n",
              "    <tr>\n",
              "      <th>ADMINISTRACION COMERCIAL</th>\n",
              "      <td>208</td>\n",
              "    </tr>\n",
              "    <tr>\n",
              "      <th>ADMINISTRACION COMERCIAL Y DE MERCADEO</th>\n",
              "      <td>463</td>\n",
              "    </tr>\n",
              "    <tr>\n",
              "      <th>ADMINISTRACION COMERCIAL Y FINANCIERA</th>\n",
              "      <td>168</td>\n",
              "    </tr>\n",
              "    <tr>\n",
              "      <th>ADMINISTRACION DE AGRONEGOCIOS</th>\n",
              "      <td>25</td>\n",
              "    </tr>\n",
              "    <tr>\n",
              "      <th>ADMINISTRACION DE COMERCIO EXTERIOR</th>\n",
              "      <td>147</td>\n",
              "    </tr>\n",
              "    <tr>\n",
              "      <th>ADMINISTRACION DE EMPRESAS</th>\n",
              "      <td>76705</td>\n",
              "    </tr>\n",
              "    <tr>\n",
              "      <th>ADMINISTRACION DE EMPRESAS  Y  GESTION AMBIENTAL</th>\n",
              "      <td>135</td>\n",
              "    </tr>\n",
              "    <tr>\n",
              "      <th>ADMINISTRACION DE EMPRESAS AGROPECUARIAS</th>\n",
              "      <td>715</td>\n",
              "    </tr>\n",
              "    <tr>\n",
              "      <th>ADMINISTRACION DE EMPRESAS EN TELECOMUNICACIONES</th>\n",
              "      <td>17</td>\n",
              "    </tr>\n",
              "    <tr>\n",
              "      <th>ADMINISTRACION DE EMPRESAS TURISTICAS</th>\n",
              "      <td>1364</td>\n",
              "    </tr>\n",
              "    <tr>\n",
              "      <th>ADMINISTRACION DE EMPRESAS Y FINANZAS</th>\n",
              "      <td>104</td>\n",
              "    </tr>\n",
              "    <tr>\n",
              "      <th>ADMINISTRACION DE GESTISN HUMANA</th>\n",
              "      <td>13</td>\n",
              "    </tr>\n",
              "    <tr>\n",
              "      <th>ADMINISTRACION DE HOTELERIA Y TURISMO</th>\n",
              "      <td>11</td>\n",
              "    </tr>\n",
              "    <tr>\n",
              "      <th>ADMINISTRACION DE INSTITUCIONES DE SERVICIO</th>\n",
              "      <td>56</td>\n",
              "    </tr>\n",
              "    <tr>\n",
              "      <th>ADMINISTRACION DE LA CALIDAD</th>\n",
              "      <td>3</td>\n",
              "    </tr>\n",
              "    <tr>\n",
              "      <th>ADMINISTRACION DE LA SALUD OCUPACIONAL</th>\n",
              "      <td>44</td>\n",
              "    </tr>\n",
              "    <tr>\n",
              "      <th>ADMINISTRACION DE LA SEGURIDAD SOCIAL</th>\n",
              "      <td>123</td>\n",
              "    </tr>\n",
              "    <tr>\n",
              "      <th>ADMINISTRACION DE LA SEGURIDAD Y SALUD   EN EL TRABAJO</th>\n",
              "      <td>213</td>\n",
              "    </tr>\n",
              "    <tr>\n",
              "      <th>ADMINISTRACION DE LA SEGURIDAD Y SALUD OCUPACIONAL</th>\n",
              "      <td>456</td>\n",
              "    </tr>\n",
              "    <tr>\n",
              "      <th>ADMINISTRACION DE MERCADEO</th>\n",
              "      <td>664</td>\n",
              "    </tr>\n",
              "    <tr>\n",
              "      <th>ADMINISTRACION DE MERCADEO Y LOGISTICA INTERNACIONALES</th>\n",
              "      <td>3</td>\n",
              "    </tr>\n",
              "    <tr>\n",
              "      <th>ADMINISTRACION DE NEGOCIOS</th>\n",
              "      <td>1971</td>\n",
              "    </tr>\n",
              "    <tr>\n",
              "      <th>ADMINISTRACION DE OBRAS DE ARQUITECTURA</th>\n",
              "      <td>13</td>\n",
              "    </tr>\n",
              "    <tr>\n",
              "      <th>ADMINISTRACION DE SERVICIOS DE SALUD</th>\n",
              "      <td>1318</td>\n",
              "    </tr>\n",
              "    <tr>\n",
              "      <th>ADMINISTRACION DE SISTEMAS</th>\n",
              "      <td>8</td>\n",
              "    </tr>\n",
              "    <tr>\n",
              "      <th>ADMINISTRACION DE SISTEMAS INFORMATICOS</th>\n",
              "      <td>189</td>\n",
              "    </tr>\n",
              "    <tr>\n",
              "      <th>ADMINISTRACION DEL COMERCIO INTERNACIONAL</th>\n",
              "      <td>42</td>\n",
              "    </tr>\n",
              "  </tbody>\n",
              "</table>\n",
              "</div><br><label><b>dtype:</b> int64</label>"
            ]
          },
          "metadata": {},
          "execution_count": 63
        }
      ]
    },
    {
      "cell_type": "code",
      "source": [
        "train[train['E_PRGM_ACADEMICO'].str.contains(r'LOGSTICA|LOGISTICA', regex=True)]['E_PRGM_ACADEMICO'].unique()"
      ],
      "metadata": {
        "colab": {
          "base_uri": "https://localhost:8080/"
        },
        "id": "vDWvCw1vHyFy",
        "outputId": "b2e92900-cc72-455c-9dec-0ef3b1298eb9"
      },
      "execution_count": null,
      "outputs": [
        {
          "output_type": "execute_result",
          "data": {
            "text/plain": [
              "array(['ADMINISTRACIN LOGSTICA', 'ADMINISTRACION LOGISTICA',\n",
              "       'ADMINISTRACION EN MERCADEO Y LOGISTICA INTERNACIONALES',\n",
              "       'MARKETING Y LOGISTICA', 'LOGISTICA EMPRESARIAL',\n",
              "       'ADMINISTRACION EN LOGISTICA Y PRODUCCION',\n",
              "       'LOGISTICA Y MERCADEO ORGANIZACIONAL',\n",
              "       'INGENIERIA EN LOGISTICA Y OPERACIONES',\n",
              "       'ADMINISTRACION DE MERCADEO Y LOGISTICA INTERNACIONALES'],\n",
              "      dtype=object)"
            ]
          },
          "metadata": {},
          "execution_count": 64
        }
      ]
    },
    {
      "cell_type": "code",
      "source": [
        "reemplazos = {\n",
        "    'ADMINISTRACIN LOGSTICA':'ADMINISTRACION LOGISTICA'\n",
        "}\n",
        "train['E_PRGM_ACADEMICO']= train['E_PRGM_ACADEMICO'].replace(reemplazos)\n",
        "\n",
        "reemplazos = {\n",
        "    'ADMINISTRACION DE MERCADEO Y LOGISTICA INTERNACIONALES':'ADMINISTRACION DE MERCADEO Y LOGISTICA INTERNACIONAL',\n",
        "    'ADMINISTRACION EN MERCADEO Y LOGISTICA INTERNACIONALES':'ADMINISTRACION DE MERCADEO Y LOGISTICA INTERNACIONAL'\n",
        "}\n",
        "train['E_PRGM_ACADEMICO']= train['E_PRGM_ACADEMICO'].replace(reemplazos)"
      ],
      "metadata": {
        "id": "em0FCRPoILwY"
      },
      "execution_count": null,
      "outputs": []
    },
    {
      "cell_type": "code",
      "source": [
        "train[train['E_PRGM_ACADEMICO'].str.contains(r'LOGSTICA|LOGISTICA', regex=True)]['E_PRGM_ACADEMICO'].unique()"
      ],
      "metadata": {
        "colab": {
          "base_uri": "https://localhost:8080/"
        },
        "id": "ZrMzpTQbJF3H",
        "outputId": "69540b4c-1f54-472f-8242-c6532a26ec78"
      },
      "execution_count": null,
      "outputs": [
        {
          "output_type": "execute_result",
          "data": {
            "text/plain": [
              "array(['ADMINISTRACION LOGISTICA',\n",
              "       'ADMINISTRACION DE MERCADEO Y LOGISTICA INTERNACIONAL',\n",
              "       'MARKETING Y LOGISTICA', 'LOGISTICA EMPRESARIAL',\n",
              "       'ADMINISTRACION EN LOGISTICA Y PRODUCCION',\n",
              "       'LOGISTICA Y MERCADEO ORGANIZACIONAL',\n",
              "       'INGENIERIA EN LOGISTICA Y OPERACIONES'], dtype=object)"
            ]
          },
          "metadata": {},
          "execution_count": 66
        }
      ]
    },
    {
      "cell_type": "code",
      "source": [
        "print(f'E_PRGM_ACADEMICO tiene {train[\"E_PRGM_ACADEMICO\"].nunique()} valores unicos')"
      ],
      "metadata": {
        "colab": {
          "base_uri": "https://localhost:8080/"
        },
        "id": "YtqNuePFJQUn",
        "outputId": "741e78b8-49b1-415d-d05e-5bb8a694e7f1"
      },
      "execution_count": null,
      "outputs": [
        {
          "output_type": "stream",
          "name": "stdout",
          "text": [
            "E_PRGM_ACADEMICO tiene 737 valores unicos\n"
          ]
        }
      ]
    },
    {
      "cell_type": "code",
      "source": [
        "train[train['E_PRGM_ACADEMICO'].str.contains(r'ADMINISTRACIN|PBLICA|PUBLICA', regex=True)]['E_PRGM_ACADEMICO'].unique()"
      ],
      "metadata": {
        "colab": {
          "base_uri": "https://localhost:8080/"
        },
        "id": "kb0tEizMJf0d",
        "outputId": "a2c7030f-6400-49df-c17b-eda78b4aa30c"
      },
      "execution_count": null,
      "outputs": [
        {
          "output_type": "execute_result",
          "data": {
            "text/plain": [
              "array(['CONTADURIA PUBLICA', 'ADMINISTRACION PUBLICA TERRITORIAL',\n",
              "       'ADMINISTRACION PUBLICA', 'PROFESIONAL EN CONTADURIA PUBLICA',\n",
              "       'CONTADURIA PUBLICA.',\n",
              "       'CONTADURIA PUBLICA Y FINANZAS INTERNACIONALES',\n",
              "       'PERIODISMO Y OPINION PUBLICA', 'CONTADURIA PBLICA',\n",
              "       'CONTADURIA PUBLICA ENFASIS EN SISTEMAS Y ECONOMIA SOLIDARIA',\n",
              "       'DISEO Y ADMINISTRACIN DE NEGOCIOS DE LA MODA',\n",
              "       'COMUNICACION CORPORATIVA Y RELACIONES PUBLICAS',\n",
              "       'ADMINISTRACIN PBLICA'], dtype=object)"
            ]
          },
          "metadata": {},
          "execution_count": 68
        }
      ]
    },
    {
      "cell_type": "code",
      "source": [
        "reemplazos = {\n",
        "    'PROFESIONAL EN CONTADURIA PUBLICA':'CONTADURIA PUBLICA',\n",
        "    'CONTADURIA PUBLICA.':'CONTADURIA PUBLICA',\n",
        "    'CONTADURIA PBLICA':'CONTADURIA PUBLICA',\n",
        "}\n",
        "train['E_PRGM_ACADEMICO']= train['E_PRGM_ACADEMICO'].replace(reemplazos)\n",
        "\n",
        "reemplazos = {\n",
        "    'ADMINISTRACION PUBLICA TERRITORIAL':'ADMINISTRACION PUBLICA',\n",
        "    'ADMINISTRACIN PBLICA':'ADMINISTRACION PUBLICA',\n",
        "}\n",
        "train['E_PRGM_ACADEMICO']= train['E_PRGM_ACADEMICO'].replace(reemplazos)"
      ],
      "metadata": {
        "id": "-NZjymEzJ8VT"
      },
      "execution_count": null,
      "outputs": []
    },
    {
      "cell_type": "code",
      "source": [
        "train[train['E_PRGM_ACADEMICO'].str.contains(r'ADMINISTRACIN|PBLICA|PUBLICA', regex=True)]['E_PRGM_ACADEMICO'].unique()"
      ],
      "metadata": {
        "colab": {
          "base_uri": "https://localhost:8080/"
        },
        "id": "l66SdxHkLBu7",
        "outputId": "2cbeb4c9-83b1-4358-b0cc-057b69d24275"
      },
      "execution_count": null,
      "outputs": [
        {
          "output_type": "execute_result",
          "data": {
            "text/plain": [
              "array(['CONTADURIA PUBLICA', 'ADMINISTRACION PUBLICA',\n",
              "       'CONTADURIA PUBLICA Y FINANZAS INTERNACIONALES',\n",
              "       'PERIODISMO Y OPINION PUBLICA',\n",
              "       'CONTADURIA PUBLICA ENFASIS EN SISTEMAS Y ECONOMIA SOLIDARIA',\n",
              "       'DISEO Y ADMINISTRACIN DE NEGOCIOS DE LA MODA',\n",
              "       'COMUNICACION CORPORATIVA Y RELACIONES PUBLICAS'], dtype=object)"
            ]
          },
          "metadata": {},
          "execution_count": 70
        }
      ]
    },
    {
      "cell_type": "code",
      "source": [
        "print(f'E_PRGM_ACADEMICO tiene {train[\"E_PRGM_ACADEMICO\"].nunique()} valores unicos')"
      ],
      "metadata": {
        "colab": {
          "base_uri": "https://localhost:8080/"
        },
        "id": "WphmI0hfLERo",
        "outputId": "072b40bc-8b6a-444a-fd17-9b917fb662e9"
      },
      "execution_count": null,
      "outputs": [
        {
          "output_type": "stream",
          "name": "stdout",
          "text": [
            "E_PRGM_ACADEMICO tiene 732 valores unicos\n"
          ]
        }
      ]
    },
    {
      "cell_type": "code",
      "source": [
        "train[train['E_PRGM_ACADEMICO'].str.contains(r'ADMINISTRACIN.*AMBIENTAL|ADMINISTRACION.*AMBIENTAL', regex=True)]['E_PRGM_ACADEMICO'].unique()"
      ],
      "metadata": {
        "colab": {
          "base_uri": "https://localhost:8080/"
        },
        "id": "YM4f8oSILQQI",
        "outputId": "3c6a1b52-dd82-4899-c605-cee2f1193148"
      },
      "execution_count": null,
      "outputs": [
        {
          "output_type": "execute_result",
          "data": {
            "text/plain": [
              "array(['ADMINISTRACION AMBIENTAL',\n",
              "       'ADMINISTRACION AMBIENTAL Y DE LOS RECURSOS NATURALES',\n",
              "       'ADMINISTRACION Y GESTION AMBIENTAL',\n",
              "       'ADMINISTRACION DE EMPRESAS  Y  GESTION AMBIENTAL',\n",
              "       'ADMINISTRACION EN SALUD: ENFASIS EN GESTION DE SERVICIOS DE SALUD Y  ENFASIS EN GESTION SANITARIA Y AMBIENTAL'],\n",
              "      dtype=object)"
            ]
          },
          "metadata": {},
          "execution_count": 72
        }
      ]
    },
    {
      "cell_type": "code",
      "source": [
        "reemplazos = {\n",
        "    'ADMINISTRACION AMBIENTAL Y DE LOS RECURSOS NATURALES':'ADMINISTRACION AMBIENTAL',\n",
        "    'ADMINISTRACION Y GESTION AMBIENTAL':'ADMINISTRACION AMBIENTAL',\n",
        "}\n",
        "train['E_PRGM_ACADEMICO']= train['E_PRGM_ACADEMICO'].replace(reemplazos)"
      ],
      "metadata": {
        "id": "cnye2zCFLqxR"
      },
      "execution_count": null,
      "outputs": []
    },
    {
      "cell_type": "code",
      "source": [
        "train[train['E_PRGM_ACADEMICO'].str.contains(r'ADMINISTRACIN.*AMBIENTAL|ADMINISTRACION.*AMBIENTAL', regex=True)]['E_PRGM_ACADEMICO'].unique()"
      ],
      "metadata": {
        "colab": {
          "base_uri": "https://localhost:8080/"
        },
        "id": "rpdCOy-ZL6BF",
        "outputId": "78335249-6bc2-4571-854d-cc0929ba1751"
      },
      "execution_count": null,
      "outputs": [
        {
          "output_type": "execute_result",
          "data": {
            "text/plain": [
              "array(['ADMINISTRACION AMBIENTAL',\n",
              "       'ADMINISTRACION DE EMPRESAS  Y  GESTION AMBIENTAL',\n",
              "       'ADMINISTRACION EN SALUD: ENFASIS EN GESTION DE SERVICIOS DE SALUD Y  ENFASIS EN GESTION SANITARIA Y AMBIENTAL'],\n",
              "      dtype=object)"
            ]
          },
          "metadata": {},
          "execution_count": 74
        }
      ]
    },
    {
      "cell_type": "code",
      "source": [
        "print(f'E_PRGM_ACADEMICO tiene {train[\"E_PRGM_ACADEMICO\"].nunique()} valores unicos')"
      ],
      "metadata": {
        "colab": {
          "base_uri": "https://localhost:8080/"
        },
        "id": "Ar267vYSgAnu",
        "outputId": "1421f538-55d7-4cf4-c9ae-ca5c49255909"
      },
      "execution_count": null,
      "outputs": [
        {
          "output_type": "stream",
          "name": "stdout",
          "text": [
            "E_PRGM_ACADEMICO tiene 730 valores unicos\n"
          ]
        }
      ]
    },
    {
      "cell_type": "code",
      "source": [
        "train[train['E_PRGM_ACADEMICO'].str.contains(r'ADMINISTRACIN.*SALUD|ADMINISTRACION.*SALUD', regex=True)]['E_PRGM_ACADEMICO'].unique()"
      ],
      "metadata": {
        "colab": {
          "base_uri": "https://localhost:8080/"
        },
        "id": "FcvzY6X5L_FX",
        "outputId": "206e8f9f-420a-4553-c646-15679f5346d8"
      },
      "execution_count": null,
      "outputs": [
        {
          "output_type": "execute_result",
          "data": {
            "text/plain": [
              "array(['ADMINISTRACION EN SALUD OCUPACIONAL', 'ADMINISTRACION EN SALUD',\n",
              "       'ADMINISTRACION EN SEGURIDAD Y SALUD EN EL TRABAJO',\n",
              "       'ADMINISTRACION INTEGRAL DE RIESGOS DE SEGURIDAD Y SALUD EN EL TRABAJO',\n",
              "       'ADMINISTRACION DE LA SEGURIDAD Y SALUD OCUPACIONAL',\n",
              "       'ADMINISTRACION DE SERVICIOS DE SALUD',\n",
              "       'ADMINISTRACION EN SALUD: ENFASIS EN GESTION DE SERVICIOS DE SALUD Y  ENFASIS EN GESTION SANITARIA Y AMBIENTAL',\n",
              "       'ADMINISTRACION DE LA SALUD OCUPACIONAL',\n",
              "       'ADMINISTRACION DE LA SEGURIDAD Y SALUD   EN EL TRABAJO',\n",
              "       'ADMINISTRACION EN SERVICIOS DE SALUD'], dtype=object)"
            ]
          },
          "metadata": {},
          "execution_count": 76
        }
      ]
    },
    {
      "cell_type": "code",
      "source": [
        "reemplazos = {\n",
        "    'ADMINISTRACION EN SALUD':'ADMINISTRACION DE SERVICIOS DE SALUD',\n",
        "    'ADMINISTRACION EN SALUD: ENFASIS EN GESTION DE SERVICIOS DE SALUD Y  ENFASIS EN GESTION SANITARIA Y AMBIENTAL':'ADMINISTRACION DE SERVICIOS DE SALUD',\n",
        "    'ADMINISTRACION EN SERVICIOS DE SALUD':'ADMINISTRACION DE SERVICIOS DE SALUD'\n",
        "}\n",
        "train['E_PRGM_ACADEMICO']= train['E_PRGM_ACADEMICO'].replace(reemplazos)\n",
        "\n",
        "reemplazos = {\n",
        "    'ADMINISTRACION EN SEGURIDAD Y SALUD EN EL TRABAJO':'ADMINISTRACION EN SALUD OCUPACIONAL',\n",
        "    'ADMINISTRACION INTEGRAL DE RIESGOS DE SEGURIDAD Y SALUD EN EL TRABAJO':'ADMINISTRACION EN SALUD OCUPACIONAL',\n",
        "    'ADMINISTRACION DE LA SEGURIDAD Y SALUD OCUPACIONAL':'ADMINISTRACION EN SALUD OCUPACIONAL',\n",
        "    'ADMINISTRACION DE LA SALUD OCUPACIONAL':'ADMINISTRACION EN SALUD OCUPACIONAL',\n",
        "    'ADMINISTRACION DE LA SEGURIDAD Y SALUD   EN EL TRABAJO':'ADMINISTRACION EN SALUD OCUPACIONAL'\n",
        "}\n",
        "train['E_PRGM_ACADEMICO']= train['E_PRGM_ACADEMICO'].replace(reemplazos)"
      ],
      "metadata": {
        "id": "nXim7dw2MEPP"
      },
      "execution_count": null,
      "outputs": []
    },
    {
      "cell_type": "code",
      "source": [
        "train[train['E_PRGM_ACADEMICO'].str.contains(r'ADMINISTRACIN.*SALUD|ADMINISTRACION.*SALUD', regex=True)]['E_PRGM_ACADEMICO'].unique()"
      ],
      "metadata": {
        "colab": {
          "base_uri": "https://localhost:8080/"
        },
        "id": "dnKc2HtHNG8e",
        "outputId": "ab0335c2-d1fa-4b81-edbe-8455605446e2"
      },
      "execution_count": null,
      "outputs": [
        {
          "output_type": "execute_result",
          "data": {
            "text/plain": [
              "array(['ADMINISTRACION EN SALUD OCUPACIONAL',\n",
              "       'ADMINISTRACION DE SERVICIOS DE SALUD'], dtype=object)"
            ]
          },
          "metadata": {},
          "execution_count": 78
        }
      ]
    },
    {
      "cell_type": "code",
      "source": [
        "print(f'E_PRGM_ACADEMICO tiene {train[\"E_PRGM_ACADEMICO\"].nunique()} valores unicos')"
      ],
      "metadata": {
        "colab": {
          "base_uri": "https://localhost:8080/"
        },
        "id": "GNKjsKlqNLOH",
        "outputId": "724a1f81-e9c6-48f3-bc93-73670ead11f5"
      },
      "execution_count": null,
      "outputs": [
        {
          "output_type": "stream",
          "name": "stdout",
          "text": [
            "E_PRGM_ACADEMICO tiene 722 valores unicos\n"
          ]
        }
      ]
    },
    {
      "cell_type": "code",
      "source": [
        "train[train['E_PRGM_ACADEMICO'].str.contains(r'ADMINISTRACIN.*FINANCIERA|ADMINISTRACION.*FINANCIERA|ADMINISTRACIN.*BANCARIA|ADMINISTRACION.*BANCARIA', regex=True)]['E_PRGM_ACADEMICO'].unique()"
      ],
      "metadata": {
        "colab": {
          "base_uri": "https://localhost:8080/"
        },
        "id": "fRwLBl06NS1P",
        "outputId": "6d5d7b31-6d0c-4b3d-ef8c-383400d8be56"
      },
      "execution_count": null,
      "outputs": [
        {
          "output_type": "execute_result",
          "data": {
            "text/plain": [
              "array(['ADMINISTRACION FINANCIERA',\n",
              "       'ADMINISTRACION BANCARIA Y FINANCIERA',\n",
              "       'ADMINISTRACION COMERCIAL Y FINANCIERA',\n",
              "       'ADMINISTRACION FINANCIERA Y DE SISTEMAS',\n",
              "       'ADMINISTRACION  FINANCIERA'], dtype=object)"
            ]
          },
          "metadata": {},
          "execution_count": 80
        }
      ]
    },
    {
      "cell_type": "markdown",
      "source": [
        "Hay valores duplicados, exepto que difieren por un o varios espacios entre las palabras.\n",
        "\n",
        "Se procede a eliminar estos espacios extra."
      ],
      "metadata": {
        "id": "CAtXQqNOhc35"
      }
    },
    {
      "cell_type": "code",
      "source": [
        "train['E_PRGM_ACADEMICO'] = train['E_PRGM_ACADEMICO'].str.replace(r'\\s+', ' ', regex=True).str.strip()"
      ],
      "metadata": {
        "id": "cu91rUk_gl6z"
      },
      "execution_count": null,
      "outputs": []
    },
    {
      "cell_type": "markdown",
      "source": [
        "- `\\s+` es una expresión regular que coincide con uno o más espacios en blanco consecutivos.\n",
        "\n",
        "- `.str.replace(r'\\s+', ' ', regex=True)` reemplaza esos espacios consecutivos por un solo espacio.\n",
        "\n",
        "- `.str.strip()` elimina los posibles espacios al principio y al final de la cadena."
      ],
      "metadata": {
        "id": "JiuZP8q1hBZr"
      }
    },
    {
      "cell_type": "code",
      "source": [
        "train[train['E_PRGM_ACADEMICO'].str.contains(r'ADMINISTRACIN.*FINANCIERA|ADMINISTRACION.*FINANCIERA|ADMINISTRACIN.*BANCARIA|ADMINISTRACION.*BANCARIA', regex=True)]['E_PRGM_ACADEMICO'].unique()"
      ],
      "metadata": {
        "colab": {
          "base_uri": "https://localhost:8080/"
        },
        "id": "_JLqs-a1hSuz",
        "outputId": "487360b3-54f5-491f-8b11-68964c531ace"
      },
      "execution_count": null,
      "outputs": [
        {
          "output_type": "execute_result",
          "data": {
            "text/plain": [
              "array(['ADMINISTRACION FINANCIERA',\n",
              "       'ADMINISTRACION BANCARIA Y FINANCIERA',\n",
              "       'ADMINISTRACION COMERCIAL Y FINANCIERA',\n",
              "       'ADMINISTRACION FINANCIERA Y DE SISTEMAS'], dtype=object)"
            ]
          },
          "metadata": {},
          "execution_count": 82
        }
      ]
    },
    {
      "cell_type": "code",
      "source": [
        "print(f'E_PRGM_ACADEMICO tiene {train[\"E_PRGM_ACADEMICO\"].nunique()} valores unicos')"
      ],
      "metadata": {
        "colab": {
          "base_uri": "https://localhost:8080/"
        },
        "id": "l7ZQp680hVgf",
        "outputId": "f4c86456-cef7-40d1-a756-1535436f959c"
      },
      "execution_count": null,
      "outputs": [
        {
          "output_type": "stream",
          "name": "stdout",
          "text": [
            "E_PRGM_ACADEMICO tiene 702 valores unicos\n"
          ]
        }
      ]
    },
    {
      "cell_type": "code",
      "source": [
        "train[train['E_PRGM_ACADEMICO'].str.contains(r'DERECHO', regex=True)]['E_PRGM_ACADEMICO'].unique()"
      ],
      "metadata": {
        "colab": {
          "base_uri": "https://localhost:8080/"
        },
        "id": "LBI8iCO3EQDu",
        "outputId": "0f4f858f-6a35-4833-9571-6602d78242f7"
      },
      "execution_count": null,
      "outputs": [
        {
          "output_type": "execute_result",
          "data": {
            "text/plain": [
              "array(['DERECHO', 'DERECHO Y CIENCIAS POLITICAS',\n",
              "       'DERECHO Y CIENCIAS SOCIALES',\n",
              "       'LICENCIATURA EN EDUCACION COMUNITARIA CON ENFASIS EN DERECHOS HUMANOS'],\n",
              "      dtype=object)"
            ]
          },
          "metadata": {},
          "execution_count": 84
        }
      ]
    },
    {
      "cell_type": "code",
      "source": [
        "train[train['E_PRGM_ACADEMICO'].str.contains(r'PSICOLOGIA', regex=True)]['E_PRGM_ACADEMICO'].unique()"
      ],
      "metadata": {
        "colab": {
          "base_uri": "https://localhost:8080/"
        },
        "id": "fphrEfwAF04C",
        "outputId": "505959bf-bdf7-4ccd-da4d-fdc93c0e3efd"
      },
      "execution_count": null,
      "outputs": [
        {
          "output_type": "execute_result",
          "data": {
            "text/plain": [
              "array(['PSICOLOGIA', 'LICENCIATURA EN PSICOLOGIA Y PEDAGOGIA',\n",
              "       'PROFESIONAL EN PSICOLOGIA'], dtype=object)"
            ]
          },
          "metadata": {},
          "execution_count": 85
        }
      ]
    },
    {
      "cell_type": "code",
      "source": [
        "train['E_PRGM_ACADEMICO'] = train['E_PRGM_ACADEMICO'].replace('PROFESIONAL EN PSICOLOGIA', 'PSICOLOGIA')"
      ],
      "metadata": {
        "id": "ZfKvzyRgF7rq"
      },
      "execution_count": null,
      "outputs": []
    },
    {
      "cell_type": "code",
      "source": [
        "train[train['E_PRGM_ACADEMICO'].str.contains(r'PSICOLOGIA', regex=True)]['E_PRGM_ACADEMICO'].unique()"
      ],
      "metadata": {
        "colab": {
          "base_uri": "https://localhost:8080/"
        },
        "id": "RCGVnBuQICO_",
        "outputId": "5ed24fe7-2abc-48b2-99c4-9101260b68c6"
      },
      "execution_count": null,
      "outputs": [
        {
          "output_type": "execute_result",
          "data": {
            "text/plain": [
              "array(['PSICOLOGIA', 'LICENCIATURA EN PSICOLOGIA Y PEDAGOGIA'],\n",
              "      dtype=object)"
            ]
          },
          "metadata": {},
          "execution_count": 87
        }
      ]
    },
    {
      "cell_type": "code",
      "source": [
        "print(f'E_PRGM_ACADEMICO tiene {train[\"E_PRGM_ACADEMICO\"].nunique()} valores unicos')"
      ],
      "metadata": {
        "id": "RDLN1wnakWMe",
        "colab": {
          "base_uri": "https://localhost:8080/"
        },
        "outputId": "fa628d97-4e90-41b0-8693-00b80fc32dda"
      },
      "execution_count": null,
      "outputs": [
        {
          "output_type": "stream",
          "name": "stdout",
          "text": [
            "E_PRGM_ACADEMICO tiene 701 valores unicos\n"
          ]
        }
      ]
    },
    {
      "cell_type": "markdown",
      "source": [
        "`E_PRGM_ACADEMICO` con pocos datos"
      ],
      "metadata": {
        "id": "Lllp0mzy_uZ-"
      }
    },
    {
      "cell_type": "code",
      "source": [
        "porcentaje_programa = train['E_PRGM_ACADEMICO'].value_counts(normalize=True) * 100\n",
        "porcentaje_programa"
      ],
      "metadata": {
        "colab": {
          "base_uri": "https://localhost:8080/",
          "height": 875
        },
        "id": "SufQ6R2zoD6m",
        "outputId": "b9c7d3e6-627e-43d1-95b3-f4715fde8da2"
      },
      "execution_count": null,
      "outputs": [
        {
          "output_type": "execute_result",
          "data": {
            "text/plain": [
              "E_PRGM_ACADEMICO\n",
              "ADMINISTRACION DE EMPRESAS                                                11.502156\n",
              "CONTADURIA PUBLICA                                                         7.686598\n",
              "DERECHO                                                                    7.601275\n",
              "PSICOLOGIA                                                                 7.237488\n",
              "INGENIERIA INDUSTRIAL                                                      5.053421\n",
              "                                                                            ...    \n",
              "CIENCIAS DE LA COMPUTACION                                                 0.000150\n",
              "LICENCIATURA EN EDUCACION ENFASIS EN CIENCIAS SOCIALES                     0.000150\n",
              "LICENCIATURA EN EDUCACION BASICA PRIMARIA:ENFASIS EN CIENCIAS SOCIALES     0.000150\n",
              "QUIMICA Y FARMACIA                                                         0.000150\n",
              "PROFESIONAL EN INVESTIGACION CRIMINAL                                      0.000150\n",
              "Name: proportion, Length: 701, dtype: float64"
            ],
            "text/html": [
              "<div>\n",
              "<style scoped>\n",
              "    .dataframe tbody tr th:only-of-type {\n",
              "        vertical-align: middle;\n",
              "    }\n",
              "\n",
              "    .dataframe tbody tr th {\n",
              "        vertical-align: top;\n",
              "    }\n",
              "\n",
              "    .dataframe thead th {\n",
              "        text-align: right;\n",
              "    }\n",
              "</style>\n",
              "<table border=\"1\" class=\"dataframe\">\n",
              "  <thead>\n",
              "    <tr style=\"text-align: right;\">\n",
              "      <th></th>\n",
              "      <th>proportion</th>\n",
              "    </tr>\n",
              "    <tr>\n",
              "      <th>E_PRGM_ACADEMICO</th>\n",
              "      <th></th>\n",
              "    </tr>\n",
              "  </thead>\n",
              "  <tbody>\n",
              "    <tr>\n",
              "      <th>ADMINISTRACION DE EMPRESAS</th>\n",
              "      <td>11.502156</td>\n",
              "    </tr>\n",
              "    <tr>\n",
              "      <th>CONTADURIA PUBLICA</th>\n",
              "      <td>7.686598</td>\n",
              "    </tr>\n",
              "    <tr>\n",
              "      <th>DERECHO</th>\n",
              "      <td>7.601275</td>\n",
              "    </tr>\n",
              "    <tr>\n",
              "      <th>PSICOLOGIA</th>\n",
              "      <td>7.237488</td>\n",
              "    </tr>\n",
              "    <tr>\n",
              "      <th>INGENIERIA INDUSTRIAL</th>\n",
              "      <td>5.053421</td>\n",
              "    </tr>\n",
              "    <tr>\n",
              "      <th>...</th>\n",
              "      <td>...</td>\n",
              "    </tr>\n",
              "    <tr>\n",
              "      <th>CIENCIAS DE LA COMPUTACION</th>\n",
              "      <td>0.000150</td>\n",
              "    </tr>\n",
              "    <tr>\n",
              "      <th>LICENCIATURA EN EDUCACION ENFASIS EN CIENCIAS SOCIALES</th>\n",
              "      <td>0.000150</td>\n",
              "    </tr>\n",
              "    <tr>\n",
              "      <th>LICENCIATURA EN EDUCACION BASICA PRIMARIA:ENFASIS EN CIENCIAS SOCIALES</th>\n",
              "      <td>0.000150</td>\n",
              "    </tr>\n",
              "    <tr>\n",
              "      <th>QUIMICA Y FARMACIA</th>\n",
              "      <td>0.000150</td>\n",
              "    </tr>\n",
              "    <tr>\n",
              "      <th>PROFESIONAL EN INVESTIGACION CRIMINAL</th>\n",
              "      <td>0.000150</td>\n",
              "    </tr>\n",
              "  </tbody>\n",
              "</table>\n",
              "<p>701 rows × 1 columns</p>\n",
              "</div><br><label><b>dtype:</b> float64</label>"
            ]
          },
          "metadata": {},
          "execution_count": 89
        }
      ]
    },
    {
      "cell_type": "markdown",
      "source": [
        "Programas con al menos el 0.0045% de la totalidad de los datos"
      ],
      "metadata": {
        "id": "VVR25LdBofz3"
      }
    },
    {
      "cell_type": "code",
      "source": [
        "porcentaje_programa[porcentaje_programa > 0.0045]"
      ],
      "metadata": {
        "id": "Ida_17hiqaH3",
        "colab": {
          "base_uri": "https://localhost:8080/",
          "height": 718
        },
        "outputId": "c6ae2b5e-4b0c-47bc-ac21-756466e986a4"
      },
      "execution_count": null,
      "outputs": [
        {
          "output_type": "execute_result",
          "data": {
            "text/plain": [
              "E_PRGM_ACADEMICO\n",
              "ADMINISTRACION DE EMPRESAS    11.502156\n",
              "CONTADURIA PUBLICA             7.686598\n",
              "DERECHO                        7.601275\n",
              "PSICOLOGIA                     7.237488\n",
              "INGENIERIA INDUSTRIAL          5.053421\n",
              "                                ...    \n",
              "CIENCIAS BIBLICAS              0.004948\n",
              "COMUNICACIN SOCIAL             0.004799\n",
              "BIOQUIMICA                     0.004799\n",
              "OCEANOGRAFIA FISICA            0.004799\n",
              "BANCA Y FINANZAS               0.004649\n",
              "Name: proportion, Length: 555, dtype: float64"
            ],
            "text/html": [
              "<div>\n",
              "<style scoped>\n",
              "    .dataframe tbody tr th:only-of-type {\n",
              "        vertical-align: middle;\n",
              "    }\n",
              "\n",
              "    .dataframe tbody tr th {\n",
              "        vertical-align: top;\n",
              "    }\n",
              "\n",
              "    .dataframe thead th {\n",
              "        text-align: right;\n",
              "    }\n",
              "</style>\n",
              "<table border=\"1\" class=\"dataframe\">\n",
              "  <thead>\n",
              "    <tr style=\"text-align: right;\">\n",
              "      <th></th>\n",
              "      <th>proportion</th>\n",
              "    </tr>\n",
              "    <tr>\n",
              "      <th>E_PRGM_ACADEMICO</th>\n",
              "      <th></th>\n",
              "    </tr>\n",
              "  </thead>\n",
              "  <tbody>\n",
              "    <tr>\n",
              "      <th>ADMINISTRACION DE EMPRESAS</th>\n",
              "      <td>11.502156</td>\n",
              "    </tr>\n",
              "    <tr>\n",
              "      <th>CONTADURIA PUBLICA</th>\n",
              "      <td>7.686598</td>\n",
              "    </tr>\n",
              "    <tr>\n",
              "      <th>DERECHO</th>\n",
              "      <td>7.601275</td>\n",
              "    </tr>\n",
              "    <tr>\n",
              "      <th>PSICOLOGIA</th>\n",
              "      <td>7.237488</td>\n",
              "    </tr>\n",
              "    <tr>\n",
              "      <th>INGENIERIA INDUSTRIAL</th>\n",
              "      <td>5.053421</td>\n",
              "    </tr>\n",
              "    <tr>\n",
              "      <th>...</th>\n",
              "      <td>...</td>\n",
              "    </tr>\n",
              "    <tr>\n",
              "      <th>CIENCIAS BIBLICAS</th>\n",
              "      <td>0.004948</td>\n",
              "    </tr>\n",
              "    <tr>\n",
              "      <th>COMUNICACIN SOCIAL</th>\n",
              "      <td>0.004799</td>\n",
              "    </tr>\n",
              "    <tr>\n",
              "      <th>BIOQUIMICA</th>\n",
              "      <td>0.004799</td>\n",
              "    </tr>\n",
              "    <tr>\n",
              "      <th>OCEANOGRAFIA FISICA</th>\n",
              "      <td>0.004799</td>\n",
              "    </tr>\n",
              "    <tr>\n",
              "      <th>BANCA Y FINANZAS</th>\n",
              "      <td>0.004649</td>\n",
              "    </tr>\n",
              "  </tbody>\n",
              "</table>\n",
              "<p>555 rows × 1 columns</p>\n",
              "</div><br><label><b>dtype:</b> float64</label>"
            ]
          },
          "metadata": {},
          "execution_count": 90
        }
      ]
    },
    {
      "cell_type": "code",
      "source": [
        "porcentaje_programa[porcentaje_programa > 0.0045].sum()"
      ],
      "metadata": {
        "colab": {
          "base_uri": "https://localhost:8080/"
        },
        "id": "0Wl2HORQol5u",
        "outputId": "82e58394-2258-4dd1-d458-0a9084f0ddfe"
      },
      "execution_count": null,
      "outputs": [
        {
          "output_type": "execute_result",
          "data": {
            "text/plain": [
              "np.float64(99.7240862230553)"
            ]
          },
          "metadata": {},
          "execution_count": 91
        }
      ]
    },
    {
      "cell_type": "markdown",
      "source": [
        "Los programas con al menos el 0.0045% de todos los datos. Estos representan el 99.72% de los datos."
      ],
      "metadata": {
        "id": "rcHN78xDot0X"
      }
    },
    {
      "cell_type": "code",
      "source": [
        "porcentaje_programa[porcentaje_programa < 0.0045]"
      ],
      "metadata": {
        "colab": {
          "base_uri": "https://localhost:8080/",
          "height": 892
        },
        "id": "2ePdFosCpFmY",
        "outputId": "5c2beb0d-73a8-47f2-cd6a-c8c2cb63dfdf"
      },
      "execution_count": null,
      "outputs": [
        {
          "output_type": "execute_result",
          "data": {
            "text/plain": [
              "E_PRGM_ACADEMICO\n",
              "LETRAS - FILOLOGIA HISPANICA                                              0.004499\n",
              "ECONOMA                                                                   0.004499\n",
              "ADMINISTRACION INFORMATICA                                                0.004499\n",
              "QUMICA FARMACUTICA                                                        0.004499\n",
              "DISENO DE MODA                                                            0.004349\n",
              "                                                                            ...   \n",
              "CIENCIAS DE LA COMPUTACION                                                0.000150\n",
              "LICENCIATURA EN EDUCACION ENFASIS EN CIENCIAS SOCIALES                    0.000150\n",
              "LICENCIATURA EN EDUCACION BASICA PRIMARIA:ENFASIS EN CIENCIAS SOCIALES    0.000150\n",
              "QUIMICA Y FARMACIA                                                        0.000150\n",
              "PROFESIONAL EN INVESTIGACION CRIMINAL                                     0.000150\n",
              "Name: proportion, Length: 146, dtype: float64"
            ],
            "text/html": [
              "<div>\n",
              "<style scoped>\n",
              "    .dataframe tbody tr th:only-of-type {\n",
              "        vertical-align: middle;\n",
              "    }\n",
              "\n",
              "    .dataframe tbody tr th {\n",
              "        vertical-align: top;\n",
              "    }\n",
              "\n",
              "    .dataframe thead th {\n",
              "        text-align: right;\n",
              "    }\n",
              "</style>\n",
              "<table border=\"1\" class=\"dataframe\">\n",
              "  <thead>\n",
              "    <tr style=\"text-align: right;\">\n",
              "      <th></th>\n",
              "      <th>proportion</th>\n",
              "    </tr>\n",
              "    <tr>\n",
              "      <th>E_PRGM_ACADEMICO</th>\n",
              "      <th></th>\n",
              "    </tr>\n",
              "  </thead>\n",
              "  <tbody>\n",
              "    <tr>\n",
              "      <th>LETRAS - FILOLOGIA HISPANICA</th>\n",
              "      <td>0.004499</td>\n",
              "    </tr>\n",
              "    <tr>\n",
              "      <th>ECONOMA</th>\n",
              "      <td>0.004499</td>\n",
              "    </tr>\n",
              "    <tr>\n",
              "      <th>ADMINISTRACION INFORMATICA</th>\n",
              "      <td>0.004499</td>\n",
              "    </tr>\n",
              "    <tr>\n",
              "      <th>QUMICA FARMACUTICA</th>\n",
              "      <td>0.004499</td>\n",
              "    </tr>\n",
              "    <tr>\n",
              "      <th>DISENO DE MODA</th>\n",
              "      <td>0.004349</td>\n",
              "    </tr>\n",
              "    <tr>\n",
              "      <th>...</th>\n",
              "      <td>...</td>\n",
              "    </tr>\n",
              "    <tr>\n",
              "      <th>CIENCIAS DE LA COMPUTACION</th>\n",
              "      <td>0.000150</td>\n",
              "    </tr>\n",
              "    <tr>\n",
              "      <th>LICENCIATURA EN EDUCACION ENFASIS EN CIENCIAS SOCIALES</th>\n",
              "      <td>0.000150</td>\n",
              "    </tr>\n",
              "    <tr>\n",
              "      <th>LICENCIATURA EN EDUCACION BASICA PRIMARIA:ENFASIS EN CIENCIAS SOCIALES</th>\n",
              "      <td>0.000150</td>\n",
              "    </tr>\n",
              "    <tr>\n",
              "      <th>QUIMICA Y FARMACIA</th>\n",
              "      <td>0.000150</td>\n",
              "    </tr>\n",
              "    <tr>\n",
              "      <th>PROFESIONAL EN INVESTIGACION CRIMINAL</th>\n",
              "      <td>0.000150</td>\n",
              "    </tr>\n",
              "  </tbody>\n",
              "</table>\n",
              "<p>146 rows × 1 columns</p>\n",
              "</div><br><label><b>dtype:</b> float64</label>"
            ]
          },
          "metadata": {},
          "execution_count": 92
        }
      ]
    },
    {
      "cell_type": "code",
      "source": [
        "train['E_PRGM_ACADEMICO'].value_counts()['LETRAS - FILOLOGIA HISPANICA']"
      ],
      "metadata": {
        "id": "dpL5PkswqSli",
        "colab": {
          "base_uri": "https://localhost:8080/"
        },
        "outputId": "895a7b3a-b024-4268-ec77-908e111117f0"
      },
      "execution_count": null,
      "outputs": [
        {
          "output_type": "execute_result",
          "data": {
            "text/plain": [
              "np.int64(30)"
            ]
          },
          "metadata": {},
          "execution_count": 93
        }
      ]
    },
    {
      "cell_type": "code",
      "source": [
        "porcentaje_programa[porcentaje_programa < 0.0045].index.to_list()"
      ],
      "metadata": {
        "colab": {
          "base_uri": "https://localhost:8080/"
        },
        "id": "IlTkccumju1n",
        "outputId": "fa1f4dd2-c4a6-4849-ba73-9695fdd14709"
      },
      "execution_count": null,
      "outputs": [
        {
          "output_type": "execute_result",
          "data": {
            "text/plain": [
              "['LETRAS - FILOLOGIA HISPANICA',\n",
              " 'ECONOMA',\n",
              " 'ADMINISTRACION INFORMATICA',\n",
              " 'QUMICA FARMACUTICA',\n",
              " 'DISENO DE MODA',\n",
              " 'INSTRUMENTACION QUIRURGICA PROFESIONAL',\n",
              " 'FOTOGRAFIA',\n",
              " 'ADMINISTRACION & SERVICIO',\n",
              " 'PROFESIONAL EN FILOSOFIA',\n",
              " 'ASTRONOMIA',\n",
              " 'QUIMICA AMBIENTAL',\n",
              " 'TERAPIAS PSICOSOCIALES',\n",
              " 'REALIZACION EN ANIMACION',\n",
              " 'ARQUEOLOGIA',\n",
              " 'QUIMICA.',\n",
              " 'ADMINISTRACION DE AGRONEGOCIOS',\n",
              " 'INGENIERA INDUSTRIAL',\n",
              " 'DISEO DE COMUNICACIN GRFICA',\n",
              " 'PROFESIONAL EN GASTRONOMIA Y CULINARIA',\n",
              " 'LICENCIATURA EN MUSICA Y DANZA',\n",
              " 'LICENCIATURA EN EDUCACION BASICA CON ENFASIS EN HUMANIDADES,LENGUA CASTELLANA',\n",
              " 'PROFESIONAL EN DISENO DE INTERIORES',\n",
              " 'INGENIERIA DE MANTENIMIENTO',\n",
              " 'LICENCIATURA LENGUAS EXTRANJERAS CON ENFASIS EN INGLES',\n",
              " 'INGENIERA DE SISTEMAS',\n",
              " 'DISENO Y GESTION DE ESPACIOS',\n",
              " 'COMUNICACION CORPORATIVA Y RELACIONES PUBLICAS',\n",
              " 'PROFESIONAL EN COMUNICACION SOCIAL - PERIODISMO',\n",
              " 'SISTEMAS DE INFORMACION, BIBLIOTECOLOGIA Y ARCHIVISTICA',\n",
              " 'PROFESIONAL EN DIRECCION Y PRODUCCION DE RADIO Y TELEVISION',\n",
              " 'MUSICA INSTRUMENTO',\n",
              " 'INGENIERIA EN PROCESOS AGROINDUSTRIALES',\n",
              " 'ADMINSITRACION DE EMPRESAS',\n",
              " 'DANZA Y DIRECCION COREOGRAFICA',\n",
              " 'LICENCIATURA EN EDUCACION BASICA, ENFASIS EN CIENCIAS NATURALES Y EDUCACION AMBIENTAL',\n",
              " 'LICENCIATURA EN BILINGUISMO CON ENFASIS EN ESPANOL E INGLES',\n",
              " 'LICENCIATURA EN CIENCIAS NATURALES: FISICA QUIMICA Y BIOLOGIA',\n",
              " 'LICENCIATURA EN EDUCACION BASICA CON ENFASIS EN HUMANIDADES: LENGUA CASTELLANA E IDIOMA EXTRANJERO: INGLES',\n",
              " 'PEDAGOGIA',\n",
              " 'COMUNICACION AUDIOVISUAL Y DIGITAL',\n",
              " 'LICENCIATURA EN HUMANIDADES, LENGUA CASTELLANA E INGLES',\n",
              " 'LOGISTICA EMPRESARIAL',\n",
              " 'PROFESIONAL EN DISENO DE ALTA COSTURA',\n",
              " 'ESTUDIOS LITERARIOS Y EDICION',\n",
              " 'COMUNICACIN SOCIAL Y PERIODISMO',\n",
              " 'LICENCIATURA EN ARTES PLASTICAS Y VISUALES',\n",
              " 'ADMINISTRACION DE EMPRESAS EN TELECOMUNICACIONES',\n",
              " 'INGENIERIA MECATRONICO',\n",
              " 'LICENCIATURA EN EDUCACION BASICA CON ENFASIS EN HUMANIDADES, LENGUA CASTELLANA E INGLES',\n",
              " 'MATEMATICAS APLICADAS Y CIENCIAS DE LA COMPUTACION',\n",
              " 'INGENIERIA EN CONTROL Y AUTOMATIZACION INDUSTRIAL',\n",
              " 'ADMINISTRACION AGROINDUSTRIAL',\n",
              " 'INGENIERIA DE LA CALIDAD',\n",
              " 'LICENCIATURA EN EDUCACION BASICA CON ENFASIS EN EDUCACION ARTISTICA Y CULTURAL: MUSICA',\n",
              " 'INGENIERIA DE SISTEMAS INFORMATICOS',\n",
              " 'INGENIERIA OCEANOGRAFICA',\n",
              " 'DISEO CROSSMEDIA',\n",
              " 'MUSICA- CANTO',\n",
              " 'LICENCIATURA EN EDUCACION PREESCOLAR CON ENFASIS EN INGLES',\n",
              " 'GESTIN DEPORTIVA',\n",
              " 'LICENCIATURA EN FILOSOFIA Y HUMANIDADES',\n",
              " 'INGENIERIA DE PLASTICOS',\n",
              " 'ESTUDIOS DE ARTES LIBERALES EN CIENCIAS SOCIALES',\n",
              " 'INGENIERIA DE SOFTWARE Y COMUNICACIONES',\n",
              " 'LICENCIATURA EN MATEMATICAS Y TECNOLOGIAS DE LA INFORMACION',\n",
              " 'MARKETING',\n",
              " 'DISENO CROSSMEDIA',\n",
              " 'MATEMATICAS APLICADAS',\n",
              " 'LICENCIATURA EN EDUCACION BILINGUE- ESPANOL E INGLES',\n",
              " 'ADMINISTRACION DE OBRAS DE ARQUITECTURA',\n",
              " 'ADMINISTRACION DE GESTISN HUMANA',\n",
              " 'HISTORIA Y PATRIMONIO',\n",
              " 'CONSERVACION Y RESTAURACION DE BIENES MUEBLES',\n",
              " 'LICENCIATURA EN QUIMICA Y EDUCACION AMBIENTAL',\n",
              " 'DISENO Y GESTION DE LA MODA Y EL TEXTIL',\n",
              " 'PROFESIONAL EN DISENO DE ESPACIOS',\n",
              " 'PROFESIONAL EN GASTRONOMA',\n",
              " 'ECOLOGIA DE ZONAS COSTERAS',\n",
              " 'ESTUDIOS EN FILOSOFIA',\n",
              " 'ADMINISTRACION DE HOTELERIA Y TURISMO',\n",
              " 'INGENIERIA URBANA',\n",
              " 'LICENCIATURA EN EDUCACION BASICA CON ENFASIS EN EDUCACION ARTISTICA Y CULTURAL',\n",
              " 'DISENO Y REALIZACION DE MEDIOS DIGITALES',\n",
              " 'COMUNICACIN VISUAL',\n",
              " 'INGENIERIA PETROQUIMICA',\n",
              " 'LICENCIATURA EN FILOSOFIA, ETICA Y VALORES HUMANOS',\n",
              " 'LICENCIATURA EN DANZA CLASICA',\n",
              " 'DIRECCION DE BANDA',\n",
              " 'INGENIERIA EN CONTROL Y AUTOMATIZACION',\n",
              " 'HOTELERIA Y TURISMO ECOLOGICO',\n",
              " 'PROFESIONAL EN TURISMO Y GASTRONOMIA',\n",
              " 'ADMINISTRACION DE SISTEMAS',\n",
              " 'NARRATIVAS DIGITALES',\n",
              " 'LICENCIATURA EN EDUCACION INICIAL',\n",
              " 'TEATRO MUSICAL',\n",
              " 'URBANISMO',\n",
              " 'PROFESIONAL EN ARTES GASTRONOMICAS',\n",
              " 'ARTES PLASTICAS CON ENFASIS EN PROCESOS BIDIMENSIONALES Y TRIDIMENSIONALES',\n",
              " 'PROFESIONAL EN DISENO DE MODAS',\n",
              " 'PROFESIONAL EN PUBLICIDAD Y MERCADEO',\n",
              " 'COMERCIO Y FINANZAS INTERNACIONALES',\n",
              " 'PUBLICIDAD Y MARKETING DIGITAL',\n",
              " 'INGENIERIA EN LOGISTICA Y OPERACIONES',\n",
              " 'LICENCIATURA EN EDUCACION RELIGIOSA CON ENFASIS EN BIBLIA',\n",
              " 'GESTION CULTURAL',\n",
              " 'PROFESIONAL EN DISENO DE VESTUARIO',\n",
              " 'PROFESIONAL SEGURIDAD Y SALUD EN EL TRABAJO',\n",
              " 'COMUNICACION VISUAL Y MULTIMEDIA',\n",
              " 'COMPUTACION CIENTIFICA',\n",
              " 'OCEANOGRAFIA',\n",
              " 'INGENIERIA TEXTIL',\n",
              " 'BELLAS ARTES',\n",
              " 'BANCA Y FINANZAS INTERNACIONALES',\n",
              " 'MERCADEO Y VENTAS',\n",
              " 'INGENIERIA DE SISTEMAS CON ENFASIS EN TELECOMUNICACIONES',\n",
              " 'DISENO Y GESTION DEL PRODUCTO',\n",
              " 'INGENIERIA EN SEGURIDAD Y SALUD EN EL TRABAJO',\n",
              " 'ADMINISTRACION DE LA CALIDAD',\n",
              " 'LICENCIATURA EN HUMANIDADES',\n",
              " 'GESTION DE SISTEMAS DE INFORMACION',\n",
              " 'INGENIIERIA DE SOFTWARE',\n",
              " 'MERCADEO AGROINDUSTRIAL',\n",
              " 'LICENCIATURA EN EDUCACION BASICA PRIMARIA CON ENFASIS EN INGLES Y EN FRANCES',\n",
              " 'LICENCIATURA EN MATEMTICAS',\n",
              " 'COMUNICACION CORPORATIVA',\n",
              " 'LICENCIATURA EN PEDAGOGIA REEDUCATIVA',\n",
              " 'INGENIERIA EN AUTOMATIZACION INDUSTRIAL',\n",
              " 'LENGUAS MODERNAS Y CULTURA',\n",
              " 'DISENO GRAFICO Y MULTIMEDIAL',\n",
              " 'LICENCIATURA EN EDUCACION BASICA CON ENFASIS EN EL AREA DE TECNOLOGIA E INFORMATICA',\n",
              " 'PROFESIONAL UNIVERSITARIO EN DISENO TEXTIL PARA LA INDUSTRIA',\n",
              " 'LICENCIATURA EN FILOSOFA Y HUMANIDADES',\n",
              " 'LICENCIATURA EN EDUCACION ENFASIS EN INFORMATICA',\n",
              " 'ANIMACION',\n",
              " 'FORMACION PROFESIONAL EN DEPORTE',\n",
              " 'LICENCIATURA EN EDUCACION BASICA ENFASIS EN CIENCIAS SOCIALES',\n",
              " 'INGENIERIA EN DISENO DE MAQUINAS Y PRODUCTOS INDUSTRIALES',\n",
              " 'LICENCIATURA EN ESPANOL Y FILOLOGIA',\n",
              " 'LICENCIATURA EN ARTE Y FOLKLORE',\n",
              " 'LICENCIATURA EN ARTES ESCNICAS',\n",
              " 'LICENCIATURA EN EDUCACION BASICA CON ENFASIS EN MATEMATICAS E INFORMATICA',\n",
              " 'CIENCIAS DE LA COMPUTACION',\n",
              " 'LICENCIATURA EN EDUCACION ENFASIS EN CIENCIAS SOCIALES',\n",
              " 'LICENCIATURA EN EDUCACION BASICA PRIMARIA:ENFASIS EN CIENCIAS SOCIALES',\n",
              " 'QUIMICA Y FARMACIA',\n",
              " 'PROFESIONAL EN INVESTIGACION CRIMINAL']"
            ]
          },
          "metadata": {},
          "execution_count": 94
        }
      ]
    },
    {
      "cell_type": "markdown",
      "source": [
        "Categorias con menos de 30 datos cada una"
      ],
      "metadata": {
        "id": "hjSqgUWxASBd"
      }
    },
    {
      "cell_type": "markdown",
      "source": [
        "Se guarda en una lista, los datos que seran remplazados por 'OTROS'"
      ],
      "metadata": {
        "id": "sM-6yfOUlW0p"
      }
    },
    {
      "cell_type": "code",
      "source": [
        "programas_porcentaje_menor = ['LETRAS - FILOLOGIA HISPANICA',\n",
        " 'ECONOMA',\n",
        " 'ADMINISTRACION INFORMATICA',\n",
        " 'QUMICA FARMACUTICA',\n",
        " 'DISENO DE MODA',\n",
        " 'INSTRUMENTACION QUIRURGICA PROFESIONAL',\n",
        " 'FOTOGRAFIA',\n",
        " 'ADMINISTRACION & SERVICIO',\n",
        " 'PROFESIONAL EN FILOSOFIA',\n",
        " 'ASTRONOMIA',\n",
        " 'QUIMICA AMBIENTAL',\n",
        " 'TERAPIAS PSICOSOCIALES',\n",
        " 'REALIZACION EN ANIMACION',\n",
        " 'ARQUEOLOGIA',\n",
        " 'QUIMICA.',\n",
        " 'ADMINISTRACION DE AGRONEGOCIOS',\n",
        " 'INGENIERA INDUSTRIAL',\n",
        " 'DISEO DE COMUNICACIN GRFICA',\n",
        " 'PROFESIONAL EN GASTRONOMIA Y CULINARIA',\n",
        " 'LICENCIATURA EN MUSICA Y DANZA',\n",
        " 'LICENCIATURA EN EDUCACION BASICA CON ENFASIS EN HUMANIDADES,LENGUA CASTELLANA',\n",
        " 'PROFESIONAL EN DISENO DE INTERIORES',\n",
        " 'INGENIERIA DE MANTENIMIENTO',\n",
        " 'LICENCIATURA LENGUAS EXTRANJERAS CON ENFASIS EN INGLES',\n",
        " 'INGENIERA DE SISTEMAS',\n",
        " 'DISENO Y GESTION DE ESPACIOS',\n",
        " 'COMUNICACION CORPORATIVA Y RELACIONES PUBLICAS',\n",
        " 'PROFESIONAL EN COMUNICACION SOCIAL - PERIODISMO',\n",
        " 'SISTEMAS DE INFORMACION, BIBLIOTECOLOGIA Y ARCHIVISTICA',\n",
        " 'PROFESIONAL EN DIRECCION Y PRODUCCION DE RADIO Y TELEVISION',\n",
        " 'MUSICA INSTRUMENTO',\n",
        " 'INGENIERIA EN PROCESOS AGROINDUSTRIALES',\n",
        " 'ADMINSITRACION DE EMPRESAS',\n",
        " 'DANZA Y DIRECCION COREOGRAFICA',\n",
        " 'LICENCIATURA EN EDUCACION BASICA, ENFASIS EN CIENCIAS NATURALES Y EDUCACION AMBIENTAL',\n",
        " 'LICENCIATURA EN BILINGUISMO CON ENFASIS EN ESPANOL E INGLES',\n",
        " 'LICENCIATURA EN CIENCIAS NATURALES: FISICA QUIMICA Y BIOLOGIA',\n",
        " 'LICENCIATURA EN EDUCACION BASICA CON ENFASIS EN HUMANIDADES: LENGUA CASTELLANA E IDIOMA EXTRANJERO: INGLES',\n",
        " 'PEDAGOGIA',\n",
        " 'COMUNICACION AUDIOVISUAL Y DIGITAL',\n",
        " 'LICENCIATURA EN HUMANIDADES, LENGUA CASTELLANA E INGLES',\n",
        " 'LOGISTICA EMPRESARIAL',\n",
        " 'PROFESIONAL EN DISENO DE ALTA COSTURA',\n",
        " 'ESTUDIOS LITERARIOS Y EDICION',\n",
        " 'COMUNICACIN SOCIAL Y PERIODISMO',\n",
        " 'LICENCIATURA EN ARTES PLASTICAS Y VISUALES',\n",
        " 'ADMINISTRACION DE EMPRESAS EN TELECOMUNICACIONES',\n",
        " 'INGENIERIA MECATRONICO',\n",
        " 'LICENCIATURA EN EDUCACION BASICA CON ENFASIS EN HUMANIDADES, LENGUA CASTELLANA E INGLES',\n",
        " 'MATEMATICAS APLICADAS Y CIENCIAS DE LA COMPUTACION',\n",
        " 'INGENIERIA EN CONTROL Y AUTOMATIZACION INDUSTRIAL',\n",
        " 'ADMINISTRACION AGROINDUSTRIAL',\n",
        " 'INGENIERIA DE LA CALIDAD',\n",
        " 'LICENCIATURA EN EDUCACION BASICA CON ENFASIS EN EDUCACION ARTISTICA Y CULTURAL: MUSICA',\n",
        " 'INGENIERIA DE SISTEMAS INFORMATICOS',\n",
        " 'INGENIERIA OCEANOGRAFICA',\n",
        " 'DISEO CROSSMEDIA',\n",
        " 'MUSICA- CANTO',\n",
        " 'LICENCIATURA EN EDUCACION PREESCOLAR CON ENFASIS EN INGLES',\n",
        " 'GESTIN DEPORTIVA',\n",
        " 'LICENCIATURA EN FILOSOFIA Y HUMANIDADES',\n",
        " 'INGENIERIA DE PLASTICOS',\n",
        " 'ESTUDIOS DE ARTES LIBERALES EN CIENCIAS SOCIALES',\n",
        " 'INGENIERIA DE SOFTWARE Y COMUNICACIONES',\n",
        " 'LICENCIATURA EN MATEMATICAS Y TECNOLOGIAS DE LA INFORMACION',\n",
        " 'MARKETING',\n",
        " 'DISENO CROSSMEDIA',\n",
        " 'MATEMATICAS APLICADAS',\n",
        " 'LICENCIATURA EN EDUCACION BILINGUE- ESPANOL E INGLES',\n",
        " 'ADMINISTRACION DE OBRAS DE ARQUITECTURA',\n",
        " 'ADMINISTRACION DE GESTISN HUMANA',\n",
        " 'HISTORIA Y PATRIMONIO',\n",
        " 'CONSERVACION Y RESTAURACION DE BIENES MUEBLES',\n",
        " 'LICENCIATURA EN QUIMICA Y EDUCACION AMBIENTAL',\n",
        " 'DISENO Y GESTION DE LA MODA Y EL TEXTIL',\n",
        " 'PROFESIONAL EN DISENO DE ESPACIOS',\n",
        " 'PROFESIONAL EN GASTRONOMA',\n",
        " 'ECOLOGIA DE ZONAS COSTERAS',\n",
        " 'ESTUDIOS EN FILOSOFIA',\n",
        " 'ADMINISTRACION DE HOTELERIA Y TURISMO',\n",
        " 'INGENIERIA URBANA',\n",
        " 'LICENCIATURA EN EDUCACION BASICA CON ENFASIS EN EDUCACION ARTISTICA Y CULTURAL',\n",
        " 'DISENO Y REALIZACION DE MEDIOS DIGITALES',\n",
        " 'COMUNICACIN VISUAL',\n",
        " 'INGENIERIA PETROQUIMICA',\n",
        " 'LICENCIATURA EN FILOSOFIA, ETICA Y VALORES HUMANOS',\n",
        " 'LICENCIATURA EN DANZA CLASICA',\n",
        " 'DIRECCION DE BANDA',\n",
        " 'INGENIERIA EN CONTROL Y AUTOMATIZACION',\n",
        " 'HOTELERIA Y TURISMO ECOLOGICO',\n",
        " 'PROFESIONAL EN TURISMO Y GASTRONOMIA',\n",
        " 'ADMINISTRACION DE SISTEMAS',\n",
        " 'NARRATIVAS DIGITALES',\n",
        " 'LICENCIATURA EN EDUCACION INICIAL',\n",
        " 'TEATRO MUSICAL',\n",
        " 'URBANISMO',\n",
        " 'PROFESIONAL EN ARTES GASTRONOMICAS',\n",
        " 'ARTES PLASTICAS CON ENFASIS EN PROCESOS BIDIMENSIONALES Y TRIDIMENSIONALES',\n",
        " 'PROFESIONAL EN DISENO DE MODAS',\n",
        " 'PROFESIONAL EN PUBLICIDAD Y MERCADEO',\n",
        " 'COMERCIO Y FINANZAS INTERNACIONALES',\n",
        " 'PUBLICIDAD Y MARKETING DIGITAL',\n",
        " 'INGENIERIA EN LOGISTICA Y OPERACIONES',\n",
        " 'LICENCIATURA EN EDUCACION RELIGIOSA CON ENFASIS EN BIBLIA',\n",
        " 'GESTION CULTURAL',\n",
        " 'PROFESIONAL EN DISENO DE VESTUARIO',\n",
        " 'PROFESIONAL SEGURIDAD Y SALUD EN EL TRABAJO',\n",
        " 'COMUNICACION VISUAL Y MULTIMEDIA',\n",
        " 'COMPUTACION CIENTIFICA',\n",
        " 'OCEANOGRAFIA',\n",
        " 'INGENIERIA TEXTIL',\n",
        " 'BELLAS ARTES',\n",
        " 'BANCA Y FINANZAS INTERNACIONALES',\n",
        " 'MERCADEO Y VENTAS',\n",
        " 'INGENIERIA DE SISTEMAS CON ENFASIS EN TELECOMUNICACIONES',\n",
        " 'DISENO Y GESTION DEL PRODUCTO',\n",
        " 'INGENIERIA EN SEGURIDAD Y SALUD EN EL TRABAJO',\n",
        " 'ADMINISTRACION DE LA CALIDAD',\n",
        " 'LICENCIATURA EN HUMANIDADES',\n",
        " 'GESTION DE SISTEMAS DE INFORMACION',\n",
        " 'INGENIIERIA DE SOFTWARE',\n",
        " 'MERCADEO AGROINDUSTRIAL',\n",
        " 'LICENCIATURA EN EDUCACION BASICA PRIMARIA CON ENFASIS EN INGLES Y EN FRANCES',\n",
        " 'LICENCIATURA EN MATEMTICAS',\n",
        " 'COMUNICACION CORPORATIVA',\n",
        " 'LICENCIATURA EN PEDAGOGIA REEDUCATIVA',\n",
        " 'INGENIERIA EN AUTOMATIZACION INDUSTRIAL',\n",
        " 'LENGUAS MODERNAS Y CULTURA',\n",
        " 'DISENO GRAFICO Y MULTIMEDIAL',\n",
        " 'LICENCIATURA EN EDUCACION BASICA CON ENFASIS EN EL AREA DE TECNOLOGIA E INFORMATICA',\n",
        " 'PROFESIONAL UNIVERSITARIO EN DISENO TEXTIL PARA LA INDUSTRIA',\n",
        " 'LICENCIATURA EN FILOSOFA Y HUMANIDADES',\n",
        " 'LICENCIATURA EN EDUCACION ENFASIS EN INFORMATICA',\n",
        " 'ANIMACION',\n",
        " 'FORMACION PROFESIONAL EN DEPORTE',\n",
        " 'LICENCIATURA EN EDUCACION BASICA ENFASIS EN CIENCIAS SOCIALES',\n",
        " 'INGENIERIA EN DISENO DE MAQUINAS Y PRODUCTOS INDUSTRIALES',\n",
        " 'LICENCIATURA EN ESPANOL Y FILOLOGIA',\n",
        " 'LICENCIATURA EN ARTE Y FOLKLORE',\n",
        " 'LICENCIATURA EN ARTES ESCNICAS',\n",
        " 'LICENCIATURA EN EDUCACION BASICA CON ENFASIS EN MATEMATICAS E INFORMATICA',\n",
        " 'CIENCIAS DE LA COMPUTACION',\n",
        " 'LICENCIATURA EN EDUCACION ENFASIS EN CIENCIAS SOCIALES',\n",
        " 'LICENCIATURA EN EDUCACION BASICA PRIMARIA:ENFASIS EN CIENCIAS SOCIALES',\n",
        " 'QUIMICA Y FARMACIA',\n",
        " 'PROFESIONAL EN INVESTIGACION CRIMINAL']"
      ],
      "metadata": {
        "id": "ho_k4GEGk6dW"
      },
      "execution_count": null,
      "outputs": []
    },
    {
      "cell_type": "code",
      "source": [
        "len(programas_porcentaje_menor)"
      ],
      "metadata": {
        "colab": {
          "base_uri": "https://localhost:8080/"
        },
        "id": "jiFK6NghlBfa",
        "outputId": "4569af50-f8b8-416d-d99c-c91cce9c08cb"
      },
      "execution_count": null,
      "outputs": [
        {
          "output_type": "execute_result",
          "data": {
            "text/plain": [
              "146"
            ]
          },
          "metadata": {},
          "execution_count": 96
        }
      ]
    },
    {
      "cell_type": "code",
      "source": [
        "# Se tarda 2 minutos\n",
        "# porcentaje_programa = train['E_PRGM_ACADEMICO'].value_counts(normalize=True) * 100\n",
        "# train['E_PRGM_ACADEMICO'] = train['E_PRGM_ACADEMICO'].apply(lambda x: x if x in porcentaje_programa[porcentaje_programa >= 0.0045].index else 'OTROS')"
      ],
      "metadata": {
        "id": "izM5cCw02l-g"
      },
      "execution_count": null,
      "outputs": []
    },
    {
      "cell_type": "code",
      "source": [
        "train['E_PRGM_ACADEMICO'] = np.where(train['E_PRGM_ACADEMICO'].isin(programas_porcentaje_menor), 'OTROS', train['E_PRGM_ACADEMICO'])"
      ],
      "metadata": {
        "id": "yondl7JUmK48"
      },
      "execution_count": null,
      "outputs": []
    },
    {
      "cell_type": "code",
      "source": [
        "train['E_PRGM_ACADEMICO'].value_counts()"
      ],
      "metadata": {
        "colab": {
          "base_uri": "https://localhost:8080/",
          "height": 718
        },
        "id": "p-Rkbf8O-6im",
        "outputId": "c1878bf5-ea5a-4603-889c-9a5dd39e62e4"
      },
      "execution_count": null,
      "outputs": [
        {
          "output_type": "execute_result",
          "data": {
            "text/plain": [
              "E_PRGM_ACADEMICO\n",
              "ADMINISTRACION DE EMPRESAS    76705\n",
              "CONTADURIA PUBLICA            51260\n",
              "DERECHO                       50691\n",
              "PSICOLOGIA                    48265\n",
              "INGENIERIA INDUSTRIAL         33700\n",
              "                              ...  \n",
              "CIENCIAS BIBLICAS                33\n",
              "COMUNICACIN SOCIAL               32\n",
              "BIOQUIMICA                       32\n",
              "OCEANOGRAFIA FISICA              32\n",
              "BANCA Y FINANZAS                 31\n",
              "Name: count, Length: 556, dtype: int64"
            ],
            "text/html": [
              "<div>\n",
              "<style scoped>\n",
              "    .dataframe tbody tr th:only-of-type {\n",
              "        vertical-align: middle;\n",
              "    }\n",
              "\n",
              "    .dataframe tbody tr th {\n",
              "        vertical-align: top;\n",
              "    }\n",
              "\n",
              "    .dataframe thead th {\n",
              "        text-align: right;\n",
              "    }\n",
              "</style>\n",
              "<table border=\"1\" class=\"dataframe\">\n",
              "  <thead>\n",
              "    <tr style=\"text-align: right;\">\n",
              "      <th></th>\n",
              "      <th>count</th>\n",
              "    </tr>\n",
              "    <tr>\n",
              "      <th>E_PRGM_ACADEMICO</th>\n",
              "      <th></th>\n",
              "    </tr>\n",
              "  </thead>\n",
              "  <tbody>\n",
              "    <tr>\n",
              "      <th>ADMINISTRACION DE EMPRESAS</th>\n",
              "      <td>76705</td>\n",
              "    </tr>\n",
              "    <tr>\n",
              "      <th>CONTADURIA PUBLICA</th>\n",
              "      <td>51260</td>\n",
              "    </tr>\n",
              "    <tr>\n",
              "      <th>DERECHO</th>\n",
              "      <td>50691</td>\n",
              "    </tr>\n",
              "    <tr>\n",
              "      <th>PSICOLOGIA</th>\n",
              "      <td>48265</td>\n",
              "    </tr>\n",
              "    <tr>\n",
              "      <th>INGENIERIA INDUSTRIAL</th>\n",
              "      <td>33700</td>\n",
              "    </tr>\n",
              "    <tr>\n",
              "      <th>...</th>\n",
              "      <td>...</td>\n",
              "    </tr>\n",
              "    <tr>\n",
              "      <th>CIENCIAS BIBLICAS</th>\n",
              "      <td>33</td>\n",
              "    </tr>\n",
              "    <tr>\n",
              "      <th>COMUNICACIN SOCIAL</th>\n",
              "      <td>32</td>\n",
              "    </tr>\n",
              "    <tr>\n",
              "      <th>BIOQUIMICA</th>\n",
              "      <td>32</td>\n",
              "    </tr>\n",
              "    <tr>\n",
              "      <th>OCEANOGRAFIA FISICA</th>\n",
              "      <td>32</td>\n",
              "    </tr>\n",
              "    <tr>\n",
              "      <th>BANCA Y FINANZAS</th>\n",
              "      <td>31</td>\n",
              "    </tr>\n",
              "  </tbody>\n",
              "</table>\n",
              "<p>556 rows × 1 columns</p>\n",
              "</div><br><label><b>dtype:</b> int64</label>"
            ]
          },
          "metadata": {},
          "execution_count": 99
        }
      ]
    },
    {
      "cell_type": "code",
      "source": [
        "train['E_PRGM_ACADEMICO'].value_counts()['OTROS']"
      ],
      "metadata": {
        "colab": {
          "base_uri": "https://localhost:8080/"
        },
        "id": "6AWsbq_C4o89",
        "outputId": "d403774c-fcab-4415-852d-52f4ee3352eb"
      },
      "execution_count": null,
      "outputs": [
        {
          "output_type": "execute_result",
          "data": {
            "text/plain": [
              "np.int64(1840)"
            ]
          },
          "metadata": {},
          "execution_count": 100
        }
      ]
    },
    {
      "cell_type": "code",
      "source": [
        "train['E_PRGM_ACADEMICO'].value_counts().iloc[45:48]"
      ],
      "metadata": {
        "colab": {
          "base_uri": "https://localhost:8080/",
          "height": 386
        },
        "id": "p-OloMWA-ctt",
        "outputId": "7bffd358-5195-424e-af28-6523a5a8f5b2"
      },
      "execution_count": null,
      "outputs": [
        {
          "output_type": "execute_result",
          "data": {
            "text/plain": [
              "E_PRGM_ACADEMICO\n",
              "INGENIERIA BIOMEDICA                                                                       1900\n",
              "OTROS                                                                                      1840\n",
              "LICENCIATURA EN EDUCACION BASICA CON ENFASIS EN EDUCACION FISICA, RECREACION Y DEPORTES    1798\n",
              "Name: count, dtype: int64"
            ],
            "text/html": [
              "<div>\n",
              "<style scoped>\n",
              "    .dataframe tbody tr th:only-of-type {\n",
              "        vertical-align: middle;\n",
              "    }\n",
              "\n",
              "    .dataframe tbody tr th {\n",
              "        vertical-align: top;\n",
              "    }\n",
              "\n",
              "    .dataframe thead th {\n",
              "        text-align: right;\n",
              "    }\n",
              "</style>\n",
              "<table border=\"1\" class=\"dataframe\">\n",
              "  <thead>\n",
              "    <tr style=\"text-align: right;\">\n",
              "      <th></th>\n",
              "      <th>count</th>\n",
              "    </tr>\n",
              "    <tr>\n",
              "      <th>E_PRGM_ACADEMICO</th>\n",
              "      <th></th>\n",
              "    </tr>\n",
              "  </thead>\n",
              "  <tbody>\n",
              "    <tr>\n",
              "      <th>INGENIERIA BIOMEDICA</th>\n",
              "      <td>1900</td>\n",
              "    </tr>\n",
              "    <tr>\n",
              "      <th>OTROS</th>\n",
              "      <td>1840</td>\n",
              "    </tr>\n",
              "    <tr>\n",
              "      <th>LICENCIATURA EN EDUCACION BASICA CON ENFASIS EN EDUCACION FISICA, RECREACION Y DEPORTES</th>\n",
              "      <td>1798</td>\n",
              "    </tr>\n",
              "  </tbody>\n",
              "</table>\n",
              "</div><br><label><b>dtype:</b> int64</label>"
            ]
          },
          "metadata": {},
          "execution_count": 101
        }
      ]
    },
    {
      "cell_type": "code",
      "source": [
        "print(f'E_PRGM_ACADEMICO tiene {train[\"E_PRGM_ACADEMICO\"].nunique()} valores unicos')"
      ],
      "metadata": {
        "colab": {
          "base_uri": "https://localhost:8080/"
        },
        "id": "uybegDucAwwW",
        "outputId": "d0f0d105-77b0-4a3f-e616-4f70e40445cf"
      },
      "execution_count": null,
      "outputs": [
        {
          "output_type": "stream",
          "name": "stdout",
          "text": [
            "E_PRGM_ACADEMICO tiene 556 valores unicos\n"
          ]
        }
      ]
    },
    {
      "cell_type": "markdown",
      "source": [
        "### Variables categóricas a variables numericas"
      ],
      "metadata": {
        "id": "qnsawWKzkgZs"
      }
    },
    {
      "cell_type": "code",
      "source": [
        "train.info()"
      ],
      "metadata": {
        "colab": {
          "base_uri": "https://localhost:8080/"
        },
        "id": "PTLlal5eLyHB",
        "outputId": "28c260cb-bd44-409f-b344-8fd7df309ded"
      },
      "execution_count": null,
      "outputs": [
        {
          "output_type": "stream",
          "name": "stdout",
          "text": [
            "<class 'pandas.core.frame.DataFrame'>\n",
            "Index: 666875 entries, 0 to 692499\n",
            "Data columns (total 17 columns):\n",
            " #   Column                       Non-Null Count   Dtype  \n",
            "---  ------                       --------------   -----  \n",
            " 0   E_PRGM_ACADEMICO             666875 non-null  object \n",
            " 1   E_PRGM_DEPARTAMENTO          666875 non-null  object \n",
            " 2   E_VALORMATRICULAUNIVERSIDAD  666875 non-null  object \n",
            " 3   E_HORASSEMANATRABAJA         666875 non-null  float64\n",
            " 4   F_ESTRATOVIVIENDA            666875 non-null  object \n",
            " 5   F_TIENEINTERNET              666875 non-null  object \n",
            " 6   F_EDUCACIONPADRE             666875 non-null  object \n",
            " 7   F_TIENELAVADORA              666875 non-null  object \n",
            " 8   F_TIENEAUTOMOVIL             666875 non-null  object \n",
            " 9   E_PAGOMATRICULAPROPIO        666875 non-null  object \n",
            " 10  F_TIENECOMPUTADOR            666875 non-null  object \n",
            " 11  F_EDUCACIONMADRE             666875 non-null  object \n",
            " 12  RENDIMIENTO_GLOBAL           666875 non-null  object \n",
            " 13  INDICADOR_1                  666875 non-null  float64\n",
            " 14  INDICADOR_2                  666875 non-null  float64\n",
            " 15  INDICADOR_3                  666875 non-null  float64\n",
            " 16  INDICADOR_4                  666875 non-null  float64\n",
            "dtypes: float64(5), object(12)\n",
            "memory usage: 91.6+ MB\n"
          ]
        }
      ]
    },
    {
      "cell_type": "code",
      "source": [
        "train['E_VALORMATRICULAUNIVERSIDAD'].unique()"
      ],
      "metadata": {
        "colab": {
          "base_uri": "https://localhost:8080/"
        },
        "id": "zoHh_kIfMKlC",
        "outputId": "cbddca5d-6d91-404a-a423-8f5456c5fc95"
      },
      "execution_count": null,
      "outputs": [
        {
          "output_type": "execute_result",
          "data": {
            "text/plain": [
              "array(['Entre 5.5 millones y menos de 7 millones',\n",
              "       'Entre 2.5 millones y menos de 4 millones',\n",
              "       'Entre 4 millones y menos de 5.5 millones', 'Más de 7 millones',\n",
              "       'Entre 1 millón y menos de 2.5 millones',\n",
              "       'Entre 500 mil y menos de 1 millón', 'Menos de 500 mil',\n",
              "       'No pagó matrícula'], dtype=object)"
            ]
          },
          "metadata": {},
          "execution_count": 104
        }
      ]
    },
    {
      "cell_type": "markdown",
      "source": [
        "Se convierte cada categoria de `E_VALORMATRICULAUNIVERSIDAD` en una columna binaria.\n",
        "\n",
        "No queremos que el modelo interprete que pagar mas dinero, puede ser mejor para el rendimiento del estudiante."
      ],
      "metadata": {
        "id": "lzJ5cBiNamSi"
      }
    },
    {
      "cell_type": "code",
      "source": [
        "train = pd.get_dummies(train, columns=['E_VALORMATRICULAUNIVERSIDAD'], dtype=int)"
      ],
      "metadata": {
        "id": "bfB7B1aFMm_A"
      },
      "execution_count": null,
      "outputs": []
    },
    {
      "cell_type": "code",
      "source": [
        "train.shape"
      ],
      "metadata": {
        "colab": {
          "base_uri": "https://localhost:8080/"
        },
        "id": "lePs1BLZSjqM",
        "outputId": "2e0f01d3-e2bf-4212-af2d-a095f60e1e2e"
      },
      "execution_count": null,
      "outputs": [
        {
          "output_type": "execute_result",
          "data": {
            "text/plain": [
              "(666875, 24)"
            ]
          },
          "metadata": {},
          "execution_count": 106
        }
      ]
    },
    {
      "cell_type": "code",
      "source": [
        "train.columns"
      ],
      "metadata": {
        "colab": {
          "base_uri": "https://localhost:8080/"
        },
        "id": "sqaTWCMwUzhZ",
        "outputId": "daa56ef6-040e-4958-f85a-246632aa5883"
      },
      "execution_count": null,
      "outputs": [
        {
          "output_type": "execute_result",
          "data": {
            "text/plain": [
              "Index(['E_PRGM_ACADEMICO', 'E_PRGM_DEPARTAMENTO', 'E_HORASSEMANATRABAJA',\n",
              "       'F_ESTRATOVIVIENDA', 'F_TIENEINTERNET', 'F_EDUCACIONPADRE',\n",
              "       'F_TIENELAVADORA', 'F_TIENEAUTOMOVIL', 'E_PAGOMATRICULAPROPIO',\n",
              "       'F_TIENECOMPUTADOR', 'F_EDUCACIONMADRE', 'RENDIMIENTO_GLOBAL',\n",
              "       'INDICADOR_1', 'INDICADOR_2', 'INDICADOR_3', 'INDICADOR_4',\n",
              "       'E_VALORMATRICULAUNIVERSIDAD_Entre 1 millón y menos de 2.5 millones',\n",
              "       'E_VALORMATRICULAUNIVERSIDAD_Entre 2.5 millones y menos de 4 millones',\n",
              "       'E_VALORMATRICULAUNIVERSIDAD_Entre 4 millones y menos de 5.5 millones',\n",
              "       'E_VALORMATRICULAUNIVERSIDAD_Entre 5.5 millones y menos de 7 millones',\n",
              "       'E_VALORMATRICULAUNIVERSIDAD_Entre 500 mil y menos de 1 millón',\n",
              "       'E_VALORMATRICULAUNIVERSIDAD_Menos de 500 mil',\n",
              "       'E_VALORMATRICULAUNIVERSIDAD_Más de 7 millones',\n",
              "       'E_VALORMATRICULAUNIVERSIDAD_No pagó matrícula'],\n",
              "      dtype='object')"
            ]
          },
          "metadata": {},
          "execution_count": 107
        }
      ]
    },
    {
      "cell_type": "markdown",
      "source": [
        "La columna `E_VALORMATRICULAUNIVERSIDAD_No pagó matrícula` es redundante, si las otras columnas son 0, significa que no se pago matrícula"
      ],
      "metadata": {
        "id": "AK3DnmfYSvaY"
      }
    },
    {
      "cell_type": "code",
      "source": [
        "train.drop(columns=['E_VALORMATRICULAUNIVERSIDAD_No pagó matrícula'], inplace=True)"
      ],
      "metadata": {
        "id": "mOWc_KFCRo3T"
      },
      "execution_count": null,
      "outputs": []
    },
    {
      "cell_type": "code",
      "source": [
        "train.shape"
      ],
      "metadata": {
        "colab": {
          "base_uri": "https://localhost:8080/"
        },
        "id": "JMYblUSGSnW9",
        "outputId": "170552f7-563e-4ed4-a3c2-98f989dce699"
      },
      "execution_count": null,
      "outputs": [
        {
          "output_type": "execute_result",
          "data": {
            "text/plain": [
              "(666875, 23)"
            ]
          },
          "metadata": {},
          "execution_count": 109
        }
      ]
    },
    {
      "cell_type": "code",
      "source": [
        "train.head(2)"
      ],
      "metadata": {
        "colab": {
          "base_uri": "https://localhost:8080/",
          "height": 248
        },
        "id": "1zNvshC9RE48",
        "outputId": "718cfa59-12b6-437d-dc4c-2880a81ed901"
      },
      "execution_count": null,
      "outputs": [
        {
          "output_type": "execute_result",
          "data": {
            "text/plain": [
              "  E_PRGM_ACADEMICO E_PRGM_DEPARTAMENTO  E_HORASSEMANATRABAJA  \\\n",
              "0       ENFERMERIA              BOGOTÁ                   9.0   \n",
              "1          DERECHO           ATLANTICO                   0.0   \n",
              "\n",
              "  F_ESTRATOVIVIENDA F_TIENEINTERNET                  F_EDUCACIONPADRE  \\\n",
              "0         Estrato 3              Si  Técnica o tecnológica incompleta   \n",
              "1         Estrato 3              No    Técnica o tecnológica completa   \n",
              "\n",
              "  F_TIENELAVADORA F_TIENEAUTOMOVIL E_PAGOMATRICULAPROPIO F_TIENECOMPUTADOR  \\\n",
              "0              Si               Si                    No                Si   \n",
              "1              Si               No                    No                Si   \n",
              "\n",
              "   ... INDICADOR_2 INDICADOR_3  INDICADOR_4  \\\n",
              "0  ...       0.208       0.310        0.267   \n",
              "1  ...       0.215       0.292        0.264   \n",
              "\n",
              "   E_VALORMATRICULAUNIVERSIDAD_Entre 1 millón y menos de 2.5 millones  \\\n",
              "0                                                  0                    \n",
              "1                                                  0                    \n",
              "\n",
              "   E_VALORMATRICULAUNIVERSIDAD_Entre 2.5 millones y menos de 4 millones  \\\n",
              "0                                                  0                      \n",
              "1                                                  1                      \n",
              "\n",
              "   E_VALORMATRICULAUNIVERSIDAD_Entre 4 millones y menos de 5.5 millones  \\\n",
              "0                                                  0                      \n",
              "1                                                  0                      \n",
              "\n",
              "   E_VALORMATRICULAUNIVERSIDAD_Entre 5.5 millones y menos de 7 millones  \\\n",
              "0                                                  1                      \n",
              "1                                                  0                      \n",
              "\n",
              "   E_VALORMATRICULAUNIVERSIDAD_Entre 500 mil y menos de 1 millón  \\\n",
              "0                                                  0               \n",
              "1                                                  0               \n",
              "\n",
              "   E_VALORMATRICULAUNIVERSIDAD_Menos de 500 mil  \\\n",
              "0                                             0   \n",
              "1                                             0   \n",
              "\n",
              "   E_VALORMATRICULAUNIVERSIDAD_Más de 7 millones  \n",
              "0                                              0  \n",
              "1                                              0  \n",
              "\n",
              "[2 rows x 23 columns]"
            ],
            "text/html": [
              "\n",
              "  <div id=\"df-1202a12a-acf4-4584-ae84-9d59c0c7c066\" class=\"colab-df-container\">\n",
              "    <div>\n",
              "<style scoped>\n",
              "    .dataframe tbody tr th:only-of-type {\n",
              "        vertical-align: middle;\n",
              "    }\n",
              "\n",
              "    .dataframe tbody tr th {\n",
              "        vertical-align: top;\n",
              "    }\n",
              "\n",
              "    .dataframe thead th {\n",
              "        text-align: right;\n",
              "    }\n",
              "</style>\n",
              "<table border=\"1\" class=\"dataframe\">\n",
              "  <thead>\n",
              "    <tr style=\"text-align: right;\">\n",
              "      <th></th>\n",
              "      <th>E_PRGM_ACADEMICO</th>\n",
              "      <th>E_PRGM_DEPARTAMENTO</th>\n",
              "      <th>E_HORASSEMANATRABAJA</th>\n",
              "      <th>F_ESTRATOVIVIENDA</th>\n",
              "      <th>F_TIENEINTERNET</th>\n",
              "      <th>F_EDUCACIONPADRE</th>\n",
              "      <th>F_TIENELAVADORA</th>\n",
              "      <th>F_TIENEAUTOMOVIL</th>\n",
              "      <th>E_PAGOMATRICULAPROPIO</th>\n",
              "      <th>F_TIENECOMPUTADOR</th>\n",
              "      <th>...</th>\n",
              "      <th>INDICADOR_2</th>\n",
              "      <th>INDICADOR_3</th>\n",
              "      <th>INDICADOR_4</th>\n",
              "      <th>E_VALORMATRICULAUNIVERSIDAD_Entre 1 millón y menos de 2.5 millones</th>\n",
              "      <th>E_VALORMATRICULAUNIVERSIDAD_Entre 2.5 millones y menos de 4 millones</th>\n",
              "      <th>E_VALORMATRICULAUNIVERSIDAD_Entre 4 millones y menos de 5.5 millones</th>\n",
              "      <th>E_VALORMATRICULAUNIVERSIDAD_Entre 5.5 millones y menos de 7 millones</th>\n",
              "      <th>E_VALORMATRICULAUNIVERSIDAD_Entre 500 mil y menos de 1 millón</th>\n",
              "      <th>E_VALORMATRICULAUNIVERSIDAD_Menos de 500 mil</th>\n",
              "      <th>E_VALORMATRICULAUNIVERSIDAD_Más de 7 millones</th>\n",
              "    </tr>\n",
              "  </thead>\n",
              "  <tbody>\n",
              "    <tr>\n",
              "      <th>0</th>\n",
              "      <td>ENFERMERIA</td>\n",
              "      <td>BOGOTÁ</td>\n",
              "      <td>9.0</td>\n",
              "      <td>Estrato 3</td>\n",
              "      <td>Si</td>\n",
              "      <td>Técnica o tecnológica incompleta</td>\n",
              "      <td>Si</td>\n",
              "      <td>Si</td>\n",
              "      <td>No</td>\n",
              "      <td>Si</td>\n",
              "      <td>...</td>\n",
              "      <td>0.208</td>\n",
              "      <td>0.310</td>\n",
              "      <td>0.267</td>\n",
              "      <td>0</td>\n",
              "      <td>0</td>\n",
              "      <td>0</td>\n",
              "      <td>1</td>\n",
              "      <td>0</td>\n",
              "      <td>0</td>\n",
              "      <td>0</td>\n",
              "    </tr>\n",
              "    <tr>\n",
              "      <th>1</th>\n",
              "      <td>DERECHO</td>\n",
              "      <td>ATLANTICO</td>\n",
              "      <td>0.0</td>\n",
              "      <td>Estrato 3</td>\n",
              "      <td>No</td>\n",
              "      <td>Técnica o tecnológica completa</td>\n",
              "      <td>Si</td>\n",
              "      <td>No</td>\n",
              "      <td>No</td>\n",
              "      <td>Si</td>\n",
              "      <td>...</td>\n",
              "      <td>0.215</td>\n",
              "      <td>0.292</td>\n",
              "      <td>0.264</td>\n",
              "      <td>0</td>\n",
              "      <td>1</td>\n",
              "      <td>0</td>\n",
              "      <td>0</td>\n",
              "      <td>0</td>\n",
              "      <td>0</td>\n",
              "      <td>0</td>\n",
              "    </tr>\n",
              "  </tbody>\n",
              "</table>\n",
              "<p>2 rows × 23 columns</p>\n",
              "</div>\n",
              "    <div class=\"colab-df-buttons\">\n",
              "\n",
              "  <div class=\"colab-df-container\">\n",
              "    <button class=\"colab-df-convert\" onclick=\"convertToInteractive('df-1202a12a-acf4-4584-ae84-9d59c0c7c066')\"\n",
              "            title=\"Convert this dataframe to an interactive table.\"\n",
              "            style=\"display:none;\">\n",
              "\n",
              "  <svg xmlns=\"http://www.w3.org/2000/svg\" height=\"24px\" viewBox=\"0 -960 960 960\">\n",
              "    <path d=\"M120-120v-720h720v720H120Zm60-500h600v-160H180v160Zm220 220h160v-160H400v160Zm0 220h160v-160H400v160ZM180-400h160v-160H180v160Zm440 0h160v-160H620v160ZM180-180h160v-160H180v160Zm440 0h160v-160H620v160Z\"/>\n",
              "  </svg>\n",
              "    </button>\n",
              "\n",
              "  <style>\n",
              "    .colab-df-container {\n",
              "      display:flex;\n",
              "      gap: 12px;\n",
              "    }\n",
              "\n",
              "    .colab-df-convert {\n",
              "      background-color: #E8F0FE;\n",
              "      border: none;\n",
              "      border-radius: 50%;\n",
              "      cursor: pointer;\n",
              "      display: none;\n",
              "      fill: #1967D2;\n",
              "      height: 32px;\n",
              "      padding: 0 0 0 0;\n",
              "      width: 32px;\n",
              "    }\n",
              "\n",
              "    .colab-df-convert:hover {\n",
              "      background-color: #E2EBFA;\n",
              "      box-shadow: 0px 1px 2px rgba(60, 64, 67, 0.3), 0px 1px 3px 1px rgba(60, 64, 67, 0.15);\n",
              "      fill: #174EA6;\n",
              "    }\n",
              "\n",
              "    .colab-df-buttons div {\n",
              "      margin-bottom: 4px;\n",
              "    }\n",
              "\n",
              "    [theme=dark] .colab-df-convert {\n",
              "      background-color: #3B4455;\n",
              "      fill: #D2E3FC;\n",
              "    }\n",
              "\n",
              "    [theme=dark] .colab-df-convert:hover {\n",
              "      background-color: #434B5C;\n",
              "      box-shadow: 0px 1px 3px 1px rgba(0, 0, 0, 0.15);\n",
              "      filter: drop-shadow(0px 1px 2px rgba(0, 0, 0, 0.3));\n",
              "      fill: #FFFFFF;\n",
              "    }\n",
              "  </style>\n",
              "\n",
              "    <script>\n",
              "      const buttonEl =\n",
              "        document.querySelector('#df-1202a12a-acf4-4584-ae84-9d59c0c7c066 button.colab-df-convert');\n",
              "      buttonEl.style.display =\n",
              "        google.colab.kernel.accessAllowed ? 'block' : 'none';\n",
              "\n",
              "      async function convertToInteractive(key) {\n",
              "        const element = document.querySelector('#df-1202a12a-acf4-4584-ae84-9d59c0c7c066');\n",
              "        const dataTable =\n",
              "          await google.colab.kernel.invokeFunction('convertToInteractive',\n",
              "                                                    [key], {});\n",
              "        if (!dataTable) return;\n",
              "\n",
              "        const docLinkHtml = 'Like what you see? Visit the ' +\n",
              "          '<a target=\"_blank\" href=https://colab.research.google.com/notebooks/data_table.ipynb>data table notebook</a>'\n",
              "          + ' to learn more about interactive tables.';\n",
              "        element.innerHTML = '';\n",
              "        dataTable['output_type'] = 'display_data';\n",
              "        await google.colab.output.renderOutput(dataTable, element);\n",
              "        const docLink = document.createElement('div');\n",
              "        docLink.innerHTML = docLinkHtml;\n",
              "        element.appendChild(docLink);\n",
              "      }\n",
              "    </script>\n",
              "  </div>\n",
              "\n",
              "\n",
              "    <div id=\"df-d8beefe7-1914-46ed-a9f1-cb0309f48245\">\n",
              "      <button class=\"colab-df-quickchart\" onclick=\"quickchart('df-d8beefe7-1914-46ed-a9f1-cb0309f48245')\"\n",
              "                title=\"Suggest charts\"\n",
              "                style=\"display:none;\">\n",
              "\n",
              "<svg xmlns=\"http://www.w3.org/2000/svg\" height=\"24px\"viewBox=\"0 0 24 24\"\n",
              "     width=\"24px\">\n",
              "    <g>\n",
              "        <path d=\"M19 3H5c-1.1 0-2 .9-2 2v14c0 1.1.9 2 2 2h14c1.1 0 2-.9 2-2V5c0-1.1-.9-2-2-2zM9 17H7v-7h2v7zm4 0h-2V7h2v10zm4 0h-2v-4h2v4z\"/>\n",
              "    </g>\n",
              "</svg>\n",
              "      </button>\n",
              "\n",
              "<style>\n",
              "  .colab-df-quickchart {\n",
              "      --bg-color: #E8F0FE;\n",
              "      --fill-color: #1967D2;\n",
              "      --hover-bg-color: #E2EBFA;\n",
              "      --hover-fill-color: #174EA6;\n",
              "      --disabled-fill-color: #AAA;\n",
              "      --disabled-bg-color: #DDD;\n",
              "  }\n",
              "\n",
              "  [theme=dark] .colab-df-quickchart {\n",
              "      --bg-color: #3B4455;\n",
              "      --fill-color: #D2E3FC;\n",
              "      --hover-bg-color: #434B5C;\n",
              "      --hover-fill-color: #FFFFFF;\n",
              "      --disabled-bg-color: #3B4455;\n",
              "      --disabled-fill-color: #666;\n",
              "  }\n",
              "\n",
              "  .colab-df-quickchart {\n",
              "    background-color: var(--bg-color);\n",
              "    border: none;\n",
              "    border-radius: 50%;\n",
              "    cursor: pointer;\n",
              "    display: none;\n",
              "    fill: var(--fill-color);\n",
              "    height: 32px;\n",
              "    padding: 0;\n",
              "    width: 32px;\n",
              "  }\n",
              "\n",
              "  .colab-df-quickchart:hover {\n",
              "    background-color: var(--hover-bg-color);\n",
              "    box-shadow: 0 1px 2px rgba(60, 64, 67, 0.3), 0 1px 3px 1px rgba(60, 64, 67, 0.15);\n",
              "    fill: var(--button-hover-fill-color);\n",
              "  }\n",
              "\n",
              "  .colab-df-quickchart-complete:disabled,\n",
              "  .colab-df-quickchart-complete:disabled:hover {\n",
              "    background-color: var(--disabled-bg-color);\n",
              "    fill: var(--disabled-fill-color);\n",
              "    box-shadow: none;\n",
              "  }\n",
              "\n",
              "  .colab-df-spinner {\n",
              "    border: 2px solid var(--fill-color);\n",
              "    border-color: transparent;\n",
              "    border-bottom-color: var(--fill-color);\n",
              "    animation:\n",
              "      spin 1s steps(1) infinite;\n",
              "  }\n",
              "\n",
              "  @keyframes spin {\n",
              "    0% {\n",
              "      border-color: transparent;\n",
              "      border-bottom-color: var(--fill-color);\n",
              "      border-left-color: var(--fill-color);\n",
              "    }\n",
              "    20% {\n",
              "      border-color: transparent;\n",
              "      border-left-color: var(--fill-color);\n",
              "      border-top-color: var(--fill-color);\n",
              "    }\n",
              "    30% {\n",
              "      border-color: transparent;\n",
              "      border-left-color: var(--fill-color);\n",
              "      border-top-color: var(--fill-color);\n",
              "      border-right-color: var(--fill-color);\n",
              "    }\n",
              "    40% {\n",
              "      border-color: transparent;\n",
              "      border-right-color: var(--fill-color);\n",
              "      border-top-color: var(--fill-color);\n",
              "    }\n",
              "    60% {\n",
              "      border-color: transparent;\n",
              "      border-right-color: var(--fill-color);\n",
              "    }\n",
              "    80% {\n",
              "      border-color: transparent;\n",
              "      border-right-color: var(--fill-color);\n",
              "      border-bottom-color: var(--fill-color);\n",
              "    }\n",
              "    90% {\n",
              "      border-color: transparent;\n",
              "      border-bottom-color: var(--fill-color);\n",
              "    }\n",
              "  }\n",
              "</style>\n",
              "\n",
              "      <script>\n",
              "        async function quickchart(key) {\n",
              "          const quickchartButtonEl =\n",
              "            document.querySelector('#' + key + ' button');\n",
              "          quickchartButtonEl.disabled = true;  // To prevent multiple clicks.\n",
              "          quickchartButtonEl.classList.add('colab-df-spinner');\n",
              "          try {\n",
              "            const charts = await google.colab.kernel.invokeFunction(\n",
              "                'suggestCharts', [key], {});\n",
              "          } catch (error) {\n",
              "            console.error('Error during call to suggestCharts:', error);\n",
              "          }\n",
              "          quickchartButtonEl.classList.remove('colab-df-spinner');\n",
              "          quickchartButtonEl.classList.add('colab-df-quickchart-complete');\n",
              "        }\n",
              "        (() => {\n",
              "          let quickchartButtonEl =\n",
              "            document.querySelector('#df-d8beefe7-1914-46ed-a9f1-cb0309f48245 button');\n",
              "          quickchartButtonEl.style.display =\n",
              "            google.colab.kernel.accessAllowed ? 'block' : 'none';\n",
              "        })();\n",
              "      </script>\n",
              "    </div>\n",
              "\n",
              "    </div>\n",
              "  </div>\n"
            ],
            "application/vnd.google.colaboratory.intrinsic+json": {
              "type": "dataframe",
              "variable_name": "train"
            }
          },
          "metadata": {},
          "execution_count": 110
        }
      ]
    },
    {
      "cell_type": "code",
      "source": [
        "train.info()"
      ],
      "metadata": {
        "colab": {
          "base_uri": "https://localhost:8080/"
        },
        "id": "FXwjjLtdS6x1",
        "outputId": "629bdcda-a53c-4958-ae72-0324362bbae8"
      },
      "execution_count": null,
      "outputs": [
        {
          "output_type": "stream",
          "name": "stdout",
          "text": [
            "<class 'pandas.core.frame.DataFrame'>\n",
            "Index: 666875 entries, 0 to 692499\n",
            "Data columns (total 23 columns):\n",
            " #   Column                                                                Non-Null Count   Dtype  \n",
            "---  ------                                                                --------------   -----  \n",
            " 0   E_PRGM_ACADEMICO                                                      666875 non-null  object \n",
            " 1   E_PRGM_DEPARTAMENTO                                                   666875 non-null  object \n",
            " 2   E_HORASSEMANATRABAJA                                                  666875 non-null  float64\n",
            " 3   F_ESTRATOVIVIENDA                                                     666875 non-null  object \n",
            " 4   F_TIENEINTERNET                                                       666875 non-null  object \n",
            " 5   F_EDUCACIONPADRE                                                      666875 non-null  object \n",
            " 6   F_TIENELAVADORA                                                       666875 non-null  object \n",
            " 7   F_TIENEAUTOMOVIL                                                      666875 non-null  object \n",
            " 8   E_PAGOMATRICULAPROPIO                                                 666875 non-null  object \n",
            " 9   F_TIENECOMPUTADOR                                                     666875 non-null  object \n",
            " 10  F_EDUCACIONMADRE                                                      666875 non-null  object \n",
            " 11  RENDIMIENTO_GLOBAL                                                    666875 non-null  object \n",
            " 12  INDICADOR_1                                                           666875 non-null  float64\n",
            " 13  INDICADOR_2                                                           666875 non-null  float64\n",
            " 14  INDICADOR_3                                                           666875 non-null  float64\n",
            " 15  INDICADOR_4                                                           666875 non-null  float64\n",
            " 16  E_VALORMATRICULAUNIVERSIDAD_Entre 1 millón y menos de 2.5 millones    666875 non-null  int64  \n",
            " 17  E_VALORMATRICULAUNIVERSIDAD_Entre 2.5 millones y menos de 4 millones  666875 non-null  int64  \n",
            " 18  E_VALORMATRICULAUNIVERSIDAD_Entre 4 millones y menos de 5.5 millones  666875 non-null  int64  \n",
            " 19  E_VALORMATRICULAUNIVERSIDAD_Entre 5.5 millones y menos de 7 millones  666875 non-null  int64  \n",
            " 20  E_VALORMATRICULAUNIVERSIDAD_Entre 500 mil y menos de 1 millón         666875 non-null  int64  \n",
            " 21  E_VALORMATRICULAUNIVERSIDAD_Menos de 500 mil                          666875 non-null  int64  \n",
            " 22  E_VALORMATRICULAUNIVERSIDAD_Más de 7 millones                         666875 non-null  int64  \n",
            "dtypes: float64(5), int64(7), object(11)\n",
            "memory usage: 122.1+ MB\n"
          ]
        }
      ]
    },
    {
      "cell_type": "code",
      "source": [
        "train['F_ESTRATOVIVIENDA'].unique()"
      ],
      "metadata": {
        "colab": {
          "base_uri": "https://localhost:8080/"
        },
        "id": "pBHy4yUxT_f_",
        "outputId": "6a54d3f9-34c7-41b7-d14a-78e66448f8bc"
      },
      "execution_count": null,
      "outputs": [
        {
          "output_type": "execute_result",
          "data": {
            "text/plain": [
              "array(['Estrato 3', 'Estrato 4', 'Estrato 5', 'Estrato 2', 'Estrato 1',\n",
              "       'Estrato 6', 'Sin Estrato'], dtype=object)"
            ]
          },
          "metadata": {},
          "execution_count": 112
        }
      ]
    },
    {
      "cell_type": "code",
      "source": [
        "train = pd.get_dummies(train, columns=['F_ESTRATOVIVIENDA'], dtype=int)"
      ],
      "metadata": {
        "id": "TivlLxwYUM9b"
      },
      "execution_count": null,
      "outputs": []
    },
    {
      "cell_type": "code",
      "source": [
        "train.columns"
      ],
      "metadata": {
        "colab": {
          "base_uri": "https://localhost:8080/"
        },
        "id": "9zjSEmyyUc-o",
        "outputId": "b2814162-9ad7-4d91-9030-a74ace3b26ad"
      },
      "execution_count": null,
      "outputs": [
        {
          "output_type": "execute_result",
          "data": {
            "text/plain": [
              "Index(['E_PRGM_ACADEMICO', 'E_PRGM_DEPARTAMENTO', 'E_HORASSEMANATRABAJA',\n",
              "       'F_TIENEINTERNET', 'F_EDUCACIONPADRE', 'F_TIENELAVADORA',\n",
              "       'F_TIENEAUTOMOVIL', 'E_PAGOMATRICULAPROPIO', 'F_TIENECOMPUTADOR',\n",
              "       'F_EDUCACIONMADRE', 'RENDIMIENTO_GLOBAL', 'INDICADOR_1', 'INDICADOR_2',\n",
              "       'INDICADOR_3', 'INDICADOR_4',\n",
              "       'E_VALORMATRICULAUNIVERSIDAD_Entre 1 millón y menos de 2.5 millones',\n",
              "       'E_VALORMATRICULAUNIVERSIDAD_Entre 2.5 millones y menos de 4 millones',\n",
              "       'E_VALORMATRICULAUNIVERSIDAD_Entre 4 millones y menos de 5.5 millones',\n",
              "       'E_VALORMATRICULAUNIVERSIDAD_Entre 5.5 millones y menos de 7 millones',\n",
              "       'E_VALORMATRICULAUNIVERSIDAD_Entre 500 mil y menos de 1 millón',\n",
              "       'E_VALORMATRICULAUNIVERSIDAD_Menos de 500 mil',\n",
              "       'E_VALORMATRICULAUNIVERSIDAD_Más de 7 millones',\n",
              "       'F_ESTRATOVIVIENDA_Estrato 1', 'F_ESTRATOVIVIENDA_Estrato 2',\n",
              "       'F_ESTRATOVIVIENDA_Estrato 3', 'F_ESTRATOVIVIENDA_Estrato 4',\n",
              "       'F_ESTRATOVIVIENDA_Estrato 5', 'F_ESTRATOVIVIENDA_Estrato 6',\n",
              "       'F_ESTRATOVIVIENDA_Sin Estrato'],\n",
              "      dtype='object')"
            ]
          },
          "metadata": {},
          "execution_count": 114
        }
      ]
    },
    {
      "cell_type": "code",
      "source": [
        "train.drop(columns=['F_ESTRATOVIVIENDA_Sin Estrato'], inplace=True)"
      ],
      "metadata": {
        "id": "JSZEbQs2UZBi"
      },
      "execution_count": null,
      "outputs": []
    },
    {
      "cell_type": "markdown",
      "source": [
        "Se renombran las columnas generadas con el one hot encoding"
      ],
      "metadata": {
        "id": "28viKPRdbtpq"
      }
    },
    {
      "cell_type": "code",
      "source": [
        "train.columns = train.columns.str.replace('_Estrato ', '_')"
      ],
      "metadata": {
        "id": "DtPJJpewVo-M"
      },
      "execution_count": null,
      "outputs": []
    },
    {
      "cell_type": "code",
      "source": [
        "train.columns"
      ],
      "metadata": {
        "colab": {
          "base_uri": "https://localhost:8080/"
        },
        "id": "_bh-toyNV5p8",
        "outputId": "9cbbbe78-9078-4e90-efaf-0326d9856e6c"
      },
      "execution_count": null,
      "outputs": [
        {
          "output_type": "execute_result",
          "data": {
            "text/plain": [
              "Index(['E_PRGM_ACADEMICO', 'E_PRGM_DEPARTAMENTO', 'E_HORASSEMANATRABAJA',\n",
              "       'F_TIENEINTERNET', 'F_EDUCACIONPADRE', 'F_TIENELAVADORA',\n",
              "       'F_TIENEAUTOMOVIL', 'E_PAGOMATRICULAPROPIO', 'F_TIENECOMPUTADOR',\n",
              "       'F_EDUCACIONMADRE', 'RENDIMIENTO_GLOBAL', 'INDICADOR_1', 'INDICADOR_2',\n",
              "       'INDICADOR_3', 'INDICADOR_4',\n",
              "       'E_VALORMATRICULAUNIVERSIDAD_Entre 1 millón y menos de 2.5 millones',\n",
              "       'E_VALORMATRICULAUNIVERSIDAD_Entre 2.5 millones y menos de 4 millones',\n",
              "       'E_VALORMATRICULAUNIVERSIDAD_Entre 4 millones y menos de 5.5 millones',\n",
              "       'E_VALORMATRICULAUNIVERSIDAD_Entre 5.5 millones y menos de 7 millones',\n",
              "       'E_VALORMATRICULAUNIVERSIDAD_Entre 500 mil y menos de 1 millón',\n",
              "       'E_VALORMATRICULAUNIVERSIDAD_Menos de 500 mil',\n",
              "       'E_VALORMATRICULAUNIVERSIDAD_Más de 7 millones', 'F_ESTRATOVIVIENDA_1',\n",
              "       'F_ESTRATOVIVIENDA_2', 'F_ESTRATOVIVIENDA_3', 'F_ESTRATOVIVIENDA_4',\n",
              "       'F_ESTRATOVIVIENDA_5', 'F_ESTRATOVIVIENDA_6'],\n",
              "      dtype='object')"
            ]
          },
          "metadata": {},
          "execution_count": 117
        }
      ]
    },
    {
      "cell_type": "code",
      "source": [
        "train.shape"
      ],
      "metadata": {
        "colab": {
          "base_uri": "https://localhost:8080/"
        },
        "id": "UKbiesEHU4La",
        "outputId": "4be13599-a2dd-44e1-da02-ed02259a53e0"
      },
      "execution_count": null,
      "outputs": [
        {
          "output_type": "execute_result",
          "data": {
            "text/plain": [
              "(666875, 28)"
            ]
          },
          "metadata": {},
          "execution_count": 118
        }
      ]
    },
    {
      "cell_type": "markdown",
      "source": [
        "Se obienen las columnas con datos binarios"
      ],
      "metadata": {
        "id": "g4rGpHB7b3iD"
      }
    },
    {
      "cell_type": "code",
      "source": [
        "train.nunique()[train.nunique() == 2]"
      ],
      "metadata": {
        "colab": {
          "base_uri": "https://localhost:8080/",
          "height": 808
        },
        "id": "peY9tg6ZXwEb",
        "outputId": "94c6d2bb-1719-40fd-9c95-f00ed977b1ee"
      },
      "execution_count": null,
      "outputs": [
        {
          "output_type": "execute_result",
          "data": {
            "text/plain": [
              "F_TIENEINTERNET                                                         2\n",
              "F_TIENELAVADORA                                                         2\n",
              "F_TIENEAUTOMOVIL                                                        2\n",
              "E_PAGOMATRICULAPROPIO                                                   2\n",
              "F_TIENECOMPUTADOR                                                       2\n",
              "E_VALORMATRICULAUNIVERSIDAD_Entre 1 millón y menos de 2.5 millones      2\n",
              "E_VALORMATRICULAUNIVERSIDAD_Entre 2.5 millones y menos de 4 millones    2\n",
              "E_VALORMATRICULAUNIVERSIDAD_Entre 4 millones y menos de 5.5 millones    2\n",
              "E_VALORMATRICULAUNIVERSIDAD_Entre 5.5 millones y menos de 7 millones    2\n",
              "E_VALORMATRICULAUNIVERSIDAD_Entre 500 mil y menos de 1 millón           2\n",
              "E_VALORMATRICULAUNIVERSIDAD_Menos de 500 mil                            2\n",
              "E_VALORMATRICULAUNIVERSIDAD_Más de 7 millones                           2\n",
              "F_ESTRATOVIVIENDA_1                                                     2\n",
              "F_ESTRATOVIVIENDA_2                                                     2\n",
              "F_ESTRATOVIVIENDA_3                                                     2\n",
              "F_ESTRATOVIVIENDA_4                                                     2\n",
              "F_ESTRATOVIVIENDA_5                                                     2\n",
              "F_ESTRATOVIVIENDA_6                                                     2\n",
              "dtype: int64"
            ],
            "text/html": [
              "<div>\n",
              "<style scoped>\n",
              "    .dataframe tbody tr th:only-of-type {\n",
              "        vertical-align: middle;\n",
              "    }\n",
              "\n",
              "    .dataframe tbody tr th {\n",
              "        vertical-align: top;\n",
              "    }\n",
              "\n",
              "    .dataframe thead th {\n",
              "        text-align: right;\n",
              "    }\n",
              "</style>\n",
              "<table border=\"1\" class=\"dataframe\">\n",
              "  <thead>\n",
              "    <tr style=\"text-align: right;\">\n",
              "      <th></th>\n",
              "      <th>0</th>\n",
              "    </tr>\n",
              "  </thead>\n",
              "  <tbody>\n",
              "    <tr>\n",
              "      <th>F_TIENEINTERNET</th>\n",
              "      <td>2</td>\n",
              "    </tr>\n",
              "    <tr>\n",
              "      <th>F_TIENELAVADORA</th>\n",
              "      <td>2</td>\n",
              "    </tr>\n",
              "    <tr>\n",
              "      <th>F_TIENEAUTOMOVIL</th>\n",
              "      <td>2</td>\n",
              "    </tr>\n",
              "    <tr>\n",
              "      <th>E_PAGOMATRICULAPROPIO</th>\n",
              "      <td>2</td>\n",
              "    </tr>\n",
              "    <tr>\n",
              "      <th>F_TIENECOMPUTADOR</th>\n",
              "      <td>2</td>\n",
              "    </tr>\n",
              "    <tr>\n",
              "      <th>E_VALORMATRICULAUNIVERSIDAD_Entre 1 millón y menos de 2.5 millones</th>\n",
              "      <td>2</td>\n",
              "    </tr>\n",
              "    <tr>\n",
              "      <th>E_VALORMATRICULAUNIVERSIDAD_Entre 2.5 millones y menos de 4 millones</th>\n",
              "      <td>2</td>\n",
              "    </tr>\n",
              "    <tr>\n",
              "      <th>E_VALORMATRICULAUNIVERSIDAD_Entre 4 millones y menos de 5.5 millones</th>\n",
              "      <td>2</td>\n",
              "    </tr>\n",
              "    <tr>\n",
              "      <th>E_VALORMATRICULAUNIVERSIDAD_Entre 5.5 millones y menos de 7 millones</th>\n",
              "      <td>2</td>\n",
              "    </tr>\n",
              "    <tr>\n",
              "      <th>E_VALORMATRICULAUNIVERSIDAD_Entre 500 mil y menos de 1 millón</th>\n",
              "      <td>2</td>\n",
              "    </tr>\n",
              "    <tr>\n",
              "      <th>E_VALORMATRICULAUNIVERSIDAD_Menos de 500 mil</th>\n",
              "      <td>2</td>\n",
              "    </tr>\n",
              "    <tr>\n",
              "      <th>E_VALORMATRICULAUNIVERSIDAD_Más de 7 millones</th>\n",
              "      <td>2</td>\n",
              "    </tr>\n",
              "    <tr>\n",
              "      <th>F_ESTRATOVIVIENDA_1</th>\n",
              "      <td>2</td>\n",
              "    </tr>\n",
              "    <tr>\n",
              "      <th>F_ESTRATOVIVIENDA_2</th>\n",
              "      <td>2</td>\n",
              "    </tr>\n",
              "    <tr>\n",
              "      <th>F_ESTRATOVIVIENDA_3</th>\n",
              "      <td>2</td>\n",
              "    </tr>\n",
              "    <tr>\n",
              "      <th>F_ESTRATOVIVIENDA_4</th>\n",
              "      <td>2</td>\n",
              "    </tr>\n",
              "    <tr>\n",
              "      <th>F_ESTRATOVIVIENDA_5</th>\n",
              "      <td>2</td>\n",
              "    </tr>\n",
              "    <tr>\n",
              "      <th>F_ESTRATOVIVIENDA_6</th>\n",
              "      <td>2</td>\n",
              "    </tr>\n",
              "  </tbody>\n",
              "</table>\n",
              "</div><br><label><b>dtype:</b> int64</label>"
            ]
          },
          "metadata": {},
          "execution_count": 119
        }
      ]
    },
    {
      "cell_type": "markdown",
      "source": [
        "De los datos originales, tenemos:\n",
        "- `F_TIENEINTERNET`\n",
        "- `F_TIENELAVADORA`\n",
        "- `F_TIENEAUTOMOVIL`\n",
        "- `E_PAGOMATRICULAPROPIO`\n",
        "- `F_TIENECOMPUTADOR`"
      ],
      "metadata": {
        "id": "N_maLIM-cUgi"
      }
    },
    {
      "cell_type": "code",
      "source": [
        "train['F_TIENEINTERNET'].unique()"
      ],
      "metadata": {
        "colab": {
          "base_uri": "https://localhost:8080/"
        },
        "id": "A8WCGh5UZFR1",
        "outputId": "870af841-61e2-481b-cb07-95040e76eb1f"
      },
      "execution_count": null,
      "outputs": [
        {
          "output_type": "execute_result",
          "data": {
            "text/plain": [
              "array(['Si', 'No'], dtype=object)"
            ]
          },
          "metadata": {},
          "execution_count": 120
        }
      ]
    },
    {
      "cell_type": "code",
      "source": [
        "train['F_TIENEINTERNET'] = train['F_TIENEINTERNET'].map({'Si': 1, 'No': 0})"
      ],
      "metadata": {
        "id": "qdQwnJJ5ZWsq"
      },
      "execution_count": null,
      "outputs": []
    },
    {
      "cell_type": "code",
      "source": [
        "train['F_TIENEINTERNET'].unique()"
      ],
      "metadata": {
        "colab": {
          "base_uri": "https://localhost:8080/"
        },
        "id": "Z4WcrztmaNtQ",
        "outputId": "7b0056bc-6515-42d4-b3fa-02d22f3e4ccf"
      },
      "execution_count": null,
      "outputs": [
        {
          "output_type": "execute_result",
          "data": {
            "text/plain": [
              "array([1, 0])"
            ]
          },
          "metadata": {},
          "execution_count": 122
        }
      ]
    },
    {
      "cell_type": "code",
      "source": [
        "train['F_TIENELAVADORA'].unique()"
      ],
      "metadata": {
        "colab": {
          "base_uri": "https://localhost:8080/"
        },
        "id": "8WrWpWHrcunz",
        "outputId": "d6e6a0da-21d3-40d6-c542-f799d23effde"
      },
      "execution_count": null,
      "outputs": [
        {
          "output_type": "execute_result",
          "data": {
            "text/plain": [
              "array(['Si', 'No'], dtype=object)"
            ]
          },
          "metadata": {},
          "execution_count": 123
        }
      ]
    },
    {
      "cell_type": "code",
      "source": [
        "train['F_TIENELAVADORA'] = train['F_TIENELAVADORA'].map({'Si': 1, 'No': 0})"
      ],
      "metadata": {
        "id": "bGSCSsNRc2Gz"
      },
      "execution_count": null,
      "outputs": []
    },
    {
      "cell_type": "code",
      "source": [
        "train['F_TIENELAVADORA'].unique()"
      ],
      "metadata": {
        "colab": {
          "base_uri": "https://localhost:8080/"
        },
        "id": "t7bOISEcdHjU",
        "outputId": "c14bc6a5-6b31-4e2d-e75a-4e36897d71a6"
      },
      "execution_count": null,
      "outputs": [
        {
          "output_type": "execute_result",
          "data": {
            "text/plain": [
              "array([1, 0])"
            ]
          },
          "metadata": {},
          "execution_count": 125
        }
      ]
    },
    {
      "cell_type": "code",
      "source": [
        "train['F_TIENEAUTOMOVIL'].unique()"
      ],
      "metadata": {
        "colab": {
          "base_uri": "https://localhost:8080/"
        },
        "id": "WqzjCQDJdL1z",
        "outputId": "3d64a667-655a-4f8e-b5af-41ae75f98721"
      },
      "execution_count": null,
      "outputs": [
        {
          "output_type": "execute_result",
          "data": {
            "text/plain": [
              "array(['Si', 'No'], dtype=object)"
            ]
          },
          "metadata": {},
          "execution_count": 126
        }
      ]
    },
    {
      "cell_type": "code",
      "source": [
        "train['F_TIENEAUTOMOVIL'] = train['F_TIENEAUTOMOVIL'].map({'Si': 1, 'No': 0})"
      ],
      "metadata": {
        "id": "m4J41Yb2dPXj"
      },
      "execution_count": null,
      "outputs": []
    },
    {
      "cell_type": "code",
      "source": [
        "train['F_TIENEAUTOMOVIL'].unique()"
      ],
      "metadata": {
        "colab": {
          "base_uri": "https://localhost:8080/"
        },
        "id": "Ot5vV6-1daEz",
        "outputId": "78a21ec8-5ec7-440a-fdbe-eb812b439063"
      },
      "execution_count": null,
      "outputs": [
        {
          "output_type": "execute_result",
          "data": {
            "text/plain": [
              "array([1, 0])"
            ]
          },
          "metadata": {},
          "execution_count": 128
        }
      ]
    },
    {
      "cell_type": "code",
      "source": [
        "train['E_PAGOMATRICULAPROPIO'].unique()"
      ],
      "metadata": {
        "colab": {
          "base_uri": "https://localhost:8080/"
        },
        "id": "DzTMZwWudhWc",
        "outputId": "a4005274-797c-433e-e4b5-060429ac6506"
      },
      "execution_count": null,
      "outputs": [
        {
          "output_type": "execute_result",
          "data": {
            "text/plain": [
              "array(['No', 'Si'], dtype=object)"
            ]
          },
          "metadata": {},
          "execution_count": 129
        }
      ]
    },
    {
      "cell_type": "code",
      "source": [
        "train['E_PAGOMATRICULAPROPIO'] = train['E_PAGOMATRICULAPROPIO'].map({'Si': 1, 'No': 0})"
      ],
      "metadata": {
        "id": "LpiY9cxZdj_c"
      },
      "execution_count": null,
      "outputs": []
    },
    {
      "cell_type": "code",
      "source": [
        "train['E_PAGOMATRICULAPROPIO'].unique()"
      ],
      "metadata": {
        "colab": {
          "base_uri": "https://localhost:8080/"
        },
        "id": "gw16LuZTdn7t",
        "outputId": "0efa397b-bc9e-4b85-c0f2-0fca8986bb77"
      },
      "execution_count": null,
      "outputs": [
        {
          "output_type": "execute_result",
          "data": {
            "text/plain": [
              "array([0, 1])"
            ]
          },
          "metadata": {},
          "execution_count": 131
        }
      ]
    },
    {
      "cell_type": "code",
      "source": [
        "train['F_TIENECOMPUTADOR'].unique()"
      ],
      "metadata": {
        "colab": {
          "base_uri": "https://localhost:8080/"
        },
        "id": "QvVPlPupXBw2",
        "outputId": "d7bda91b-0707-4a1b-d99d-92d27a086b91"
      },
      "execution_count": null,
      "outputs": [
        {
          "output_type": "execute_result",
          "data": {
            "text/plain": [
              "array(['Si', 'No'], dtype=object)"
            ]
          },
          "metadata": {},
          "execution_count": 132
        }
      ]
    },
    {
      "cell_type": "code",
      "source": [
        "train['F_TIENECOMPUTADOR'] = train['F_TIENECOMPUTADOR'].map({'Si': 1, 'No': 0})"
      ],
      "metadata": {
        "id": "sf5ZMohTdtac"
      },
      "execution_count": null,
      "outputs": []
    },
    {
      "cell_type": "code",
      "source": [
        "train['F_TIENECOMPUTADOR'].unique()"
      ],
      "metadata": {
        "colab": {
          "base_uri": "https://localhost:8080/"
        },
        "id": "Gsxxk6oNd0vU",
        "outputId": "58147c81-89e1-4417-eaca-3da96c37e35d"
      },
      "execution_count": null,
      "outputs": [
        {
          "output_type": "execute_result",
          "data": {
            "text/plain": [
              "array([1, 0])"
            ]
          },
          "metadata": {},
          "execution_count": 134
        }
      ]
    },
    {
      "cell_type": "code",
      "source": [
        "train.info()"
      ],
      "metadata": {
        "colab": {
          "base_uri": "https://localhost:8080/"
        },
        "id": "eHeuFeHbd3Y0",
        "outputId": "4e07f4c2-e5bc-464c-9b50-0115f3a0e61c"
      },
      "execution_count": null,
      "outputs": [
        {
          "output_type": "stream",
          "name": "stdout",
          "text": [
            "<class 'pandas.core.frame.DataFrame'>\n",
            "Index: 666875 entries, 0 to 692499\n",
            "Data columns (total 28 columns):\n",
            " #   Column                                                                Non-Null Count   Dtype  \n",
            "---  ------                                                                --------------   -----  \n",
            " 0   E_PRGM_ACADEMICO                                                      666875 non-null  object \n",
            " 1   E_PRGM_DEPARTAMENTO                                                   666875 non-null  object \n",
            " 2   E_HORASSEMANATRABAJA                                                  666875 non-null  float64\n",
            " 3   F_TIENEINTERNET                                                       666875 non-null  int64  \n",
            " 4   F_EDUCACIONPADRE                                                      666875 non-null  object \n",
            " 5   F_TIENELAVADORA                                                       666875 non-null  int64  \n",
            " 6   F_TIENEAUTOMOVIL                                                      666875 non-null  int64  \n",
            " 7   E_PAGOMATRICULAPROPIO                                                 666875 non-null  int64  \n",
            " 8   F_TIENECOMPUTADOR                                                     666875 non-null  int64  \n",
            " 9   F_EDUCACIONMADRE                                                      666875 non-null  object \n",
            " 10  RENDIMIENTO_GLOBAL                                                    666875 non-null  object \n",
            " 11  INDICADOR_1                                                           666875 non-null  float64\n",
            " 12  INDICADOR_2                                                           666875 non-null  float64\n",
            " 13  INDICADOR_3                                                           666875 non-null  float64\n",
            " 14  INDICADOR_4                                                           666875 non-null  float64\n",
            " 15  E_VALORMATRICULAUNIVERSIDAD_Entre 1 millón y menos de 2.5 millones    666875 non-null  int64  \n",
            " 16  E_VALORMATRICULAUNIVERSIDAD_Entre 2.5 millones y menos de 4 millones  666875 non-null  int64  \n",
            " 17  E_VALORMATRICULAUNIVERSIDAD_Entre 4 millones y menos de 5.5 millones  666875 non-null  int64  \n",
            " 18  E_VALORMATRICULAUNIVERSIDAD_Entre 5.5 millones y menos de 7 millones  666875 non-null  int64  \n",
            " 19  E_VALORMATRICULAUNIVERSIDAD_Entre 500 mil y menos de 1 millón         666875 non-null  int64  \n",
            " 20  E_VALORMATRICULAUNIVERSIDAD_Menos de 500 mil                          666875 non-null  int64  \n",
            " 21  E_VALORMATRICULAUNIVERSIDAD_Más de 7 millones                         666875 non-null  int64  \n",
            " 22  F_ESTRATOVIVIENDA_1                                                   666875 non-null  int64  \n",
            " 23  F_ESTRATOVIVIENDA_2                                                   666875 non-null  int64  \n",
            " 24  F_ESTRATOVIVIENDA_3                                                   666875 non-null  int64  \n",
            " 25  F_ESTRATOVIVIENDA_4                                                   666875 non-null  int64  \n",
            " 26  F_ESTRATOVIVIENDA_5                                                   666875 non-null  int64  \n",
            " 27  F_ESTRATOVIVIENDA_6                                                   666875 non-null  int64  \n",
            "dtypes: float64(5), int64(18), object(5)\n",
            "memory usage: 147.5+ MB\n"
          ]
        }
      ]
    },
    {
      "cell_type": "code",
      "source": [
        "train['F_EDUCACIONPADRE'].unique()"
      ],
      "metadata": {
        "colab": {
          "base_uri": "https://localhost:8080/"
        },
        "id": "VGJfQhE7eErl",
        "outputId": "00043087-701d-4d92-d1e9-e24d10d29d40"
      },
      "execution_count": null,
      "outputs": [
        {
          "output_type": "execute_result",
          "data": {
            "text/plain": [
              "array(['Técnica o tecnológica incompleta',\n",
              "       'Técnica o tecnológica completa',\n",
              "       'Secundaria (Bachillerato) completa', 'No sabe',\n",
              "       'Primaria completa', 'Educación profesional completa',\n",
              "       'Educación profesional incompleta', 'Primaria incompleta',\n",
              "       'Postgrado', 'Secundaria (Bachillerato) incompleta', 'Ninguno',\n",
              "       'No Aplica'], dtype=object)"
            ]
          },
          "metadata": {},
          "execution_count": 136
        }
      ]
    },
    {
      "cell_type": "code",
      "source": [
        "train['F_EDUCACIONMADRE'].unique()"
      ],
      "metadata": {
        "colab": {
          "base_uri": "https://localhost:8080/"
        },
        "id": "rfNbw45WeJwN",
        "outputId": "9c002402-2e92-4b49-e80e-e0e596cecae2"
      },
      "execution_count": null,
      "outputs": [
        {
          "output_type": "execute_result",
          "data": {
            "text/plain": [
              "array(['Postgrado', 'Técnica o tecnológica incompleta',\n",
              "       'Secundaria (Bachillerato) completa', 'Primaria completa',\n",
              "       'Técnica o tecnológica completa',\n",
              "       'Secundaria (Bachillerato) incompleta',\n",
              "       'Educación profesional incompleta',\n",
              "       'Educación profesional completa', 'Primaria incompleta', 'Ninguno',\n",
              "       'No Aplica', 'No sabe'], dtype=object)"
            ]
          },
          "metadata": {},
          "execution_count": 137
        }
      ]
    },
    {
      "cell_type": "markdown",
      "source": [
        "Se verifica si `F_EDUCACIONMADRE` y `F_EDUCACIONPADRE` tienen exactamente los mismo datos unicos."
      ],
      "metadata": {
        "id": "NWEq81tD8Q17"
      }
    },
    {
      "cell_type": "code",
      "source": [
        "if set(train['F_EDUCACIONMADRE']) == set(train['F_EDUCACIONPADRE']):\n",
        "    print(\"Las columnas tienen los mismos valores únicos.\")\n",
        "else:\n",
        "    print(\"Las columnas tienen valores únicos diferentes.\")"
      ],
      "metadata": {
        "id": "8vKq-UXikxjB",
        "outputId": "633cdefb-cab1-4f7f-b73b-4c1456fa6a6c",
        "colab": {
          "base_uri": "https://localhost:8080/"
        }
      },
      "execution_count": null,
      "outputs": [
        {
          "output_type": "stream",
          "name": "stdout",
          "text": [
            "Las columnas tienen los mismos valores únicos.\n"
          ]
        }
      ]
    },
    {
      "cell_type": "markdown",
      "source": [
        "Orden de importancia:\n",
        "- Postgrado\n",
        "- Educación profesional completa\n",
        "- Educación profesional incompleta\n",
        "- Técnica o tecnológica completa\n",
        "- Técnica o tecnológica incompleta\n",
        "- Secundaria (Bachillerato) completa\n",
        "- Secundaria (Bachillerato) incompleta\n",
        "- Primaria completa\n",
        "- Primaria incompleta\n",
        "- Ninguno / No sabe / No Aplica"
      ],
      "metadata": {
        "id": "zpKkgqGSfztr"
      }
    },
    {
      "cell_type": "code",
      "source": [
        "mapping = {\n",
        "    'Ninguno': 0,\n",
        "    'No sabe': 0,\n",
        "    'No Aplica': 0,\n",
        "    'Primaria incompleta': 1,\n",
        "    'Primaria completa': 2,\n",
        "    'Secundaria (Bachillerato) incompleta': 3,\n",
        "    'Secundaria (Bachillerato) completa': 5,\n",
        "    'Técnica o tecnológica incompleta': 7,\n",
        "    'Técnica o tecnológica completa': 10,\n",
        "    'Educación profesional incompleta': 13,\n",
        "    'Educación profesional completa': 20,\n",
        "    'Postgrado': 40\n",
        "}\n",
        "\n",
        "train['F_EDUCACIONMADRE'] = train['F_EDUCACIONMADRE'].map(mapping)\n",
        "train['F_EDUCACIONPADRE'] = train['F_EDUCACIONPADRE'].map(mapping)"
      ],
      "metadata": {
        "id": "ql3bOWKQir_m"
      },
      "execution_count": null,
      "outputs": []
    },
    {
      "cell_type": "code",
      "source": [
        "train['F_EDUCACIONMADRE'].value_counts(), train['F_EDUCACIONPADRE'].value_counts()"
      ],
      "metadata": {
        "colab": {
          "base_uri": "https://localhost:8080/"
        },
        "id": "yhyfQg7C9fLQ",
        "outputId": "a63746eb-ffed-41f9-dc54-199ed6f5431f"
      },
      "execution_count": null,
      "outputs": [
        {
          "output_type": "execute_result",
          "data": {
            "text/plain": [
              "(F_EDUCACIONMADRE\n",
              " 5     143147\n",
              " 1      99308\n",
              " 10     88925\n",
              " 20     84580\n",
              " 3      80557\n",
              " 2      55836\n",
              " 40     45621\n",
              " 7      27330\n",
              " 13     22265\n",
              " 0      19306\n",
              " Name: count, dtype: int64,\n",
              " F_EDUCACIONPADRE\n",
              " 5     128052\n",
              " 1     126618\n",
              " 20     82445\n",
              " 3      71241\n",
              " 10     62575\n",
              " 2      55659\n",
              " 0      47540\n",
              " 40     43557\n",
              " 13     26801\n",
              " 7      22387\n",
              " Name: count, dtype: int64)"
            ]
          },
          "metadata": {},
          "execution_count": 140
        }
      ]
    },
    {
      "cell_type": "code",
      "source": [
        "train.info()"
      ],
      "metadata": {
        "colab": {
          "base_uri": "https://localhost:8080/"
        },
        "id": "cGToQ2Ta95ps",
        "outputId": "497be80a-11a9-4ca2-d601-a79dd8eae3d4"
      },
      "execution_count": null,
      "outputs": [
        {
          "output_type": "stream",
          "name": "stdout",
          "text": [
            "<class 'pandas.core.frame.DataFrame'>\n",
            "Index: 666875 entries, 0 to 692499\n",
            "Data columns (total 28 columns):\n",
            " #   Column                                                                Non-Null Count   Dtype  \n",
            "---  ------                                                                --------------   -----  \n",
            " 0   E_PRGM_ACADEMICO                                                      666875 non-null  object \n",
            " 1   E_PRGM_DEPARTAMENTO                                                   666875 non-null  object \n",
            " 2   E_HORASSEMANATRABAJA                                                  666875 non-null  float64\n",
            " 3   F_TIENEINTERNET                                                       666875 non-null  int64  \n",
            " 4   F_EDUCACIONPADRE                                                      666875 non-null  int64  \n",
            " 5   F_TIENELAVADORA                                                       666875 non-null  int64  \n",
            " 6   F_TIENEAUTOMOVIL                                                      666875 non-null  int64  \n",
            " 7   E_PAGOMATRICULAPROPIO                                                 666875 non-null  int64  \n",
            " 8   F_TIENECOMPUTADOR                                                     666875 non-null  int64  \n",
            " 9   F_EDUCACIONMADRE                                                      666875 non-null  int64  \n",
            " 10  RENDIMIENTO_GLOBAL                                                    666875 non-null  object \n",
            " 11  INDICADOR_1                                                           666875 non-null  float64\n",
            " 12  INDICADOR_2                                                           666875 non-null  float64\n",
            " 13  INDICADOR_3                                                           666875 non-null  float64\n",
            " 14  INDICADOR_4                                                           666875 non-null  float64\n",
            " 15  E_VALORMATRICULAUNIVERSIDAD_Entre 1 millón y menos de 2.5 millones    666875 non-null  int64  \n",
            " 16  E_VALORMATRICULAUNIVERSIDAD_Entre 2.5 millones y menos de 4 millones  666875 non-null  int64  \n",
            " 17  E_VALORMATRICULAUNIVERSIDAD_Entre 4 millones y menos de 5.5 millones  666875 non-null  int64  \n",
            " 18  E_VALORMATRICULAUNIVERSIDAD_Entre 5.5 millones y menos de 7 millones  666875 non-null  int64  \n",
            " 19  E_VALORMATRICULAUNIVERSIDAD_Entre 500 mil y menos de 1 millón         666875 non-null  int64  \n",
            " 20  E_VALORMATRICULAUNIVERSIDAD_Menos de 500 mil                          666875 non-null  int64  \n",
            " 21  E_VALORMATRICULAUNIVERSIDAD_Más de 7 millones                         666875 non-null  int64  \n",
            " 22  F_ESTRATOVIVIENDA_1                                                   666875 non-null  int64  \n",
            " 23  F_ESTRATOVIVIENDA_2                                                   666875 non-null  int64  \n",
            " 24  F_ESTRATOVIVIENDA_3                                                   666875 non-null  int64  \n",
            " 25  F_ESTRATOVIVIENDA_4                                                   666875 non-null  int64  \n",
            " 26  F_ESTRATOVIVIENDA_5                                                   666875 non-null  int64  \n",
            " 27  F_ESTRATOVIVIENDA_6                                                   666875 non-null  int64  \n",
            "dtypes: float64(5), int64(20), object(3)\n",
            "memory usage: 147.5+ MB\n"
          ]
        }
      ]
    },
    {
      "cell_type": "code",
      "source": [
        "train['RENDIMIENTO_GLOBAL'].value_counts()"
      ],
      "metadata": {
        "colab": {
          "base_uri": "https://localhost:8080/",
          "height": 278
        },
        "id": "x8PM28Cb-bxW",
        "outputId": "0b5c0cb1-2111-4645-beb4-c42a75d7782d"
      },
      "execution_count": null,
      "outputs": [
        {
          "output_type": "execute_result",
          "data": {
            "text/plain": [
              "RENDIMIENTO_GLOBAL\n",
              "alto          168937\n",
              "medio-bajo    166835\n",
              "medio-alto    165637\n",
              "bajo          165466\n",
              "Name: count, dtype: int64"
            ],
            "text/html": [
              "<div>\n",
              "<style scoped>\n",
              "    .dataframe tbody tr th:only-of-type {\n",
              "        vertical-align: middle;\n",
              "    }\n",
              "\n",
              "    .dataframe tbody tr th {\n",
              "        vertical-align: top;\n",
              "    }\n",
              "\n",
              "    .dataframe thead th {\n",
              "        text-align: right;\n",
              "    }\n",
              "</style>\n",
              "<table border=\"1\" class=\"dataframe\">\n",
              "  <thead>\n",
              "    <tr style=\"text-align: right;\">\n",
              "      <th></th>\n",
              "      <th>count</th>\n",
              "    </tr>\n",
              "    <tr>\n",
              "      <th>RENDIMIENTO_GLOBAL</th>\n",
              "      <th></th>\n",
              "    </tr>\n",
              "  </thead>\n",
              "  <tbody>\n",
              "    <tr>\n",
              "      <th>alto</th>\n",
              "      <td>168937</td>\n",
              "    </tr>\n",
              "    <tr>\n",
              "      <th>medio-bajo</th>\n",
              "      <td>166835</td>\n",
              "    </tr>\n",
              "    <tr>\n",
              "      <th>medio-alto</th>\n",
              "      <td>165637</td>\n",
              "    </tr>\n",
              "    <tr>\n",
              "      <th>bajo</th>\n",
              "      <td>165466</td>\n",
              "    </tr>\n",
              "  </tbody>\n",
              "</table>\n",
              "</div><br><label><b>dtype:</b> int64</label>"
            ]
          },
          "metadata": {},
          "execution_count": 142
        }
      ]
    },
    {
      "cell_type": "code",
      "source": [
        "mapping = {\n",
        "    'alto': 4,\n",
        "    'medio-alto': 3,\n",
        "    'medio-bajo': 2,\n",
        "    'bajo': 1\n",
        "}\n",
        "\n",
        "train['RENDIMIENTO_GLOBAL'] = train['RENDIMIENTO_GLOBAL'].map(mapping)"
      ],
      "metadata": {
        "id": "Rnid-KHM-nU8"
      },
      "execution_count": null,
      "outputs": []
    },
    {
      "cell_type": "code",
      "source": [
        "train['RENDIMIENTO_GLOBAL'].value_counts()"
      ],
      "metadata": {
        "colab": {
          "base_uri": "https://localhost:8080/",
          "height": 278
        },
        "id": "gOgMrLab_HoQ",
        "outputId": "5761a848-3b42-45d8-8dba-4796044ce1d2"
      },
      "execution_count": null,
      "outputs": [
        {
          "output_type": "execute_result",
          "data": {
            "text/plain": [
              "RENDIMIENTO_GLOBAL\n",
              "4    168937\n",
              "2    166835\n",
              "3    165637\n",
              "1    165466\n",
              "Name: count, dtype: int64"
            ],
            "text/html": [
              "<div>\n",
              "<style scoped>\n",
              "    .dataframe tbody tr th:only-of-type {\n",
              "        vertical-align: middle;\n",
              "    }\n",
              "\n",
              "    .dataframe tbody tr th {\n",
              "        vertical-align: top;\n",
              "    }\n",
              "\n",
              "    .dataframe thead th {\n",
              "        text-align: right;\n",
              "    }\n",
              "</style>\n",
              "<table border=\"1\" class=\"dataframe\">\n",
              "  <thead>\n",
              "    <tr style=\"text-align: right;\">\n",
              "      <th></th>\n",
              "      <th>count</th>\n",
              "    </tr>\n",
              "    <tr>\n",
              "      <th>RENDIMIENTO_GLOBAL</th>\n",
              "      <th></th>\n",
              "    </tr>\n",
              "  </thead>\n",
              "  <tbody>\n",
              "    <tr>\n",
              "      <th>4</th>\n",
              "      <td>168937</td>\n",
              "    </tr>\n",
              "    <tr>\n",
              "      <th>2</th>\n",
              "      <td>166835</td>\n",
              "    </tr>\n",
              "    <tr>\n",
              "      <th>3</th>\n",
              "      <td>165637</td>\n",
              "    </tr>\n",
              "    <tr>\n",
              "      <th>1</th>\n",
              "      <td>165466</td>\n",
              "    </tr>\n",
              "  </tbody>\n",
              "</table>\n",
              "</div><br><label><b>dtype:</b> int64</label>"
            ]
          },
          "metadata": {},
          "execution_count": 144
        }
      ]
    },
    {
      "cell_type": "code",
      "source": [
        "train.info()"
      ],
      "metadata": {
        "colab": {
          "base_uri": "https://localhost:8080/"
        },
        "id": "LQKaazOLAn9y",
        "outputId": "2e785a19-34df-421c-809f-dc5f46d194f0"
      },
      "execution_count": null,
      "outputs": [
        {
          "output_type": "stream",
          "name": "stdout",
          "text": [
            "<class 'pandas.core.frame.DataFrame'>\n",
            "Index: 666875 entries, 0 to 692499\n",
            "Data columns (total 28 columns):\n",
            " #   Column                                                                Non-Null Count   Dtype  \n",
            "---  ------                                                                --------------   -----  \n",
            " 0   E_PRGM_ACADEMICO                                                      666875 non-null  object \n",
            " 1   E_PRGM_DEPARTAMENTO                                                   666875 non-null  object \n",
            " 2   E_HORASSEMANATRABAJA                                                  666875 non-null  float64\n",
            " 3   F_TIENEINTERNET                                                       666875 non-null  int64  \n",
            " 4   F_EDUCACIONPADRE                                                      666875 non-null  int64  \n",
            " 5   F_TIENELAVADORA                                                       666875 non-null  int64  \n",
            " 6   F_TIENEAUTOMOVIL                                                      666875 non-null  int64  \n",
            " 7   E_PAGOMATRICULAPROPIO                                                 666875 non-null  int64  \n",
            " 8   F_TIENECOMPUTADOR                                                     666875 non-null  int64  \n",
            " 9   F_EDUCACIONMADRE                                                      666875 non-null  int64  \n",
            " 10  RENDIMIENTO_GLOBAL                                                    666875 non-null  int64  \n",
            " 11  INDICADOR_1                                                           666875 non-null  float64\n",
            " 12  INDICADOR_2                                                           666875 non-null  float64\n",
            " 13  INDICADOR_3                                                           666875 non-null  float64\n",
            " 14  INDICADOR_4                                                           666875 non-null  float64\n",
            " 15  E_VALORMATRICULAUNIVERSIDAD_Entre 1 millón y menos de 2.5 millones    666875 non-null  int64  \n",
            " 16  E_VALORMATRICULAUNIVERSIDAD_Entre 2.5 millones y menos de 4 millones  666875 non-null  int64  \n",
            " 17  E_VALORMATRICULAUNIVERSIDAD_Entre 4 millones y menos de 5.5 millones  666875 non-null  int64  \n",
            " 18  E_VALORMATRICULAUNIVERSIDAD_Entre 5.5 millones y menos de 7 millones  666875 non-null  int64  \n",
            " 19  E_VALORMATRICULAUNIVERSIDAD_Entre 500 mil y menos de 1 millón         666875 non-null  int64  \n",
            " 20  E_VALORMATRICULAUNIVERSIDAD_Menos de 500 mil                          666875 non-null  int64  \n",
            " 21  E_VALORMATRICULAUNIVERSIDAD_Más de 7 millones                         666875 non-null  int64  \n",
            " 22  F_ESTRATOVIVIENDA_1                                                   666875 non-null  int64  \n",
            " 23  F_ESTRATOVIVIENDA_2                                                   666875 non-null  int64  \n",
            " 24  F_ESTRATOVIVIENDA_3                                                   666875 non-null  int64  \n",
            " 25  F_ESTRATOVIVIENDA_4                                                   666875 non-null  int64  \n",
            " 26  F_ESTRATOVIVIENDA_5                                                   666875 non-null  int64  \n",
            " 27  F_ESTRATOVIVIENDA_6                                                   666875 non-null  int64  \n",
            "dtypes: float64(5), int64(21), object(2)\n",
            "memory usage: 147.5+ MB\n"
          ]
        }
      ]
    },
    {
      "cell_type": "code",
      "source": [
        "train['E_PRGM_DEPARTAMENTO'].value_counts(normalize=True)"
      ],
      "metadata": {
        "colab": {
          "base_uri": "https://localhost:8080/",
          "height": 1000
        },
        "id": "16QHKBwdBiV7",
        "outputId": "92fc66f8-2378-4566-e133-900146e85f1e"
      },
      "execution_count": null,
      "outputs": [
        {
          "output_type": "execute_result",
          "data": {
            "text/plain": [
              "E_PRGM_DEPARTAMENTO\n",
              "BOGOTÁ             0.407693\n",
              "ANTIOQUIA          0.120367\n",
              "VALLE              0.063913\n",
              "ATLANTICO          0.059094\n",
              "SANTANDER          0.041790\n",
              "NORTE SANTANDER    0.032760\n",
              "BOLIVAR            0.029767\n",
              "BOYACA             0.020334\n",
              "CUNDINAMARCA       0.020239\n",
              "NARIÑO             0.019471\n",
              "RISARALDA          0.018288\n",
              "CORDOBA            0.017742\n",
              "TOLIMA             0.017368\n",
              "CALDAS             0.016790\n",
              "CAUCA              0.016375\n",
              "HUILA              0.014589\n",
              "MAGDALENA          0.013793\n",
              "SUCRE              0.012626\n",
              "CESAR              0.012022\n",
              "QUINDIO            0.011851\n",
              "META               0.011459\n",
              "LA GUAJIRA         0.006902\n",
              "CHOCO              0.006073\n",
              "CAQUETA            0.003863\n",
              "CASANARE           0.002675\n",
              "PUTUMAYO           0.001146\n",
              "ARAUCA             0.000862\n",
              "AMAZONAS           0.000057\n",
              "GUAVIARE           0.000055\n",
              "VAUPES             0.000019\n",
              "SAN ANDRES         0.000015\n",
              "Name: proportion, dtype: float64"
            ],
            "text/html": [
              "<div>\n",
              "<style scoped>\n",
              "    .dataframe tbody tr th:only-of-type {\n",
              "        vertical-align: middle;\n",
              "    }\n",
              "\n",
              "    .dataframe tbody tr th {\n",
              "        vertical-align: top;\n",
              "    }\n",
              "\n",
              "    .dataframe thead th {\n",
              "        text-align: right;\n",
              "    }\n",
              "</style>\n",
              "<table border=\"1\" class=\"dataframe\">\n",
              "  <thead>\n",
              "    <tr style=\"text-align: right;\">\n",
              "      <th></th>\n",
              "      <th>proportion</th>\n",
              "    </tr>\n",
              "    <tr>\n",
              "      <th>E_PRGM_DEPARTAMENTO</th>\n",
              "      <th></th>\n",
              "    </tr>\n",
              "  </thead>\n",
              "  <tbody>\n",
              "    <tr>\n",
              "      <th>BOGOTÁ</th>\n",
              "      <td>0.407693</td>\n",
              "    </tr>\n",
              "    <tr>\n",
              "      <th>ANTIOQUIA</th>\n",
              "      <td>0.120367</td>\n",
              "    </tr>\n",
              "    <tr>\n",
              "      <th>VALLE</th>\n",
              "      <td>0.063913</td>\n",
              "    </tr>\n",
              "    <tr>\n",
              "      <th>ATLANTICO</th>\n",
              "      <td>0.059094</td>\n",
              "    </tr>\n",
              "    <tr>\n",
              "      <th>SANTANDER</th>\n",
              "      <td>0.041790</td>\n",
              "    </tr>\n",
              "    <tr>\n",
              "      <th>NORTE SANTANDER</th>\n",
              "      <td>0.032760</td>\n",
              "    </tr>\n",
              "    <tr>\n",
              "      <th>BOLIVAR</th>\n",
              "      <td>0.029767</td>\n",
              "    </tr>\n",
              "    <tr>\n",
              "      <th>BOYACA</th>\n",
              "      <td>0.020334</td>\n",
              "    </tr>\n",
              "    <tr>\n",
              "      <th>CUNDINAMARCA</th>\n",
              "      <td>0.020239</td>\n",
              "    </tr>\n",
              "    <tr>\n",
              "      <th>NARIÑO</th>\n",
              "      <td>0.019471</td>\n",
              "    </tr>\n",
              "    <tr>\n",
              "      <th>RISARALDA</th>\n",
              "      <td>0.018288</td>\n",
              "    </tr>\n",
              "    <tr>\n",
              "      <th>CORDOBA</th>\n",
              "      <td>0.017742</td>\n",
              "    </tr>\n",
              "    <tr>\n",
              "      <th>TOLIMA</th>\n",
              "      <td>0.017368</td>\n",
              "    </tr>\n",
              "    <tr>\n",
              "      <th>CALDAS</th>\n",
              "      <td>0.016790</td>\n",
              "    </tr>\n",
              "    <tr>\n",
              "      <th>CAUCA</th>\n",
              "      <td>0.016375</td>\n",
              "    </tr>\n",
              "    <tr>\n",
              "      <th>HUILA</th>\n",
              "      <td>0.014589</td>\n",
              "    </tr>\n",
              "    <tr>\n",
              "      <th>MAGDALENA</th>\n",
              "      <td>0.013793</td>\n",
              "    </tr>\n",
              "    <tr>\n",
              "      <th>SUCRE</th>\n",
              "      <td>0.012626</td>\n",
              "    </tr>\n",
              "    <tr>\n",
              "      <th>CESAR</th>\n",
              "      <td>0.012022</td>\n",
              "    </tr>\n",
              "    <tr>\n",
              "      <th>QUINDIO</th>\n",
              "      <td>0.011851</td>\n",
              "    </tr>\n",
              "    <tr>\n",
              "      <th>META</th>\n",
              "      <td>0.011459</td>\n",
              "    </tr>\n",
              "    <tr>\n",
              "      <th>LA GUAJIRA</th>\n",
              "      <td>0.006902</td>\n",
              "    </tr>\n",
              "    <tr>\n",
              "      <th>CHOCO</th>\n",
              "      <td>0.006073</td>\n",
              "    </tr>\n",
              "    <tr>\n",
              "      <th>CAQUETA</th>\n",
              "      <td>0.003863</td>\n",
              "    </tr>\n",
              "    <tr>\n",
              "      <th>CASANARE</th>\n",
              "      <td>0.002675</td>\n",
              "    </tr>\n",
              "    <tr>\n",
              "      <th>PUTUMAYO</th>\n",
              "      <td>0.001146</td>\n",
              "    </tr>\n",
              "    <tr>\n",
              "      <th>ARAUCA</th>\n",
              "      <td>0.000862</td>\n",
              "    </tr>\n",
              "    <tr>\n",
              "      <th>AMAZONAS</th>\n",
              "      <td>0.000057</td>\n",
              "    </tr>\n",
              "    <tr>\n",
              "      <th>GUAVIARE</th>\n",
              "      <td>0.000055</td>\n",
              "    </tr>\n",
              "    <tr>\n",
              "      <th>VAUPES</th>\n",
              "      <td>0.000019</td>\n",
              "    </tr>\n",
              "    <tr>\n",
              "      <th>SAN ANDRES</th>\n",
              "      <td>0.000015</td>\n",
              "    </tr>\n",
              "  </tbody>\n",
              "</table>\n",
              "</div><br><label><b>dtype:</b> float64</label>"
            ]
          },
          "metadata": {},
          "execution_count": 146
        }
      ]
    },
    {
      "cell_type": "code",
      "source": [
        "train = pd.get_dummies(train, columns=['E_PRGM_DEPARTAMENTO'], dtype=int)"
      ],
      "metadata": {
        "id": "gmF5-XOqFpy0"
      },
      "execution_count": null,
      "outputs": []
    },
    {
      "cell_type": "code",
      "source": [
        "train.columns = train.columns.str.replace('_DEPARTAMENTO', '')"
      ],
      "metadata": {
        "id": "vEgIvdE_F9WE"
      },
      "execution_count": null,
      "outputs": []
    },
    {
      "cell_type": "code",
      "source": [
        "train.info()"
      ],
      "metadata": {
        "colab": {
          "base_uri": "https://localhost:8080/"
        },
        "id": "ff3yFp25Fu5e",
        "outputId": "841f5f2e-95a8-4ac9-c992-362c8a9865d5"
      },
      "execution_count": null,
      "outputs": [
        {
          "output_type": "stream",
          "name": "stdout",
          "text": [
            "<class 'pandas.core.frame.DataFrame'>\n",
            "Index: 666875 entries, 0 to 692499\n",
            "Data columns (total 58 columns):\n",
            " #   Column                                                                Non-Null Count   Dtype  \n",
            "---  ------                                                                --------------   -----  \n",
            " 0   E_PRGM_ACADEMICO                                                      666875 non-null  object \n",
            " 1   E_HORASSEMANATRABAJA                                                  666875 non-null  float64\n",
            " 2   F_TIENEINTERNET                                                       666875 non-null  int64  \n",
            " 3   F_EDUCACIONPADRE                                                      666875 non-null  int64  \n",
            " 4   F_TIENELAVADORA                                                       666875 non-null  int64  \n",
            " 5   F_TIENEAUTOMOVIL                                                      666875 non-null  int64  \n",
            " 6   E_PAGOMATRICULAPROPIO                                                 666875 non-null  int64  \n",
            " 7   F_TIENECOMPUTADOR                                                     666875 non-null  int64  \n",
            " 8   F_EDUCACIONMADRE                                                      666875 non-null  int64  \n",
            " 9   RENDIMIENTO_GLOBAL                                                    666875 non-null  int64  \n",
            " 10  INDICADOR_1                                                           666875 non-null  float64\n",
            " 11  INDICADOR_2                                                           666875 non-null  float64\n",
            " 12  INDICADOR_3                                                           666875 non-null  float64\n",
            " 13  INDICADOR_4                                                           666875 non-null  float64\n",
            " 14  E_VALORMATRICULAUNIVERSIDAD_Entre 1 millón y menos de 2.5 millones    666875 non-null  int64  \n",
            " 15  E_VALORMATRICULAUNIVERSIDAD_Entre 2.5 millones y menos de 4 millones  666875 non-null  int64  \n",
            " 16  E_VALORMATRICULAUNIVERSIDAD_Entre 4 millones y menos de 5.5 millones  666875 non-null  int64  \n",
            " 17  E_VALORMATRICULAUNIVERSIDAD_Entre 5.5 millones y menos de 7 millones  666875 non-null  int64  \n",
            " 18  E_VALORMATRICULAUNIVERSIDAD_Entre 500 mil y menos de 1 millón         666875 non-null  int64  \n",
            " 19  E_VALORMATRICULAUNIVERSIDAD_Menos de 500 mil                          666875 non-null  int64  \n",
            " 20  E_VALORMATRICULAUNIVERSIDAD_Más de 7 millones                         666875 non-null  int64  \n",
            " 21  F_ESTRATOVIVIENDA_1                                                   666875 non-null  int64  \n",
            " 22  F_ESTRATOVIVIENDA_2                                                   666875 non-null  int64  \n",
            " 23  F_ESTRATOVIVIENDA_3                                                   666875 non-null  int64  \n",
            " 24  F_ESTRATOVIVIENDA_4                                                   666875 non-null  int64  \n",
            " 25  F_ESTRATOVIVIENDA_5                                                   666875 non-null  int64  \n",
            " 26  F_ESTRATOVIVIENDA_6                                                   666875 non-null  int64  \n",
            " 27  E_PRGM_AMAZONAS                                                       666875 non-null  int64  \n",
            " 28  E_PRGM_ANTIOQUIA                                                      666875 non-null  int64  \n",
            " 29  E_PRGM_ARAUCA                                                         666875 non-null  int64  \n",
            " 30  E_PRGM_ATLANTICO                                                      666875 non-null  int64  \n",
            " 31  E_PRGM_BOGOTÁ                                                         666875 non-null  int64  \n",
            " 32  E_PRGM_BOLIVAR                                                        666875 non-null  int64  \n",
            " 33  E_PRGM_BOYACA                                                         666875 non-null  int64  \n",
            " 34  E_PRGM_CALDAS                                                         666875 non-null  int64  \n",
            " 35  E_PRGM_CAQUETA                                                        666875 non-null  int64  \n",
            " 36  E_PRGM_CASANARE                                                       666875 non-null  int64  \n",
            " 37  E_PRGM_CAUCA                                                          666875 non-null  int64  \n",
            " 38  E_PRGM_CESAR                                                          666875 non-null  int64  \n",
            " 39  E_PRGM_CHOCO                                                          666875 non-null  int64  \n",
            " 40  E_PRGM_CORDOBA                                                        666875 non-null  int64  \n",
            " 41  E_PRGM_CUNDINAMARCA                                                   666875 non-null  int64  \n",
            " 42  E_PRGM_GUAVIARE                                                       666875 non-null  int64  \n",
            " 43  E_PRGM_HUILA                                                          666875 non-null  int64  \n",
            " 44  E_PRGM_LA GUAJIRA                                                     666875 non-null  int64  \n",
            " 45  E_PRGM_MAGDALENA                                                      666875 non-null  int64  \n",
            " 46  E_PRGM_META                                                           666875 non-null  int64  \n",
            " 47  E_PRGM_NARIÑO                                                         666875 non-null  int64  \n",
            " 48  E_PRGM_NORTE SANTANDER                                                666875 non-null  int64  \n",
            " 49  E_PRGM_PUTUMAYO                                                       666875 non-null  int64  \n",
            " 50  E_PRGM_QUINDIO                                                        666875 non-null  int64  \n",
            " 51  E_PRGM_RISARALDA                                                      666875 non-null  int64  \n",
            " 52  E_PRGM_SAN ANDRES                                                     666875 non-null  int64  \n",
            " 53  E_PRGM_SANTANDER                                                      666875 non-null  int64  \n",
            " 54  E_PRGM_SUCRE                                                          666875 non-null  int64  \n",
            " 55  E_PRGM_TOLIMA                                                         666875 non-null  int64  \n",
            " 56  E_PRGM_VALLE                                                          666875 non-null  int64  \n",
            " 57  E_PRGM_VAUPES                                                         666875 non-null  int64  \n",
            "dtypes: float64(5), int64(52), object(1)\n",
            "memory usage: 300.2+ MB\n"
          ]
        }
      ]
    },
    {
      "cell_type": "code",
      "source": [
        "train = pd.get_dummies(train, columns=['E_PRGM_ACADEMICO'], dtype=int)"
      ],
      "metadata": {
        "id": "b6D_61koGUBN"
      },
      "execution_count": null,
      "outputs": []
    },
    {
      "cell_type": "code",
      "source": [
        "train.columns = train.columns.str.replace('_ACADEMICO', '')"
      ],
      "metadata": {
        "id": "FHQ5fvzJG5a2"
      },
      "execution_count": null,
      "outputs": []
    },
    {
      "cell_type": "code",
      "source": [
        "train.info()"
      ],
      "metadata": {
        "colab": {
          "base_uri": "https://localhost:8080/"
        },
        "id": "gCsdTJxjGl8S",
        "outputId": "2e25910a-fd03-46ce-ff7f-5d53a713d1b5"
      },
      "execution_count": null,
      "outputs": [
        {
          "output_type": "stream",
          "name": "stdout",
          "text": [
            "<class 'pandas.core.frame.DataFrame'>\n",
            "Index: 666875 entries, 0 to 692499\n",
            "Columns: 613 entries, E_HORASSEMANATRABAJA to E_PRGM_ZOOTECNIA\n",
            "dtypes: float64(5), int64(608)\n",
            "memory usage: 3.1 GB\n"
          ]
        }
      ]
    },
    {
      "cell_type": "code",
      "source": [
        "train.shape"
      ],
      "metadata": {
        "colab": {
          "base_uri": "https://localhost:8080/"
        },
        "id": "Y1uVPlgjHE6v",
        "outputId": "c31288fd-07ea-4e91-c1cc-3f58145bfdf7"
      },
      "execution_count": null,
      "outputs": [
        {
          "output_type": "execute_result",
          "data": {
            "text/plain": [
              "(666875, 613)"
            ]
          },
          "metadata": {},
          "execution_count": 153
        }
      ]
    },
    {
      "cell_type": "code",
      "source": [
        "train.head()"
      ],
      "metadata": {
        "colab": {
          "base_uri": "https://localhost:8080/",
          "height": 290
        },
        "id": "Z7FCGuSNGuNm",
        "outputId": "3577f97d-45e3-4f95-f628-e069241b4b92"
      },
      "execution_count": null,
      "outputs": [
        {
          "output_type": "execute_result",
          "data": {
            "text/plain": [
              "   E_HORASSEMANATRABAJA  F_TIENEINTERNET  F_EDUCACIONPADRE  F_TIENELAVADORA  \\\n",
              "0                   9.0                1                 7                1   \n",
              "1                   0.0                0                10                1   \n",
              "2                  31.0                1                 5                1   \n",
              "3                   0.0                1                 0                1   \n",
              "4                  25.5                1                 2                1   \n",
              "\n",
              "   F_TIENEAUTOMOVIL  E_PAGOMATRICULAPROPIO  F_TIENECOMPUTADOR  \\\n",
              "0                 1                      0                  1   \n",
              "1                 0                      0                  1   \n",
              "2                 0                      0                  0   \n",
              "3                 0                      0                  1   \n",
              "4                 1                      0                  1   \n",
              "\n",
              "   F_EDUCACIONMADRE  RENDIMIENTO_GLOBAL  INDICADOR_1  ...  \\\n",
              "0                40                   3        0.322  ...   \n",
              "1                 7                   1        0.311  ...   \n",
              "2                 5                   1        0.297  ...   \n",
              "3                 5                   4        0.485  ...   \n",
              "4                 2                   2        0.316  ...   \n",
              "\n",
              "   E_PRGM_SISTEMAS DE INFORMACION Y DOCUMENTACION  E_PRGM_SOCIOLOGIA  \\\n",
              "0                                               0                  0   \n",
              "1                                               0                  0   \n",
              "2                                               0                  0   \n",
              "3                                               0                  0   \n",
              "4                                               0                  0   \n",
              "\n",
              "   E_PRGM_TEOLOGIA  E_PRGM_TERAPIA CARDIORRESPIRATORIA  \\\n",
              "0                0                                   0   \n",
              "1                0                                   0   \n",
              "2                0                                   0   \n",
              "3                0                                   0   \n",
              "4                0                                   0   \n",
              "\n",
              "   E_PRGM_TERAPIA OCUPACIONAL  E_PRGM_TERAPIA RESPIRATORIA  \\\n",
              "0                           0                            0   \n",
              "1                           0                            0   \n",
              "2                           0                            0   \n",
              "3                           0                            0   \n",
              "4                           0                            0   \n",
              "\n",
              "   E_PRGM_TRABAJO SOCIAL  E_PRGM_TRADUCCION INGLES-FRANCES-ESPANOL  \\\n",
              "0                      0                                         0   \n",
              "1                      0                                         0   \n",
              "2                      0                                         0   \n",
              "3                      0                                         0   \n",
              "4                      0                                         0   \n",
              "\n",
              "   E_PRGM_TURISMO  E_PRGM_ZOOTECNIA  \n",
              "0               0                 0  \n",
              "1               0                 0  \n",
              "2               0                 0  \n",
              "3               0                 0  \n",
              "4               0                 0  \n",
              "\n",
              "[5 rows x 613 columns]"
            ],
            "text/html": [
              "\n",
              "  <div id=\"df-7019bccd-7b6a-4bc8-90f7-3e5f7e202a86\" class=\"colab-df-container\">\n",
              "    <div>\n",
              "<style scoped>\n",
              "    .dataframe tbody tr th:only-of-type {\n",
              "        vertical-align: middle;\n",
              "    }\n",
              "\n",
              "    .dataframe tbody tr th {\n",
              "        vertical-align: top;\n",
              "    }\n",
              "\n",
              "    .dataframe thead th {\n",
              "        text-align: right;\n",
              "    }\n",
              "</style>\n",
              "<table border=\"1\" class=\"dataframe\">\n",
              "  <thead>\n",
              "    <tr style=\"text-align: right;\">\n",
              "      <th></th>\n",
              "      <th>E_HORASSEMANATRABAJA</th>\n",
              "      <th>F_TIENEINTERNET</th>\n",
              "      <th>F_EDUCACIONPADRE</th>\n",
              "      <th>F_TIENELAVADORA</th>\n",
              "      <th>F_TIENEAUTOMOVIL</th>\n",
              "      <th>E_PAGOMATRICULAPROPIO</th>\n",
              "      <th>F_TIENECOMPUTADOR</th>\n",
              "      <th>F_EDUCACIONMADRE</th>\n",
              "      <th>RENDIMIENTO_GLOBAL</th>\n",
              "      <th>INDICADOR_1</th>\n",
              "      <th>...</th>\n",
              "      <th>E_PRGM_SISTEMAS DE INFORMACION Y DOCUMENTACION</th>\n",
              "      <th>E_PRGM_SOCIOLOGIA</th>\n",
              "      <th>E_PRGM_TEOLOGIA</th>\n",
              "      <th>E_PRGM_TERAPIA CARDIORRESPIRATORIA</th>\n",
              "      <th>E_PRGM_TERAPIA OCUPACIONAL</th>\n",
              "      <th>E_PRGM_TERAPIA RESPIRATORIA</th>\n",
              "      <th>E_PRGM_TRABAJO SOCIAL</th>\n",
              "      <th>E_PRGM_TRADUCCION INGLES-FRANCES-ESPANOL</th>\n",
              "      <th>E_PRGM_TURISMO</th>\n",
              "      <th>E_PRGM_ZOOTECNIA</th>\n",
              "    </tr>\n",
              "  </thead>\n",
              "  <tbody>\n",
              "    <tr>\n",
              "      <th>0</th>\n",
              "      <td>9.0</td>\n",
              "      <td>1</td>\n",
              "      <td>7</td>\n",
              "      <td>1</td>\n",
              "      <td>1</td>\n",
              "      <td>0</td>\n",
              "      <td>1</td>\n",
              "      <td>40</td>\n",
              "      <td>3</td>\n",
              "      <td>0.322</td>\n",
              "      <td>...</td>\n",
              "      <td>0</td>\n",
              "      <td>0</td>\n",
              "      <td>0</td>\n",
              "      <td>0</td>\n",
              "      <td>0</td>\n",
              "      <td>0</td>\n",
              "      <td>0</td>\n",
              "      <td>0</td>\n",
              "      <td>0</td>\n",
              "      <td>0</td>\n",
              "    </tr>\n",
              "    <tr>\n",
              "      <th>1</th>\n",
              "      <td>0.0</td>\n",
              "      <td>0</td>\n",
              "      <td>10</td>\n",
              "      <td>1</td>\n",
              "      <td>0</td>\n",
              "      <td>0</td>\n",
              "      <td>1</td>\n",
              "      <td>7</td>\n",
              "      <td>1</td>\n",
              "      <td>0.311</td>\n",
              "      <td>...</td>\n",
              "      <td>0</td>\n",
              "      <td>0</td>\n",
              "      <td>0</td>\n",
              "      <td>0</td>\n",
              "      <td>0</td>\n",
              "      <td>0</td>\n",
              "      <td>0</td>\n",
              "      <td>0</td>\n",
              "      <td>0</td>\n",
              "      <td>0</td>\n",
              "    </tr>\n",
              "    <tr>\n",
              "      <th>2</th>\n",
              "      <td>31.0</td>\n",
              "      <td>1</td>\n",
              "      <td>5</td>\n",
              "      <td>1</td>\n",
              "      <td>0</td>\n",
              "      <td>0</td>\n",
              "      <td>0</td>\n",
              "      <td>5</td>\n",
              "      <td>1</td>\n",
              "      <td>0.297</td>\n",
              "      <td>...</td>\n",
              "      <td>0</td>\n",
              "      <td>0</td>\n",
              "      <td>0</td>\n",
              "      <td>0</td>\n",
              "      <td>0</td>\n",
              "      <td>0</td>\n",
              "      <td>0</td>\n",
              "      <td>0</td>\n",
              "      <td>0</td>\n",
              "      <td>0</td>\n",
              "    </tr>\n",
              "    <tr>\n",
              "      <th>3</th>\n",
              "      <td>0.0</td>\n",
              "      <td>1</td>\n",
              "      <td>0</td>\n",
              "      <td>1</td>\n",
              "      <td>0</td>\n",
              "      <td>0</td>\n",
              "      <td>1</td>\n",
              "      <td>5</td>\n",
              "      <td>4</td>\n",
              "      <td>0.485</td>\n",
              "      <td>...</td>\n",
              "      <td>0</td>\n",
              "      <td>0</td>\n",
              "      <td>0</td>\n",
              "      <td>0</td>\n",
              "      <td>0</td>\n",
              "      <td>0</td>\n",
              "      <td>0</td>\n",
              "      <td>0</td>\n",
              "      <td>0</td>\n",
              "      <td>0</td>\n",
              "    </tr>\n",
              "    <tr>\n",
              "      <th>4</th>\n",
              "      <td>25.5</td>\n",
              "      <td>1</td>\n",
              "      <td>2</td>\n",
              "      <td>1</td>\n",
              "      <td>1</td>\n",
              "      <td>0</td>\n",
              "      <td>1</td>\n",
              "      <td>2</td>\n",
              "      <td>2</td>\n",
              "      <td>0.316</td>\n",
              "      <td>...</td>\n",
              "      <td>0</td>\n",
              "      <td>0</td>\n",
              "      <td>0</td>\n",
              "      <td>0</td>\n",
              "      <td>0</td>\n",
              "      <td>0</td>\n",
              "      <td>0</td>\n",
              "      <td>0</td>\n",
              "      <td>0</td>\n",
              "      <td>0</td>\n",
              "    </tr>\n",
              "  </tbody>\n",
              "</table>\n",
              "<p>5 rows × 613 columns</p>\n",
              "</div>\n",
              "    <div class=\"colab-df-buttons\">\n",
              "\n",
              "  <div class=\"colab-df-container\">\n",
              "    <button class=\"colab-df-convert\" onclick=\"convertToInteractive('df-7019bccd-7b6a-4bc8-90f7-3e5f7e202a86')\"\n",
              "            title=\"Convert this dataframe to an interactive table.\"\n",
              "            style=\"display:none;\">\n",
              "\n",
              "  <svg xmlns=\"http://www.w3.org/2000/svg\" height=\"24px\" viewBox=\"0 -960 960 960\">\n",
              "    <path d=\"M120-120v-720h720v720H120Zm60-500h600v-160H180v160Zm220 220h160v-160H400v160Zm0 220h160v-160H400v160ZM180-400h160v-160H180v160Zm440 0h160v-160H620v160ZM180-180h160v-160H180v160Zm440 0h160v-160H620v160Z\"/>\n",
              "  </svg>\n",
              "    </button>\n",
              "\n",
              "  <style>\n",
              "    .colab-df-container {\n",
              "      display:flex;\n",
              "      gap: 12px;\n",
              "    }\n",
              "\n",
              "    .colab-df-convert {\n",
              "      background-color: #E8F0FE;\n",
              "      border: none;\n",
              "      border-radius: 50%;\n",
              "      cursor: pointer;\n",
              "      display: none;\n",
              "      fill: #1967D2;\n",
              "      height: 32px;\n",
              "      padding: 0 0 0 0;\n",
              "      width: 32px;\n",
              "    }\n",
              "\n",
              "    .colab-df-convert:hover {\n",
              "      background-color: #E2EBFA;\n",
              "      box-shadow: 0px 1px 2px rgba(60, 64, 67, 0.3), 0px 1px 3px 1px rgba(60, 64, 67, 0.15);\n",
              "      fill: #174EA6;\n",
              "    }\n",
              "\n",
              "    .colab-df-buttons div {\n",
              "      margin-bottom: 4px;\n",
              "    }\n",
              "\n",
              "    [theme=dark] .colab-df-convert {\n",
              "      background-color: #3B4455;\n",
              "      fill: #D2E3FC;\n",
              "    }\n",
              "\n",
              "    [theme=dark] .colab-df-convert:hover {\n",
              "      background-color: #434B5C;\n",
              "      box-shadow: 0px 1px 3px 1px rgba(0, 0, 0, 0.15);\n",
              "      filter: drop-shadow(0px 1px 2px rgba(0, 0, 0, 0.3));\n",
              "      fill: #FFFFFF;\n",
              "    }\n",
              "  </style>\n",
              "\n",
              "    <script>\n",
              "      const buttonEl =\n",
              "        document.querySelector('#df-7019bccd-7b6a-4bc8-90f7-3e5f7e202a86 button.colab-df-convert');\n",
              "      buttonEl.style.display =\n",
              "        google.colab.kernel.accessAllowed ? 'block' : 'none';\n",
              "\n",
              "      async function convertToInteractive(key) {\n",
              "        const element = document.querySelector('#df-7019bccd-7b6a-4bc8-90f7-3e5f7e202a86');\n",
              "        const dataTable =\n",
              "          await google.colab.kernel.invokeFunction('convertToInteractive',\n",
              "                                                    [key], {});\n",
              "        if (!dataTable) return;\n",
              "\n",
              "        const docLinkHtml = 'Like what you see? Visit the ' +\n",
              "          '<a target=\"_blank\" href=https://colab.research.google.com/notebooks/data_table.ipynb>data table notebook</a>'\n",
              "          + ' to learn more about interactive tables.';\n",
              "        element.innerHTML = '';\n",
              "        dataTable['output_type'] = 'display_data';\n",
              "        await google.colab.output.renderOutput(dataTable, element);\n",
              "        const docLink = document.createElement('div');\n",
              "        docLink.innerHTML = docLinkHtml;\n",
              "        element.appendChild(docLink);\n",
              "      }\n",
              "    </script>\n",
              "  </div>\n",
              "\n",
              "\n",
              "    <div id=\"df-d004448b-f12f-4392-8480-961478364ea4\">\n",
              "      <button class=\"colab-df-quickchart\" onclick=\"quickchart('df-d004448b-f12f-4392-8480-961478364ea4')\"\n",
              "                title=\"Suggest charts\"\n",
              "                style=\"display:none;\">\n",
              "\n",
              "<svg xmlns=\"http://www.w3.org/2000/svg\" height=\"24px\"viewBox=\"0 0 24 24\"\n",
              "     width=\"24px\">\n",
              "    <g>\n",
              "        <path d=\"M19 3H5c-1.1 0-2 .9-2 2v14c0 1.1.9 2 2 2h14c1.1 0 2-.9 2-2V5c0-1.1-.9-2-2-2zM9 17H7v-7h2v7zm4 0h-2V7h2v10zm4 0h-2v-4h2v4z\"/>\n",
              "    </g>\n",
              "</svg>\n",
              "      </button>\n",
              "\n",
              "<style>\n",
              "  .colab-df-quickchart {\n",
              "      --bg-color: #E8F0FE;\n",
              "      --fill-color: #1967D2;\n",
              "      --hover-bg-color: #E2EBFA;\n",
              "      --hover-fill-color: #174EA6;\n",
              "      --disabled-fill-color: #AAA;\n",
              "      --disabled-bg-color: #DDD;\n",
              "  }\n",
              "\n",
              "  [theme=dark] .colab-df-quickchart {\n",
              "      --bg-color: #3B4455;\n",
              "      --fill-color: #D2E3FC;\n",
              "      --hover-bg-color: #434B5C;\n",
              "      --hover-fill-color: #FFFFFF;\n",
              "      --disabled-bg-color: #3B4455;\n",
              "      --disabled-fill-color: #666;\n",
              "  }\n",
              "\n",
              "  .colab-df-quickchart {\n",
              "    background-color: var(--bg-color);\n",
              "    border: none;\n",
              "    border-radius: 50%;\n",
              "    cursor: pointer;\n",
              "    display: none;\n",
              "    fill: var(--fill-color);\n",
              "    height: 32px;\n",
              "    padding: 0;\n",
              "    width: 32px;\n",
              "  }\n",
              "\n",
              "  .colab-df-quickchart:hover {\n",
              "    background-color: var(--hover-bg-color);\n",
              "    box-shadow: 0 1px 2px rgba(60, 64, 67, 0.3), 0 1px 3px 1px rgba(60, 64, 67, 0.15);\n",
              "    fill: var(--button-hover-fill-color);\n",
              "  }\n",
              "\n",
              "  .colab-df-quickchart-complete:disabled,\n",
              "  .colab-df-quickchart-complete:disabled:hover {\n",
              "    background-color: var(--disabled-bg-color);\n",
              "    fill: var(--disabled-fill-color);\n",
              "    box-shadow: none;\n",
              "  }\n",
              "\n",
              "  .colab-df-spinner {\n",
              "    border: 2px solid var(--fill-color);\n",
              "    border-color: transparent;\n",
              "    border-bottom-color: var(--fill-color);\n",
              "    animation:\n",
              "      spin 1s steps(1) infinite;\n",
              "  }\n",
              "\n",
              "  @keyframes spin {\n",
              "    0% {\n",
              "      border-color: transparent;\n",
              "      border-bottom-color: var(--fill-color);\n",
              "      border-left-color: var(--fill-color);\n",
              "    }\n",
              "    20% {\n",
              "      border-color: transparent;\n",
              "      border-left-color: var(--fill-color);\n",
              "      border-top-color: var(--fill-color);\n",
              "    }\n",
              "    30% {\n",
              "      border-color: transparent;\n",
              "      border-left-color: var(--fill-color);\n",
              "      border-top-color: var(--fill-color);\n",
              "      border-right-color: var(--fill-color);\n",
              "    }\n",
              "    40% {\n",
              "      border-color: transparent;\n",
              "      border-right-color: var(--fill-color);\n",
              "      border-top-color: var(--fill-color);\n",
              "    }\n",
              "    60% {\n",
              "      border-color: transparent;\n",
              "      border-right-color: var(--fill-color);\n",
              "    }\n",
              "    80% {\n",
              "      border-color: transparent;\n",
              "      border-right-color: var(--fill-color);\n",
              "      border-bottom-color: var(--fill-color);\n",
              "    }\n",
              "    90% {\n",
              "      border-color: transparent;\n",
              "      border-bottom-color: var(--fill-color);\n",
              "    }\n",
              "  }\n",
              "</style>\n",
              "\n",
              "      <script>\n",
              "        async function quickchart(key) {\n",
              "          const quickchartButtonEl =\n",
              "            document.querySelector('#' + key + ' button');\n",
              "          quickchartButtonEl.disabled = true;  // To prevent multiple clicks.\n",
              "          quickchartButtonEl.classList.add('colab-df-spinner');\n",
              "          try {\n",
              "            const charts = await google.colab.kernel.invokeFunction(\n",
              "                'suggestCharts', [key], {});\n",
              "          } catch (error) {\n",
              "            console.error('Error during call to suggestCharts:', error);\n",
              "          }\n",
              "          quickchartButtonEl.classList.remove('colab-df-spinner');\n",
              "          quickchartButtonEl.classList.add('colab-df-quickchart-complete');\n",
              "        }\n",
              "        (() => {\n",
              "          let quickchartButtonEl =\n",
              "            document.querySelector('#df-d004448b-f12f-4392-8480-961478364ea4 button');\n",
              "          quickchartButtonEl.style.display =\n",
              "            google.colab.kernel.accessAllowed ? 'block' : 'none';\n",
              "        })();\n",
              "      </script>\n",
              "    </div>\n",
              "\n",
              "    </div>\n",
              "  </div>\n"
            ],
            "application/vnd.google.colaboratory.intrinsic+json": {
              "type": "dataframe",
              "variable_name": "train"
            }
          },
          "metadata": {},
          "execution_count": 154
        }
      ]
    },
    {
      "cell_type": "markdown",
      "source": [
        "### Normalizar valores"
      ],
      "metadata": {
        "id": "PbL1H3iQGBQv"
      }
    },
    {
      "cell_type": "markdown",
      "source": [
        "$$s_i = \\frac{x_i - min}{max - min}$$\n",
        "\n",
        "donde `min` y `max` son valor mínimo y máximo, respectivamente."
      ],
      "metadata": {
        "id": "qeBIaAOzot_S"
      }
    },
    {
      "cell_type": "code",
      "source": [
        "(train < 0).sum().sort_values(ascending=False)"
      ],
      "metadata": {
        "colab": {
          "base_uri": "https://localhost:8080/",
          "height": 459
        },
        "id": "8ABJDlWOHS2v",
        "outputId": "1982740d-9835-4092-9c80-6b4c06a83b25"
      },
      "execution_count": null,
      "outputs": [
        {
          "output_type": "execute_result",
          "data": {
            "text/plain": [
              "E_PRGM_ZOOTECNIA         0\n",
              "E_HORASSEMANATRABAJA     0\n",
              "F_TIENEINTERNET          0\n",
              "F_EDUCACIONPADRE         0\n",
              "F_TIENELAVADORA          0\n",
              "                        ..\n",
              "INDICADOR_1              0\n",
              "RENDIMIENTO_GLOBAL       0\n",
              "F_EDUCACIONMADRE         0\n",
              "F_TIENECOMPUTADOR        0\n",
              "E_PAGOMATRICULAPROPIO    0\n",
              "Length: 613, dtype: int64"
            ],
            "text/html": [
              "<div>\n",
              "<style scoped>\n",
              "    .dataframe tbody tr th:only-of-type {\n",
              "        vertical-align: middle;\n",
              "    }\n",
              "\n",
              "    .dataframe tbody tr th {\n",
              "        vertical-align: top;\n",
              "    }\n",
              "\n",
              "    .dataframe thead th {\n",
              "        text-align: right;\n",
              "    }\n",
              "</style>\n",
              "<table border=\"1\" class=\"dataframe\">\n",
              "  <thead>\n",
              "    <tr style=\"text-align: right;\">\n",
              "      <th></th>\n",
              "      <th>0</th>\n",
              "    </tr>\n",
              "  </thead>\n",
              "  <tbody>\n",
              "    <tr>\n",
              "      <th>E_PRGM_ZOOTECNIA</th>\n",
              "      <td>0</td>\n",
              "    </tr>\n",
              "    <tr>\n",
              "      <th>E_HORASSEMANATRABAJA</th>\n",
              "      <td>0</td>\n",
              "    </tr>\n",
              "    <tr>\n",
              "      <th>F_TIENEINTERNET</th>\n",
              "      <td>0</td>\n",
              "    </tr>\n",
              "    <tr>\n",
              "      <th>F_EDUCACIONPADRE</th>\n",
              "      <td>0</td>\n",
              "    </tr>\n",
              "    <tr>\n",
              "      <th>F_TIENELAVADORA</th>\n",
              "      <td>0</td>\n",
              "    </tr>\n",
              "    <tr>\n",
              "      <th>...</th>\n",
              "      <td>...</td>\n",
              "    </tr>\n",
              "    <tr>\n",
              "      <th>INDICADOR_1</th>\n",
              "      <td>0</td>\n",
              "    </tr>\n",
              "    <tr>\n",
              "      <th>RENDIMIENTO_GLOBAL</th>\n",
              "      <td>0</td>\n",
              "    </tr>\n",
              "    <tr>\n",
              "      <th>F_EDUCACIONMADRE</th>\n",
              "      <td>0</td>\n",
              "    </tr>\n",
              "    <tr>\n",
              "      <th>F_TIENECOMPUTADOR</th>\n",
              "      <td>0</td>\n",
              "    </tr>\n",
              "    <tr>\n",
              "      <th>E_PAGOMATRICULAPROPIO</th>\n",
              "      <td>0</td>\n",
              "    </tr>\n",
              "  </tbody>\n",
              "</table>\n",
              "<p>613 rows × 1 columns</p>\n",
              "</div><br><label><b>dtype:</b> int64</label>"
            ]
          },
          "metadata": {},
          "execution_count": 155
        }
      ]
    },
    {
      "cell_type": "markdown",
      "source": [
        "No hay valores menores a cero"
      ],
      "metadata": {
        "id": "Ht1Uvs_oJ1v1"
      }
    },
    {
      "cell_type": "code",
      "source": [
        "(train > 1).sum().sort_values(ascending=False)"
      ],
      "metadata": {
        "colab": {
          "base_uri": "https://localhost:8080/",
          "height": 459
        },
        "id": "FdBdITIdJ5u8",
        "outputId": "de626221-5710-4736-c4e4-9b00c9343b03"
      },
      "execution_count": null,
      "outputs": [
        {
          "output_type": "execute_result",
          "data": {
            "text/plain": [
              "E_HORASSEMANATRABAJA                          551354\n",
              "F_EDUCACIONMADRE                              548261\n",
              "RENDIMIENTO_GLOBAL                            501409\n",
              "F_EDUCACIONPADRE                              492717\n",
              "E_PRGM_LICENCIATURA EN EDUCACION ARTISTICA         0\n",
              "                                               ...  \n",
              "E_PRGM_DISENO DE LA COMUNICACION GRAFICA           0\n",
              "E_PRGM_DISENO DE MEDIOS INTERACTIVOS               0\n",
              "E_PRGM_DISENO DE MODAS                             0\n",
              "E_PRGM_DISENO DE VESTUARIO                         0\n",
              "E_PRGM_DISENO                                      0\n",
              "Length: 613, dtype: int64"
            ],
            "text/html": [
              "<div>\n",
              "<style scoped>\n",
              "    .dataframe tbody tr th:only-of-type {\n",
              "        vertical-align: middle;\n",
              "    }\n",
              "\n",
              "    .dataframe tbody tr th {\n",
              "        vertical-align: top;\n",
              "    }\n",
              "\n",
              "    .dataframe thead th {\n",
              "        text-align: right;\n",
              "    }\n",
              "</style>\n",
              "<table border=\"1\" class=\"dataframe\">\n",
              "  <thead>\n",
              "    <tr style=\"text-align: right;\">\n",
              "      <th></th>\n",
              "      <th>0</th>\n",
              "    </tr>\n",
              "  </thead>\n",
              "  <tbody>\n",
              "    <tr>\n",
              "      <th>E_HORASSEMANATRABAJA</th>\n",
              "      <td>551354</td>\n",
              "    </tr>\n",
              "    <tr>\n",
              "      <th>F_EDUCACIONMADRE</th>\n",
              "      <td>548261</td>\n",
              "    </tr>\n",
              "    <tr>\n",
              "      <th>RENDIMIENTO_GLOBAL</th>\n",
              "      <td>501409</td>\n",
              "    </tr>\n",
              "    <tr>\n",
              "      <th>F_EDUCACIONPADRE</th>\n",
              "      <td>492717</td>\n",
              "    </tr>\n",
              "    <tr>\n",
              "      <th>E_PRGM_LICENCIATURA EN EDUCACION ARTISTICA</th>\n",
              "      <td>0</td>\n",
              "    </tr>\n",
              "    <tr>\n",
              "      <th>...</th>\n",
              "      <td>...</td>\n",
              "    </tr>\n",
              "    <tr>\n",
              "      <th>E_PRGM_DISENO DE LA COMUNICACION GRAFICA</th>\n",
              "      <td>0</td>\n",
              "    </tr>\n",
              "    <tr>\n",
              "      <th>E_PRGM_DISENO DE MEDIOS INTERACTIVOS</th>\n",
              "      <td>0</td>\n",
              "    </tr>\n",
              "    <tr>\n",
              "      <th>E_PRGM_DISENO DE MODAS</th>\n",
              "      <td>0</td>\n",
              "    </tr>\n",
              "    <tr>\n",
              "      <th>E_PRGM_DISENO DE VESTUARIO</th>\n",
              "      <td>0</td>\n",
              "    </tr>\n",
              "    <tr>\n",
              "      <th>E_PRGM_DISENO</th>\n",
              "      <td>0</td>\n",
              "    </tr>\n",
              "  </tbody>\n",
              "</table>\n",
              "<p>613 rows × 1 columns</p>\n",
              "</div><br><label><b>dtype:</b> int64</label>"
            ]
          },
          "metadata": {},
          "execution_count": 156
        }
      ]
    },
    {
      "cell_type": "markdown",
      "source": [
        "Valores mayores a 1.\n",
        "\n",
        "`E_HORASSEMANATRABAJA`, `F_EDUCACIONMADRE` y `F_EDUCACIONPADRE`. Estas se deben normalizar"
      ],
      "metadata": {
        "id": "ZlUxNpVnJ_62"
      }
    },
    {
      "cell_type": "code",
      "source": [
        "train['E_HORASSEMANATRABAJA'].value_counts()"
      ],
      "metadata": {
        "colab": {
          "base_uri": "https://localhost:8080/",
          "height": 304
        },
        "id": "zSKaWeZrKTjO",
        "outputId": "65cf3cbe-8d90-4bbe-b152-47bf767ffe6b"
      },
      "execution_count": null,
      "outputs": [
        {
          "output_type": "execute_result",
          "data": {
            "text/plain": [
              "E_HORASSEMANATRABAJA\n",
              "31.000    247704\n",
              "0.000     115521\n",
              "15.500    115044\n",
              "25.500     91987\n",
              "9.000      86637\n",
              "19.162      9982\n",
              "Name: count, dtype: int64"
            ],
            "text/html": [
              "<div>\n",
              "<style scoped>\n",
              "    .dataframe tbody tr th:only-of-type {\n",
              "        vertical-align: middle;\n",
              "    }\n",
              "\n",
              "    .dataframe tbody tr th {\n",
              "        vertical-align: top;\n",
              "    }\n",
              "\n",
              "    .dataframe thead th {\n",
              "        text-align: right;\n",
              "    }\n",
              "</style>\n",
              "<table border=\"1\" class=\"dataframe\">\n",
              "  <thead>\n",
              "    <tr style=\"text-align: right;\">\n",
              "      <th></th>\n",
              "      <th>count</th>\n",
              "    </tr>\n",
              "    <tr>\n",
              "      <th>E_HORASSEMANATRABAJA</th>\n",
              "      <th></th>\n",
              "    </tr>\n",
              "  </thead>\n",
              "  <tbody>\n",
              "    <tr>\n",
              "      <th>31.000</th>\n",
              "      <td>247704</td>\n",
              "    </tr>\n",
              "    <tr>\n",
              "      <th>0.000</th>\n",
              "      <td>115521</td>\n",
              "    </tr>\n",
              "    <tr>\n",
              "      <th>15.500</th>\n",
              "      <td>115044</td>\n",
              "    </tr>\n",
              "    <tr>\n",
              "      <th>25.500</th>\n",
              "      <td>91987</td>\n",
              "    </tr>\n",
              "    <tr>\n",
              "      <th>9.000</th>\n",
              "      <td>86637</td>\n",
              "    </tr>\n",
              "    <tr>\n",
              "      <th>19.162</th>\n",
              "      <td>9982</td>\n",
              "    </tr>\n",
              "  </tbody>\n",
              "</table>\n",
              "</div><br><label><b>dtype:</b> int64</label>"
            ]
          },
          "metadata": {},
          "execution_count": 157
        }
      ]
    },
    {
      "cell_type": "code",
      "source": [
        "train['E_HORASSEMANATRABAJA'] = (train['E_HORASSEMANATRABAJA'] - train['E_HORASSEMANATRABAJA'].min()) / (train['E_HORASSEMANATRABAJA'].max() - train['E_HORASSEMANATRABAJA'].min())"
      ],
      "metadata": {
        "id": "fLTxcxlCoYi1"
      },
      "execution_count": null,
      "outputs": []
    },
    {
      "cell_type": "code",
      "source": [
        "train['E_HORASSEMANATRABAJA'].value_counts()"
      ],
      "metadata": {
        "colab": {
          "base_uri": "https://localhost:8080/",
          "height": 304
        },
        "id": "nEt_pQHLp9j0",
        "outputId": "3b6cd6d6-4ecc-4adc-e96c-19ce9124a358"
      },
      "execution_count": null,
      "outputs": [
        {
          "output_type": "execute_result",
          "data": {
            "text/plain": [
              "E_HORASSEMANATRABAJA\n",
              "1.000000    247704\n",
              "0.000000    115521\n",
              "0.500000    115044\n",
              "0.822581     91987\n",
              "0.290323     86637\n",
              "0.618129      9982\n",
              "Name: count, dtype: int64"
            ],
            "text/html": [
              "<div>\n",
              "<style scoped>\n",
              "    .dataframe tbody tr th:only-of-type {\n",
              "        vertical-align: middle;\n",
              "    }\n",
              "\n",
              "    .dataframe tbody tr th {\n",
              "        vertical-align: top;\n",
              "    }\n",
              "\n",
              "    .dataframe thead th {\n",
              "        text-align: right;\n",
              "    }\n",
              "</style>\n",
              "<table border=\"1\" class=\"dataframe\">\n",
              "  <thead>\n",
              "    <tr style=\"text-align: right;\">\n",
              "      <th></th>\n",
              "      <th>count</th>\n",
              "    </tr>\n",
              "    <tr>\n",
              "      <th>E_HORASSEMANATRABAJA</th>\n",
              "      <th></th>\n",
              "    </tr>\n",
              "  </thead>\n",
              "  <tbody>\n",
              "    <tr>\n",
              "      <th>1.000000</th>\n",
              "      <td>247704</td>\n",
              "    </tr>\n",
              "    <tr>\n",
              "      <th>0.000000</th>\n",
              "      <td>115521</td>\n",
              "    </tr>\n",
              "    <tr>\n",
              "      <th>0.500000</th>\n",
              "      <td>115044</td>\n",
              "    </tr>\n",
              "    <tr>\n",
              "      <th>0.822581</th>\n",
              "      <td>91987</td>\n",
              "    </tr>\n",
              "    <tr>\n",
              "      <th>0.290323</th>\n",
              "      <td>86637</td>\n",
              "    </tr>\n",
              "    <tr>\n",
              "      <th>0.618129</th>\n",
              "      <td>9982</td>\n",
              "    </tr>\n",
              "  </tbody>\n",
              "</table>\n",
              "</div><br><label><b>dtype:</b> int64</label>"
            ]
          },
          "metadata": {},
          "execution_count": 159
        }
      ]
    },
    {
      "cell_type": "code",
      "source": [
        "train['F_EDUCACIONMADRE'].value_counts()"
      ],
      "metadata": {
        "colab": {
          "base_uri": "https://localhost:8080/",
          "height": 429
        },
        "id": "bizbtJIhqIOl",
        "outputId": "6596f278-f93d-4095-9332-c8a3a2093d7f"
      },
      "execution_count": null,
      "outputs": [
        {
          "output_type": "execute_result",
          "data": {
            "text/plain": [
              "F_EDUCACIONMADRE\n",
              "5     143147\n",
              "1      99308\n",
              "10     88925\n",
              "20     84580\n",
              "3      80557\n",
              "2      55836\n",
              "40     45621\n",
              "7      27330\n",
              "13     22265\n",
              "0      19306\n",
              "Name: count, dtype: int64"
            ],
            "text/html": [
              "<div>\n",
              "<style scoped>\n",
              "    .dataframe tbody tr th:only-of-type {\n",
              "        vertical-align: middle;\n",
              "    }\n",
              "\n",
              "    .dataframe tbody tr th {\n",
              "        vertical-align: top;\n",
              "    }\n",
              "\n",
              "    .dataframe thead th {\n",
              "        text-align: right;\n",
              "    }\n",
              "</style>\n",
              "<table border=\"1\" class=\"dataframe\">\n",
              "  <thead>\n",
              "    <tr style=\"text-align: right;\">\n",
              "      <th></th>\n",
              "      <th>count</th>\n",
              "    </tr>\n",
              "    <tr>\n",
              "      <th>F_EDUCACIONMADRE</th>\n",
              "      <th></th>\n",
              "    </tr>\n",
              "  </thead>\n",
              "  <tbody>\n",
              "    <tr>\n",
              "      <th>5</th>\n",
              "      <td>143147</td>\n",
              "    </tr>\n",
              "    <tr>\n",
              "      <th>1</th>\n",
              "      <td>99308</td>\n",
              "    </tr>\n",
              "    <tr>\n",
              "      <th>10</th>\n",
              "      <td>88925</td>\n",
              "    </tr>\n",
              "    <tr>\n",
              "      <th>20</th>\n",
              "      <td>84580</td>\n",
              "    </tr>\n",
              "    <tr>\n",
              "      <th>3</th>\n",
              "      <td>80557</td>\n",
              "    </tr>\n",
              "    <tr>\n",
              "      <th>2</th>\n",
              "      <td>55836</td>\n",
              "    </tr>\n",
              "    <tr>\n",
              "      <th>40</th>\n",
              "      <td>45621</td>\n",
              "    </tr>\n",
              "    <tr>\n",
              "      <th>7</th>\n",
              "      <td>27330</td>\n",
              "    </tr>\n",
              "    <tr>\n",
              "      <th>13</th>\n",
              "      <td>22265</td>\n",
              "    </tr>\n",
              "    <tr>\n",
              "      <th>0</th>\n",
              "      <td>19306</td>\n",
              "    </tr>\n",
              "  </tbody>\n",
              "</table>\n",
              "</div><br><label><b>dtype:</b> int64</label>"
            ]
          },
          "metadata": {},
          "execution_count": 160
        }
      ]
    },
    {
      "cell_type": "code",
      "source": [
        "train['F_EDUCACIONMADRE'] = (train['F_EDUCACIONMADRE'] - train['F_EDUCACIONMADRE'].min()) / (train['F_EDUCACIONMADRE'].max() - train['F_EDUCACIONMADRE'].min())"
      ],
      "metadata": {
        "id": "htSLuk2jqNcw"
      },
      "execution_count": null,
      "outputs": []
    },
    {
      "cell_type": "code",
      "source": [
        "train['F_EDUCACIONMADRE'].value_counts()"
      ],
      "metadata": {
        "colab": {
          "base_uri": "https://localhost:8080/",
          "height": 429
        },
        "id": "CwpdswIKqhIC",
        "outputId": "435b2dd2-b49b-4b3e-b7f8-66d0419980d4"
      },
      "execution_count": null,
      "outputs": [
        {
          "output_type": "execute_result",
          "data": {
            "text/plain": [
              "F_EDUCACIONMADRE\n",
              "0.125    143147\n",
              "0.025     99308\n",
              "0.250     88925\n",
              "0.500     84580\n",
              "0.075     80557\n",
              "0.050     55836\n",
              "1.000     45621\n",
              "0.175     27330\n",
              "0.325     22265\n",
              "0.000     19306\n",
              "Name: count, dtype: int64"
            ],
            "text/html": [
              "<div>\n",
              "<style scoped>\n",
              "    .dataframe tbody tr th:only-of-type {\n",
              "        vertical-align: middle;\n",
              "    }\n",
              "\n",
              "    .dataframe tbody tr th {\n",
              "        vertical-align: top;\n",
              "    }\n",
              "\n",
              "    .dataframe thead th {\n",
              "        text-align: right;\n",
              "    }\n",
              "</style>\n",
              "<table border=\"1\" class=\"dataframe\">\n",
              "  <thead>\n",
              "    <tr style=\"text-align: right;\">\n",
              "      <th></th>\n",
              "      <th>count</th>\n",
              "    </tr>\n",
              "    <tr>\n",
              "      <th>F_EDUCACIONMADRE</th>\n",
              "      <th></th>\n",
              "    </tr>\n",
              "  </thead>\n",
              "  <tbody>\n",
              "    <tr>\n",
              "      <th>0.125</th>\n",
              "      <td>143147</td>\n",
              "    </tr>\n",
              "    <tr>\n",
              "      <th>0.025</th>\n",
              "      <td>99308</td>\n",
              "    </tr>\n",
              "    <tr>\n",
              "      <th>0.250</th>\n",
              "      <td>88925</td>\n",
              "    </tr>\n",
              "    <tr>\n",
              "      <th>0.500</th>\n",
              "      <td>84580</td>\n",
              "    </tr>\n",
              "    <tr>\n",
              "      <th>0.075</th>\n",
              "      <td>80557</td>\n",
              "    </tr>\n",
              "    <tr>\n",
              "      <th>0.050</th>\n",
              "      <td>55836</td>\n",
              "    </tr>\n",
              "    <tr>\n",
              "      <th>1.000</th>\n",
              "      <td>45621</td>\n",
              "    </tr>\n",
              "    <tr>\n",
              "      <th>0.175</th>\n",
              "      <td>27330</td>\n",
              "    </tr>\n",
              "    <tr>\n",
              "      <th>0.325</th>\n",
              "      <td>22265</td>\n",
              "    </tr>\n",
              "    <tr>\n",
              "      <th>0.000</th>\n",
              "      <td>19306</td>\n",
              "    </tr>\n",
              "  </tbody>\n",
              "</table>\n",
              "</div><br><label><b>dtype:</b> int64</label>"
            ]
          },
          "metadata": {},
          "execution_count": 162
        }
      ]
    },
    {
      "cell_type": "code",
      "source": [
        "train['F_EDUCACIONPADRE'].value_counts()"
      ],
      "metadata": {
        "colab": {
          "base_uri": "https://localhost:8080/",
          "height": 429
        },
        "id": "WMWpr47mqmBj",
        "outputId": "11d212f7-5305-4189-df5f-f88d7039cc35"
      },
      "execution_count": null,
      "outputs": [
        {
          "output_type": "execute_result",
          "data": {
            "text/plain": [
              "F_EDUCACIONPADRE\n",
              "5     128052\n",
              "1     126618\n",
              "20     82445\n",
              "3      71241\n",
              "10     62575\n",
              "2      55659\n",
              "0      47540\n",
              "40     43557\n",
              "13     26801\n",
              "7      22387\n",
              "Name: count, dtype: int64"
            ],
            "text/html": [
              "<div>\n",
              "<style scoped>\n",
              "    .dataframe tbody tr th:only-of-type {\n",
              "        vertical-align: middle;\n",
              "    }\n",
              "\n",
              "    .dataframe tbody tr th {\n",
              "        vertical-align: top;\n",
              "    }\n",
              "\n",
              "    .dataframe thead th {\n",
              "        text-align: right;\n",
              "    }\n",
              "</style>\n",
              "<table border=\"1\" class=\"dataframe\">\n",
              "  <thead>\n",
              "    <tr style=\"text-align: right;\">\n",
              "      <th></th>\n",
              "      <th>count</th>\n",
              "    </tr>\n",
              "    <tr>\n",
              "      <th>F_EDUCACIONPADRE</th>\n",
              "      <th></th>\n",
              "    </tr>\n",
              "  </thead>\n",
              "  <tbody>\n",
              "    <tr>\n",
              "      <th>5</th>\n",
              "      <td>128052</td>\n",
              "    </tr>\n",
              "    <tr>\n",
              "      <th>1</th>\n",
              "      <td>126618</td>\n",
              "    </tr>\n",
              "    <tr>\n",
              "      <th>20</th>\n",
              "      <td>82445</td>\n",
              "    </tr>\n",
              "    <tr>\n",
              "      <th>3</th>\n",
              "      <td>71241</td>\n",
              "    </tr>\n",
              "    <tr>\n",
              "      <th>10</th>\n",
              "      <td>62575</td>\n",
              "    </tr>\n",
              "    <tr>\n",
              "      <th>2</th>\n",
              "      <td>55659</td>\n",
              "    </tr>\n",
              "    <tr>\n",
              "      <th>0</th>\n",
              "      <td>47540</td>\n",
              "    </tr>\n",
              "    <tr>\n",
              "      <th>40</th>\n",
              "      <td>43557</td>\n",
              "    </tr>\n",
              "    <tr>\n",
              "      <th>13</th>\n",
              "      <td>26801</td>\n",
              "    </tr>\n",
              "    <tr>\n",
              "      <th>7</th>\n",
              "      <td>22387</td>\n",
              "    </tr>\n",
              "  </tbody>\n",
              "</table>\n",
              "</div><br><label><b>dtype:</b> int64</label>"
            ]
          },
          "metadata": {},
          "execution_count": 163
        }
      ]
    },
    {
      "cell_type": "code",
      "source": [
        "train['F_EDUCACIONPADRE'] = (train['F_EDUCACIONPADRE'] - train['F_EDUCACIONPADRE'].min()) / (train['F_EDUCACIONPADRE'].max() - train['F_EDUCACIONPADRE'].min())"
      ],
      "metadata": {
        "id": "pIL3Mn3cqqO0"
      },
      "execution_count": null,
      "outputs": []
    },
    {
      "cell_type": "code",
      "source": [
        "train['F_EDUCACIONPADRE'].value_counts()"
      ],
      "metadata": {
        "colab": {
          "base_uri": "https://localhost:8080/",
          "height": 429
        },
        "id": "NaRqUvBBqyPp",
        "outputId": "4b1429fd-a2e5-4ca2-b877-7038ae61290b"
      },
      "execution_count": null,
      "outputs": [
        {
          "output_type": "execute_result",
          "data": {
            "text/plain": [
              "F_EDUCACIONPADRE\n",
              "0.125    128052\n",
              "0.025    126618\n",
              "0.500     82445\n",
              "0.075     71241\n",
              "0.250     62575\n",
              "0.050     55659\n",
              "0.000     47540\n",
              "1.000     43557\n",
              "0.325     26801\n",
              "0.175     22387\n",
              "Name: count, dtype: int64"
            ],
            "text/html": [
              "<div>\n",
              "<style scoped>\n",
              "    .dataframe tbody tr th:only-of-type {\n",
              "        vertical-align: middle;\n",
              "    }\n",
              "\n",
              "    .dataframe tbody tr th {\n",
              "        vertical-align: top;\n",
              "    }\n",
              "\n",
              "    .dataframe thead th {\n",
              "        text-align: right;\n",
              "    }\n",
              "</style>\n",
              "<table border=\"1\" class=\"dataframe\">\n",
              "  <thead>\n",
              "    <tr style=\"text-align: right;\">\n",
              "      <th></th>\n",
              "      <th>count</th>\n",
              "    </tr>\n",
              "    <tr>\n",
              "      <th>F_EDUCACIONPADRE</th>\n",
              "      <th></th>\n",
              "    </tr>\n",
              "  </thead>\n",
              "  <tbody>\n",
              "    <tr>\n",
              "      <th>0.125</th>\n",
              "      <td>128052</td>\n",
              "    </tr>\n",
              "    <tr>\n",
              "      <th>0.025</th>\n",
              "      <td>126618</td>\n",
              "    </tr>\n",
              "    <tr>\n",
              "      <th>0.500</th>\n",
              "      <td>82445</td>\n",
              "    </tr>\n",
              "    <tr>\n",
              "      <th>0.075</th>\n",
              "      <td>71241</td>\n",
              "    </tr>\n",
              "    <tr>\n",
              "      <th>0.250</th>\n",
              "      <td>62575</td>\n",
              "    </tr>\n",
              "    <tr>\n",
              "      <th>0.050</th>\n",
              "      <td>55659</td>\n",
              "    </tr>\n",
              "    <tr>\n",
              "      <th>0.000</th>\n",
              "      <td>47540</td>\n",
              "    </tr>\n",
              "    <tr>\n",
              "      <th>1.000</th>\n",
              "      <td>43557</td>\n",
              "    </tr>\n",
              "    <tr>\n",
              "      <th>0.325</th>\n",
              "      <td>26801</td>\n",
              "    </tr>\n",
              "    <tr>\n",
              "      <th>0.175</th>\n",
              "      <td>22387</td>\n",
              "    </tr>\n",
              "  </tbody>\n",
              "</table>\n",
              "</div><br><label><b>dtype:</b> int64</label>"
            ]
          },
          "metadata": {},
          "execution_count": 165
        }
      ]
    },
    {
      "cell_type": "markdown",
      "source": [
        "### Reducir uso de memoria"
      ],
      "metadata": {
        "id": "vYFP5TJEyAtl"
      }
    },
    {
      "cell_type": "code",
      "source": [
        "print(train.memory_usage(deep=True))"
      ],
      "metadata": {
        "colab": {
          "base_uri": "https://localhost:8080/"
        },
        "id": "5KnNcXIZ1r38",
        "outputId": "e12ed4dd-1058-4be8-b760-dacfb3197a60"
      },
      "execution_count": null,
      "outputs": [
        {
          "output_type": "stream",
          "name": "stdout",
          "text": [
            "Index                                       5335000\n",
            "E_HORASSEMANATRABAJA                        5335000\n",
            "F_TIENEINTERNET                             5335000\n",
            "F_EDUCACIONPADRE                            5335000\n",
            "F_TIENELAVADORA                             5335000\n",
            "                                             ...   \n",
            "E_PRGM_TERAPIA RESPIRATORIA                 5335000\n",
            "E_PRGM_TRABAJO SOCIAL                       5335000\n",
            "E_PRGM_TRADUCCION INGLES-FRANCES-ESPANOL    5335000\n",
            "E_PRGM_TURISMO                              5335000\n",
            "E_PRGM_ZOOTECNIA                            5335000\n",
            "Length: 614, dtype: int64\n"
          ]
        }
      ]
    },
    {
      "cell_type": "code",
      "source": [
        "train.info()"
      ],
      "metadata": {
        "colab": {
          "base_uri": "https://localhost:8080/"
        },
        "id": "LqB1l-pryEDy",
        "outputId": "0b54a2f6-6546-4c1a-f424-0c51d9e026a1"
      },
      "execution_count": null,
      "outputs": [
        {
          "output_type": "stream",
          "name": "stdout",
          "text": [
            "<class 'pandas.core.frame.DataFrame'>\n",
            "Index: 666875 entries, 0 to 692499\n",
            "Columns: 613 entries, E_HORASSEMANATRABAJA to E_PRGM_ZOOTECNIA\n",
            "dtypes: float64(7), int64(606)\n",
            "memory usage: 3.1 GB\n"
          ]
        }
      ]
    },
    {
      "cell_type": "code",
      "source": [
        "train.dtypes"
      ],
      "metadata": {
        "colab": {
          "base_uri": "https://localhost:8080/",
          "height": 459
        },
        "id": "5k29hF9SzC7y",
        "outputId": "388c261c-ca81-438b-fa2f-ae2444eaddab"
      },
      "execution_count": null,
      "outputs": [
        {
          "output_type": "execute_result",
          "data": {
            "text/plain": [
              "E_HORASSEMANATRABAJA                        float64\n",
              "F_TIENEINTERNET                               int64\n",
              "F_EDUCACIONPADRE                            float64\n",
              "F_TIENELAVADORA                               int64\n",
              "F_TIENEAUTOMOVIL                              int64\n",
              "                                             ...   \n",
              "E_PRGM_TERAPIA RESPIRATORIA                   int64\n",
              "E_PRGM_TRABAJO SOCIAL                         int64\n",
              "E_PRGM_TRADUCCION INGLES-FRANCES-ESPANOL      int64\n",
              "E_PRGM_TURISMO                                int64\n",
              "E_PRGM_ZOOTECNIA                              int64\n",
              "Length: 613, dtype: object"
            ],
            "text/html": [
              "<div>\n",
              "<style scoped>\n",
              "    .dataframe tbody tr th:only-of-type {\n",
              "        vertical-align: middle;\n",
              "    }\n",
              "\n",
              "    .dataframe tbody tr th {\n",
              "        vertical-align: top;\n",
              "    }\n",
              "\n",
              "    .dataframe thead th {\n",
              "        text-align: right;\n",
              "    }\n",
              "</style>\n",
              "<table border=\"1\" class=\"dataframe\">\n",
              "  <thead>\n",
              "    <tr style=\"text-align: right;\">\n",
              "      <th></th>\n",
              "      <th>0</th>\n",
              "    </tr>\n",
              "  </thead>\n",
              "  <tbody>\n",
              "    <tr>\n",
              "      <th>E_HORASSEMANATRABAJA</th>\n",
              "      <td>float64</td>\n",
              "    </tr>\n",
              "    <tr>\n",
              "      <th>F_TIENEINTERNET</th>\n",
              "      <td>int64</td>\n",
              "    </tr>\n",
              "    <tr>\n",
              "      <th>F_EDUCACIONPADRE</th>\n",
              "      <td>float64</td>\n",
              "    </tr>\n",
              "    <tr>\n",
              "      <th>F_TIENELAVADORA</th>\n",
              "      <td>int64</td>\n",
              "    </tr>\n",
              "    <tr>\n",
              "      <th>F_TIENEAUTOMOVIL</th>\n",
              "      <td>int64</td>\n",
              "    </tr>\n",
              "    <tr>\n",
              "      <th>...</th>\n",
              "      <td>...</td>\n",
              "    </tr>\n",
              "    <tr>\n",
              "      <th>E_PRGM_TERAPIA RESPIRATORIA</th>\n",
              "      <td>int64</td>\n",
              "    </tr>\n",
              "    <tr>\n",
              "      <th>E_PRGM_TRABAJO SOCIAL</th>\n",
              "      <td>int64</td>\n",
              "    </tr>\n",
              "    <tr>\n",
              "      <th>E_PRGM_TRADUCCION INGLES-FRANCES-ESPANOL</th>\n",
              "      <td>int64</td>\n",
              "    </tr>\n",
              "    <tr>\n",
              "      <th>E_PRGM_TURISMO</th>\n",
              "      <td>int64</td>\n",
              "    </tr>\n",
              "    <tr>\n",
              "      <th>E_PRGM_ZOOTECNIA</th>\n",
              "      <td>int64</td>\n",
              "    </tr>\n",
              "  </tbody>\n",
              "</table>\n",
              "<p>613 rows × 1 columns</p>\n",
              "</div><br><label><b>dtype:</b> object</label>"
            ]
          },
          "metadata": {},
          "execution_count": 167
        }
      ]
    },
    {
      "cell_type": "markdown",
      "source": [
        "Se tienen 606 columnas que usan el tipo de dato `int64`, el cual usa 8 bytes. Para estos datos, ceros y unos, es mas que suficiente el `int8` que usa solo 1 byte."
      ],
      "metadata": {
        "id": "9DyUjBPsysXj"
      }
    },
    {
      "cell_type": "code",
      "source": [
        "train.select_dtypes(include=['bool']).columns"
      ],
      "metadata": {
        "colab": {
          "base_uri": "https://localhost:8080/"
        },
        "id": "82wRUBLJzX2J",
        "outputId": "7f28a6d6-a9d9-4509-f38a-3fc1ce246085"
      },
      "execution_count": null,
      "outputs": [
        {
          "output_type": "execute_result",
          "data": {
            "text/plain": [
              "Index([], dtype='object')"
            ]
          },
          "metadata": {},
          "execution_count": 168
        }
      ]
    },
    {
      "cell_type": "code",
      "source": [
        "train[train.columns[train.isin([0, 1]).all()]] = train[train.columns[train.isin([0, 1]).all()]].astype('int8')"
      ],
      "metadata": {
        "id": "ij2D8nFW0iuc"
      },
      "execution_count": null,
      "outputs": []
    },
    {
      "cell_type": "code",
      "source": [
        "print(train.memory_usage(deep=True))"
      ],
      "metadata": {
        "colab": {
          "base_uri": "https://localhost:8080/"
        },
        "id": "76YJrkOw1u_h",
        "outputId": "1cac9af4-17c9-4230-8e36-4db034173b8b"
      },
      "execution_count": null,
      "outputs": [
        {
          "output_type": "stream",
          "name": "stdout",
          "text": [
            "Index                                       5335000\n",
            "E_HORASSEMANATRABAJA                        5335000\n",
            "F_TIENEINTERNET                              666875\n",
            "F_EDUCACIONPADRE                            5335000\n",
            "F_TIENELAVADORA                              666875\n",
            "                                             ...   \n",
            "E_PRGM_TERAPIA RESPIRATORIA                  666875\n",
            "E_PRGM_TRABAJO SOCIAL                        666875\n",
            "E_PRGM_TRADUCCION INGLES-FRANCES-ESPANOL     666875\n",
            "E_PRGM_TURISMO                               666875\n",
            "E_PRGM_ZOOTECNIA                             666875\n",
            "Length: 614, dtype: int64\n"
          ]
        }
      ]
    },
    {
      "cell_type": "code",
      "source": [
        "train.info()"
      ],
      "metadata": {
        "colab": {
          "base_uri": "https://localhost:8080/"
        },
        "id": "DoGn28041wLq",
        "outputId": "6c9a1e79-7808-42a1-db42-4ed39afde341"
      },
      "execution_count": null,
      "outputs": [
        {
          "output_type": "stream",
          "name": "stdout",
          "text": [
            "<class 'pandas.core.frame.DataFrame'>\n",
            "Index: 666875 entries, 0 to 692499\n",
            "Columns: 613 entries, E_HORASSEMANATRABAJA to E_PRGM_ZOOTECNIA\n",
            "dtypes: float64(7), int64(1), int8(605)\n",
            "memory usage: 430.6 MB\n"
          ]
        }
      ]
    },
    {
      "cell_type": "code",
      "source": [
        "train.select_dtypes(include=['float64'])"
      ],
      "metadata": {
        "colab": {
          "base_uri": "https://localhost:8080/",
          "height": 424
        },
        "id": "HkzLRizQ25mV",
        "outputId": "8f0a86e4-db8c-4137-ccfc-fe858e90158c"
      },
      "execution_count": null,
      "outputs": [
        {
          "output_type": "execute_result",
          "data": {
            "text/plain": [
              "        E_HORASSEMANATRABAJA  F_EDUCACIONPADRE  F_EDUCACIONMADRE  INDICADOR_1  \\\n",
              "0                   0.290323             0.175             1.000        0.322   \n",
              "1                   0.000000             0.250             0.175        0.311   \n",
              "2                   1.000000             0.125             0.125        0.297   \n",
              "3                   0.000000             0.000             0.125        0.485   \n",
              "4                   0.822581             0.050             0.050        0.316   \n",
              "...                      ...               ...               ...          ...   \n",
              "692495              0.500000             0.125             0.075        0.237   \n",
              "692496              1.000000             0.025             0.075        0.314   \n",
              "692497              0.290323             0.125             0.075        0.286   \n",
              "692498              0.290323             0.050             0.050        0.132   \n",
              "692499              1.000000             0.125             0.250        0.487   \n",
              "\n",
              "        INDICADOR_2  INDICADOR_3  INDICADOR_4  \n",
              "0             0.208        0.310        0.267  \n",
              "1             0.215        0.292        0.264  \n",
              "2             0.214        0.305        0.264  \n",
              "3             0.172        0.252        0.190  \n",
              "4             0.232        0.285        0.294  \n",
              "...             ...          ...          ...  \n",
              "692495        0.271        0.271        0.311  \n",
              "692496        0.240        0.278        0.260  \n",
              "692497        0.240        0.314        0.287  \n",
              "692498        0.426        0.261        0.328  \n",
              "692499        0.180        0.251        0.187  \n",
              "\n",
              "[666875 rows x 7 columns]"
            ],
            "text/html": [
              "\n",
              "  <div id=\"df-a5f56b65-1d81-4e28-8378-36be074ac2b8\" class=\"colab-df-container\">\n",
              "    <div>\n",
              "<style scoped>\n",
              "    .dataframe tbody tr th:only-of-type {\n",
              "        vertical-align: middle;\n",
              "    }\n",
              "\n",
              "    .dataframe tbody tr th {\n",
              "        vertical-align: top;\n",
              "    }\n",
              "\n",
              "    .dataframe thead th {\n",
              "        text-align: right;\n",
              "    }\n",
              "</style>\n",
              "<table border=\"1\" class=\"dataframe\">\n",
              "  <thead>\n",
              "    <tr style=\"text-align: right;\">\n",
              "      <th></th>\n",
              "      <th>E_HORASSEMANATRABAJA</th>\n",
              "      <th>F_EDUCACIONPADRE</th>\n",
              "      <th>F_EDUCACIONMADRE</th>\n",
              "      <th>INDICADOR_1</th>\n",
              "      <th>INDICADOR_2</th>\n",
              "      <th>INDICADOR_3</th>\n",
              "      <th>INDICADOR_4</th>\n",
              "    </tr>\n",
              "  </thead>\n",
              "  <tbody>\n",
              "    <tr>\n",
              "      <th>0</th>\n",
              "      <td>0.290323</td>\n",
              "      <td>0.175</td>\n",
              "      <td>1.000</td>\n",
              "      <td>0.322</td>\n",
              "      <td>0.208</td>\n",
              "      <td>0.310</td>\n",
              "      <td>0.267</td>\n",
              "    </tr>\n",
              "    <tr>\n",
              "      <th>1</th>\n",
              "      <td>0.000000</td>\n",
              "      <td>0.250</td>\n",
              "      <td>0.175</td>\n",
              "      <td>0.311</td>\n",
              "      <td>0.215</td>\n",
              "      <td>0.292</td>\n",
              "      <td>0.264</td>\n",
              "    </tr>\n",
              "    <tr>\n",
              "      <th>2</th>\n",
              "      <td>1.000000</td>\n",
              "      <td>0.125</td>\n",
              "      <td>0.125</td>\n",
              "      <td>0.297</td>\n",
              "      <td>0.214</td>\n",
              "      <td>0.305</td>\n",
              "      <td>0.264</td>\n",
              "    </tr>\n",
              "    <tr>\n",
              "      <th>3</th>\n",
              "      <td>0.000000</td>\n",
              "      <td>0.000</td>\n",
              "      <td>0.125</td>\n",
              "      <td>0.485</td>\n",
              "      <td>0.172</td>\n",
              "      <td>0.252</td>\n",
              "      <td>0.190</td>\n",
              "    </tr>\n",
              "    <tr>\n",
              "      <th>4</th>\n",
              "      <td>0.822581</td>\n",
              "      <td>0.050</td>\n",
              "      <td>0.050</td>\n",
              "      <td>0.316</td>\n",
              "      <td>0.232</td>\n",
              "      <td>0.285</td>\n",
              "      <td>0.294</td>\n",
              "    </tr>\n",
              "    <tr>\n",
              "      <th>...</th>\n",
              "      <td>...</td>\n",
              "      <td>...</td>\n",
              "      <td>...</td>\n",
              "      <td>...</td>\n",
              "      <td>...</td>\n",
              "      <td>...</td>\n",
              "      <td>...</td>\n",
              "    </tr>\n",
              "    <tr>\n",
              "      <th>692495</th>\n",
              "      <td>0.500000</td>\n",
              "      <td>0.125</td>\n",
              "      <td>0.075</td>\n",
              "      <td>0.237</td>\n",
              "      <td>0.271</td>\n",
              "      <td>0.271</td>\n",
              "      <td>0.311</td>\n",
              "    </tr>\n",
              "    <tr>\n",
              "      <th>692496</th>\n",
              "      <td>1.000000</td>\n",
              "      <td>0.025</td>\n",
              "      <td>0.075</td>\n",
              "      <td>0.314</td>\n",
              "      <td>0.240</td>\n",
              "      <td>0.278</td>\n",
              "      <td>0.260</td>\n",
              "    </tr>\n",
              "    <tr>\n",
              "      <th>692497</th>\n",
              "      <td>0.290323</td>\n",
              "      <td>0.125</td>\n",
              "      <td>0.075</td>\n",
              "      <td>0.286</td>\n",
              "      <td>0.240</td>\n",
              "      <td>0.314</td>\n",
              "      <td>0.287</td>\n",
              "    </tr>\n",
              "    <tr>\n",
              "      <th>692498</th>\n",
              "      <td>0.290323</td>\n",
              "      <td>0.050</td>\n",
              "      <td>0.050</td>\n",
              "      <td>0.132</td>\n",
              "      <td>0.426</td>\n",
              "      <td>0.261</td>\n",
              "      <td>0.328</td>\n",
              "    </tr>\n",
              "    <tr>\n",
              "      <th>692499</th>\n",
              "      <td>1.000000</td>\n",
              "      <td>0.125</td>\n",
              "      <td>0.250</td>\n",
              "      <td>0.487</td>\n",
              "      <td>0.180</td>\n",
              "      <td>0.251</td>\n",
              "      <td>0.187</td>\n",
              "    </tr>\n",
              "  </tbody>\n",
              "</table>\n",
              "<p>666875 rows × 7 columns</p>\n",
              "</div>\n",
              "    <div class=\"colab-df-buttons\">\n",
              "\n",
              "  <div class=\"colab-df-container\">\n",
              "    <button class=\"colab-df-convert\" onclick=\"convertToInteractive('df-a5f56b65-1d81-4e28-8378-36be074ac2b8')\"\n",
              "            title=\"Convert this dataframe to an interactive table.\"\n",
              "            style=\"display:none;\">\n",
              "\n",
              "  <svg xmlns=\"http://www.w3.org/2000/svg\" height=\"24px\" viewBox=\"0 -960 960 960\">\n",
              "    <path d=\"M120-120v-720h720v720H120Zm60-500h600v-160H180v160Zm220 220h160v-160H400v160Zm0 220h160v-160H400v160ZM180-400h160v-160H180v160Zm440 0h160v-160H620v160ZM180-180h160v-160H180v160Zm440 0h160v-160H620v160Z\"/>\n",
              "  </svg>\n",
              "    </button>\n",
              "\n",
              "  <style>\n",
              "    .colab-df-container {\n",
              "      display:flex;\n",
              "      gap: 12px;\n",
              "    }\n",
              "\n",
              "    .colab-df-convert {\n",
              "      background-color: #E8F0FE;\n",
              "      border: none;\n",
              "      border-radius: 50%;\n",
              "      cursor: pointer;\n",
              "      display: none;\n",
              "      fill: #1967D2;\n",
              "      height: 32px;\n",
              "      padding: 0 0 0 0;\n",
              "      width: 32px;\n",
              "    }\n",
              "\n",
              "    .colab-df-convert:hover {\n",
              "      background-color: #E2EBFA;\n",
              "      box-shadow: 0px 1px 2px rgba(60, 64, 67, 0.3), 0px 1px 3px 1px rgba(60, 64, 67, 0.15);\n",
              "      fill: #174EA6;\n",
              "    }\n",
              "\n",
              "    .colab-df-buttons div {\n",
              "      margin-bottom: 4px;\n",
              "    }\n",
              "\n",
              "    [theme=dark] .colab-df-convert {\n",
              "      background-color: #3B4455;\n",
              "      fill: #D2E3FC;\n",
              "    }\n",
              "\n",
              "    [theme=dark] .colab-df-convert:hover {\n",
              "      background-color: #434B5C;\n",
              "      box-shadow: 0px 1px 3px 1px rgba(0, 0, 0, 0.15);\n",
              "      filter: drop-shadow(0px 1px 2px rgba(0, 0, 0, 0.3));\n",
              "      fill: #FFFFFF;\n",
              "    }\n",
              "  </style>\n",
              "\n",
              "    <script>\n",
              "      const buttonEl =\n",
              "        document.querySelector('#df-a5f56b65-1d81-4e28-8378-36be074ac2b8 button.colab-df-convert');\n",
              "      buttonEl.style.display =\n",
              "        google.colab.kernel.accessAllowed ? 'block' : 'none';\n",
              "\n",
              "      async function convertToInteractive(key) {\n",
              "        const element = document.querySelector('#df-a5f56b65-1d81-4e28-8378-36be074ac2b8');\n",
              "        const dataTable =\n",
              "          await google.colab.kernel.invokeFunction('convertToInteractive',\n",
              "                                                    [key], {});\n",
              "        if (!dataTable) return;\n",
              "\n",
              "        const docLinkHtml = 'Like what you see? Visit the ' +\n",
              "          '<a target=\"_blank\" href=https://colab.research.google.com/notebooks/data_table.ipynb>data table notebook</a>'\n",
              "          + ' to learn more about interactive tables.';\n",
              "        element.innerHTML = '';\n",
              "        dataTable['output_type'] = 'display_data';\n",
              "        await google.colab.output.renderOutput(dataTable, element);\n",
              "        const docLink = document.createElement('div');\n",
              "        docLink.innerHTML = docLinkHtml;\n",
              "        element.appendChild(docLink);\n",
              "      }\n",
              "    </script>\n",
              "  </div>\n",
              "\n",
              "\n",
              "    <div id=\"df-9174c8c8-0ce8-4772-b192-cb7f27427f99\">\n",
              "      <button class=\"colab-df-quickchart\" onclick=\"quickchart('df-9174c8c8-0ce8-4772-b192-cb7f27427f99')\"\n",
              "                title=\"Suggest charts\"\n",
              "                style=\"display:none;\">\n",
              "\n",
              "<svg xmlns=\"http://www.w3.org/2000/svg\" height=\"24px\"viewBox=\"0 0 24 24\"\n",
              "     width=\"24px\">\n",
              "    <g>\n",
              "        <path d=\"M19 3H5c-1.1 0-2 .9-2 2v14c0 1.1.9 2 2 2h14c1.1 0 2-.9 2-2V5c0-1.1-.9-2-2-2zM9 17H7v-7h2v7zm4 0h-2V7h2v10zm4 0h-2v-4h2v4z\"/>\n",
              "    </g>\n",
              "</svg>\n",
              "      </button>\n",
              "\n",
              "<style>\n",
              "  .colab-df-quickchart {\n",
              "      --bg-color: #E8F0FE;\n",
              "      --fill-color: #1967D2;\n",
              "      --hover-bg-color: #E2EBFA;\n",
              "      --hover-fill-color: #174EA6;\n",
              "      --disabled-fill-color: #AAA;\n",
              "      --disabled-bg-color: #DDD;\n",
              "  }\n",
              "\n",
              "  [theme=dark] .colab-df-quickchart {\n",
              "      --bg-color: #3B4455;\n",
              "      --fill-color: #D2E3FC;\n",
              "      --hover-bg-color: #434B5C;\n",
              "      --hover-fill-color: #FFFFFF;\n",
              "      --disabled-bg-color: #3B4455;\n",
              "      --disabled-fill-color: #666;\n",
              "  }\n",
              "\n",
              "  .colab-df-quickchart {\n",
              "    background-color: var(--bg-color);\n",
              "    border: none;\n",
              "    border-radius: 50%;\n",
              "    cursor: pointer;\n",
              "    display: none;\n",
              "    fill: var(--fill-color);\n",
              "    height: 32px;\n",
              "    padding: 0;\n",
              "    width: 32px;\n",
              "  }\n",
              "\n",
              "  .colab-df-quickchart:hover {\n",
              "    background-color: var(--hover-bg-color);\n",
              "    box-shadow: 0 1px 2px rgba(60, 64, 67, 0.3), 0 1px 3px 1px rgba(60, 64, 67, 0.15);\n",
              "    fill: var(--button-hover-fill-color);\n",
              "  }\n",
              "\n",
              "  .colab-df-quickchart-complete:disabled,\n",
              "  .colab-df-quickchart-complete:disabled:hover {\n",
              "    background-color: var(--disabled-bg-color);\n",
              "    fill: var(--disabled-fill-color);\n",
              "    box-shadow: none;\n",
              "  }\n",
              "\n",
              "  .colab-df-spinner {\n",
              "    border: 2px solid var(--fill-color);\n",
              "    border-color: transparent;\n",
              "    border-bottom-color: var(--fill-color);\n",
              "    animation:\n",
              "      spin 1s steps(1) infinite;\n",
              "  }\n",
              "\n",
              "  @keyframes spin {\n",
              "    0% {\n",
              "      border-color: transparent;\n",
              "      border-bottom-color: var(--fill-color);\n",
              "      border-left-color: var(--fill-color);\n",
              "    }\n",
              "    20% {\n",
              "      border-color: transparent;\n",
              "      border-left-color: var(--fill-color);\n",
              "      border-top-color: var(--fill-color);\n",
              "    }\n",
              "    30% {\n",
              "      border-color: transparent;\n",
              "      border-left-color: var(--fill-color);\n",
              "      border-top-color: var(--fill-color);\n",
              "      border-right-color: var(--fill-color);\n",
              "    }\n",
              "    40% {\n",
              "      border-color: transparent;\n",
              "      border-right-color: var(--fill-color);\n",
              "      border-top-color: var(--fill-color);\n",
              "    }\n",
              "    60% {\n",
              "      border-color: transparent;\n",
              "      border-right-color: var(--fill-color);\n",
              "    }\n",
              "    80% {\n",
              "      border-color: transparent;\n",
              "      border-right-color: var(--fill-color);\n",
              "      border-bottom-color: var(--fill-color);\n",
              "    }\n",
              "    90% {\n",
              "      border-color: transparent;\n",
              "      border-bottom-color: var(--fill-color);\n",
              "    }\n",
              "  }\n",
              "</style>\n",
              "\n",
              "      <script>\n",
              "        async function quickchart(key) {\n",
              "          const quickchartButtonEl =\n",
              "            document.querySelector('#' + key + ' button');\n",
              "          quickchartButtonEl.disabled = true;  // To prevent multiple clicks.\n",
              "          quickchartButtonEl.classList.add('colab-df-spinner');\n",
              "          try {\n",
              "            const charts = await google.colab.kernel.invokeFunction(\n",
              "                'suggestCharts', [key], {});\n",
              "          } catch (error) {\n",
              "            console.error('Error during call to suggestCharts:', error);\n",
              "          }\n",
              "          quickchartButtonEl.classList.remove('colab-df-spinner');\n",
              "          quickchartButtonEl.classList.add('colab-df-quickchart-complete');\n",
              "        }\n",
              "        (() => {\n",
              "          let quickchartButtonEl =\n",
              "            document.querySelector('#df-9174c8c8-0ce8-4772-b192-cb7f27427f99 button');\n",
              "          quickchartButtonEl.style.display =\n",
              "            google.colab.kernel.accessAllowed ? 'block' : 'none';\n",
              "        })();\n",
              "      </script>\n",
              "    </div>\n",
              "\n",
              "    </div>\n",
              "  </div>\n"
            ],
            "application/vnd.google.colaboratory.intrinsic+json": {
              "type": "dataframe"
            }
          },
          "metadata": {},
          "execution_count": 180
        }
      ]
    },
    {
      "cell_type": "code",
      "source": [
        "train.select_dtypes(include=['int64'])"
      ],
      "metadata": {
        "colab": {
          "base_uri": "https://localhost:8080/",
          "height": 424
        },
        "id": "u08jQJub2kMG",
        "outputId": "f2df058a-23a2-4b9b-9b98-5867038c76d6"
      },
      "execution_count": null,
      "outputs": [
        {
          "output_type": "execute_result",
          "data": {
            "text/plain": [
              "        RENDIMIENTO_GLOBAL\n",
              "0                        3\n",
              "1                        1\n",
              "2                        1\n",
              "3                        4\n",
              "4                        2\n",
              "...                    ...\n",
              "692495                   3\n",
              "692496                   1\n",
              "692497                   2\n",
              "692498                   1\n",
              "692499                   4\n",
              "\n",
              "[666875 rows x 1 columns]"
            ],
            "text/html": [
              "\n",
              "  <div id=\"df-2bba7a2a-ab87-40fe-8d56-aedd5df69f9e\" class=\"colab-df-container\">\n",
              "    <div>\n",
              "<style scoped>\n",
              "    .dataframe tbody tr th:only-of-type {\n",
              "        vertical-align: middle;\n",
              "    }\n",
              "\n",
              "    .dataframe tbody tr th {\n",
              "        vertical-align: top;\n",
              "    }\n",
              "\n",
              "    .dataframe thead th {\n",
              "        text-align: right;\n",
              "    }\n",
              "</style>\n",
              "<table border=\"1\" class=\"dataframe\">\n",
              "  <thead>\n",
              "    <tr style=\"text-align: right;\">\n",
              "      <th></th>\n",
              "      <th>RENDIMIENTO_GLOBAL</th>\n",
              "    </tr>\n",
              "  </thead>\n",
              "  <tbody>\n",
              "    <tr>\n",
              "      <th>0</th>\n",
              "      <td>3</td>\n",
              "    </tr>\n",
              "    <tr>\n",
              "      <th>1</th>\n",
              "      <td>1</td>\n",
              "    </tr>\n",
              "    <tr>\n",
              "      <th>2</th>\n",
              "      <td>1</td>\n",
              "    </tr>\n",
              "    <tr>\n",
              "      <th>3</th>\n",
              "      <td>4</td>\n",
              "    </tr>\n",
              "    <tr>\n",
              "      <th>4</th>\n",
              "      <td>2</td>\n",
              "    </tr>\n",
              "    <tr>\n",
              "      <th>...</th>\n",
              "      <td>...</td>\n",
              "    </tr>\n",
              "    <tr>\n",
              "      <th>692495</th>\n",
              "      <td>3</td>\n",
              "    </tr>\n",
              "    <tr>\n",
              "      <th>692496</th>\n",
              "      <td>1</td>\n",
              "    </tr>\n",
              "    <tr>\n",
              "      <th>692497</th>\n",
              "      <td>2</td>\n",
              "    </tr>\n",
              "    <tr>\n",
              "      <th>692498</th>\n",
              "      <td>1</td>\n",
              "    </tr>\n",
              "    <tr>\n",
              "      <th>692499</th>\n",
              "      <td>4</td>\n",
              "    </tr>\n",
              "  </tbody>\n",
              "</table>\n",
              "<p>666875 rows × 1 columns</p>\n",
              "</div>\n",
              "    <div class=\"colab-df-buttons\">\n",
              "\n",
              "  <div class=\"colab-df-container\">\n",
              "    <button class=\"colab-df-convert\" onclick=\"convertToInteractive('df-2bba7a2a-ab87-40fe-8d56-aedd5df69f9e')\"\n",
              "            title=\"Convert this dataframe to an interactive table.\"\n",
              "            style=\"display:none;\">\n",
              "\n",
              "  <svg xmlns=\"http://www.w3.org/2000/svg\" height=\"24px\" viewBox=\"0 -960 960 960\">\n",
              "    <path d=\"M120-120v-720h720v720H120Zm60-500h600v-160H180v160Zm220 220h160v-160H400v160Zm0 220h160v-160H400v160ZM180-400h160v-160H180v160Zm440 0h160v-160H620v160ZM180-180h160v-160H180v160Zm440 0h160v-160H620v160Z\"/>\n",
              "  </svg>\n",
              "    </button>\n",
              "\n",
              "  <style>\n",
              "    .colab-df-container {\n",
              "      display:flex;\n",
              "      gap: 12px;\n",
              "    }\n",
              "\n",
              "    .colab-df-convert {\n",
              "      background-color: #E8F0FE;\n",
              "      border: none;\n",
              "      border-radius: 50%;\n",
              "      cursor: pointer;\n",
              "      display: none;\n",
              "      fill: #1967D2;\n",
              "      height: 32px;\n",
              "      padding: 0 0 0 0;\n",
              "      width: 32px;\n",
              "    }\n",
              "\n",
              "    .colab-df-convert:hover {\n",
              "      background-color: #E2EBFA;\n",
              "      box-shadow: 0px 1px 2px rgba(60, 64, 67, 0.3), 0px 1px 3px 1px rgba(60, 64, 67, 0.15);\n",
              "      fill: #174EA6;\n",
              "    }\n",
              "\n",
              "    .colab-df-buttons div {\n",
              "      margin-bottom: 4px;\n",
              "    }\n",
              "\n",
              "    [theme=dark] .colab-df-convert {\n",
              "      background-color: #3B4455;\n",
              "      fill: #D2E3FC;\n",
              "    }\n",
              "\n",
              "    [theme=dark] .colab-df-convert:hover {\n",
              "      background-color: #434B5C;\n",
              "      box-shadow: 0px 1px 3px 1px rgba(0, 0, 0, 0.15);\n",
              "      filter: drop-shadow(0px 1px 2px rgba(0, 0, 0, 0.3));\n",
              "      fill: #FFFFFF;\n",
              "    }\n",
              "  </style>\n",
              "\n",
              "    <script>\n",
              "      const buttonEl =\n",
              "        document.querySelector('#df-2bba7a2a-ab87-40fe-8d56-aedd5df69f9e button.colab-df-convert');\n",
              "      buttonEl.style.display =\n",
              "        google.colab.kernel.accessAllowed ? 'block' : 'none';\n",
              "\n",
              "      async function convertToInteractive(key) {\n",
              "        const element = document.querySelector('#df-2bba7a2a-ab87-40fe-8d56-aedd5df69f9e');\n",
              "        const dataTable =\n",
              "          await google.colab.kernel.invokeFunction('convertToInteractive',\n",
              "                                                    [key], {});\n",
              "        if (!dataTable) return;\n",
              "\n",
              "        const docLinkHtml = 'Like what you see? Visit the ' +\n",
              "          '<a target=\"_blank\" href=https://colab.research.google.com/notebooks/data_table.ipynb>data table notebook</a>'\n",
              "          + ' to learn more about interactive tables.';\n",
              "        element.innerHTML = '';\n",
              "        dataTable['output_type'] = 'display_data';\n",
              "        await google.colab.output.renderOutput(dataTable, element);\n",
              "        const docLink = document.createElement('div');\n",
              "        docLink.innerHTML = docLinkHtml;\n",
              "        element.appendChild(docLink);\n",
              "      }\n",
              "    </script>\n",
              "  </div>\n",
              "\n",
              "\n",
              "    <div id=\"df-7a7c3696-3ce8-44e1-ad82-055109034a3b\">\n",
              "      <button class=\"colab-df-quickchart\" onclick=\"quickchart('df-7a7c3696-3ce8-44e1-ad82-055109034a3b')\"\n",
              "                title=\"Suggest charts\"\n",
              "                style=\"display:none;\">\n",
              "\n",
              "<svg xmlns=\"http://www.w3.org/2000/svg\" height=\"24px\"viewBox=\"0 0 24 24\"\n",
              "     width=\"24px\">\n",
              "    <g>\n",
              "        <path d=\"M19 3H5c-1.1 0-2 .9-2 2v14c0 1.1.9 2 2 2h14c1.1 0 2-.9 2-2V5c0-1.1-.9-2-2-2zM9 17H7v-7h2v7zm4 0h-2V7h2v10zm4 0h-2v-4h2v4z\"/>\n",
              "    </g>\n",
              "</svg>\n",
              "      </button>\n",
              "\n",
              "<style>\n",
              "  .colab-df-quickchart {\n",
              "      --bg-color: #E8F0FE;\n",
              "      --fill-color: #1967D2;\n",
              "      --hover-bg-color: #E2EBFA;\n",
              "      --hover-fill-color: #174EA6;\n",
              "      --disabled-fill-color: #AAA;\n",
              "      --disabled-bg-color: #DDD;\n",
              "  }\n",
              "\n",
              "  [theme=dark] .colab-df-quickchart {\n",
              "      --bg-color: #3B4455;\n",
              "      --fill-color: #D2E3FC;\n",
              "      --hover-bg-color: #434B5C;\n",
              "      --hover-fill-color: #FFFFFF;\n",
              "      --disabled-bg-color: #3B4455;\n",
              "      --disabled-fill-color: #666;\n",
              "  }\n",
              "\n",
              "  .colab-df-quickchart {\n",
              "    background-color: var(--bg-color);\n",
              "    border: none;\n",
              "    border-radius: 50%;\n",
              "    cursor: pointer;\n",
              "    display: none;\n",
              "    fill: var(--fill-color);\n",
              "    height: 32px;\n",
              "    padding: 0;\n",
              "    width: 32px;\n",
              "  }\n",
              "\n",
              "  .colab-df-quickchart:hover {\n",
              "    background-color: var(--hover-bg-color);\n",
              "    box-shadow: 0 1px 2px rgba(60, 64, 67, 0.3), 0 1px 3px 1px rgba(60, 64, 67, 0.15);\n",
              "    fill: var(--button-hover-fill-color);\n",
              "  }\n",
              "\n",
              "  .colab-df-quickchart-complete:disabled,\n",
              "  .colab-df-quickchart-complete:disabled:hover {\n",
              "    background-color: var(--disabled-bg-color);\n",
              "    fill: var(--disabled-fill-color);\n",
              "    box-shadow: none;\n",
              "  }\n",
              "\n",
              "  .colab-df-spinner {\n",
              "    border: 2px solid var(--fill-color);\n",
              "    border-color: transparent;\n",
              "    border-bottom-color: var(--fill-color);\n",
              "    animation:\n",
              "      spin 1s steps(1) infinite;\n",
              "  }\n",
              "\n",
              "  @keyframes spin {\n",
              "    0% {\n",
              "      border-color: transparent;\n",
              "      border-bottom-color: var(--fill-color);\n",
              "      border-left-color: var(--fill-color);\n",
              "    }\n",
              "    20% {\n",
              "      border-color: transparent;\n",
              "      border-left-color: var(--fill-color);\n",
              "      border-top-color: var(--fill-color);\n",
              "    }\n",
              "    30% {\n",
              "      border-color: transparent;\n",
              "      border-left-color: var(--fill-color);\n",
              "      border-top-color: var(--fill-color);\n",
              "      border-right-color: var(--fill-color);\n",
              "    }\n",
              "    40% {\n",
              "      border-color: transparent;\n",
              "      border-right-color: var(--fill-color);\n",
              "      border-top-color: var(--fill-color);\n",
              "    }\n",
              "    60% {\n",
              "      border-color: transparent;\n",
              "      border-right-color: var(--fill-color);\n",
              "    }\n",
              "    80% {\n",
              "      border-color: transparent;\n",
              "      border-right-color: var(--fill-color);\n",
              "      border-bottom-color: var(--fill-color);\n",
              "    }\n",
              "    90% {\n",
              "      border-color: transparent;\n",
              "      border-bottom-color: var(--fill-color);\n",
              "    }\n",
              "  }\n",
              "</style>\n",
              "\n",
              "      <script>\n",
              "        async function quickchart(key) {\n",
              "          const quickchartButtonEl =\n",
              "            document.querySelector('#' + key + ' button');\n",
              "          quickchartButtonEl.disabled = true;  // To prevent multiple clicks.\n",
              "          quickchartButtonEl.classList.add('colab-df-spinner');\n",
              "          try {\n",
              "            const charts = await google.colab.kernel.invokeFunction(\n",
              "                'suggestCharts', [key], {});\n",
              "          } catch (error) {\n",
              "            console.error('Error during call to suggestCharts:', error);\n",
              "          }\n",
              "          quickchartButtonEl.classList.remove('colab-df-spinner');\n",
              "          quickchartButtonEl.classList.add('colab-df-quickchart-complete');\n",
              "        }\n",
              "        (() => {\n",
              "          let quickchartButtonEl =\n",
              "            document.querySelector('#df-7a7c3696-3ce8-44e1-ad82-055109034a3b button');\n",
              "          quickchartButtonEl.style.display =\n",
              "            google.colab.kernel.accessAllowed ? 'block' : 'none';\n",
              "        })();\n",
              "      </script>\n",
              "    </div>\n",
              "\n",
              "    </div>\n",
              "  </div>\n"
            ],
            "application/vnd.google.colaboratory.intrinsic+json": {
              "type": "dataframe"
            }
          },
          "metadata": {},
          "execution_count": 179
        }
      ]
    },
    {
      "cell_type": "code",
      "source": [
        "train['RENDIMIENTO_GLOBAL'] = train['RENDIMIENTO_GLOBAL'].astype('int8')"
      ],
      "metadata": {
        "id": "OyuWH1sp3GWQ"
      },
      "execution_count": null,
      "outputs": []
    },
    {
      "cell_type": "code",
      "source": [
        "train.info()"
      ],
      "metadata": {
        "colab": {
          "base_uri": "https://localhost:8080/"
        },
        "id": "QsHc9B-M3lBR",
        "outputId": "8b626727-380a-4b26-b5c0-1a0fbf7ae4e5"
      },
      "execution_count": null,
      "outputs": [
        {
          "output_type": "stream",
          "name": "stdout",
          "text": [
            "<class 'pandas.core.frame.DataFrame'>\n",
            "Index: 666875 entries, 0 to 692499\n",
            "Columns: 613 entries, E_HORASSEMANATRABAJA to E_PRGM_ZOOTECNIA\n",
            "dtypes: float64(7), int8(606)\n",
            "memory usage: 426.1 MB\n"
          ]
        }
      ]
    },
    {
      "cell_type": "markdown",
      "source": [
        "Se mejora notablemente el uso de recursos computacionales"
      ],
      "metadata": {
        "id": "CjutW7K93ste"
      }
    },
    {
      "cell_type": "markdown",
      "source": [
        "### Resultado final"
      ],
      "metadata": {
        "id": "Ze-nhXJosFSA"
      }
    },
    {
      "cell_type": "code",
      "source": [
        "train.info()"
      ],
      "metadata": {
        "colab": {
          "base_uri": "https://localhost:8080/"
        },
        "id": "Kytr3iulsJ6_",
        "outputId": "51beb02b-55b8-41df-c597-407bb593959c"
      },
      "execution_count": null,
      "outputs": [
        {
          "output_type": "stream",
          "name": "stdout",
          "text": [
            "<class 'pandas.core.frame.DataFrame'>\n",
            "Index: 666875 entries, 0 to 692499\n",
            "Columns: 613 entries, E_HORASSEMANATRABAJA to E_PRGM_ZOOTECNIA\n",
            "dtypes: float64(7), int8(606)\n",
            "memory usage: 426.1 MB\n"
          ]
        }
      ]
    },
    {
      "cell_type": "markdown",
      "source": [
        "Todas las columnas son numericas"
      ],
      "metadata": {
        "id": "9L37PpGqtbg8"
      }
    },
    {
      "cell_type": "code",
      "source": [
        "((train < 0) | (train > 1)).sum().sort_values(ascending=False)"
      ],
      "metadata": {
        "colab": {
          "base_uri": "https://localhost:8080/",
          "height": 459
        },
        "id": "c_YwLg05sSHX",
        "outputId": "2943e3d2-9576-46eb-e0c1-84cda2913001"
      },
      "execution_count": null,
      "outputs": [
        {
          "output_type": "execute_result",
          "data": {
            "text/plain": [
              "RENDIMIENTO_GLOBAL                                                          501409\n",
              "E_PRGM_LICENCIATURA EN EDUCACION ARTISTICA                                       0\n",
              "E_PRGM_LICENCIATURA EN EDUCACION ARTISTICA CON ENFASIS EN DANZA Y TEATRO         0\n",
              "E_PRGM_LICENCIATURA EN EDUCACION ARTISTICA Y ARTES ESCENICAS                     0\n",
              "E_PRGM_LICENCIATURA EN EDUCACION ARTISTICA Y CULTURAL                            0\n",
              "                                                                             ...  \n",
              "E_PRGM_DISENO DE ESPACIOS Y ESCENARIOS                                           0\n",
              "E_PRGM_DISENO DE LA COMUNICACION GRAFICA                                         0\n",
              "E_PRGM_DISENO DE MEDIOS INTERACTIVOS                                             0\n",
              "E_PRGM_DISENO DE MODAS                                                           0\n",
              "E_PRGM_DIRECCION Y PRODUCCION DE RADIO Y TELEVISION                              0\n",
              "Length: 613, dtype: int64"
            ],
            "text/html": [
              "<div>\n",
              "<style scoped>\n",
              "    .dataframe tbody tr th:only-of-type {\n",
              "        vertical-align: middle;\n",
              "    }\n",
              "\n",
              "    .dataframe tbody tr th {\n",
              "        vertical-align: top;\n",
              "    }\n",
              "\n",
              "    .dataframe thead th {\n",
              "        text-align: right;\n",
              "    }\n",
              "</style>\n",
              "<table border=\"1\" class=\"dataframe\">\n",
              "  <thead>\n",
              "    <tr style=\"text-align: right;\">\n",
              "      <th></th>\n",
              "      <th>0</th>\n",
              "    </tr>\n",
              "  </thead>\n",
              "  <tbody>\n",
              "    <tr>\n",
              "      <th>RENDIMIENTO_GLOBAL</th>\n",
              "      <td>501409</td>\n",
              "    </tr>\n",
              "    <tr>\n",
              "      <th>E_PRGM_LICENCIATURA EN EDUCACION ARTISTICA</th>\n",
              "      <td>0</td>\n",
              "    </tr>\n",
              "    <tr>\n",
              "      <th>E_PRGM_LICENCIATURA EN EDUCACION ARTISTICA CON ENFASIS EN DANZA Y TEATRO</th>\n",
              "      <td>0</td>\n",
              "    </tr>\n",
              "    <tr>\n",
              "      <th>E_PRGM_LICENCIATURA EN EDUCACION ARTISTICA Y ARTES ESCENICAS</th>\n",
              "      <td>0</td>\n",
              "    </tr>\n",
              "    <tr>\n",
              "      <th>E_PRGM_LICENCIATURA EN EDUCACION ARTISTICA Y CULTURAL</th>\n",
              "      <td>0</td>\n",
              "    </tr>\n",
              "    <tr>\n",
              "      <th>...</th>\n",
              "      <td>...</td>\n",
              "    </tr>\n",
              "    <tr>\n",
              "      <th>E_PRGM_DISENO DE ESPACIOS Y ESCENARIOS</th>\n",
              "      <td>0</td>\n",
              "    </tr>\n",
              "    <tr>\n",
              "      <th>E_PRGM_DISENO DE LA COMUNICACION GRAFICA</th>\n",
              "      <td>0</td>\n",
              "    </tr>\n",
              "    <tr>\n",
              "      <th>E_PRGM_DISENO DE MEDIOS INTERACTIVOS</th>\n",
              "      <td>0</td>\n",
              "    </tr>\n",
              "    <tr>\n",
              "      <th>E_PRGM_DISENO DE MODAS</th>\n",
              "      <td>0</td>\n",
              "    </tr>\n",
              "    <tr>\n",
              "      <th>E_PRGM_DIRECCION Y PRODUCCION DE RADIO Y TELEVISION</th>\n",
              "      <td>0</td>\n",
              "    </tr>\n",
              "  </tbody>\n",
              "</table>\n",
              "<p>613 rows × 1 columns</p>\n",
              "</div><br><label><b>dtype:</b> int64</label>"
            ]
          },
          "metadata": {},
          "execution_count": 185
        }
      ]
    },
    {
      "cell_type": "markdown",
      "source": [
        "Todas las columnas están entre 0 y 1, excepto la variable objetivo `RENDIMIENTO_GLOBAL`"
      ],
      "metadata": {
        "id": "-Xa1Ri50swng"
      }
    },
    {
      "cell_type": "code",
      "source": [
        "train.isnull().sum().sort_index(ascending=False)"
      ],
      "metadata": {
        "colab": {
          "base_uri": "https://localhost:8080/",
          "height": 459
        },
        "id": "Wm4rJ8setfep",
        "outputId": "51e6b2d4-60e6-44f9-eb8a-29608102eb6e"
      },
      "execution_count": null,
      "outputs": [
        {
          "output_type": "execute_result",
          "data": {
            "text/plain": [
              "RENDIMIENTO_GLOBAL                   0\n",
              "INDICADOR_4                          0\n",
              "INDICADOR_3                          0\n",
              "INDICADOR_2                          0\n",
              "INDICADOR_1                          0\n",
              "                                    ..\n",
              "E_PRGM_ADMINISTRACION                0\n",
              "E_PRGM_ACUICULTURA                   0\n",
              "E_PRGM_ACTIVIDAD FISICA Y DEPORTE    0\n",
              "E_PAGOMATRICULAPROPIO                0\n",
              "E_HORASSEMANATRABAJA                 0\n",
              "Length: 613, dtype: int64"
            ],
            "text/html": [
              "<div>\n",
              "<style scoped>\n",
              "    .dataframe tbody tr th:only-of-type {\n",
              "        vertical-align: middle;\n",
              "    }\n",
              "\n",
              "    .dataframe tbody tr th {\n",
              "        vertical-align: top;\n",
              "    }\n",
              "\n",
              "    .dataframe thead th {\n",
              "        text-align: right;\n",
              "    }\n",
              "</style>\n",
              "<table border=\"1\" class=\"dataframe\">\n",
              "  <thead>\n",
              "    <tr style=\"text-align: right;\">\n",
              "      <th></th>\n",
              "      <th>0</th>\n",
              "    </tr>\n",
              "  </thead>\n",
              "  <tbody>\n",
              "    <tr>\n",
              "      <th>RENDIMIENTO_GLOBAL</th>\n",
              "      <td>0</td>\n",
              "    </tr>\n",
              "    <tr>\n",
              "      <th>INDICADOR_4</th>\n",
              "      <td>0</td>\n",
              "    </tr>\n",
              "    <tr>\n",
              "      <th>INDICADOR_3</th>\n",
              "      <td>0</td>\n",
              "    </tr>\n",
              "    <tr>\n",
              "      <th>INDICADOR_2</th>\n",
              "      <td>0</td>\n",
              "    </tr>\n",
              "    <tr>\n",
              "      <th>INDICADOR_1</th>\n",
              "      <td>0</td>\n",
              "    </tr>\n",
              "    <tr>\n",
              "      <th>...</th>\n",
              "      <td>...</td>\n",
              "    </tr>\n",
              "    <tr>\n",
              "      <th>E_PRGM_ADMINISTRACION</th>\n",
              "      <td>0</td>\n",
              "    </tr>\n",
              "    <tr>\n",
              "      <th>E_PRGM_ACUICULTURA</th>\n",
              "      <td>0</td>\n",
              "    </tr>\n",
              "    <tr>\n",
              "      <th>E_PRGM_ACTIVIDAD FISICA Y DEPORTE</th>\n",
              "      <td>0</td>\n",
              "    </tr>\n",
              "    <tr>\n",
              "      <th>E_PAGOMATRICULAPROPIO</th>\n",
              "      <td>0</td>\n",
              "    </tr>\n",
              "    <tr>\n",
              "      <th>E_HORASSEMANATRABAJA</th>\n",
              "      <td>0</td>\n",
              "    </tr>\n",
              "  </tbody>\n",
              "</table>\n",
              "<p>613 rows × 1 columns</p>\n",
              "</div><br><label><b>dtype:</b> int64</label>"
            ]
          },
          "metadata": {},
          "execution_count": 186
        }
      ]
    },
    {
      "cell_type": "markdown",
      "source": [
        "No tenemos valores nulos"
      ],
      "metadata": {
        "id": "Pf-A1QcGt5ey"
      }
    }
  ]
}